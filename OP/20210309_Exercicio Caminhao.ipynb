{
  "nbformat": 4,
  "nbformat_minor": 0,
  "metadata": {
    "colab": {
      "name": "Exercicio Caminhao.ipynb",
      "provenance": [],
      "collapsed_sections": [],
      "include_colab_link": true
    },
    "kernelspec": {
      "name": "python3",
      "display_name": "Python 3"
    }
  },
  "cells": [
    {
      "cell_type": "markdown",
      "metadata": {
        "id": "view-in-github",
        "colab_type": "text"
      },
      "source": [
        "<a href=\"https://colab.research.google.com/github/isaachfp/bi-master/blob/master/OP/20210309_Exercicio%20Caminhao.ipynb\" target=\"_parent\"><img src=\"https://colab.research.google.com/assets/colab-badge.svg\" alt=\"Open In Colab\"/></a>"
      ]
    },
    {
      "cell_type": "markdown",
      "metadata": {
        "id": "6NQrqtei0k_E"
      },
      "source": [
        "## Rotas de entrega - Caminhao\n"
      ]
    },
    {
      "cell_type": "markdown",
      "metadata": {
        "id": "ms1GJeJmtCgt"
      },
      "source": [
        "### Instalação e carregamento das bibliotecas de GA em python"
      ]
    },
    {
      "cell_type": "code",
      "metadata": {
        "id": "IKde5Z2D0kdM",
        "colab": {
          "base_uri": "https://localhost:8080/"
        },
        "outputId": "209bd4e5-926e-4e65-d54d-bec9f1eccb59"
      },
      "source": [
        "!pip install deap"
      ],
      "execution_count": 1,
      "outputs": [
        {
          "output_type": "stream",
          "text": [
            "Collecting deap\n",
            "\u001b[?25l  Downloading https://files.pythonhosted.org/packages/99/d1/803c7a387d8a7e6866160b1541307f88d534da4291572fb32f69d2548afb/deap-1.3.1-cp37-cp37m-manylinux2010_x86_64.whl (157kB)\n",
            "\r\u001b[K     |██                              | 10kB 12.4MB/s eta 0:00:01\r\u001b[K     |████▏                           | 20kB 14.5MB/s eta 0:00:01\r\u001b[K     |██████▏                         | 30kB 18.5MB/s eta 0:00:01\r\u001b[K     |████████▎                       | 40kB 13.8MB/s eta 0:00:01\r\u001b[K     |██████████▍                     | 51kB 14.2MB/s eta 0:00:01\r\u001b[K     |████████████▍                   | 61kB 15.1MB/s eta 0:00:01\r\u001b[K     |██████████████▌                 | 71kB 14.2MB/s eta 0:00:01\r\u001b[K     |████████████████▋               | 81kB 12.2MB/s eta 0:00:01\r\u001b[K     |██████████████████▋             | 92kB 13.1MB/s eta 0:00:01\r\u001b[K     |████████████████████▊           | 102kB 11.6MB/s eta 0:00:01\r\u001b[K     |██████████████████████▉         | 112kB 11.6MB/s eta 0:00:01\r\u001b[K     |████████████████████████▉       | 122kB 11.6MB/s eta 0:00:01\r\u001b[K     |███████████████████████████     | 133kB 11.6MB/s eta 0:00:01\r\u001b[K     |█████████████████████████████   | 143kB 11.6MB/s eta 0:00:01\r\u001b[K     |███████████████████████████████ | 153kB 11.6MB/s eta 0:00:01\r\u001b[K     |████████████████████████████████| 163kB 11.6MB/s \n",
            "\u001b[?25hRequirement already satisfied: numpy in /usr/local/lib/python3.7/dist-packages (from deap) (1.19.5)\n",
            "Installing collected packages: deap\n",
            "Successfully installed deap-1.3.1\n"
          ],
          "name": "stdout"
        }
      ]
    },
    {
      "cell_type": "code",
      "metadata": {
        "id": "-hFtGwoP00Nq"
      },
      "source": [
        "import random\n",
        "import numpy\n",
        "from deap import base\n",
        "from deap import creator\n",
        "from deap import tools\n",
        "from deap import algorithms\n",
        "import math"
      ],
      "execution_count": 2,
      "outputs": []
    },
    {
      "cell_type": "markdown",
      "metadata": {
        "id": "vukKHLlYtNYa"
      },
      "source": [
        "### Declaração das funções auxiliares que devem conter as informações do problema"
      ]
    },
    {
      "cell_type": "code",
      "metadata": {
        "id": "JmepN1Nd2es2"
      },
      "source": [
        "# Função Objetivo -> Repare que o único parametro que a função deve receber é um individuo\n",
        "def DespesaCaminhoes(individual):\n",
        "  # Loja1Armazem1 = math.ceil(individual[0])\n",
        "  # Loja2Armazem1 = math.ceil(individual[1])\n",
        "  # Loja3Armazem1 = math.ceil(individual[2])\n",
        "  # Loja1Armazem2 = math.ceil(individual[3])\n",
        "  # Loja2Armazem2 = math.ceil(individual[4])\n",
        "  # Loja3Armazem2 = math.ceil(individual[5])\n",
        "  # Loja1Armazem3 = math.ceil(individual[6])\n",
        "  # Loja2Armazem3 = math.ceil(individual[7])\n",
        "  # Loja3Armazem3 = math.ceil(individual[8])\n",
        "  matrizViagens = numpy.ceil(numpy.resize(individual, [3,3])/4)\n",
        "  matrizCustos = [[500, 420, 360], [340, 380, 275], [190, 230, 250]]\n",
        "  custo_total = numpy.sum(matrizViagens*matrizCustos)\n",
        "  return custo_total,"
      ],
      "execution_count": 3,
      "outputs": []
    },
    {
      "cell_type": "code",
      "metadata": {
        "id": "QD65Dph78P3H"
      },
      "source": [
        "# Função de restrição que o problema tiver (nem todos os problemas contém restrições)\n",
        "def FuncaoDeRestricao(individual):\n",
        "  matrizPacotes = numpy.resize(individual, [3,3])\n",
        "  armazenamentoMaximo = [430, 190, 120]\n",
        "  demandaMinima = [230, 95, 190]\n",
        "  armazenamentoAtingido = sum(matrizPacotes)\n",
        "  demandaAtingida = sum(matrizPacotes, 2)\n",
        "  if(numpy.less_equal(armazenamentoAtingido, armazenamentoMaximo).all() and numpy.greater_equal(demandaAtingida, demandaMinima).all()):\n",
        "    return True\n",
        "  return False"
      ],
      "execution_count": 4,
      "outputs": []
    },
    {
      "cell_type": "code",
      "metadata": {
        "id": "QhXTq1U4YUvW"
      },
      "source": [
        "# Função para cálculo da penalização da função objetivo para os casos em que o individuo não satisfaça as restrições\n",
        "def Penalizacao(individual):\n",
        "  matrizPacotes = numpy.resize(individual, [3,3])\n",
        "  armazenamentoMaximo = [430, 190, 120]\n",
        "  demandaMinima = [230, 95, 190]\n",
        "  armazenamentoAtingido = sum(matrizPacotes)\n",
        "  demandaAtingida = sum(matrizPacotes, 2)\n",
        "  armazenamentoExcedente = 0\n",
        "  demandaFaltante = 0\n",
        "  if(not(numpy.less_equal(armazenamentoAtingido, armazenamentoMaximo).all())):\n",
        "    armazenamentoExcedente = (numpy.sum(armazenamentoAtingido - armazenamentoMaximo))**2\n",
        "\n",
        "  if(not(numpy.greater_equal(demandaAtingida, demandaMinima).all())):\n",
        "    demandaFaltante = (numpy.sum(demandaMinima - demandaAtingida))**2\n",
        "\n",
        "  return (armazenamentoExcedente + demandaFaltante)**2"
      ],
      "execution_count": 5,
      "outputs": []
    },
    {
      "cell_type": "code",
      "metadata": {
        "id": "QwIUzE2gYXyV"
      },
      "source": [
        "# Função utilizada para gerar os individuos -> Repare que não há nenhum mistério, os valores v1 e v2 utilizam a função que é passada por parâmetro que por sua vez\n",
        "# é uma função que gera numeros aleatorios inteiros entre 0 e 50, como está declarado mais abaixo\n",
        "# outro ponto importante é como fazer a declaração do cromossomo, procure sempre utilizar tal forma como está decrito, para cada valor, adicionar (append) o mesmo ao cromossomo\n",
        "# GeradorDeIndividuos(ClasseDoIndividuo, FunçãoDeGeraçãoDeNºAleatorio):\n",
        "def GeradorDeIndividuos(icls, random_function):\n",
        "  i = 0\n",
        "  cromossomo = list()\n",
        "  for _ in range(150): \n",
        "  # while(1):\n",
        "    a1l1 = random_function()\n",
        "    a2l1 = random_function()\n",
        "    a3l1 = random_function()\n",
        "    a1l2 = random_function()\n",
        "    a2l2 = random_function()\n",
        "    a3l2 = random_function()\n",
        "    a1l3 = random_function()\n",
        "    a2l3 = random_function()\n",
        "    a3l3 = random_function()\n",
        "    if(FuncaoDeRestricao([a1l1, a2l1, a3l1, a1l2, a2l2, a3l2, a1l3, a2l3, a3l3])):\n",
        "      break\n",
        "    i = i + 1\n",
        "  cromossomo.append(a1l1)\n",
        "  cromossomo.append(a2l1)\n",
        "  cromossomo.append(a3l1)\n",
        "  cromossomo.append(a1l2)\n",
        "  cromossomo.append(a2l2)\n",
        "  cromossomo.append(a3l2)\n",
        "  cromossomo.append(a1l3)\n",
        "  cromossomo.append(a2l3)\n",
        "  cromossomo.append(a3l3)\n",
        "  return icls(cromossomo)"
      ],
      "execution_count": 6,
      "outputs": []
    },
    {
      "cell_type": "markdown",
      "metadata": {
        "id": "v0Xc3Sh10R8M"
      },
      "source": [
        "### Declaração dos pacotes referentes a biblioteca do GA: \n",
        "#### Nomenclatura referente a biblioteca e deve-se alterar somente os pesos das funções que deverão ser, ou maximizada ou minimizada\n",
        "#### Pode-se alterar também o tipo da variavel do Individuo. Mas que, geralmente, é uma lista de numeros inteiros"
      ]
    },
    {
      "cell_type": "code",
      "metadata": {
        "id": "-qkFcI9M07DK"
      },
      "source": [
        "creator.create(\"FitnessMin\", base.Fitness, weights=(-1.0,))\n",
        "creator.create(\"Individual\", list, fitness=creator.FitnessMin)"
      ],
      "execution_count": 7,
      "outputs": []
    },
    {
      "cell_type": "code",
      "metadata": {
        "id": "CQ23CH1D2fmb"
      },
      "source": [
        "toolbox = base.Toolbox()\n",
        "# Definir o gerador de numeros aleatórios de numeros inteiros entre o intervalo (0 e 50)\n",
        "toolbox.register(\"random_int\", random.randint, 0, 300)\n",
        "# Inicialização do cromossomo (quantos genes o cromossomo deve possuir)\n",
        "toolbox.register(\"individual\", GeradorDeIndividuos, creator.Individual, toolbox.random_int)\n",
        "# Registro do individuo na população\n",
        "toolbox.register(\"population\", tools.initRepeat, list, toolbox.individual)\n",
        "# Registro do nome da função objetivo\n",
        "toolbox.register(\"evaluate\", DespesaCaminhoes)\n",
        "# Registro da função de penalidade caso o individuo não obedeça as restrições\n",
        "toolbox.decorate(\"evaluate\", tools.DeltaPenalty(FuncaoDeRestricao, 0, Penalizacao)) \n",
        "# Registro de qual o tipo de cruzamento deve ser utilizado (cruzamento de 2 pontos)\n",
        "toolbox.register(\"mate\", tools.cxUniform, indpb=0.6)\n",
        "# toolbox.register(\"mate\", CrossoverFunction, icls=creator.Individual, attr_bool_function=toolbox.attr_bool)\n",
        "# Registro de qual tipo de mutação deve ser utilizado (probabilidade de um individuo sofrer mutação)\n",
        "toolbox.register(\"mutate\", tools.mutFlipBit, indpb=0.25)\n",
        "# toolbox.register(\"mutate\", MutationFunction, indpb=0.1)\n",
        "# Registro de qual o tipo do método de seleção que será utilizado\n",
        "toolbox.register(\"select\", tools.selRoulette)"
      ],
      "execution_count": 8,
      "outputs": []
    },
    {
      "cell_type": "markdown",
      "metadata": {
        "id": "Stxu97PT0y1U"
      },
      "source": [
        "## Chamada efetiva do GA para resolução"
      ]
    },
    {
      "cell_type": "code",
      "metadata": {
        "id": "T9wHuwvDeavT"
      },
      "source": [
        "pop = toolbox.population(n=14)                           # inicialização da pop\n",
        "hof = tools.HallOfFame(1)                                 # melhor indivíduo\n",
        "stats = tools.Statistics(lambda ind: ind.fitness.values)  # estatísticas\n",
        "stats.register(\"avg\", numpy.mean)\n",
        "stats.register(\"std\", numpy.std)\n",
        "stats.register(\"min\", numpy.min)\n",
        "stats.register(\"max\", numpy.max)"
      ],
      "execution_count": 9,
      "outputs": []
    },
    {
      "cell_type": "code",
      "metadata": {
        "id": "ruNltRJdgbiG"
      },
      "source": [
        "# Definindo sementes iniciais\n",
        "ind1 = creator.Individual([80, 120, 110, 75, 90, 170, 42, 37, 12])\n",
        "pop.append(ind1)"
      ],
      "execution_count": 10,
      "outputs": []
    },
    {
      "cell_type": "code",
      "metadata": {
        "id": "eB-D6v2HecUi",
        "colab": {
          "base_uri": "https://localhost:8080/"
        },
        "outputId": "1ed8ac23-eeaa-40b6-d868-19b69167d93e"
      },
      "source": [
        "pop, log = algorithms.eaSimple(pop, toolbox, cxpb=0.7, mutpb=0.3, ngen=80, stats=stats, halloffame=hof, verbose=True) #aumentei mut = 0.7"
      ],
      "execution_count": 11,
      "outputs": [
        {
          "output_type": "stream",
          "text": [
            "gen\tnevals\tavg        \tstd        \tmin        \tmax        \n",
            "0  \t15    \t3.91204e+11\t4.67828e+11\t2.65689e+09\t1.89318e+12\n",
            "1  \t13    \t7.58429e+11\t8.55635e+11\t2.05835e+09\t3.46145e+12\n",
            "2  \t7     \t1.90859e+12\t1.49421e+12\t3.2141e+09 \t3.46145e+12\n",
            "3  \t15    \t2.95463e+12\t1.08895e+12\t3.3271e+09 \t3.70089e+12\n",
            "4  \t8     \t2.61617e+12\t1.27822e+12\t5.05022e+11\t3.70089e+12\n",
            "5  \t12    \t2.63902e+12\t1.26495e+12\t1.42126e+11\t3.70089e+12\n",
            "6  \t11    \t2.40467e+12\t1.18043e+12\t8.75781e+10\t3.46145e+12\n",
            "7  \t9     \t2.28586e+12\t1.11056e+12\t5.70268e+11\t3.70089e+12\n",
            "8  \t11    \t2.35243e+12\t1.38527e+12\t4.49986e+09\t3.80878e+12\n",
            "9  \t14    \t2.82628e+12\t8.80743e+11\t1.19709e+12\t3.80878e+12\n",
            "10 \t12    \t2.28417e+12\t1.45285e+12\t1.43319e+10\t3.70089e+12\n",
            "11 \t11    \t2.40078e+12\t1.53908e+12\t8.52698e+08\t3.70089e+12\n",
            "12 \t12    \t3.08649e+12\t1.13512e+12\t2.401e+11  \t3.70089e+12\n",
            "13 \t11    \t2.39621e+12\t1.30736e+12\t7.03443e+10\t3.80878e+12\n",
            "14 \t13    \t1.73628e+12\t1.37662e+12\t2.15177e+10\t3.70089e+12\n",
            "15 \t9     \t1.97258e+12\t1.23802e+12\t1.01905e+11\t3.70089e+12\n",
            "16 \t11    \t1.47734e+12\t1.1291e+12 \t8.31567e+10\t3.46145e+12\n",
            "17 \t11    \t2.11273e+12\t1.23328e+12\t1.11039e+11\t3.80878e+12\n",
            "18 \t12    \t2.00299e+12\t1.14909e+12\t1.32278e+11\t3.46145e+12\n",
            "19 \t14    \t1.50016e+12\t1.04516e+12\t3.91221e+10\t3.46145e+12\n",
            "20 \t9     \t1.46502e+12\t9.56604e+11\t5.09066e+10\t3.46145e+12\n",
            "21 \t13    \t1.55175e+12\t1.26679e+12\t1.77489e+10\t3.80878e+12\n",
            "22 \t9     \t2.44097e+12\t1.36204e+12\t1.6e+09    \t3.80878e+12\n",
            "23 \t8     \t2.49347e+12\t1.17273e+12\t1.73493e+11\t3.80878e+12\n",
            "24 \t12    \t2.07949e+12\t1.37999e+12\t1.73431e+09\t3.80878e+12\n",
            "25 \t12    \t1.87592e+12\t1.28167e+12\t3.0149e+11 \t3.80878e+12\n",
            "26 \t11    \t2.52943e+12\t1.43014e+12\t3.91221e+10\t3.80878e+12\n",
            "27 \t11    \t2.6724e+12 \t1.24715e+12\t6.68538e+10\t3.80878e+12\n",
            "28 \t11    \t1.83763e+12\t1.47838e+12\t3.159e+09  \t3.80878e+12\n",
            "29 \t12    \t1.78837e+12\t1.48592e+12\t5.22049e+10\t3.80878e+12\n",
            "30 \t10    \t2.83814e+12\t1.40415e+12\t3.95451e+11\t3.80878e+12\n",
            "31 \t11    \t2.55149e+12\t1.59566e+12\t7.77205e+10\t3.80878e+12\n",
            "32 \t11    \t1.94628e+12\t1.56655e+12\t2.17433e+10\t3.80878e+12\n",
            "33 \t8     \t2.94353e+12\t1.31884e+12\t1.35755e+11\t3.80878e+12\n",
            "34 \t7     \t3.19687e+12\t1.23524e+12\t4.39033e+11\t3.80878e+12\n",
            "35 \t12    \t3.44978e+12\t8.43053e+11\t1.11679e+12\t3.80878e+12\n",
            "36 \t12    \t3.19401e+12\t1.13416e+12\t2.37368e+11\t4.05098e+12\n",
            "37 \t12    \t2.09509e+12\t1.56658e+12\t2.15074e+11\t4.05098e+12\n",
            "38 \t14    \t1.63585e+12\t1.48348e+12\t1.85425e+09\t4.05098e+12\n",
            "39 \t13    \t2.69249e+12\t1.44351e+12\t2.54117e+11\t3.80878e+12\n",
            "40 \t9     \t3.29425e+12\t1.06952e+12\t3.31869e+11\t3.80878e+12\n",
            "41 \t7     \t3.28732e+12\t1.19139e+12\t1.00469e+11\t3.80878e+12\n",
            "42 \t13    \t3.10252e+12\t1.19673e+12\t4.95505e+11\t3.80878e+12\n",
            "43 \t9     \t3.30688e+12\t1.06086e+12\t2.13814e+11\t3.80878e+12\n",
            "44 \t13    \t3.12057e+12\t1.29099e+12\t8.19248e+10\t3.80878e+12\n",
            "45 \t13    \t2.99546e+12\t1.38709e+12\t3.16406e+11\t3.80878e+12\n",
            "46 \t12    \t3.08429e+12\t1.23549e+12\t2.90258e+11\t3.80878e+12\n",
            "47 \t14    \t2.72856e+12\t1.56673e+12\t6.50378e+10\t3.80878e+12\n",
            "48 \t10    \t2.6826e+12 \t1.59665e+12\t1.0556e+11 \t3.80878e+12\n",
            "49 \t14    \t3.39974e+12\t1.07622e+12\t1.25945e+10\t3.80878e+12\n",
            "50 \t10    \t2.96804e+12\t1.45427e+12\t8.88731e+10\t4.05098e+12\n",
            "51 \t11    \t2.59115e+12\t1.64389e+12\t2.99363e+10\t4.05098e+12\n",
            "52 \t7     \t2.95985e+12\t1.53608e+12\t7.34464e+08\t4.05098e+12\n",
            "53 \t14    \t3.09437e+12\t1.2646e+12 \t6.25e+10   \t4.05098e+12\n",
            "54 \t12    \t3.08957e+12\t1.18807e+12\t2.10717e+10\t4.05098e+12\n",
            "55 \t13    \t2.53513e+12\t1.37712e+12\t4.59541e+10\t4.05098e+12\n",
            "56 \t10    \t2.12248e+12\t1.55051e+12\t3.77529e+10\t3.80878e+12\n",
            "57 \t10    \t2.90128e+12\t1.22447e+12\t2.77809e+11\t3.80878e+12\n",
            "58 \t14    \t2.4924e+12 \t1.56425e+12\t8.65365e+09\t3.80878e+12\n",
            "59 \t10    \t2.73084e+12\t1.23676e+12\t4.74583e+11\t3.80878e+12\n",
            "60 \t8     \t2.42588e+12\t1.43344e+12\t1.05914e+11\t3.80878e+12\n",
            "61 \t11    \t2.76125e+12\t1.42604e+12\t1.34862e+11\t3.80878e+12\n",
            "62 \t8     \t3.31961e+12\t9.93819e+11\t3.62616e+11\t3.80878e+12\n",
            "63 \t11    \t2.67683e+12\t1.45605e+12\t1.66256e+11\t4.05098e+12\n",
            "64 \t14    \t2.90869e+12\t1.44396e+12\t2.99921e+09\t4.05098e+12\n",
            "65 \t12    \t2.15256e+12\t1.63864e+12\t1.5972e+09 \t4.05098e+12\n",
            "66 \t13    \t2.70557e+12\t1.43022e+12\t8.69359e+10\t4.05098e+12\n",
            "67 \t12    \t2.4004e+12 \t1.58642e+12\t1.57041e+10\t3.80878e+12\n",
            "68 \t14    \t2.61735e+12\t1.26157e+12\t9.69475e+10\t3.80878e+12\n",
            "69 \t9     \t2.24096e+12\t1.35688e+12\t1.03355e+11\t3.80878e+12\n",
            "70 \t9     \t2.47966e+12\t1.36664e+12\t9.69475e+10\t3.80878e+12\n",
            "71 \t8     \t2.79541e+12\t1.38162e+12\t4.0643e+10 \t3.80878e+12\n",
            "72 \t8     \t2.56046e+12\t1.48395e+12\t2.63741e+10\t3.80878e+12\n",
            "73 \t11    \t2.71323e+12\t1.48301e+12\t1.21997e+11\t3.80878e+12\n",
            "74 \t13    \t2.23414e+12\t1.51854e+12\t9.8345e+10 \t3.80878e+12\n",
            "75 \t13    \t1.8873e+12 \t1.56412e+12\t5.22049e+10\t3.80878e+12\n",
            "76 \t13    \t2.34231e+12\t1.40949e+12\t9.35495e+09\t3.80878e+12\n",
            "77 \t8     \t2.66369e+12\t1.30697e+12\t5.36902e+11\t3.80878e+12\n",
            "78 \t14    \t1.97887e+12\t1.4335e+12 \t1.05914e+11\t3.80878e+12\n",
            "79 \t12    \t1.79629e+12\t1.38086e+12\t8.69359e+10\t3.80878e+12\n",
            "80 \t9     \t1.99474e+12\t1.41022e+12\t2.19783e+09\t3.80878e+12\n"
          ],
          "name": "stdout"
        }
      ]
    },
    {
      "cell_type": "markdown",
      "metadata": {
        "id": "6igXZchj1TtX"
      },
      "source": [
        "## Resultados"
      ]
    },
    {
      "cell_type": "code",
      "metadata": {
        "id": "tB2d-NNfWPTi",
        "colab": {
          "base_uri": "https://localhost:8080/"
        },
        "outputId": "8bee2dfc-ea1a-4f8c-9cce-cbb89aba920c"
      },
      "source": [
        "# Melhor solução\n",
        "print(\"Melhor Indivíduo:\")\n",
        "print(hof[0])\n",
        "\n",
        "# Verificação da função de restrição\n",
        "print(FuncaoDeRestricao(hof[0]))\n",
        "\n",
        "\n",
        "# Melhor resultado da função objetivo\n",
        "print(\"Melhor Resultado da Função Objetivo:\")\n",
        "DespesaCaminhoes(hof[0])"
      ],
      "execution_count": 12,
      "outputs": [
        {
          "output_type": "stream",
          "text": [
            "Melhor Indivíduo:\n",
            "[0, 0, 0, 0, 287, 1, 271, 0, 80]\n",
            "False\n",
            "Melhor Resultado da Função Objetivo:\n"
          ],
          "name": "stdout"
        },
        {
          "output_type": "execute_result",
          "data": {
            "text/plain": [
              "(45555.0,)"
            ]
          },
          "metadata": {
            "tags": []
          },
          "execution_count": 12
        }
      ]
    },
    {
      "cell_type": "code",
      "metadata": {
        "id": "3-rdpbtesXWp",
        "colab": {
          "base_uri": "https://localhost:8080/",
          "height": 276
        },
        "outputId": "6494dbc4-5efd-4ede-96ad-7c5da67921b2"
      },
      "source": [
        "import matplotlib.pyplot as plt\n",
        "gen, minVal = log.select(\"gen\", \"min\")\n",
        "plt.plot(gen, minVal)\n",
        "plt.ylabel('Menor valor da função de aptidão')\n",
        "plt.show()"
      ],
      "execution_count": 13,
      "outputs": [
        {
          "output_type": "display_data",
          "data": {
            "image/png": "[encoded data removed]",
            "text/plain": [
              "<Figure size 432x288 with 1 Axes>"
            ]
          },
          "metadata": {
            "tags": [],
            "needs_background": "light"
          }
        }
      ]
    },
    {
      "cell_type": "markdown",
      "metadata": {
        "id": "9SVrpfFpYpX-"
      },
      "source": [
        "## Utilizando a forma alternativa de resolução do mesmo problema"
      ]
    },
    {
      "cell_type": "code",
      "metadata": {
        "id": "_8T1LJegZf3S",
        "colab": {
          "base_uri": "https://localhost:8080/"
        },
        "outputId": "68ccd4ed-4c62-4b7d-fc71-b8e1ed073113"
      },
      "source": [
        "# definição da população inicial\n",
        "population = toolbox.population(n=30)\n",
        "# quantidade de gerações\n",
        "NGEN=25\n",
        "bestIndEachGeneration = []\n",
        "bestInd = []\n",
        "for gen in range(NGEN):\n",
        "  print(\"Geracao: \", gen)\n",
        "  offspring = algorithms.varAnd(population, toolbox, cxpb=0.5, mutpb=0.1)\n",
        "  fits = list(toolbox.map(toolbox.evaluate, offspring))\n",
        "  \n",
        "  indexes = range(len(offspring))\n",
        "  indexes = [x for _,x in sorted(zip(fits, indexes))]\n",
        "  fits = [fits[x] for x in indexes]\n",
        "  offspring = [offspring[x] for x in indexes]\n",
        "  print(offspring)\n",
        "  print(fits)\n",
        "  for fit, ind in zip(fits, offspring):\n",
        "    ind.fitness.wvalues = fit\n",
        "  elites_ind = offspring[:max(1, round(0.15*len(offspring)))]\n",
        "  population = toolbox.select(offspring, len(population)-len(elites_ind))\n",
        "  population.extend(elites_ind)\n",
        "  bestIndEachGeneration.append([offspring[fits.index(min(fits))], min(fits)])\n",
        "  bestInd.append(min(bestIndEachGeneration, key=lambda t:t[1])[1])\n",
        "  print(\" Melhor Avaliação dessa geração: \", bestIndEachGeneration[-1][1], \"\\n\", \n",
        "        \"Melhor Avaliação Geral\", min(bestIndEachGeneration, key=lambda t:t[1])[1], \"\\n\",\n",
        "        \"Da geração: \", bestIndEachGeneration.index(min(bestIndEachGeneration, key=lambda t:t[1])), \"\\n\",\n",
        "        \"Cromossomo: \", min(bestIndEachGeneration, key=lambda t:t[1])[0], \"\\n\"\n",
        "       )\n"
      ],
      "execution_count": 14,
      "outputs": [
        {
          "output_type": "stream",
          "text": [
            "Geracao:  0\n",
            "[[99, 118, 199, 204, 40, 9, 151, 23, 52], [92, 96, 109, 40, 136, 47, 11, 105, 7], [14, 224, 105, 204, 61, 24, 131, 109, 108], [42, 283, 33, 121, 15, 262, 210, 51, 12], [94, 112, 219, 205, 11, 162, 191, 14, 40], [103, 286, 119, 140, 106, 139, 97, 78, 48], [98, 0, 260, 39, 200, 214, 258, 0, 68], [39, 132, 47, 268, 184, 48, 164, 44, 255], [33, 174, 268, 18, 130, 211, 277, 6, 100], [4, 8, 162, 200, 100, 152, 177, 183, 246], [242, 227, 160, 289, 26, 54, 45, 83, 108], [60, 55, 118, 165, 286, 22, 244, 110, 235], [270, 225, 15, 146, 272, 19, 139, 28, 188], [30, 135, 223, 153, 173, 95, 181, 288, 62], [291, 210, 4, 99, 64, 252, 55, 250, 142], [172, 101, 183, 51, 136, 192, 42, 213, 281], [67, 154, 201, 117, 147, 89, 278, 230, 132], [218, 130, 162, 108, 117, 279, 42, 258, 144], [143, 135, 82, 227, 121, 40, 137, 199, 43], [227, 283, 134, 195, 11, 180, 143, 101, 209], [27, 238, 57, 69, 231, 233, 238, 129, 265], [155, 233, 202, 69, 142, 265, 60, 206, 180], [202, 150, 296, 232, 54, 153, 55, 256, 149], [88, 288, 199, 81, 227, 238, 262, 137, 30], [173, 198, 96, 266, 97, 119, 277, 145, 259], [249, 162, 28, 258, 145, 139, 278, 259, 148], [219, 291, 294, 1, 168, 188, 68, 187, 270], [281, 265, 3, 168, 270, 223, 277, 210, 61], [145, 97, 241, 257, 169, 255, 216, 153, 295], [116, 186, 66, 239, 236, 75, 199, 272, 18]]\n",
            "[(577200625,), (748843225,), (3317760000,), (6975757441,), (8999178496,), (19987173376,), (24840596881,), (37822859361,), (51769445841,), (58594980096,), (59553569296,), (94879400625,), (99757432336,), (129600000000,), (154550410641,), (158532181921,), (207594140625,), (265764994576,), (282697446249,), (304758098401,), (311374044081,), (355196928256,), (424125260001,), (430467210000,), (627422410000,), (735265090576,), (800874647056,), (1073967432976,), (1401249857536,), (1565734171849,)]\n",
            " Melhor Avaliação dessa geração:  (577200625,) \n",
            " Melhor Avaliação Geral (577200625,) \n",
            " Da geração:  0 \n",
            " Cromossomo:  [99, 118, 199, 204, 40, 9, 151, 23, 52] \n",
            "\n",
            "Geracao:  1\n",
            "[[92, 96, 105, 40, 61, 24, 131, 109, 108], [42, 283, 33, 121, 15, 262, 210, 51, 12], [14, 224, 109, 204, 136, 47, 11, 105, 7], [99, 118, 199, 204, 236, 9, 199, 23, 52], [116, 0, 66, 239, 236, 0, 0, 272, 18], [116, 186, 66, 0, 236, 0, 199, 272, 18], [116, 186, 66, 239, 40, 75, 151, 272, 18], [116, 186, 66, 0, 236, 75, 199, 272, 18], [116, 186, 66, 239, 236, 75, 199, 272, 0], [116, 186, 66, 239, 236, 75, 199, 272, 18], [116, 186, 66, 239, 236, 75, 199, 272, 18], [116, 186, 66, 239, 236, 75, 199, 272, 18], [116, 186, 66, 239, 236, 75, 199, 272, 18], [116, 186, 66, 239, 236, 75, 199, 272, 18], [116, 186, 66, 239, 236, 75, 199, 272, 18], [116, 186, 66, 239, 236, 75, 199, 272, 18], [116, 186, 66, 239, 236, 75, 199, 272, 18], [116, 186, 66, 239, 236, 75, 199, 272, 18], [116, 186, 66, 239, 236, 75, 199, 272, 18], [116, 186, 66, 239, 236, 75, 199, 272, 18], [116, 186, 66, 239, 236, 75, 199, 272, 18], [116, 186, 66, 239, 236, 75, 199, 272, 18], [116, 186, 66, 239, 236, 75, 199, 272, 18], [116, 186, 66, 239, 236, 75, 199, 272, 18], [116, 186, 66, 239, 236, 75, 199, 272, 18]]\n",
            "[(456976,), (6975757441,), (18169152849,), (25344958401,), (55080804249,), (216843892225,), (368018156025,), (381263026225,), (1429461751201,), (1565734171849,), (1565734171849,), (1565734171849,), (1565734171849,), (1565734171849,), (1565734171849,), (1565734171849,), (1565734171849,), (1565734171849,), (1565734171849,), (1565734171849,), (1565734171849,), (1565734171849,), (1565734171849,), (1565734171849,), (1565734171849,)]\n",
            " Melhor Avaliação dessa geração:  (456976,) \n",
            " Melhor Avaliação Geral (456976,) \n",
            " Da geração:  1 \n",
            " Cromossomo:  [92, 96, 105, 40, 61, 24, 131, 109, 108] \n",
            "\n",
            "Geracao:  2\n",
            "[[42, 96, 33, 121, 15, 262, 210, 51, 108], [14, 0, 0, 204, 236, 9, 199, 0, 52], [99, 224, 199, 204, 136, 47, 11, 105, 7], [92, 283, 105, 40, 61, 24, 131, 109, 12], [116, 186, 66, 0, 236, 75, 199, 272, 18], [116, 186, 66, 239, 236, 0, 199, 272, 18], [116, 186, 66, 239, 236, 75, 199, 272, 18], [116, 186, 66, 239, 236, 75, 199, 272, 18], [116, 186, 66, 239, 236, 75, 199, 272, 18], [116, 186, 66, 239, 236, 75, 199, 272, 18], [116, 186, 66, 239, 236, 75, 199, 272, 18], [116, 186, 66, 239, 236, 75, 199, 272, 18], [116, 186, 66, 239, 236, 75, 199, 272, 18], [116, 186, 66, 239, 236, 75, 199, 272, 18], [116, 186, 66, 239, 236, 75, 199, 272, 18], [116, 186, 66, 239, 236, 75, 199, 272, 18], [116, 186, 66, 239, 236, 75, 199, 272, 18], [116, 186, 66, 239, 236, 75, 199, 272, 18], [116, 186, 66, 239, 236, 75, 199, 272, 18], [116, 186, 66, 239, 236, 75, 199, 272, 18], [116, 186, 66, 239, 236, 75, 199, 272, 18], [116, 186, 66, 239, 236, 75, 199, 272, 18], [116, 186, 66, 239, 236, 75, 199, 272, 18], [116, 186, 66, 239, 236, 75, 199, 272, 18]]\n",
            "[(1536953616,), (1823375401,), (7269949696,), (18169152849,), (381263026225,), (1056358450849,), (1565734171849,), (1565734171849,), (1565734171849,), (1565734171849,), (1565734171849,), (1565734171849,), (1565734171849,), (1565734171849,), (1565734171849,), (1565734171849,), (1565734171849,), (1565734171849,), (1565734171849,), (1565734171849,), (1565734171849,), (1565734171849,), (1565734171849,), (1565734171849,)]\n",
            " Melhor Avaliação dessa geração:  (1536953616,) \n",
            " Melhor Avaliação Geral (456976,) \n",
            " Da geração:  1 \n",
            " Cromossomo:  [92, 96, 105, 40, 61, 24, 131, 109, 108] \n",
            "\n",
            "Geracao:  3\n",
            "[[99, 0, 0, 204, 136, 47, 11, 105, 0], [42, 96, 33, 121, 15, 262, 210, 51, 108], [14, 0, 0, 204, 236, 9, 199, 0, 52], [92, 283, 105, 40, 61, 24, 131, 109, 12], [0, 0, 66, 239, 236, 75, 199, 272, 18], [116, 186, 66, 239, 236, 75, 199, 272, 18], [116, 186, 66, 239, 236, 75, 199, 272, 18], [116, 186, 66, 239, 236, 75, 199, 272, 18], [116, 186, 66, 239, 236, 75, 199, 272, 18], [116, 186, 66, 239, 236, 75, 199, 272, 18], [116, 186, 66, 239, 236, 75, 199, 272, 18], [116, 186, 66, 239, 236, 75, 199, 272, 18], [116, 186, 66, 239, 236, 75, 199, 272, 18], [116, 186, 66, 239, 236, 75, 199, 272, 18], [116, 186, 66, 239, 236, 75, 199, 272, 18], [116, 186, 66, 239, 236, 75, 199, 272, 18], [116, 186, 66, 239, 236, 75, 199, 272, 18], [116, 186, 66, 239, 236, 75, 199, 272, 18], [116, 186, 66, 239, 236, 75, 199, 272, 18], [116, 186, 66, 239, 236, 75, 199, 272, 18], [116, 186, 66, 239, 236, 75, 199, 272, 18], [116, 186, 66, 239, 236, 75, 199, 272, 18]]\n",
            "[(766902249,), (1536953616,), (1823375401,), (18169152849,), (238574610481,), (1565734171849,), (1565734171849,), (1565734171849,), (1565734171849,), (1565734171849,), (1565734171849,), (1565734171849,), (1565734171849,), (1565734171849,), (1565734171849,), (1565734171849,), (1565734171849,), (1565734171849,), (1565734171849,), (1565734171849,), (1565734171849,), (1565734171849,)]\n",
            " Melhor Avaliação dessa geração:  (766902249,) \n",
            " Melhor Avaliação Geral (456976,) \n",
            " Da geração:  1 \n",
            " Cromossomo:  [92, 96, 105, 40, 61, 24, 131, 109, 108] \n",
            "\n",
            "Geracao:  4\n",
            "[[42, 96, 33, 121, 15, 262, 210, 51, 108], [14, 0, 0, 204, 236, 9, 199, 0, 52], [99, 0, 0, 0, 136, 47, 11, 105, 0], [116, 186, 66, 0, 236, 0, 199, 272, 18], [116, 186, 66, 0, 236, 75, 199, 272, 18], [116, 186, 66, 239, 236, 75, 199, 272, 18], [116, 186, 66, 239, 236, 75, 199, 272, 18], [116, 186, 66, 239, 236, 75, 199, 272, 18], [116, 186, 66, 239, 236, 75, 199, 272, 18], [116, 186, 66, 239, 236, 75, 199, 272, 18], [116, 186, 66, 239, 236, 75, 199, 272, 18], [116, 186, 66, 239, 236, 75, 199, 272, 18], [116, 186, 66, 239, 236, 75, 199, 272, 18], [116, 186, 66, 239, 236, 75, 199, 272, 18], [116, 186, 66, 239, 236, 75, 199, 272, 18], [116, 186, 66, 239, 236, 75, 199, 272, 18], [116, 186, 66, 239, 236, 75, 199, 272, 18], [116, 186, 66, 239, 236, 75, 199, 272, 18], [116, 186, 66, 239, 236, 75, 199, 272, 18], [116, 186, 66, 239, 236, 75, 199, 272, 18], [116, 186, 66, 239, 236, 75, 199, 272, 18]]\n",
            "[(1536953616,), (1823375401,), (16714611225,), (216843892225,), (381263026225,), (1565734171849,), (1565734171849,), (1565734171849,), (1565734171849,), (1565734171849,), (1565734171849,), (1565734171849,), (1565734171849,), (1565734171849,), (1565734171849,), (1565734171849,), (1565734171849,), (1565734171849,), (1565734171849,), (1565734171849,), (1565734171849,)]\n",
            " Melhor Avaliação dessa geração:  (1536953616,) \n",
            " Melhor Avaliação Geral (456976,) \n",
            " Da geração:  1 \n",
            " Cromossomo:  [92, 96, 105, 40, 61, 24, 131, 109, 108] \n",
            "\n",
            "Geracao:  5\n",
            "[[14, 0, 0, 204, 236, 9, 199, 0, 52], [99, 0, 0, 0, 136, 47, 11, 105, 0], [42, 96, 66, 121, 236, 262, 210, 51, 18], [116, 186, 33, 239, 15, 75, 199, 272, 108], [116, 0, 66, 239, 236, 75, 0, 272, 0], [0, 186, 66, 239, 236, 75, 199, 272, 0], [0, 186, 66, 239, 236, 75, 199, 272, 18], [116, 186, 66, 239, 236, 75, 199, 272, 18], [116, 186, 66, 239, 236, 75, 199, 272, 18], [116, 186, 66, 239, 236, 75, 199, 272, 18], [116, 186, 66, 239, 236, 75, 199, 272, 18], [116, 186, 66, 239, 236, 75, 199, 272, 18], [116, 186, 66, 239, 236, 75, 199, 272, 18], [116, 186, 66, 239, 236, 75, 199, 272, 18], [116, 186, 66, 239, 236, 75, 199, 272, 18], [116, 186, 66, 239, 236, 75, 199, 272, 18], [116, 186, 66, 239, 236, 75, 199, 272, 18], [116, 186, 66, 239, 236, 75, 199, 272, 18], [116, 186, 66, 239, 236, 75, 199, 272, 18], [116, 186, 66, 239, 236, 75, 199, 272, 18]]\n",
            "[(1823375401,), (16714611225,), (17172529936,), (64013554081,), (99049307841,), (753050806225,), (837453765625,), (1565734171849,), (1565734171849,), (1565734171849,), (1565734171849,), (1565734171849,), (1565734171849,), (1565734171849,), (1565734171849,), (1565734171849,), (1565734171849,), (1565734171849,), (1565734171849,), (1565734171849,)]\n",
            " Melhor Avaliação dessa geração:  (1823375401,) \n",
            " Melhor Avaliação Geral (456976,) \n",
            " Da geração:  1 \n",
            " Cromossomo:  [92, 96, 105, 40, 61, 24, 131, 109, 108] \n",
            "\n",
            "Geracao:  6\n",
            "[[0, 1, 0, 0, 236, 9, 199, 0, 52], [99, 0, 0, 0, 136, 47, 11, 105, 0], [42, 96, 66, 121, 236, 262, 210, 51, 18], [116, 186, 66, 239, 236, 75, 199, 272, 18], [116, 186, 66, 239, 236, 75, 199, 272, 18], [116, 186, 66, 239, 236, 75, 199, 272, 18], [116, 186, 66, 239, 236, 75, 199, 272, 18], [116, 186, 66, 239, 236, 75, 199, 272, 18], [116, 186, 66, 239, 236, 75, 199, 272, 18], [116, 186, 66, 239, 236, 75, 199, 272, 18], [116, 186, 66, 239, 236, 75, 199, 272, 18], [116, 186, 66, 239, 236, 75, 199, 272, 18], [116, 186, 66, 239, 236, 75, 199, 272, 18], [116, 186, 66, 239, 236, 75, 199, 272, 18], [116, 186, 66, 239, 236, 75, 199, 272, 18], [116, 186, 66, 239, 236, 75, 199, 272, 18], [116, 186, 66, 239, 236, 75, 199, 272, 18]]\n",
            "[(3503811249,), (16714611225,), (17172529936,), (1565734171849,), (1565734171849,), (1565734171849,), (1565734171849,), (1565734171849,), (1565734171849,), (1565734171849,), (1565734171849,), (1565734171849,), (1565734171849,), (1565734171849,), (1565734171849,), (1565734171849,), (1565734171849,)]\n",
            " Melhor Avaliação dessa geração:  (3503811249,) \n",
            " Melhor Avaliação Geral (456976,) \n",
            " Da geração:  1 \n",
            " Cromossomo:  [92, 96, 105, 40, 61, 24, 131, 109, 108] \n",
            "\n",
            "Geracao:  7\n",
            "[[116, 1, 66, 0, 236, 75, 199, 0, 18], [99, 0, 0, 0, 136, 47, 11, 105, 0], [42, 96, 66, 121, 236, 262, 210, 51, 18], [0, 186, 0, 239, 236, 9, 199, 272, 0], [116, 186, 66, 239, 236, 75, 199, 272, 18], [116, 186, 66, 239, 236, 75, 199, 272, 18], [116, 186, 66, 239, 236, 75, 199, 272, 18], [116, 186, 66, 239, 236, 75, 199, 272, 18], [116, 186, 66, 239, 236, 75, 199, 272, 18], [116, 186, 66, 239, 236, 75, 199, 272, 18], [116, 186, 66, 239, 236, 75, 199, 272, 18], [116, 186, 66, 239, 236, 75, 199, 272, 18], [116, 186, 66, 239, 236, 75, 199, 272, 18], [116, 186, 66, 239, 236, 75, 199, 272, 18], [116, 186, 66, 239, 236, 75, 199, 272, 18], [116, 186, 66, 239, 236, 75, 199, 272, 18]]\n",
            "[(1734306025,), (16714611225,), (17172529936,), (313852050625,), (1565734171849,), (1565734171849,), (1565734171849,), (1565734171849,), (1565734171849,), (1565734171849,), (1565734171849,), (1565734171849,), (1565734171849,), (1565734171849,), (1565734171849,), (1565734171849,)]\n",
            " Melhor Avaliação dessa geração:  (1734306025,) \n",
            " Melhor Avaliação Geral (456976,) \n",
            " Da geração:  1 \n",
            " Cromossomo:  [92, 96, 105, 40, 61, 24, 131, 109, 108] \n",
            "\n",
            "Geracao:  8\n",
            "[[99, 0, 0, 0, 136, 47, 11, 105, 0], [116, 1, 66, 0, 236, 75, 199, 272, 18], [116, 186, 66, 239, 236, 75, 199, 0, 18], [116, 186, 66, 239, 236, 75, 199, 272, 18], [116, 186, 66, 239, 236, 75, 199, 272, 18], [116, 186, 66, 239, 236, 75, 199, 272, 18], [116, 186, 66, 239, 236, 75, 199, 272, 18], [116, 186, 66, 239, 236, 75, 199, 272, 18], [116, 186, 66, 239, 236, 75, 199, 272, 18], [116, 186, 66, 239, 236, 75, 199, 272, 18], [116, 186, 66, 239, 236, 75, 199, 272, 18], [116, 186, 66, 239, 236, 75, 199, 272, 18], [116, 186, 66, 239, 236, 75, 199, 272, 18], [116, 186, 66, 239, 236, 75, 199, 272, 18], [116, 186, 66, 239, 236, 75, 199, 272, 18]]\n",
            "[(16714611225,), (80499875625,), (300195505801,), (1565734171849,), (1565734171849,), (1565734171849,), (1565734171849,), (1565734171849,), (1565734171849,), (1565734171849,), (1565734171849,), (1565734171849,), (1565734171849,), (1565734171849,), (1565734171849,)]\n",
            " Melhor Avaliação dessa geração:  (16714611225,) \n",
            " Melhor Avaliação Geral (456976,) \n",
            " Da geração:  1 \n",
            " Cromossomo:  [92, 96, 105, 40, 61, 24, 131, 109, 108] \n",
            "\n",
            "Geracao:  9\n",
            "[[0, 186, 66, 0, 0, 75, 0, 272, 18], [116, 0, 0, 0, 236, 75, 11, 105, 18], [116, 1, 66, 0, 236, 75, 199, 272, 18], [116, 186, 66, 239, 236, 0, 0, 272, 18], [99, 186, 66, 239, 136, 47, 199, 272, 0], [116, 186, 66, 239, 236, 75, 199, 272, 18], [116, 186, 66, 239, 236, 75, 199, 272, 18], [116, 186, 66, 239, 236, 75, 199, 272, 18], [116, 186, 66, 239, 236, 75, 199, 272, 18], [116, 186, 66, 239, 236, 75, 199, 272, 18], [116, 186, 66, 239, 236, 75, 199, 272, 18], [116, 186, 66, 239, 236, 75, 199, 272, 18], [116, 186, 66, 239, 236, 75, 199, 272, 18]]\n",
            "[(717864849,), (1207215025,), (80499875625,), (295745630625,), (630818766081,), (1565734171849,), (1565734171849,), (1565734171849,), (1565734171849,), (1565734171849,), (1565734171849,), (1565734171849,), (1565734171849,)]\n",
            " Melhor Avaliação dessa geração:  (717864849,) \n",
            " Melhor Avaliação Geral (456976,) \n",
            " Da geração:  1 \n",
            " Cromossomo:  [92, 96, 105, 40, 61, 24, 131, 109, 108] \n",
            "\n",
            "Geracao:  10\n",
            "[[116, 0, 0, 0, 236, 75, 11, 105, 18], [0, 186, 66, 0, 0, 75, 199, 272, 18], [116, 186, 66, 239, 236, 75, 0, 272, 18], [116, 186, 0, 239, 236, 75, 199, 272, 18], [116, 186, 66, 239, 236, 75, 199, 272, 18], [116, 186, 66, 239, 236, 75, 199, 272, 18], [116, 186, 66, 239, 236, 75, 199, 272, 18], [116, 186, 66, 239, 236, 75, 199, 272, 18], [116, 186, 66, 239, 236, 75, 199, 272, 18], [116, 186, 66, 239, 236, 75, 199, 272, 18], [116, 186, 66, 239, 236, 75, 199, 272, 18], [116, 186, 66, 239, 236, 75, 199, 272, 18], [116, 186, 66, 239, 236, 75, 199, 272, 18]]\n",
            "[(1207215025,), (10005000625,), (500733140625,), (1109704230625,), (1565734171849,), (1565734171849,), (1565734171849,), (1565734171849,), (1565734171849,), (1565734171849,), (1565734171849,), (1565734171849,), (1565734171849,)]\n",
            " Melhor Avaliação dessa geração:  (1207215025,) \n",
            " Melhor Avaliação Geral (456976,) \n",
            " Da geração:  1 \n",
            " Cromossomo:  [92, 96, 105, 40, 61, 24, 131, 109, 108] \n",
            "\n",
            "Geracao:  11\n",
            "[[1, 186, 66, 1, 0, 0, 199, 272, 18], [0, 0, 0, 0, 236, 75, 0, 105, 0], [116, 186, 66, 239, 236, 75, 199, 272, 18], [116, 186, 66, 239, 236, 75, 199, 272, 18], [116, 186, 66, 239, 236, 75, 199, 272, 18], [116, 186, 66, 239, 236, 75, 199, 272, 18], [116, 186, 66, 239, 236, 75, 199, 272, 18], [116, 186, 66, 239, 236, 75, 199, 272, 18], [116, 186, 66, 239, 236, 75, 199, 272, 18], [116, 186, 66, 239, 236, 75, 199, 272, 18], [116, 186, 66, 239, 236, 75, 199, 272, 18]]\n",
            "[(2999205225,), (12910640625,), (1565734171849,), (1565734171849,), (1565734171849,), (1565734171849,), (1565734171849,), (1565734171849,), (1565734171849,), (1565734171849,), (1565734171849,)]\n",
            " Melhor Avaliação dessa geração:  (2999205225,) \n",
            " Melhor Avaliação Geral (456976,) \n",
            " Da geração:  1 \n",
            " Cromossomo:  [92, 96, 105, 40, 61, 24, 131, 109, 108] \n",
            "\n",
            "Geracao:  12\n",
            "[[1, 186, 66, 1, 1, 0, 199, 272, 18], [0, 0, 0, 0, 236, 75, 0, 105, 0], [116, 186, 66, 239, 236, 75, 0, 0, 18], [116, 186, 0, 239, 0, 75, 199, 272, 18], [116, 186, 66, 239, 236, 75, 199, 272, 18], [116, 186, 66, 239, 236, 75, 199, 272, 18], [116, 186, 66, 239, 236, 75, 199, 272, 18], [116, 186, 66, 239, 236, 75, 199, 272, 18], [116, 186, 66, 239, 236, 75, 199, 272, 18], [116, 186, 66, 239, 236, 75, 199, 272, 18], [116, 186, 66, 239, 236, 75, 199, 272, 18]]\n",
            "[(3051568081,), (12910640625,), (48728355025,), (238574610481,), (1565734171849,), (1565734171849,), (1565734171849,), (1565734171849,), (1565734171849,), (1565734171849,), (1565734171849,)]\n",
            " Melhor Avaliação dessa geração:  (3051568081,) \n",
            " Melhor Avaliação Geral (456976,) \n",
            " Da geração:  1 \n",
            " Cromossomo:  [92, 96, 105, 40, 61, 24, 131, 109, 108] \n",
            "\n",
            "Geracao:  13\n",
            "[[1, 186, 66, 1, 1, 0, 199, 272, 18], [0, 0, 0, 0, 236, 75, 0, 105, 0], [116, 186, 66, 239, 236, 75, 199, 272, 18], [116, 186, 66, 239, 236, 75, 199, 272, 18], [116, 186, 66, 239, 236, 75, 199, 272, 18], [116, 186, 66, 239, 236, 75, 199, 272, 18], [116, 186, 66, 239, 236, 75, 199, 272, 18], [116, 186, 66, 239, 236, 75, 199, 272, 18], [116, 186, 66, 239, 236, 75, 199, 272, 18], [116, 186, 66, 239, 236, 75, 199, 272, 18], [116, 186, 66, 239, 236, 75, 199, 272, 18]]\n",
            "[(3051568081,), (12910640625,), (1565734171849,), (1565734171849,), (1565734171849,), (1565734171849,), (1565734171849,), (1565734171849,), (1565734171849,), (1565734171849,), (1565734171849,)]\n",
            " Melhor Avaliação dessa geração:  (3051568081,) \n",
            " Melhor Avaliação Geral (456976,) \n",
            " Da geração:  1 \n",
            " Cromossomo:  [92, 96, 105, 40, 61, 24, 131, 109, 108] \n",
            "\n",
            "Geracao:  14\n",
            "[[1, 0, 66, 1, 236, 0, 199, 272, 18], [0, 186, 0, 0, 1, 75, 0, 105, 0], [116, 186, 66, 239, 236, 75, 199, 272, 18], [116, 186, 66, 239, 236, 75, 199, 272, 18], [116, 186, 66, 239, 236, 75, 199, 272, 18], [116, 186, 66, 239, 236, 75, 199, 272, 18], [116, 186, 66, 239, 236, 75, 199, 272, 18], [116, 186, 66, 239, 236, 75, 199, 272, 18], [116, 186, 66, 239, 236, 75, 199, 272, 18], [116, 186, 66, 239, 236, 75, 199, 272, 18]]\n",
            "[(6966406225,), (25374259849,), (1565734171849,), (1565734171849,), (1565734171849,), (1565734171849,), (1565734171849,), (1565734171849,), (1565734171849,), (1565734171849,)]\n",
            " Melhor Avaliação dessa geração:  (6966406225,) \n",
            " Melhor Avaliação Geral (456976,) \n",
            " Da geração:  1 \n",
            " Cromossomo:  [92, 96, 105, 40, 61, 24, 131, 109, 108] \n",
            "\n",
            "Geracao:  15\n",
            "[[1, 1, 0, 1, 236, 0, 199, 0, 18], [0, 186, 0, 0, 1, 75, 0, 105, 0], [116, 186, 66, 239, 236, 75, 199, 272, 18], [116, 186, 66, 239, 236, 75, 199, 272, 18], [116, 186, 66, 239, 236, 75, 199, 272, 18], [116, 186, 66, 239, 236, 75, 199, 272, 18], [116, 186, 66, 239, 236, 75, 199, 272, 18], [116, 186, 66, 239, 236, 75, 199, 272, 18], [116, 186, 66, 239, 236, 75, 199, 272, 18]]\n",
            "[(6966406225,), (25374259849,), (1565734171849,), (1565734171849,), (1565734171849,), (1565734171849,), (1565734171849,), (1565734171849,), (1565734171849,)]\n",
            " Melhor Avaliação dessa geração:  (6966406225,) \n",
            " Melhor Avaliação Geral (456976,) \n",
            " Da geração:  1 \n",
            " Cromossomo:  [92, 96, 105, 40, 61, 24, 131, 109, 108] \n",
            "\n",
            "Geracao:  16\n",
            "[[1, 1, 0, 1, 236, 0, 199, 0, 18], [116, 186, 66, 239, 236, 75, 199, 272, 18], [116, 186, 66, 239, 236, 75, 199, 272, 18], [116, 186, 66, 239, 236, 75, 199, 272, 18], [116, 186, 66, 239, 236, 75, 199, 272, 18], [116, 186, 66, 239, 236, 75, 199, 272, 18], [116, 186, 66, 239, 236, 75, 199, 272, 18]]\n",
            "[(6966406225,), (1565734171849,), (1565734171849,), (1565734171849,), (1565734171849,), (1565734171849,), (1565734171849,)]\n",
            " Melhor Avaliação dessa geração:  (6966406225,) \n",
            " Melhor Avaliação Geral (456976,) \n",
            " Da geração:  1 \n",
            " Cromossomo:  [92, 96, 105, 40, 61, 24, 131, 109, 108] \n",
            "\n",
            "Geracao:  17\n",
            "[[1, 1, 0, 1, 236, 0, 199, 0, 18], [116, 186, 66, 239, 236, 75, 0, 272, 18], [116, 186, 66, 239, 236, 75, 199, 272, 18], [116, 186, 66, 239, 236, 75, 199, 272, 18], [116, 186, 66, 239, 236, 75, 199, 272, 18]]\n",
            "[(6966406225,), (500733140625,), (1565734171849,), (1565734171849,), (1565734171849,)]\n",
            " Melhor Avaliação dessa geração:  (6966406225,) \n",
            " Melhor Avaliação Geral (456976,) \n",
            " Da geração:  1 \n",
            " Cromossomo:  [92, 96, 105, 40, 61, 24, 131, 109, 108] \n",
            "\n",
            "Geracao:  18\n",
            "[[116, 0, 66, 239, 236, 75, 0, 0, 18], [1, 1, 0, 1, 236, 0, 199, 0, 18], [116, 186, 66, 239, 236, 75, 199, 272, 18], [116, 186, 66, 239, 236, 75, 199, 272, 18]]\n",
            "[(3385028761,), (6966406225,), (1565734171849,), (1565734171849,)]\n",
            " Melhor Avaliação dessa geração:  (3385028761,) \n",
            " Melhor Avaliação Geral (456976,) \n",
            " Da geração:  1 \n",
            " Cromossomo:  [92, 96, 105, 40, 61, 24, 131, 109, 108] \n",
            "\n",
            "Geracao:  19\n",
            "[[116, 0, 66, 239, 236, 75, 0, 0, 18], [116, 186, 66, 239, 236, 75, 199, 272, 18]]\n",
            "[(3385028761,), (1565734171849,)]\n",
            " Melhor Avaliação dessa geração:  (3385028761,) \n",
            " Melhor Avaliação Geral (456976,) \n",
            " Da geração:  1 \n",
            " Cromossomo:  [92, 96, 105, 40, 61, 24, 131, 109, 108] \n",
            "\n",
            "Geracao:  20\n",
            "[[116, 0, 66, 239, 236, 75, 0, 0, 18]]\n",
            "[(3385028761,)]\n",
            " Melhor Avaliação dessa geração:  (3385028761,) \n",
            " Melhor Avaliação Geral (456976,) \n",
            " Da geração:  1 \n",
            " Cromossomo:  [92, 96, 105, 40, 61, 24, 131, 109, 108] \n",
            "\n",
            "Geracao:  21\n",
            "[[116, 0, 66, 239, 236, 75, 0, 0, 18]]\n",
            "[(3385028761,)]\n",
            " Melhor Avaliação dessa geração:  (3385028761,) \n",
            " Melhor Avaliação Geral (456976,) \n",
            " Da geração:  1 \n",
            " Cromossomo:  [92, 96, 105, 40, 61, 24, 131, 109, 108] \n",
            "\n",
            "Geracao:  22\n",
            "[[116, 0, 66, 239, 236, 75, 0, 0, 18]]\n",
            "[(3385028761,)]\n",
            " Melhor Avaliação dessa geração:  (3385028761,) \n",
            " Melhor Avaliação Geral (456976,) \n",
            " Da geração:  1 \n",
            " Cromossomo:  [92, 96, 105, 40, 61, 24, 131, 109, 108] \n",
            "\n",
            "Geracao:  23\n",
            "[[116, 0, 66, 239, 236, 75, 0, 0, 18]]\n",
            "[(3385028761,)]\n",
            " Melhor Avaliação dessa geração:  (3385028761,) \n",
            " Melhor Avaliação Geral (456976,) \n",
            " Da geração:  1 \n",
            " Cromossomo:  [92, 96, 105, 40, 61, 24, 131, 109, 108] \n",
            "\n",
            "Geracao:  24\n",
            "[[116, 0, 66, 239, 236, 75, 0, 0, 18]]\n",
            "[(3385028761,)]\n",
            " Melhor Avaliação dessa geração:  (3385028761,) \n",
            " Melhor Avaliação Geral (456976,) \n",
            " Da geração:  1 \n",
            " Cromossomo:  [92, 96, 105, 40, 61, 24, 131, 109, 108] \n",
            "\n"
          ],
          "name": "stdout"
        }
      ]
    },
    {
      "cell_type": "code",
      "metadata": {
        "id": "iznOs5U3Z9Ty",
        "colab": {
          "base_uri": "https://localhost:8080/",
          "height": 276
        },
        "outputId": "cfd58e01-5e23-47e7-c629-3c541ead2da5"
      },
      "source": [
        "from matplotlib import style\n",
        "style.use('dark_background')\n",
        "import matplotlib.pyplot as plt\n",
        "plt.plot(bestInd)\n",
        "plt.ylabel('Menor valor da função de aptidão')\n",
        "plt.show()"
      ],
      "execution_count": 15,
      "outputs": [
        {
          "output_type": "display_data",
          "data": {
            "image/png": "[encoded data removed]",
            "text/plain": [
              "<Figure size 432x288 with 1 Axes>"
            ]
          },
          "metadata": {
            "tags": []
          }
        }
      ]
    },
    {
      "cell_type": "code",
      "metadata": {
        "id": "032Ce-bjbuxH"
      },
      "source": [
        ""
      ],
      "execution_count": null,
      "outputs": []
    }
  ]
}