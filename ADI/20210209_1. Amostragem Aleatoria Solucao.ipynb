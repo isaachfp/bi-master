{
  "nbformat": 4,
  "nbformat_minor": 0,
  "metadata": {
    "colab": {
      "name": "2. Amostragem Aleatoria_solução.ipynb",
      "provenance": [],
      "collapsed_sections": [
        "jQLLB6xeG1GA",
        "KmagYHmtEokY",
        "ngQFZco5ZdAj",
        "cjd_WDWdEtzQ",
        "x9cPEut6Yq9t",
        "bQoYMJx1FsTO"
      ],
      "include_colab_link": true
    },
    "kernelspec": {
      "name": "python3",
      "display_name": "Python 3"
    }
  },
  "cells": [
    {
      "cell_type": "markdown",
      "metadata": {
        "id": "view-in-github",
        "colab_type": "text"
      },
      "source": [
        "<a href=\"https://colab.research.google.com/github/isaachfp/bi-master/blob/master/ADI/20210209_1.%20Amostragem%20Aleatoria%20Solucao.ipynb\" target=\"_parent\"><img src=\"https://colab.research.google.com/assets/colab-badge.svg\" alt=\"Open In Colab\"/></a>"
      ]
    },
    {
      "cell_type": "markdown",
      "metadata": {
        "id": "NtkZ_VtoDeE4"
      },
      "source": [
        "#Função a ser aproximada: Griewank"
      ]
    },
    {
      "cell_type": "markdown",
      "metadata": {
        "id": "o-atyj3hEk8n"
      },
      "source": [
        "## **Plot 2D da função Griewank**\n",
        "\n",
        "![alt text](http://2.bp.blogspot.com/_otsWqKrA2RI/TJHH5DguZjI/AAAAAAAAACo/01VNZLSvrlo/s400/fn_griewank.bmp)\n",
        "\n",
        "### **Definição e ótimo global:**\n",
        "\n",
        "![alt text](https://www.cs.unm.edu/~neal.holts/dga/benchmarkFunction/images/griewankLatex.png)"
      ]
    },
    {
      "cell_type": "markdown",
      "metadata": {
        "id": "jQLLB6xeG1GA"
      },
      "source": [
        "#Declarar a função"
      ]
    },
    {
      "cell_type": "code",
      "metadata": {
        "id": "hOszlptPDoZL"
      },
      "source": [
        "import math\n",
        "def Griewank(input):\n",
        "    sum = 0\n",
        "    for x in input:\n",
        "        sum += x * x\n",
        "    product = 1\n",
        "    for i in range(len(input)):\n",
        "        product *= math.cos(input[i] / math.sqrt(i + 1))\n",
        "    return 1 + sum / 4000 - product"
      ],
      "execution_count": 1,
      "outputs": []
    },
    {
      "cell_type": "code",
      "metadata": {
        "id": "HcBpb969EoUg",
        "colab": {
          "base_uri": "https://localhost:8080/"
        },
        "outputId": "19b814bc-866e-4521-f8c8-139b869b03cd"
      },
      "source": [
        "#Teste de chamada para duas variáveis\n",
        "Griewank([2,3])"
      ],
      "execution_count": 2,
      "outputs": [
        {
          "output_type": "execute_result",
          "data": {
            "text/plain": [
              "0.7855494848011055"
            ]
          },
          "metadata": {
            "tags": []
          },
          "execution_count": 2
        }
      ]
    },
    {
      "cell_type": "markdown",
      "metadata": {
        "id": "KmagYHmtEokY"
      },
      "source": [
        "#Amostragem da função a ser aproximada"
      ]
    },
    {
      "cell_type": "code",
      "metadata": {
        "id": "bdaNFAAun7o2",
        "colab": {
          "base_uri": "https://localhost:8080/"
        },
        "outputId": "47637fc6-8669-437f-96d4-781c894cff1d"
      },
      "source": [
        "import random\n",
        "n = 2\n",
        "samples = 1000\n",
        "\n",
        "random_samples = []\n",
        "for sample in range(samples):\n",
        "  input = []\n",
        "  for i in range(n):\n",
        "    input.append(random.random())\n",
        "  random_samples.append(input)\n",
        "\n",
        "#converte para numpy array\n",
        "import numpy as np\n",
        "random_samples = np.array(random_samples)\n",
        "\n",
        "random_samples[0:5] # 5 primeiras amostras"
      ],
      "execution_count": 3,
      "outputs": [
        {
          "output_type": "execute_result",
          "data": {
            "text/plain": [
              "array([[0.47445716, 0.27124771],\n",
              "       [0.79519207, 0.43874835],\n",
              "       [0.41303553, 0.89380215],\n",
              "       [0.13253481, 0.46780259],\n",
              "       [0.17804623, 0.53235586]])"
            ]
          },
          "metadata": {
            "tags": []
          },
          "execution_count": 3
        }
      ]
    },
    {
      "cell_type": "code",
      "metadata": {
        "id": "_OU_s-h6cACo"
      },
      "source": [
        "#Saída para cada input\n",
        "y = []\n",
        "for i in random_samples:\n",
        "  y.append(Griewank(i))"
      ],
      "execution_count": 4,
      "outputs": []
    },
    {
      "cell_type": "markdown",
      "metadata": {
        "id": "ngQFZco5ZdAj"
      },
      "source": [
        "#Separar base em treino e validação"
      ]
    },
    {
      "cell_type": "code",
      "metadata": {
        "id": "ysI59z1tZfsS"
      },
      "source": [
        "from sklearn.model_selection import train_test_split\n",
        "X_train, X_val, y_train, y_val = train_test_split(random_samples, y, test_size = 0.2, shuffle=True)"
      ],
      "execution_count": 5,
      "outputs": []
    },
    {
      "cell_type": "markdown",
      "metadata": {
        "id": "cjd_WDWdEtzQ"
      },
      "source": [
        "#Treinamento da Rede Neural para aproximar a função"
      ]
    },
    {
      "cell_type": "code",
      "metadata": {
        "id": "ylS6fpteCTCB",
        "colab": {
          "base_uri": "https://localhost:8080/"
        },
        "outputId": "9c3f46fe-5c6c-4226-ead0-c280ed11027c"
      },
      "source": [
        "%tensorflow_version 1.x"
      ],
      "execution_count": 6,
      "outputs": [
        {
          "output_type": "stream",
          "text": [
            "TensorFlow 1.x selected.\n"
          ],
          "name": "stdout"
        }
      ]
    },
    {
      "cell_type": "code",
      "metadata": {
        "id": "djjejd39Ew3P",
        "colab": {
          "base_uri": "https://localhost:8080/"
        },
        "outputId": "478cacf9-10f4-4075-b735-4780b40bfd3c"
      },
      "source": [
        "# Importando as bibliotecas do Keras\n",
        "import keras\n",
        "from keras.models import Sequential\n",
        "from keras.layers import Dense\n",
        "from keras.layers import Dropout"
      ],
      "execution_count": 7,
      "outputs": [
        {
          "output_type": "stream",
          "text": [
            "Using TensorFlow backend.\n"
          ],
          "name": "stderr"
        }
      ]
    },
    {
      "cell_type": "code",
      "metadata": {
        "id": "AH8K3DgtExmY",
        "colab": {
          "base_uri": "https://localhost:8080/"
        },
        "outputId": "e195a788-830c-4f2e-db0f-ee530ca0f28f"
      },
      "source": [
        "# Iniciando a Rede Neural\n",
        "classifier = Sequential()\n",
        "\n",
        "# Adicionando a camada de input e a primeira camada escondida\n",
        "classifier.add(Dense(units = 6, activation = 'relu', input_dim = n))\n",
        "classifier.add(Dropout(rate = 0.1))\n",
        "\n",
        "# Adicionando a camada de saída\n",
        "classifier.add(Dense(units = 1, activation = 'sigmoid'))\n",
        "\n",
        "# Compilando a rede neural\n",
        "classifier.compile(optimizer = 'adam', loss = 'mse')\n",
        "\n",
        "# Visualização das camadas da rede\n",
        "classifier.summary()"
      ],
      "execution_count": 8,
      "outputs": [
        {
          "output_type": "stream",
          "text": [
            "WARNING:tensorflow:From /tensorflow-1.15.2/python3.6/tensorflow_core/python/ops/resource_variable_ops.py:1630: calling BaseResourceVariable.__init__ (from tensorflow.python.ops.resource_variable_ops) with constraint is deprecated and will be removed in a future version.\n",
            "Instructions for updating:\n",
            "If using Keras pass *_constraint arguments to layers.\n",
            "Model: \"sequential_1\"\n",
            "_________________________________________________________________\n",
            "Layer (type)                 Output Shape              Param #   \n",
            "=================================================================\n",
            "dense_1 (Dense)              (None, 6)                 18        \n",
            "_________________________________________________________________\n",
            "dropout_1 (Dropout)          (None, 6)                 0         \n",
            "_________________________________________________________________\n",
            "dense_2 (Dense)              (None, 1)                 7         \n",
            "=================================================================\n",
            "Total params: 25\n",
            "Trainable params: 25\n",
            "Non-trainable params: 0\n",
            "_________________________________________________________________\n"
          ],
          "name": "stdout"
        }
      ]
    },
    {
      "cell_type": "code",
      "metadata": {
        "id": "OYpotUwMExog",
        "colab": {
          "base_uri": "https://localhost:8080/"
        },
        "outputId": "e5e3df21-5e30-4810-8d40-af5e31d37f85"
      },
      "source": [
        "# Treinando a rede neural\n",
        "trained_model = classifier.fit(X_train, y_train, batch_size = 64, epochs = 500, \n",
        "                               validation_data = (X_val,y_val))"
      ],
      "execution_count": 9,
      "outputs": [
        {
          "output_type": "stream",
          "text": [
            "WARNING:tensorflow:From /tensorflow-1.15.2/python3.6/keras/backend/tensorflow_backend.py:422: The name tf.global_variables is deprecated. Please use tf.compat.v1.global_variables instead.\n",
            "\n",
            "Train on 800 samples, validate on 200 samples\n",
            "Epoch 1/500\n",
            "800/800 [==============================] - 0s 525us/step - loss: 0.0615 - val_loss: 0.0554\n",
            "Epoch 2/500\n",
            "800/800 [==============================] - 0s 30us/step - loss: 0.0575 - val_loss: 0.0513\n",
            "Epoch 3/500\n",
            "800/800 [==============================] - 0s 34us/step - loss: 0.0534 - val_loss: 0.0479\n",
            "Epoch 4/500\n",
            "800/800 [==============================] - 0s 29us/step - loss: 0.0505 - val_loss: 0.0450\n",
            "Epoch 5/500\n",
            "800/800 [==============================] - 0s 35us/step - loss: 0.0478 - val_loss: 0.0426\n",
            "Epoch 6/500\n",
            "800/800 [==============================] - 0s 31us/step - loss: 0.0447 - val_loss: 0.0406\n",
            "Epoch 7/500\n",
            "800/800 [==============================] - 0s 30us/step - loss: 0.0429 - val_loss: 0.0391\n",
            "Epoch 8/500\n",
            "800/800 [==============================] - 0s 28us/step - loss: 0.0413 - val_loss: 0.0379\n",
            "Epoch 9/500\n",
            "800/800 [==============================] - 0s 36us/step - loss: 0.0409 - val_loss: 0.0369\n",
            "Epoch 10/500\n",
            "800/800 [==============================] - 0s 40us/step - loss: 0.0397 - val_loss: 0.0361\n",
            "Epoch 11/500\n",
            "800/800 [==============================] - 0s 29us/step - loss: 0.0389 - val_loss: 0.0354\n",
            "Epoch 12/500\n",
            "800/800 [==============================] - 0s 39us/step - loss: 0.0377 - val_loss: 0.0348\n",
            "Epoch 13/500\n",
            "800/800 [==============================] - 0s 165us/step - loss: 0.0367 - val_loss: 0.0342\n",
            "Epoch 14/500\n",
            "800/800 [==============================] - 0s 40us/step - loss: 0.0365 - val_loss: 0.0336\n",
            "Epoch 15/500\n",
            "800/800 [==============================] - 0s 33us/step - loss: 0.0363 - val_loss: 0.0331\n",
            "Epoch 16/500\n",
            "800/800 [==============================] - 0s 37us/step - loss: 0.0346 - val_loss: 0.0326\n",
            "Epoch 17/500\n",
            "800/800 [==============================] - 0s 29us/step - loss: 0.0347 - val_loss: 0.0321\n",
            "Epoch 18/500\n",
            "800/800 [==============================] - 0s 34us/step - loss: 0.0342 - val_loss: 0.0316\n",
            "Epoch 19/500\n",
            "800/800 [==============================] - 0s 35us/step - loss: 0.0338 - val_loss: 0.0311\n",
            "Epoch 20/500\n",
            "800/800 [==============================] - 0s 31us/step - loss: 0.0328 - val_loss: 0.0306\n",
            "Epoch 21/500\n",
            "800/800 [==============================] - 0s 32us/step - loss: 0.0323 - val_loss: 0.0300\n",
            "Epoch 22/500\n",
            "800/800 [==============================] - 0s 34us/step - loss: 0.0318 - val_loss: 0.0295\n",
            "Epoch 23/500\n",
            "800/800 [==============================] - 0s 35us/step - loss: 0.0314 - val_loss: 0.0290\n",
            "Epoch 24/500\n",
            "800/800 [==============================] - 0s 37us/step - loss: 0.0312 - val_loss: 0.0285\n",
            "Epoch 25/500\n",
            "800/800 [==============================] - 0s 33us/step - loss: 0.0304 - val_loss: 0.0280\n",
            "Epoch 26/500\n",
            "800/800 [==============================] - 0s 41us/step - loss: 0.0301 - val_loss: 0.0274\n",
            "Epoch 27/500\n",
            "800/800 [==============================] - 0s 34us/step - loss: 0.0296 - val_loss: 0.0269\n",
            "Epoch 28/500\n",
            "800/800 [==============================] - 0s 27us/step - loss: 0.0291 - val_loss: 0.0264\n",
            "Epoch 29/500\n",
            "800/800 [==============================] - 0s 37us/step - loss: 0.0283 - val_loss: 0.0259\n",
            "Epoch 30/500\n",
            "800/800 [==============================] - 0s 26us/step - loss: 0.0282 - val_loss: 0.0253\n",
            "Epoch 31/500\n",
            "800/800 [==============================] - 0s 30us/step - loss: 0.0268 - val_loss: 0.0248\n",
            "Epoch 32/500\n",
            "800/800 [==============================] - 0s 36us/step - loss: 0.0265 - val_loss: 0.0242\n",
            "Epoch 33/500\n",
            "800/800 [==============================] - 0s 35us/step - loss: 0.0259 - val_loss: 0.0237\n",
            "Epoch 34/500\n",
            "800/800 [==============================] - 0s 43us/step - loss: 0.0253 - val_loss: 0.0231\n",
            "Epoch 35/500\n",
            "800/800 [==============================] - 0s 31us/step - loss: 0.0248 - val_loss: 0.0226\n",
            "Epoch 36/500\n",
            "800/800 [==============================] - 0s 35us/step - loss: 0.0244 - val_loss: 0.0221\n",
            "Epoch 37/500\n",
            "800/800 [==============================] - 0s 34us/step - loss: 0.0243 - val_loss: 0.0215\n",
            "Epoch 38/500\n",
            "800/800 [==============================] - 0s 38us/step - loss: 0.0233 - val_loss: 0.0209\n",
            "Epoch 39/500\n",
            "800/800 [==============================] - 0s 33us/step - loss: 0.0226 - val_loss: 0.0204\n",
            "Epoch 40/500\n",
            "800/800 [==============================] - 0s 32us/step - loss: 0.0218 - val_loss: 0.0198\n",
            "Epoch 41/500\n",
            "800/800 [==============================] - 0s 36us/step - loss: 0.0218 - val_loss: 0.0193\n",
            "Epoch 42/500\n",
            "800/800 [==============================] - 0s 41us/step - loss: 0.0204 - val_loss: 0.0187\n",
            "Epoch 43/500\n",
            "800/800 [==============================] - 0s 39us/step - loss: 0.0202 - val_loss: 0.0182\n",
            "Epoch 44/500\n",
            "800/800 [==============================] - 0s 36us/step - loss: 0.0199 - val_loss: 0.0176\n",
            "Epoch 45/500\n",
            "800/800 [==============================] - 0s 169us/step - loss: 0.0187 - val_loss: 0.0170\n",
            "Epoch 46/500\n",
            "800/800 [==============================] - 0s 32us/step - loss: 0.0186 - val_loss: 0.0165\n",
            "Epoch 47/500\n",
            "800/800 [==============================] - 0s 37us/step - loss: 0.0182 - val_loss: 0.0159\n",
            "Epoch 48/500\n",
            "800/800 [==============================] - 0s 39us/step - loss: 0.0175 - val_loss: 0.0154\n",
            "Epoch 49/500\n",
            "800/800 [==============================] - 0s 31us/step - loss: 0.0168 - val_loss: 0.0148\n",
            "Epoch 50/500\n",
            "800/800 [==============================] - 0s 34us/step - loss: 0.0163 - val_loss: 0.0143\n",
            "Epoch 51/500\n",
            "800/800 [==============================] - 0s 38us/step - loss: 0.0157 - val_loss: 0.0138\n",
            "Epoch 52/500\n",
            "800/800 [==============================] - 0s 42us/step - loss: 0.0148 - val_loss: 0.0132\n",
            "Epoch 53/500\n",
            "800/800 [==============================] - 0s 38us/step - loss: 0.0145 - val_loss: 0.0127\n",
            "Epoch 54/500\n",
            "800/800 [==============================] - 0s 38us/step - loss: 0.0140 - val_loss: 0.0122\n",
            "Epoch 55/500\n",
            "800/800 [==============================] - 0s 38us/step - loss: 0.0137 - val_loss: 0.0117\n",
            "Epoch 56/500\n",
            "800/800 [==============================] - 0s 37us/step - loss: 0.0131 - val_loss: 0.0112\n",
            "Epoch 57/500\n",
            "800/800 [==============================] - 0s 37us/step - loss: 0.0121 - val_loss: 0.0108\n",
            "Epoch 58/500\n",
            "800/800 [==============================] - 0s 37us/step - loss: 0.0115 - val_loss: 0.0103\n",
            "Epoch 59/500\n",
            "800/800 [==============================] - 0s 43us/step - loss: 0.0118 - val_loss: 0.0099\n",
            "Epoch 60/500\n",
            "800/800 [==============================] - 0s 41us/step - loss: 0.0111 - val_loss: 0.0096\n",
            "Epoch 61/500\n",
            "800/800 [==============================] - 0s 37us/step - loss: 0.0111 - val_loss: 0.0092\n",
            "Epoch 62/500\n",
            "800/800 [==============================] - 0s 33us/step - loss: 0.0104 - val_loss: 0.0089\n",
            "Epoch 63/500\n",
            "800/800 [==============================] - 0s 32us/step - loss: 0.0101 - val_loss: 0.0086\n",
            "Epoch 64/500\n",
            "800/800 [==============================] - 0s 37us/step - loss: 0.0096 - val_loss: 0.0083\n",
            "Epoch 65/500\n",
            "800/800 [==============================] - 0s 42us/step - loss: 0.0097 - val_loss: 0.0080\n",
            "Epoch 66/500\n",
            "800/800 [==============================] - 0s 29us/step - loss: 0.0089 - val_loss: 0.0078\n",
            "Epoch 67/500\n",
            "800/800 [==============================] - 0s 34us/step - loss: 0.0092 - val_loss: 0.0075\n",
            "Epoch 68/500\n",
            "800/800 [==============================] - 0s 36us/step - loss: 0.0086 - val_loss: 0.0073\n",
            "Epoch 69/500\n",
            "800/800 [==============================] - 0s 28us/step - loss: 0.0086 - val_loss: 0.0070\n",
            "Epoch 70/500\n",
            "800/800 [==============================] - 0s 30us/step - loss: 0.0082 - val_loss: 0.0068\n",
            "Epoch 71/500\n",
            "800/800 [==============================] - 0s 37us/step - loss: 0.0077 - val_loss: 0.0066\n",
            "Epoch 72/500\n",
            "800/800 [==============================] - 0s 31us/step - loss: 0.0083 - val_loss: 0.0064\n",
            "Epoch 73/500\n",
            "800/800 [==============================] - 0s 50us/step - loss: 0.0074 - val_loss: 0.0062\n",
            "Epoch 74/500\n",
            "800/800 [==============================] - 0s 36us/step - loss: 0.0072 - val_loss: 0.0060\n",
            "Epoch 75/500\n",
            "800/800 [==============================] - 0s 43us/step - loss: 0.0071 - val_loss: 0.0058\n",
            "Epoch 76/500\n",
            "800/800 [==============================] - 0s 43us/step - loss: 0.0071 - val_loss: 0.0057\n",
            "Epoch 77/500\n",
            "800/800 [==============================] - 0s 33us/step - loss: 0.0066 - val_loss: 0.0055\n",
            "Epoch 78/500\n",
            "800/800 [==============================] - 0s 31us/step - loss: 0.0061 - val_loss: 0.0053\n",
            "Epoch 79/500\n",
            "800/800 [==============================] - 0s 38us/step - loss: 0.0063 - val_loss: 0.0052\n",
            "Epoch 80/500\n",
            "800/800 [==============================] - 0s 30us/step - loss: 0.0060 - val_loss: 0.0050\n",
            "Epoch 81/500\n",
            "800/800 [==============================] - 0s 31us/step - loss: 0.0056 - val_loss: 0.0049\n",
            "Epoch 82/500\n",
            "800/800 [==============================] - 0s 39us/step - loss: 0.0059 - val_loss: 0.0047\n",
            "Epoch 83/500\n",
            "800/800 [==============================] - 0s 32us/step - loss: 0.0058 - val_loss: 0.0046\n",
            "Epoch 84/500\n",
            "800/800 [==============================] - 0s 34us/step - loss: 0.0057 - val_loss: 0.0044\n",
            "Epoch 85/500\n",
            "800/800 [==============================] - 0s 31us/step - loss: 0.0053 - val_loss: 0.0043\n",
            "Epoch 86/500\n",
            "800/800 [==============================] - 0s 32us/step - loss: 0.0052 - val_loss: 0.0042\n",
            "Epoch 87/500\n",
            "800/800 [==============================] - 0s 49us/step - loss: 0.0053 - val_loss: 0.0041\n",
            "Epoch 88/500\n",
            "800/800 [==============================] - 0s 33us/step - loss: 0.0052 - val_loss: 0.0039\n",
            "Epoch 89/500\n",
            "800/800 [==============================] - 0s 29us/step - loss: 0.0054 - val_loss: 0.0038\n",
            "Epoch 90/500\n",
            "800/800 [==============================] - 0s 33us/step - loss: 0.0047 - val_loss: 0.0037\n",
            "Epoch 91/500\n",
            "800/800 [==============================] - 0s 35us/step - loss: 0.0045 - val_loss: 0.0035\n",
            "Epoch 92/500\n",
            "800/800 [==============================] - 0s 31us/step - loss: 0.0048 - val_loss: 0.0033\n",
            "Epoch 93/500\n",
            "800/800 [==============================] - 0s 163us/step - loss: 0.0047 - val_loss: 0.0030\n",
            "Epoch 94/500\n",
            "800/800 [==============================] - 0s 40us/step - loss: 0.0045 - val_loss: 0.0028\n",
            "Epoch 95/500\n",
            "800/800 [==============================] - 0s 36us/step - loss: 0.0044 - val_loss: 0.0026\n",
            "Epoch 96/500\n",
            "800/800 [==============================] - 0s 34us/step - loss: 0.0040 - val_loss: 0.0025\n",
            "Epoch 97/500\n",
            "800/800 [==============================] - 0s 40us/step - loss: 0.0037 - val_loss: 0.0024\n",
            "Epoch 98/500\n",
            "800/800 [==============================] - 0s 52us/step - loss: 0.0037 - val_loss: 0.0022\n",
            "Epoch 99/500\n",
            "800/800 [==============================] - 0s 34us/step - loss: 0.0033 - val_loss: 0.0021\n",
            "Epoch 100/500\n",
            "800/800 [==============================] - 0s 30us/step - loss: 0.0032 - val_loss: 0.0020\n",
            "Epoch 101/500\n",
            "800/800 [==============================] - 0s 42us/step - loss: 0.0034 - val_loss: 0.0020\n",
            "Epoch 102/500\n",
            "800/800 [==============================] - 0s 37us/step - loss: 0.0029 - val_loss: 0.0019\n",
            "Epoch 103/500\n",
            "800/800 [==============================] - 0s 34us/step - loss: 0.0034 - val_loss: 0.0019\n",
            "Epoch 104/500\n",
            "800/800 [==============================] - 0s 36us/step - loss: 0.0031 - val_loss: 0.0018\n",
            "Epoch 105/500\n",
            "800/800 [==============================] - 0s 37us/step - loss: 0.0027 - val_loss: 0.0017\n",
            "Epoch 106/500\n",
            "800/800 [==============================] - 0s 32us/step - loss: 0.0031 - val_loss: 0.0017\n",
            "Epoch 107/500\n",
            "800/800 [==============================] - 0s 35us/step - loss: 0.0029 - val_loss: 0.0017\n",
            "Epoch 108/500\n",
            "800/800 [==============================] - 0s 34us/step - loss: 0.0030 - val_loss: 0.0016\n",
            "Epoch 109/500\n",
            "800/800 [==============================] - 0s 47us/step - loss: 0.0029 - val_loss: 0.0016\n",
            "Epoch 110/500\n",
            "800/800 [==============================] - 0s 38us/step - loss: 0.0028 - val_loss: 0.0016\n",
            "Epoch 111/500\n",
            "800/800 [==============================] - 0s 36us/step - loss: 0.0028 - val_loss: 0.0016\n",
            "Epoch 112/500\n",
            "800/800 [==============================] - 0s 40us/step - loss: 0.0027 - val_loss: 0.0016\n",
            "Epoch 113/500\n",
            "800/800 [==============================] - 0s 32us/step - loss: 0.0030 - val_loss: 0.0015\n",
            "Epoch 114/500\n",
            "800/800 [==============================] - 0s 36us/step - loss: 0.0028 - val_loss: 0.0015\n",
            "Epoch 115/500\n",
            "800/800 [==============================] - 0s 38us/step - loss: 0.0026 - val_loss: 0.0015\n",
            "Epoch 116/500\n",
            "800/800 [==============================] - 0s 34us/step - loss: 0.0026 - val_loss: 0.0015\n",
            "Epoch 117/500\n",
            "800/800 [==============================] - 0s 36us/step - loss: 0.0028 - val_loss: 0.0015\n",
            "Epoch 118/500\n",
            "800/800 [==============================] - 0s 43us/step - loss: 0.0026 - val_loss: 0.0015\n",
            "Epoch 119/500\n",
            "800/800 [==============================] - 0s 32us/step - loss: 0.0026 - val_loss: 0.0015\n",
            "Epoch 120/500\n",
            "800/800 [==============================] - 0s 37us/step - loss: 0.0025 - val_loss: 0.0014\n",
            "Epoch 121/500\n",
            "800/800 [==============================] - 0s 38us/step - loss: 0.0021 - val_loss: 0.0014\n",
            "Epoch 122/500\n",
            "800/800 [==============================] - 0s 37us/step - loss: 0.0031 - val_loss: 0.0014\n",
            "Epoch 123/500\n",
            "800/800 [==============================] - 0s 40us/step - loss: 0.0027 - val_loss: 0.0014\n",
            "Epoch 124/500\n",
            "800/800 [==============================] - 0s 48us/step - loss: 0.0023 - val_loss: 0.0014\n",
            "Epoch 125/500\n",
            "800/800 [==============================] - 0s 30us/step - loss: 0.0029 - val_loss: 0.0014\n",
            "Epoch 126/500\n",
            "800/800 [==============================] - 0s 38us/step - loss: 0.0025 - val_loss: 0.0014\n",
            "Epoch 127/500\n",
            "800/800 [==============================] - 0s 44us/step - loss: 0.0021 - val_loss: 0.0013\n",
            "Epoch 128/500\n",
            "800/800 [==============================] - 0s 39us/step - loss: 0.0026 - val_loss: 0.0013\n",
            "Epoch 129/500\n",
            "800/800 [==============================] - 0s 43us/step - loss: 0.0025 - val_loss: 0.0013\n",
            "Epoch 130/500\n",
            "800/800 [==============================] - 0s 32us/step - loss: 0.0026 - val_loss: 0.0013\n",
            "Epoch 131/500\n",
            "800/800 [==============================] - 0s 34us/step - loss: 0.0025 - val_loss: 0.0013\n",
            "Epoch 132/500\n",
            "800/800 [==============================] - 0s 36us/step - loss: 0.0025 - val_loss: 0.0013\n",
            "Epoch 133/500\n",
            "800/800 [==============================] - 0s 34us/step - loss: 0.0026 - val_loss: 0.0013\n",
            "Epoch 134/500\n",
            "800/800 [==============================] - 0s 51us/step - loss: 0.0024 - val_loss: 0.0013\n",
            "Epoch 135/500\n",
            "800/800 [==============================] - 0s 42us/step - loss: 0.0023 - val_loss: 0.0013\n",
            "Epoch 136/500\n",
            "800/800 [==============================] - 0s 45us/step - loss: 0.0021 - val_loss: 0.0012\n",
            "Epoch 137/500\n",
            "800/800 [==============================] - 0s 34us/step - loss: 0.0019 - val_loss: 0.0013\n",
            "Epoch 138/500\n",
            "800/800 [==============================] - 0s 32us/step - loss: 0.0025 - val_loss: 0.0012\n",
            "Epoch 139/500\n",
            "800/800 [==============================] - 0s 39us/step - loss: 0.0022 - val_loss: 0.0012\n",
            "Epoch 140/500\n",
            "800/800 [==============================] - 0s 31us/step - loss: 0.0023 - val_loss: 0.0012\n",
            "Epoch 141/500\n",
            "800/800 [==============================] - 0s 50us/step - loss: 0.0024 - val_loss: 0.0012\n",
            "Epoch 142/500\n",
            "800/800 [==============================] - 0s 36us/step - loss: 0.0020 - val_loss: 0.0012\n",
            "Epoch 143/500\n",
            "800/800 [==============================] - 0s 33us/step - loss: 0.0023 - val_loss: 0.0012\n",
            "Epoch 144/500\n",
            "800/800 [==============================] - 0s 34us/step - loss: 0.0021 - val_loss: 0.0012\n",
            "Epoch 145/500\n",
            "800/800 [==============================] - 0s 35us/step - loss: 0.0021 - val_loss: 0.0012\n",
            "Epoch 146/500\n",
            "800/800 [==============================] - 0s 29us/step - loss: 0.0021 - val_loss: 0.0012\n",
            "Epoch 147/500\n",
            "800/800 [==============================] - 0s 29us/step - loss: 0.0025 - val_loss: 0.0012\n",
            "Epoch 148/500\n",
            "800/800 [==============================] - 0s 34us/step - loss: 0.0021 - val_loss: 0.0012\n",
            "Epoch 149/500\n",
            "800/800 [==============================] - 0s 36us/step - loss: 0.0022 - val_loss: 0.0012\n",
            "Epoch 150/500\n",
            "800/800 [==============================] - 0s 32us/step - loss: 0.0021 - val_loss: 0.0012\n",
            "Epoch 151/500\n",
            "800/800 [==============================] - 0s 38us/step - loss: 0.0021 - val_loss: 0.0012\n",
            "Epoch 152/500\n",
            "800/800 [==============================] - 0s 28us/step - loss: 0.0022 - val_loss: 0.0012\n",
            "Epoch 153/500\n",
            "800/800 [==============================] - 0s 33us/step - loss: 0.0023 - val_loss: 0.0012\n",
            "Epoch 154/500\n",
            "800/800 [==============================] - 0s 31us/step - loss: 0.0022 - val_loss: 0.0011\n",
            "Epoch 155/500\n",
            "800/800 [==============================] - 0s 39us/step - loss: 0.0022 - val_loss: 0.0011\n",
            "Epoch 156/500\n",
            "800/800 [==============================] - 0s 30us/step - loss: 0.0023 - val_loss: 0.0011\n",
            "Epoch 157/500\n",
            "800/800 [==============================] - 0s 39us/step - loss: 0.0021 - val_loss: 0.0012\n",
            "Epoch 158/500\n",
            "800/800 [==============================] - 0s 38us/step - loss: 0.0020 - val_loss: 0.0011\n",
            "Epoch 159/500\n",
            "800/800 [==============================] - 0s 41us/step - loss: 0.0020 - val_loss: 0.0011\n",
            "Epoch 160/500\n",
            "800/800 [==============================] - 0s 40us/step - loss: 0.0022 - val_loss: 0.0011\n",
            "Epoch 161/500\n",
            "800/800 [==============================] - 0s 38us/step - loss: 0.0022 - val_loss: 0.0011\n",
            "Epoch 162/500\n",
            "800/800 [==============================] - 0s 37us/step - loss: 0.0021 - val_loss: 0.0011\n",
            "Epoch 163/500\n",
            "800/800 [==============================] - 0s 34us/step - loss: 0.0024 - val_loss: 0.0011\n",
            "Epoch 164/500\n",
            "800/800 [==============================] - 0s 175us/step - loss: 0.0023 - val_loss: 0.0011\n",
            "Epoch 165/500\n",
            "800/800 [==============================] - 0s 40us/step - loss: 0.0021 - val_loss: 0.0011\n",
            "Epoch 166/500\n",
            "800/800 [==============================] - 0s 36us/step - loss: 0.0022 - val_loss: 0.0011\n",
            "Epoch 167/500\n",
            "800/800 [==============================] - 0s 40us/step - loss: 0.0022 - val_loss: 0.0011\n",
            "Epoch 168/500\n",
            "800/800 [==============================] - 0s 46us/step - loss: 0.0020 - val_loss: 0.0011\n",
            "Epoch 169/500\n",
            "800/800 [==============================] - 0s 45us/step - loss: 0.0022 - val_loss: 0.0011\n",
            "Epoch 170/500\n",
            "800/800 [==============================] - 0s 36us/step - loss: 0.0020 - val_loss: 0.0010\n",
            "Epoch 171/500\n",
            "800/800 [==============================] - 0s 35us/step - loss: 0.0018 - val_loss: 0.0011\n",
            "Epoch 172/500\n",
            "800/800 [==============================] - 0s 43us/step - loss: 0.0019 - val_loss: 0.0011\n",
            "Epoch 173/500\n",
            "800/800 [==============================] - 0s 31us/step - loss: 0.0022 - val_loss: 0.0011\n",
            "Epoch 174/500\n",
            "800/800 [==============================] - 0s 41us/step - loss: 0.0023 - val_loss: 0.0011\n",
            "Epoch 175/500\n",
            "800/800 [==============================] - 0s 39us/step - loss: 0.0024 - val_loss: 0.0010\n",
            "Epoch 176/500\n",
            "800/800 [==============================] - 0s 35us/step - loss: 0.0018 - val_loss: 0.0010\n",
            "Epoch 177/500\n",
            "800/800 [==============================] - 0s 31us/step - loss: 0.0022 - val_loss: 0.0010\n",
            "Epoch 178/500\n",
            "800/800 [==============================] - 0s 32us/step - loss: 0.0021 - val_loss: 0.0010\n",
            "Epoch 179/500\n",
            "800/800 [==============================] - 0s 34us/step - loss: 0.0018 - val_loss: 0.0010\n",
            "Epoch 180/500\n",
            "800/800 [==============================] - 0s 29us/step - loss: 0.0023 - val_loss: 0.0010\n",
            "Epoch 181/500\n",
            "800/800 [==============================] - 0s 39us/step - loss: 0.0020 - val_loss: 0.0010\n",
            "Epoch 182/500\n",
            "800/800 [==============================] - 0s 30us/step - loss: 0.0021 - val_loss: 0.0010\n",
            "Epoch 183/500\n",
            "800/800 [==============================] - 0s 38us/step - loss: 0.0020 - val_loss: 0.0010\n",
            "Epoch 184/500\n",
            "800/800 [==============================] - 0s 35us/step - loss: 0.0020 - val_loss: 0.0010\n",
            "Epoch 185/500\n",
            "800/800 [==============================] - 0s 31us/step - loss: 0.0021 - val_loss: 9.9736e-04\n",
            "Epoch 186/500\n",
            "800/800 [==============================] - 0s 60us/step - loss: 0.0020 - val_loss: 9.9537e-04\n",
            "Epoch 187/500\n",
            "800/800 [==============================] - 0s 45us/step - loss: 0.0020 - val_loss: 0.0010\n",
            "Epoch 188/500\n",
            "800/800 [==============================] - 0s 33us/step - loss: 0.0020 - val_loss: 9.9220e-04\n",
            "Epoch 189/500\n",
            "800/800 [==============================] - 0s 34us/step - loss: 0.0022 - val_loss: 9.9277e-04\n",
            "Epoch 190/500\n",
            "800/800 [==============================] - 0s 37us/step - loss: 0.0020 - val_loss: 9.8245e-04\n",
            "Epoch 191/500\n",
            "800/800 [==============================] - 0s 33us/step - loss: 0.0017 - val_loss: 9.8188e-04\n",
            "Epoch 192/500\n",
            "800/800 [==============================] - 0s 36us/step - loss: 0.0020 - val_loss: 9.6900e-04\n",
            "Epoch 193/500\n",
            "800/800 [==============================] - 0s 34us/step - loss: 0.0020 - val_loss: 9.6825e-04\n",
            "Epoch 194/500\n",
            "800/800 [==============================] - 0s 38us/step - loss: 0.0019 - val_loss: 9.6583e-04\n",
            "Epoch 195/500\n",
            "800/800 [==============================] - 0s 38us/step - loss: 0.0020 - val_loss: 9.6788e-04\n",
            "Epoch 196/500\n",
            "800/800 [==============================] - 0s 29us/step - loss: 0.0021 - val_loss: 9.7204e-04\n",
            "Epoch 197/500\n",
            "800/800 [==============================] - 0s 30us/step - loss: 0.0018 - val_loss: 9.6072e-04\n",
            "Epoch 198/500\n",
            "800/800 [==============================] - 0s 39us/step - loss: 0.0020 - val_loss: 9.4135e-04\n",
            "Epoch 199/500\n",
            "800/800 [==============================] - 0s 35us/step - loss: 0.0020 - val_loss: 9.3272e-04\n",
            "Epoch 200/500\n",
            "800/800 [==============================] - 0s 34us/step - loss: 0.0020 - val_loss: 9.4185e-04\n",
            "Epoch 201/500\n",
            "800/800 [==============================] - 0s 36us/step - loss: 0.0018 - val_loss: 9.3466e-04\n",
            "Epoch 202/500\n",
            "800/800 [==============================] - 0s 30us/step - loss: 0.0019 - val_loss: 9.1994e-04\n",
            "Epoch 203/500\n",
            "800/800 [==============================] - 0s 36us/step - loss: 0.0022 - val_loss: 9.6959e-04\n",
            "Epoch 204/500\n",
            "800/800 [==============================] - 0s 59us/step - loss: 0.0018 - val_loss: 9.3808e-04\n",
            "Epoch 205/500\n",
            "800/800 [==============================] - 0s 40us/step - loss: 0.0017 - val_loss: 9.2518e-04\n",
            "Epoch 206/500\n",
            "800/800 [==============================] - 0s 39us/step - loss: 0.0019 - val_loss: 9.3029e-04\n",
            "Epoch 207/500\n",
            "800/800 [==============================] - 0s 31us/step - loss: 0.0020 - val_loss: 9.2853e-04\n",
            "Epoch 208/500\n",
            "800/800 [==============================] - 0s 39us/step - loss: 0.0019 - val_loss: 9.1427e-04\n",
            "Epoch 209/500\n",
            "800/800 [==============================] - 0s 41us/step - loss: 0.0019 - val_loss: 9.2883e-04\n",
            "Epoch 210/500\n",
            "800/800 [==============================] - 0s 33us/step - loss: 0.0020 - val_loss: 9.1487e-04\n",
            "Epoch 211/500\n",
            "800/800 [==============================] - 0s 36us/step - loss: 0.0019 - val_loss: 9.6271e-04\n",
            "Epoch 212/500\n",
            "800/800 [==============================] - 0s 30us/step - loss: 0.0019 - val_loss: 9.3138e-04\n",
            "Epoch 213/500\n",
            "800/800 [==============================] - 0s 33us/step - loss: 0.0020 - val_loss: 9.1648e-04\n",
            "Epoch 214/500\n",
            "800/800 [==============================] - 0s 39us/step - loss: 0.0019 - val_loss: 9.0846e-04\n",
            "Epoch 215/500\n",
            "800/800 [==============================] - 0s 35us/step - loss: 0.0018 - val_loss: 9.2706e-04\n",
            "Epoch 216/500\n",
            "800/800 [==============================] - 0s 34us/step - loss: 0.0024 - val_loss: 9.2191e-04\n",
            "Epoch 217/500\n",
            "800/800 [==============================] - 0s 38us/step - loss: 0.0018 - val_loss: 9.3030e-04\n",
            "Epoch 218/500\n",
            "800/800 [==============================] - 0s 31us/step - loss: 0.0018 - val_loss: 8.9119e-04\n",
            "Epoch 219/500\n",
            "800/800 [==============================] - 0s 36us/step - loss: 0.0019 - val_loss: 9.0272e-04\n",
            "Epoch 220/500\n",
            "800/800 [==============================] - 0s 54us/step - loss: 0.0021 - val_loss: 9.1830e-04\n",
            "Epoch 221/500\n",
            "800/800 [==============================] - 0s 42us/step - loss: 0.0019 - val_loss: 9.1611e-04\n",
            "Epoch 222/500\n",
            "800/800 [==============================] - 0s 41us/step - loss: 0.0019 - val_loss: 9.0837e-04\n",
            "Epoch 223/500\n",
            "800/800 [==============================] - 0s 46us/step - loss: 0.0017 - val_loss: 8.9596e-04\n",
            "Epoch 224/500\n",
            "800/800 [==============================] - 0s 38us/step - loss: 0.0015 - val_loss: 9.0219e-04\n",
            "Epoch 225/500\n",
            "800/800 [==============================] - 0s 34us/step - loss: 0.0018 - val_loss: 8.9387e-04\n",
            "Epoch 226/500\n",
            "800/800 [==============================] - 0s 35us/step - loss: 0.0020 - val_loss: 9.0414e-04\n",
            "Epoch 227/500\n",
            "800/800 [==============================] - 0s 43us/step - loss: 0.0018 - val_loss: 8.8812e-04\n",
            "Epoch 228/500\n",
            "800/800 [==============================] - 0s 40us/step - loss: 0.0018 - val_loss: 8.7302e-04\n",
            "Epoch 229/500\n",
            "800/800 [==============================] - 0s 39us/step - loss: 0.0021 - val_loss: 8.7561e-04\n",
            "Epoch 230/500\n",
            "800/800 [==============================] - 0s 38us/step - loss: 0.0018 - val_loss: 8.7634e-04\n",
            "Epoch 231/500\n",
            "800/800 [==============================] - 0s 38us/step - loss: 0.0017 - val_loss: 8.6060e-04\n",
            "Epoch 232/500\n",
            "800/800 [==============================] - 0s 40us/step - loss: 0.0019 - val_loss: 8.6184e-04\n",
            "Epoch 233/500\n",
            "800/800 [==============================] - 0s 33us/step - loss: 0.0020 - val_loss: 8.6275e-04\n",
            "Epoch 234/500\n",
            "800/800 [==============================] - 0s 37us/step - loss: 0.0019 - val_loss: 8.5651e-04\n",
            "Epoch 235/500\n",
            "800/800 [==============================] - 0s 32us/step - loss: 0.0018 - val_loss: 8.7987e-04\n",
            "Epoch 236/500\n",
            "800/800 [==============================] - 0s 41us/step - loss: 0.0019 - val_loss: 8.6652e-04\n",
            "Epoch 237/500\n",
            "800/800 [==============================] - 0s 41us/step - loss: 0.0020 - val_loss: 8.7980e-04\n",
            "Epoch 238/500\n",
            "800/800 [==============================] - 0s 35us/step - loss: 0.0016 - val_loss: 8.5750e-04\n",
            "Epoch 239/500\n",
            "800/800 [==============================] - 0s 31us/step - loss: 0.0018 - val_loss: 8.6046e-04\n",
            "Epoch 240/500\n",
            "800/800 [==============================] - 0s 34us/step - loss: 0.0020 - val_loss: 8.8549e-04\n",
            "Epoch 241/500\n",
            "800/800 [==============================] - 0s 34us/step - loss: 0.0018 - val_loss: 8.5940e-04\n",
            "Epoch 242/500\n",
            "800/800 [==============================] - 0s 48us/step - loss: 0.0018 - val_loss: 8.7320e-04\n",
            "Epoch 243/500\n",
            "800/800 [==============================] - 0s 48us/step - loss: 0.0018 - val_loss: 8.8522e-04\n",
            "Epoch 244/500\n",
            "800/800 [==============================] - 0s 41us/step - loss: 0.0016 - val_loss: 8.8653e-04\n",
            "Epoch 245/500\n",
            "800/800 [==============================] - 0s 40us/step - loss: 0.0018 - val_loss: 8.7805e-04\n",
            "Epoch 246/500\n",
            "800/800 [==============================] - 0s 33us/step - loss: 0.0019 - val_loss: 8.7862e-04\n",
            "Epoch 247/500\n",
            "800/800 [==============================] - 0s 44us/step - loss: 0.0017 - val_loss: 8.6197e-04\n",
            "Epoch 248/500\n",
            "800/800 [==============================] - 0s 39us/step - loss: 0.0017 - val_loss: 8.7124e-04\n",
            "Epoch 249/500\n",
            "800/800 [==============================] - 0s 43us/step - loss: 0.0018 - val_loss: 8.6695e-04\n",
            "Epoch 250/500\n",
            "800/800 [==============================] - 0s 35us/step - loss: 0.0019 - val_loss: 8.7779e-04\n",
            "Epoch 251/500\n",
            "800/800 [==============================] - 0s 36us/step - loss: 0.0016 - val_loss: 8.4481e-04\n",
            "Epoch 252/500\n",
            "800/800 [==============================] - 0s 41us/step - loss: 0.0016 - val_loss: 8.4501e-04\n",
            "Epoch 253/500\n",
            "800/800 [==============================] - 0s 35us/step - loss: 0.0017 - val_loss: 8.6087e-04\n",
            "Epoch 254/500\n",
            "800/800 [==============================] - 0s 43us/step - loss: 0.0018 - val_loss: 8.6981e-04\n",
            "Epoch 255/500\n",
            "800/800 [==============================] - 0s 35us/step - loss: 0.0018 - val_loss: 8.4947e-04\n",
            "Epoch 256/500\n",
            "800/800 [==============================] - 0s 46us/step - loss: 0.0018 - val_loss: 8.4441e-04\n",
            "Epoch 257/500\n",
            "800/800 [==============================] - 0s 49us/step - loss: 0.0019 - val_loss: 8.9080e-04\n",
            "Epoch 258/500\n",
            "800/800 [==============================] - 0s 44us/step - loss: 0.0018 - val_loss: 8.5374e-04\n",
            "Epoch 259/500\n",
            "800/800 [==============================] - 0s 37us/step - loss: 0.0017 - val_loss: 8.3981e-04\n",
            "Epoch 260/500\n",
            "800/800 [==============================] - 0s 46us/step - loss: 0.0018 - val_loss: 8.5575e-04\n",
            "Epoch 261/500\n",
            "800/800 [==============================] - 0s 47us/step - loss: 0.0017 - val_loss: 8.5175e-04\n",
            "Epoch 262/500\n",
            "800/800 [==============================] - 0s 34us/step - loss: 0.0018 - val_loss: 8.3677e-04\n",
            "Epoch 263/500\n",
            "800/800 [==============================] - 0s 37us/step - loss: 0.0017 - val_loss: 8.3888e-04\n",
            "Epoch 264/500\n",
            "800/800 [==============================] - 0s 40us/step - loss: 0.0018 - val_loss: 8.4605e-04\n",
            "Epoch 265/500\n",
            "800/800 [==============================] - 0s 42us/step - loss: 0.0017 - val_loss: 8.5684e-04\n",
            "Epoch 266/500\n",
            "800/800 [==============================] - 0s 36us/step - loss: 0.0017 - val_loss: 8.6278e-04\n",
            "Epoch 267/500\n",
            "800/800 [==============================] - 0s 32us/step - loss: 0.0018 - val_loss: 8.4309e-04\n",
            "Epoch 268/500\n",
            "800/800 [==============================] - 0s 38us/step - loss: 0.0016 - val_loss: 8.7168e-04\n",
            "Epoch 269/500\n",
            "800/800 [==============================] - 0s 35us/step - loss: 0.0017 - val_loss: 8.5455e-04\n",
            "Epoch 270/500\n",
            "800/800 [==============================] - 0s 97us/step - loss: 0.0016 - val_loss: 8.6328e-04\n",
            "Epoch 271/500\n",
            "800/800 [==============================] - 0s 80us/step - loss: 0.0016 - val_loss: 8.8028e-04\n",
            "Epoch 272/500\n",
            "800/800 [==============================] - 0s 47us/step - loss: 0.0018 - val_loss: 8.5039e-04\n",
            "Epoch 273/500\n",
            "800/800 [==============================] - 0s 54us/step - loss: 0.0018 - val_loss: 8.5234e-04\n",
            "Epoch 274/500\n",
            "800/800 [==============================] - 0s 52us/step - loss: 0.0019 - val_loss: 8.5340e-04\n",
            "Epoch 275/500\n",
            "800/800 [==============================] - 0s 37us/step - loss: 0.0018 - val_loss: 8.6470e-04\n",
            "Epoch 276/500\n",
            "800/800 [==============================] - 0s 38us/step - loss: 0.0017 - val_loss: 8.7911e-04\n",
            "Epoch 277/500\n",
            "800/800 [==============================] - 0s 46us/step - loss: 0.0020 - val_loss: 8.5370e-04\n",
            "Epoch 278/500\n",
            "800/800 [==============================] - 0s 46us/step - loss: 0.0015 - val_loss: 8.4169e-04\n",
            "Epoch 279/500\n",
            "800/800 [==============================] - 0s 39us/step - loss: 0.0016 - val_loss: 8.3803e-04\n",
            "Epoch 280/500\n",
            "800/800 [==============================] - 0s 38us/step - loss: 0.0019 - val_loss: 8.3134e-04\n",
            "Epoch 281/500\n",
            "800/800 [==============================] - 0s 43us/step - loss: 0.0016 - val_loss: 8.5959e-04\n",
            "Epoch 282/500\n",
            "800/800 [==============================] - 0s 57us/step - loss: 0.0019 - val_loss: 8.4610e-04\n",
            "Epoch 283/500\n",
            "800/800 [==============================] - 0s 44us/step - loss: 0.0016 - val_loss: 8.5331e-04\n",
            "Epoch 284/500\n",
            "800/800 [==============================] - 0s 52us/step - loss: 0.0016 - val_loss: 8.5458e-04\n",
            "Epoch 285/500\n",
            "800/800 [==============================] - 0s 34us/step - loss: 0.0017 - val_loss: 8.3967e-04\n",
            "Epoch 286/500\n",
            "800/800 [==============================] - 0s 35us/step - loss: 0.0016 - val_loss: 8.5284e-04\n",
            "Epoch 287/500\n",
            "800/800 [==============================] - 0s 41us/step - loss: 0.0018 - val_loss: 8.5147e-04\n",
            "Epoch 288/500\n",
            "800/800 [==============================] - 0s 34us/step - loss: 0.0016 - val_loss: 8.3845e-04\n",
            "Epoch 289/500\n",
            "800/800 [==============================] - 0s 47us/step - loss: 0.0016 - val_loss: 8.4228e-04\n",
            "Epoch 290/500\n",
            "800/800 [==============================] - 0s 37us/step - loss: 0.0016 - val_loss: 8.4784e-04\n",
            "Epoch 291/500\n",
            "800/800 [==============================] - 0s 35us/step - loss: 0.0016 - val_loss: 8.3126e-04\n",
            "Epoch 292/500\n",
            "800/800 [==============================] - 0s 40us/step - loss: 0.0016 - val_loss: 8.2261e-04\n",
            "Epoch 293/500\n",
            "800/800 [==============================] - 0s 45us/step - loss: 0.0019 - val_loss: 8.3943e-04\n",
            "Epoch 294/500\n",
            "800/800 [==============================] - 0s 37us/step - loss: 0.0016 - val_loss: 8.2545e-04\n",
            "Epoch 295/500\n",
            "800/800 [==============================] - 0s 34us/step - loss: 0.0017 - val_loss: 8.2664e-04\n",
            "Epoch 296/500\n",
            "800/800 [==============================] - 0s 38us/step - loss: 0.0015 - val_loss: 8.1937e-04\n",
            "Epoch 297/500\n",
            "800/800 [==============================] - 0s 42us/step - loss: 0.0017 - val_loss: 8.2570e-04\n",
            "Epoch 298/500\n",
            "800/800 [==============================] - 0s 41us/step - loss: 0.0016 - val_loss: 8.1745e-04\n",
            "Epoch 299/500\n",
            "800/800 [==============================] - 0s 40us/step - loss: 0.0018 - val_loss: 8.2375e-04\n",
            "Epoch 300/500\n",
            "800/800 [==============================] - 0s 52us/step - loss: 0.0019 - val_loss: 8.2832e-04\n",
            "Epoch 301/500\n",
            "800/800 [==============================] - 0s 43us/step - loss: 0.0017 - val_loss: 8.1686e-04\n",
            "Epoch 302/500\n",
            "800/800 [==============================] - 0s 38us/step - loss: 0.0016 - val_loss: 8.0489e-04\n",
            "Epoch 303/500\n",
            "800/800 [==============================] - 0s 35us/step - loss: 0.0018 - val_loss: 7.8944e-04\n",
            "Epoch 304/500\n",
            "800/800 [==============================] - 0s 41us/step - loss: 0.0016 - val_loss: 8.2107e-04\n",
            "Epoch 305/500\n",
            "800/800 [==============================] - 0s 40us/step - loss: 0.0017 - val_loss: 8.0361e-04\n",
            "Epoch 306/500\n",
            "800/800 [==============================] - 0s 45us/step - loss: 0.0017 - val_loss: 8.0313e-04\n",
            "Epoch 307/500\n",
            "800/800 [==============================] - 0s 38us/step - loss: 0.0017 - val_loss: 8.0850e-04\n",
            "Epoch 308/500\n",
            "800/800 [==============================] - 0s 41us/step - loss: 0.0016 - val_loss: 8.0135e-04\n",
            "Epoch 309/500\n",
            "800/800 [==============================] - 0s 45us/step - loss: 0.0016 - val_loss: 8.1433e-04\n",
            "Epoch 310/500\n",
            "800/800 [==============================] - 0s 43us/step - loss: 0.0018 - val_loss: 8.0982e-04\n",
            "Epoch 311/500\n",
            "800/800 [==============================] - 0s 39us/step - loss: 0.0015 - val_loss: 7.8193e-04\n",
            "Epoch 312/500\n",
            "800/800 [==============================] - 0s 41us/step - loss: 0.0018 - val_loss: 8.0113e-04\n",
            "Epoch 313/500\n",
            "800/800 [==============================] - 0s 33us/step - loss: 0.0017 - val_loss: 7.9749e-04\n",
            "Epoch 314/500\n",
            "800/800 [==============================] - 0s 41us/step - loss: 0.0019 - val_loss: 8.0794e-04\n",
            "Epoch 315/500\n",
            "800/800 [==============================] - 0s 33us/step - loss: 0.0015 - val_loss: 7.8972e-04\n",
            "Epoch 316/500\n",
            "800/800 [==============================] - 0s 37us/step - loss: 0.0014 - val_loss: 7.6834e-04\n",
            "Epoch 317/500\n",
            "800/800 [==============================] - 0s 43us/step - loss: 0.0017 - val_loss: 7.6589e-04\n",
            "Epoch 318/500\n",
            "800/800 [==============================] - 0s 40us/step - loss: 0.0014 - val_loss: 7.9198e-04\n",
            "Epoch 319/500\n",
            "800/800 [==============================] - 0s 36us/step - loss: 0.0016 - val_loss: 8.0727e-04\n",
            "Epoch 320/500\n",
            "800/800 [==============================] - 0s 36us/step - loss: 0.0017 - val_loss: 7.7501e-04\n",
            "Epoch 321/500\n",
            "800/800 [==============================] - 0s 37us/step - loss: 0.0014 - val_loss: 7.8326e-04\n",
            "Epoch 322/500\n",
            "800/800 [==============================] - 0s 34us/step - loss: 0.0017 - val_loss: 7.9565e-04\n",
            "Epoch 323/500\n",
            "800/800 [==============================] - 0s 35us/step - loss: 0.0014 - val_loss: 7.8549e-04\n",
            "Epoch 324/500\n",
            "800/800 [==============================] - 0s 37us/step - loss: 0.0017 - val_loss: 7.7295e-04\n",
            "Epoch 325/500\n",
            "800/800 [==============================] - 0s 38us/step - loss: 0.0016 - val_loss: 7.7401e-04\n",
            "Epoch 326/500\n",
            "800/800 [==============================] - 0s 36us/step - loss: 0.0015 - val_loss: 7.8505e-04\n",
            "Epoch 327/500\n",
            "800/800 [==============================] - 0s 46us/step - loss: 0.0018 - val_loss: 7.6792e-04\n",
            "Epoch 328/500\n",
            "800/800 [==============================] - 0s 34us/step - loss: 0.0015 - val_loss: 7.9443e-04\n",
            "Epoch 329/500\n",
            "800/800 [==============================] - 0s 47us/step - loss: 0.0017 - val_loss: 7.8240e-04\n",
            "Epoch 330/500\n",
            "800/800 [==============================] - 0s 49us/step - loss: 0.0015 - val_loss: 7.7307e-04\n",
            "Epoch 331/500\n",
            "800/800 [==============================] - 0s 34us/step - loss: 0.0014 - val_loss: 7.8504e-04\n",
            "Epoch 332/500\n",
            "800/800 [==============================] - 0s 35us/step - loss: 0.0017 - val_loss: 7.8789e-04\n",
            "Epoch 333/500\n",
            "800/800 [==============================] - 0s 44us/step - loss: 0.0017 - val_loss: 7.7813e-04\n",
            "Epoch 334/500\n",
            "800/800 [==============================] - 0s 33us/step - loss: 0.0017 - val_loss: 7.7159e-04\n",
            "Epoch 335/500\n",
            "800/800 [==============================] - 0s 37us/step - loss: 0.0016 - val_loss: 8.1506e-04\n",
            "Epoch 336/500\n",
            "800/800 [==============================] - 0s 33us/step - loss: 0.0019 - val_loss: 7.9772e-04\n",
            "Epoch 337/500\n",
            "800/800 [==============================] - 0s 41us/step - loss: 0.0015 - val_loss: 7.7290e-04\n",
            "Epoch 338/500\n",
            "800/800 [==============================] - 0s 41us/step - loss: 0.0013 - val_loss: 7.5803e-04\n",
            "Epoch 339/500\n",
            "800/800 [==============================] - 0s 33us/step - loss: 0.0015 - val_loss: 7.7107e-04\n",
            "Epoch 340/500\n",
            "800/800 [==============================] - 0s 36us/step - loss: 0.0014 - val_loss: 7.5955e-04\n",
            "Epoch 341/500\n",
            "800/800 [==============================] - 0s 46us/step - loss: 0.0015 - val_loss: 7.6498e-04\n",
            "Epoch 342/500\n",
            "800/800 [==============================] - 0s 38us/step - loss: 0.0017 - val_loss: 7.7177e-04\n",
            "Epoch 343/500\n",
            "800/800 [==============================] - 0s 42us/step - loss: 0.0014 - val_loss: 7.6988e-04\n",
            "Epoch 344/500\n",
            "800/800 [==============================] - 0s 39us/step - loss: 0.0016 - val_loss: 7.4329e-04\n",
            "Epoch 345/500\n",
            "800/800 [==============================] - 0s 40us/step - loss: 0.0015 - val_loss: 7.7226e-04\n",
            "Epoch 346/500\n",
            "800/800 [==============================] - 0s 32us/step - loss: 0.0017 - val_loss: 7.8920e-04\n",
            "Epoch 347/500\n",
            "800/800 [==============================] - 0s 35us/step - loss: 0.0016 - val_loss: 7.5652e-04\n",
            "Epoch 348/500\n",
            "800/800 [==============================] - 0s 34us/step - loss: 0.0016 - val_loss: 7.6126e-04\n",
            "Epoch 349/500\n",
            "800/800 [==============================] - 0s 41us/step - loss: 0.0016 - val_loss: 7.5373e-04\n",
            "Epoch 350/500\n",
            "800/800 [==============================] - 0s 34us/step - loss: 0.0015 - val_loss: 7.6755e-04\n",
            "Epoch 351/500\n",
            "800/800 [==============================] - 0s 36us/step - loss: 0.0014 - val_loss: 7.7814e-04\n",
            "Epoch 352/500\n",
            "800/800 [==============================] - 0s 36us/step - loss: 0.0014 - val_loss: 7.4469e-04\n",
            "Epoch 353/500\n",
            "800/800 [==============================] - 0s 38us/step - loss: 0.0016 - val_loss: 7.4385e-04\n",
            "Epoch 354/500\n",
            "800/800 [==============================] - 0s 39us/step - loss: 0.0016 - val_loss: 7.9373e-04\n",
            "Epoch 355/500\n",
            "800/800 [==============================] - 0s 39us/step - loss: 0.0012 - val_loss: 7.6475e-04\n",
            "Epoch 356/500\n",
            "800/800 [==============================] - 0s 43us/step - loss: 0.0014 - val_loss: 7.6527e-04\n",
            "Epoch 357/500\n",
            "800/800 [==============================] - 0s 52us/step - loss: 0.0014 - val_loss: 7.4717e-04\n",
            "Epoch 358/500\n",
            "800/800 [==============================] - 0s 36us/step - loss: 0.0013 - val_loss: 7.7075e-04\n",
            "Epoch 359/500\n",
            "800/800 [==============================] - 0s 44us/step - loss: 0.0014 - val_loss: 7.7167e-04\n",
            "Epoch 360/500\n",
            "800/800 [==============================] - 0s 50us/step - loss: 0.0015 - val_loss: 7.6031e-04\n",
            "Epoch 361/500\n",
            "800/800 [==============================] - 0s 38us/step - loss: 0.0013 - val_loss: 7.3879e-04\n",
            "Epoch 362/500\n",
            "800/800 [==============================] - 0s 33us/step - loss: 0.0017 - val_loss: 7.5837e-04\n",
            "Epoch 363/500\n",
            "800/800 [==============================] - 0s 36us/step - loss: 0.0017 - val_loss: 7.5232e-04\n",
            "Epoch 364/500\n",
            "800/800 [==============================] - 0s 33us/step - loss: 0.0015 - val_loss: 7.6287e-04\n",
            "Epoch 365/500\n",
            "800/800 [==============================] - 0s 43us/step - loss: 0.0018 - val_loss: 7.6281e-04\n",
            "Epoch 366/500\n",
            "800/800 [==============================] - 0s 41us/step - loss: 0.0014 - val_loss: 7.5568e-04\n",
            "Epoch 367/500\n",
            "800/800 [==============================] - 0s 34us/step - loss: 0.0015 - val_loss: 7.5083e-04\n",
            "Epoch 368/500\n",
            "800/800 [==============================] - 0s 42us/step - loss: 0.0015 - val_loss: 7.5315e-04\n",
            "Epoch 369/500\n",
            "800/800 [==============================] - 0s 39us/step - loss: 0.0014 - val_loss: 7.4403e-04\n",
            "Epoch 370/500\n",
            "800/800 [==============================] - 0s 40us/step - loss: 0.0017 - val_loss: 7.3278e-04\n",
            "Epoch 371/500\n",
            "800/800 [==============================] - 0s 35us/step - loss: 0.0013 - val_loss: 7.2402e-04\n",
            "Epoch 372/500\n",
            "800/800 [==============================] - 0s 33us/step - loss: 0.0016 - val_loss: 7.1878e-04\n",
            "Epoch 373/500\n",
            "800/800 [==============================] - 0s 32us/step - loss: 0.0017 - val_loss: 7.4081e-04\n",
            "Epoch 374/500\n",
            "800/800 [==============================] - 0s 38us/step - loss: 0.0015 - val_loss: 7.2348e-04\n",
            "Epoch 375/500\n",
            "800/800 [==============================] - 0s 48us/step - loss: 0.0016 - val_loss: 7.5298e-04\n",
            "Epoch 376/500\n",
            "800/800 [==============================] - 0s 37us/step - loss: 0.0015 - val_loss: 7.2094e-04\n",
            "Epoch 377/500\n",
            "800/800 [==============================] - 0s 39us/step - loss: 0.0014 - val_loss: 7.3574e-04\n",
            "Epoch 378/500\n",
            "800/800 [==============================] - 0s 39us/step - loss: 0.0015 - val_loss: 7.3517e-04\n",
            "Epoch 379/500\n",
            "800/800 [==============================] - 0s 41us/step - loss: 0.0015 - val_loss: 7.2364e-04\n",
            "Epoch 380/500\n",
            "800/800 [==============================] - 0s 40us/step - loss: 0.0015 - val_loss: 7.0330e-04\n",
            "Epoch 381/500\n",
            "800/800 [==============================] - 0s 43us/step - loss: 0.0013 - val_loss: 7.0516e-04\n",
            "Epoch 382/500\n",
            "800/800 [==============================] - 0s 43us/step - loss: 0.0013 - val_loss: 7.2073e-04\n",
            "Epoch 383/500\n",
            "800/800 [==============================] - 0s 44us/step - loss: 0.0013 - val_loss: 7.2217e-04\n",
            "Epoch 384/500\n",
            "800/800 [==============================] - 0s 36us/step - loss: 0.0017 - val_loss: 7.0499e-04\n",
            "Epoch 385/500\n",
            "800/800 [==============================] - 0s 39us/step - loss: 0.0013 - val_loss: 7.0528e-04\n",
            "Epoch 386/500\n",
            "800/800 [==============================] - 0s 40us/step - loss: 0.0013 - val_loss: 7.1210e-04\n",
            "Epoch 387/500\n",
            "800/800 [==============================] - 0s 38us/step - loss: 0.0013 - val_loss: 7.1415e-04\n",
            "Epoch 388/500\n",
            "800/800 [==============================] - 0s 42us/step - loss: 0.0014 - val_loss: 7.1681e-04\n",
            "Epoch 389/500\n",
            "800/800 [==============================] - 0s 51us/step - loss: 0.0015 - val_loss: 7.0202e-04\n",
            "Epoch 390/500\n",
            "800/800 [==============================] - 0s 43us/step - loss: 0.0016 - val_loss: 7.2219e-04\n",
            "Epoch 391/500\n",
            "800/800 [==============================] - 0s 35us/step - loss: 0.0013 - val_loss: 6.9820e-04\n",
            "Epoch 392/500\n",
            "800/800 [==============================] - 0s 37us/step - loss: 0.0014 - val_loss: 6.8696e-04\n",
            "Epoch 393/500\n",
            "800/800 [==============================] - 0s 33us/step - loss: 0.0014 - val_loss: 6.8910e-04\n",
            "Epoch 394/500\n",
            "800/800 [==============================] - 0s 41us/step - loss: 0.0014 - val_loss: 7.0434e-04\n",
            "Epoch 395/500\n",
            "800/800 [==============================] - 0s 38us/step - loss: 0.0014 - val_loss: 6.9057e-04\n",
            "Epoch 396/500\n",
            "800/800 [==============================] - 0s 37us/step - loss: 0.0015 - val_loss: 6.8272e-04\n",
            "Epoch 397/500\n",
            "800/800 [==============================] - 0s 36us/step - loss: 0.0015 - val_loss: 6.9504e-04\n",
            "Epoch 398/500\n",
            "800/800 [==============================] - 0s 51us/step - loss: 0.0014 - val_loss: 7.1169e-04\n",
            "Epoch 399/500\n",
            "800/800 [==============================] - 0s 41us/step - loss: 0.0015 - val_loss: 6.8191e-04\n",
            "Epoch 400/500\n",
            "800/800 [==============================] - 0s 40us/step - loss: 0.0014 - val_loss: 7.0469e-04\n",
            "Epoch 401/500\n",
            "800/800 [==============================] - 0s 45us/step - loss: 0.0013 - val_loss: 6.9291e-04\n",
            "Epoch 402/500\n",
            "800/800 [==============================] - 0s 38us/step - loss: 0.0011 - val_loss: 7.0682e-04\n",
            "Epoch 403/500\n",
            "800/800 [==============================] - 0s 41us/step - loss: 0.0012 - val_loss: 6.8216e-04\n",
            "Epoch 404/500\n",
            "800/800 [==============================] - 0s 39us/step - loss: 0.0013 - val_loss: 6.9225e-04\n",
            "Epoch 405/500\n",
            "800/800 [==============================] - 0s 49us/step - loss: 0.0014 - val_loss: 6.8609e-04\n",
            "Epoch 406/500\n",
            "800/800 [==============================] - 0s 41us/step - loss: 0.0014 - val_loss: 7.0032e-04\n",
            "Epoch 407/500\n",
            "800/800 [==============================] - 0s 37us/step - loss: 0.0012 - val_loss: 6.9885e-04\n",
            "Epoch 408/500\n",
            "800/800 [==============================] - 0s 35us/step - loss: 0.0013 - val_loss: 6.9127e-04\n",
            "Epoch 409/500\n",
            "800/800 [==============================] - 0s 45us/step - loss: 0.0013 - val_loss: 6.6851e-04\n",
            "Epoch 410/500\n",
            "800/800 [==============================] - 0s 37us/step - loss: 0.0013 - val_loss: 6.9043e-04\n",
            "Epoch 411/500\n",
            "800/800 [==============================] - 0s 46us/step - loss: 0.0014 - val_loss: 6.7936e-04\n",
            "Epoch 412/500\n",
            "800/800 [==============================] - 0s 39us/step - loss: 0.0013 - val_loss: 6.8765e-04\n",
            "Epoch 413/500\n",
            "800/800 [==============================] - 0s 42us/step - loss: 0.0015 - val_loss: 7.0524e-04\n",
            "Epoch 414/500\n",
            "800/800 [==============================] - 0s 37us/step - loss: 0.0014 - val_loss: 6.9083e-04\n",
            "Epoch 415/500\n",
            "800/800 [==============================] - 0s 34us/step - loss: 0.0013 - val_loss: 7.0037e-04\n",
            "Epoch 416/500\n",
            "800/800 [==============================] - 0s 40us/step - loss: 0.0014 - val_loss: 6.7867e-04\n",
            "Epoch 417/500\n",
            "800/800 [==============================] - 0s 40us/step - loss: 0.0013 - val_loss: 7.2337e-04\n",
            "Epoch 418/500\n",
            "800/800 [==============================] - 0s 40us/step - loss: 0.0013 - val_loss: 6.7334e-04\n",
            "Epoch 419/500\n",
            "800/800 [==============================] - 0s 40us/step - loss: 0.0013 - val_loss: 6.8718e-04\n",
            "Epoch 420/500\n",
            "800/800 [==============================] - 0s 39us/step - loss: 0.0012 - val_loss: 6.9014e-04\n",
            "Epoch 421/500\n",
            "800/800 [==============================] - 0s 37us/step - loss: 0.0012 - val_loss: 6.6901e-04\n",
            "Epoch 422/500\n",
            "800/800 [==============================] - 0s 40us/step - loss: 0.0014 - val_loss: 6.9832e-04\n",
            "Epoch 423/500\n",
            "800/800 [==============================] - 0s 33us/step - loss: 0.0012 - val_loss: 6.6823e-04\n",
            "Epoch 424/500\n",
            "800/800 [==============================] - 0s 149us/step - loss: 0.0012 - val_loss: 7.0367e-04\n",
            "Epoch 425/500\n",
            "800/800 [==============================] - 0s 46us/step - loss: 0.0012 - val_loss: 6.7337e-04\n",
            "Epoch 426/500\n",
            "800/800 [==============================] - 0s 40us/step - loss: 0.0017 - val_loss: 6.7281e-04\n",
            "Epoch 427/500\n",
            "800/800 [==============================] - 0s 37us/step - loss: 0.0014 - val_loss: 7.0245e-04\n",
            "Epoch 428/500\n",
            "800/800 [==============================] - 0s 46us/step - loss: 0.0014 - val_loss: 7.0516e-04\n",
            "Epoch 429/500\n",
            "800/800 [==============================] - 0s 40us/step - loss: 0.0013 - val_loss: 6.9406e-04\n",
            "Epoch 430/500\n",
            "800/800 [==============================] - 0s 41us/step - loss: 0.0013 - val_loss: 6.9022e-04\n",
            "Epoch 431/500\n",
            "800/800 [==============================] - 0s 39us/step - loss: 0.0015 - val_loss: 7.1023e-04\n",
            "Epoch 432/500\n",
            "800/800 [==============================] - 0s 48us/step - loss: 0.0015 - val_loss: 6.9762e-04\n",
            "Epoch 433/500\n",
            "800/800 [==============================] - 0s 40us/step - loss: 0.0015 - val_loss: 7.0888e-04\n",
            "Epoch 434/500\n",
            "800/800 [==============================] - 0s 32us/step - loss: 0.0014 - val_loss: 7.3138e-04\n",
            "Epoch 435/500\n",
            "800/800 [==============================] - 0s 49us/step - loss: 0.0013 - val_loss: 6.9096e-04\n",
            "Epoch 436/500\n",
            "800/800 [==============================] - 0s 39us/step - loss: 0.0012 - val_loss: 6.8536e-04\n",
            "Epoch 437/500\n",
            "800/800 [==============================] - 0s 34us/step - loss: 0.0017 - val_loss: 6.8803e-04\n",
            "Epoch 438/500\n",
            "800/800 [==============================] - 0s 37us/step - loss: 0.0013 - val_loss: 7.0472e-04\n",
            "Epoch 439/500\n",
            "800/800 [==============================] - 0s 51us/step - loss: 0.0014 - val_loss: 6.8394e-04\n",
            "Epoch 440/500\n",
            "800/800 [==============================] - 0s 33us/step - loss: 0.0013 - val_loss: 6.9484e-04\n",
            "Epoch 441/500\n",
            "800/800 [==============================] - 0s 33us/step - loss: 0.0013 - val_loss: 7.0332e-04\n",
            "Epoch 442/500\n",
            "800/800 [==============================] - 0s 42us/step - loss: 0.0011 - val_loss: 6.7711e-04\n",
            "Epoch 443/500\n",
            "800/800 [==============================] - 0s 49us/step - loss: 0.0013 - val_loss: 7.0822e-04\n",
            "Epoch 444/500\n",
            "800/800 [==============================] - 0s 49us/step - loss: 0.0012 - val_loss: 6.9502e-04\n",
            "Epoch 445/500\n",
            "800/800 [==============================] - 0s 40us/step - loss: 0.0014 - val_loss: 6.8997e-04\n",
            "Epoch 446/500\n",
            "800/800 [==============================] - 0s 38us/step - loss: 0.0013 - val_loss: 6.9971e-04\n",
            "Epoch 447/500\n",
            "800/800 [==============================] - 0s 33us/step - loss: 0.0014 - val_loss: 7.0306e-04\n",
            "Epoch 448/500\n",
            "800/800 [==============================] - 0s 35us/step - loss: 0.0012 - val_loss: 7.0584e-04\n",
            "Epoch 449/500\n",
            "800/800 [==============================] - 0s 41us/step - loss: 0.0015 - val_loss: 7.1415e-04\n",
            "Epoch 450/500\n",
            "800/800 [==============================] - 0s 43us/step - loss: 0.0013 - val_loss: 7.0142e-04\n",
            "Epoch 451/500\n",
            "800/800 [==============================] - 0s 40us/step - loss: 0.0013 - val_loss: 7.1341e-04\n",
            "Epoch 452/500\n",
            "800/800 [==============================] - 0s 35us/step - loss: 0.0014 - val_loss: 7.2628e-04\n",
            "Epoch 453/500\n",
            "800/800 [==============================] - 0s 34us/step - loss: 0.0013 - val_loss: 7.0510e-04\n",
            "Epoch 454/500\n",
            "800/800 [==============================] - 0s 33us/step - loss: 0.0016 - val_loss: 7.0724e-04\n",
            "Epoch 455/500\n",
            "800/800 [==============================] - 0s 43us/step - loss: 0.0014 - val_loss: 7.1159e-04\n",
            "Epoch 456/500\n",
            "800/800 [==============================] - 0s 36us/step - loss: 0.0012 - val_loss: 6.9946e-04\n",
            "Epoch 457/500\n",
            "800/800 [==============================] - 0s 39us/step - loss: 0.0014 - val_loss: 7.0591e-04\n",
            "Epoch 458/500\n",
            "800/800 [==============================] - 0s 47us/step - loss: 0.0013 - val_loss: 7.1529e-04\n",
            "Epoch 459/500\n",
            "800/800 [==============================] - 0s 47us/step - loss: 0.0013 - val_loss: 7.1714e-04\n",
            "Epoch 460/500\n",
            "800/800 [==============================] - 0s 39us/step - loss: 0.0012 - val_loss: 6.9519e-04\n",
            "Epoch 461/500\n",
            "800/800 [==============================] - 0s 38us/step - loss: 0.0014 - val_loss: 7.0985e-04\n",
            "Epoch 462/500\n",
            "800/800 [==============================] - 0s 44us/step - loss: 0.0014 - val_loss: 7.1210e-04\n",
            "Epoch 463/500\n",
            "800/800 [==============================] - 0s 40us/step - loss: 0.0014 - val_loss: 7.3098e-04\n",
            "Epoch 464/500\n",
            "800/800 [==============================] - 0s 39us/step - loss: 0.0012 - val_loss: 7.1429e-04\n",
            "Epoch 465/500\n",
            "800/800 [==============================] - 0s 43us/step - loss: 0.0014 - val_loss: 7.0707e-04\n",
            "Epoch 466/500\n",
            "800/800 [==============================] - 0s 38us/step - loss: 0.0011 - val_loss: 7.0980e-04\n",
            "Epoch 467/500\n",
            "800/800 [==============================] - 0s 34us/step - loss: 0.0012 - val_loss: 7.0333e-04\n",
            "Epoch 468/500\n",
            "800/800 [==============================] - 0s 39us/step - loss: 0.0014 - val_loss: 7.0800e-04\n",
            "Epoch 469/500\n",
            "800/800 [==============================] - 0s 34us/step - loss: 0.0014 - val_loss: 7.1910e-04\n",
            "Epoch 470/500\n",
            "800/800 [==============================] - 0s 36us/step - loss: 0.0015 - val_loss: 7.0530e-04\n",
            "Epoch 471/500\n",
            "800/800 [==============================] - 0s 36us/step - loss: 0.0012 - val_loss: 7.1036e-04\n",
            "Epoch 472/500\n",
            "800/800 [==============================] - 0s 47us/step - loss: 0.0014 - val_loss: 7.2510e-04\n",
            "Epoch 473/500\n",
            "800/800 [==============================] - 0s 46us/step - loss: 0.0013 - val_loss: 7.1902e-04\n",
            "Epoch 474/500\n",
            "800/800 [==============================] - 0s 36us/step - loss: 0.0013 - val_loss: 7.1067e-04\n",
            "Epoch 475/500\n",
            "800/800 [==============================] - 0s 35us/step - loss: 0.0013 - val_loss: 7.1732e-04\n",
            "Epoch 476/500\n",
            "800/800 [==============================] - 0s 45us/step - loss: 0.0012 - val_loss: 7.0404e-04\n",
            "Epoch 477/500\n",
            "800/800 [==============================] - 0s 37us/step - loss: 0.0014 - val_loss: 7.1943e-04\n",
            "Epoch 478/500\n",
            "800/800 [==============================] - 0s 38us/step - loss: 0.0013 - val_loss: 7.1134e-04\n",
            "Epoch 479/500\n",
            "800/800 [==============================] - 0s 34us/step - loss: 0.0015 - val_loss: 7.3827e-04\n",
            "Epoch 480/500\n",
            "800/800 [==============================] - 0s 51us/step - loss: 0.0011 - val_loss: 7.1834e-04\n",
            "Epoch 481/500\n",
            "800/800 [==============================] - 0s 42us/step - loss: 0.0013 - val_loss: 7.2543e-04\n",
            "Epoch 482/500\n",
            "800/800 [==============================] - 0s 39us/step - loss: 0.0014 - val_loss: 7.1435e-04\n",
            "Epoch 483/500\n",
            "800/800 [==============================] - 0s 37us/step - loss: 0.0016 - val_loss: 7.2312e-04\n",
            "Epoch 484/500\n",
            "800/800 [==============================] - 0s 36us/step - loss: 0.0014 - val_loss: 7.1603e-04\n",
            "Epoch 485/500\n",
            "800/800 [==============================] - 0s 42us/step - loss: 0.0013 - val_loss: 6.9815e-04\n",
            "Epoch 486/500\n",
            "800/800 [==============================] - 0s 39us/step - loss: 0.0013 - val_loss: 7.1920e-04\n",
            "Epoch 487/500\n",
            "800/800 [==============================] - 0s 40us/step - loss: 0.0012 - val_loss: 7.3239e-04\n",
            "Epoch 488/500\n",
            "800/800 [==============================] - 0s 36us/step - loss: 0.0013 - val_loss: 7.0154e-04\n",
            "Epoch 489/500\n",
            "800/800 [==============================] - 0s 53us/step - loss: 0.0011 - val_loss: 7.1626e-04\n",
            "Epoch 490/500\n",
            "800/800 [==============================] - 0s 41us/step - loss: 0.0011 - val_loss: 7.1836e-04\n",
            "Epoch 491/500\n",
            "800/800 [==============================] - 0s 45us/step - loss: 0.0012 - val_loss: 7.0867e-04\n",
            "Epoch 492/500\n",
            "800/800 [==============================] - 0s 46us/step - loss: 0.0013 - val_loss: 7.0430e-04\n",
            "Epoch 493/500\n",
            "800/800 [==============================] - 0s 35us/step - loss: 0.0015 - val_loss: 7.0822e-04\n",
            "Epoch 494/500\n",
            "800/800 [==============================] - 0s 42us/step - loss: 0.0012 - val_loss: 7.2322e-04\n",
            "Epoch 495/500\n",
            "800/800 [==============================] - 0s 39us/step - loss: 0.0014 - val_loss: 7.0372e-04\n",
            "Epoch 496/500\n",
            "800/800 [==============================] - 0s 36us/step - loss: 0.0012 - val_loss: 7.1988e-04\n",
            "Epoch 497/500\n",
            "800/800 [==============================] - 0s 36us/step - loss: 0.0015 - val_loss: 7.2296e-04\n",
            "Epoch 498/500\n",
            "800/800 [==============================] - 0s 42us/step - loss: 0.0014 - val_loss: 7.0945e-04\n",
            "Epoch 499/500\n",
            "800/800 [==============================] - 0s 47us/step - loss: 0.0012 - val_loss: 6.9634e-04\n",
            "Epoch 500/500\n",
            "800/800 [==============================] - 0s 66us/step - loss: 0.0014 - val_loss: 7.0025e-04\n"
          ],
          "name": "stdout"
        }
      ]
    },
    {
      "cell_type": "markdown",
      "metadata": {
        "id": "x9cPEut6Yq9t"
      },
      "source": [
        "#Avaliar erros de treino e validação"
      ]
    },
    {
      "cell_type": "code",
      "metadata": {
        "id": "IzXbD8_LY0Bz",
        "colab": {
          "base_uri": "https://localhost:8080/"
        },
        "outputId": "7cf18804-ca77-4e62-f6dd-067a9b71f7cf"
      },
      "source": [
        "print(trained_model.history.keys())"
      ],
      "execution_count": 10,
      "outputs": [
        {
          "output_type": "stream",
          "text": [
            "dict_keys(['val_loss', 'loss'])\n"
          ],
          "name": "stdout"
        }
      ]
    },
    {
      "cell_type": "code",
      "metadata": {
        "id": "T9cBcFIjYwAC",
        "colab": {
          "base_uri": "https://localhost:8080/",
          "height": 295
        },
        "outputId": "269f4ddb-6e6e-4dd7-b12b-af2e9befa822"
      },
      "source": [
        "import matplotlib.pyplot as plt\n",
        "plt.plot(trained_model.history['loss'])\n",
        "plt.plot(trained_model.history['val_loss'])\n",
        "plt.title('model loss')\n",
        "plt.ylabel('loss')\n",
        "plt.xlabel('epoch')\n",
        "plt.legend(['train', 'val'], loc='upper left')\n",
        "plt.show()"
      ],
      "execution_count": 11,
      "outputs": [
        {
          "output_type": "display_data",
          "data": {
            "image/png": "[encoded data removed]",
            "text/plain": [
              "<Figure size 432x288 with 1 Axes>"
            ]
          },
          "metadata": {
            "tags": [],
            "needs_background": "light"
          }
        }
      ]
    },
    {
      "cell_type": "markdown",
      "metadata": {
        "id": "S3j974JhY03z"
      },
      "source": [
        "#Fazer previsões e avaliar a rede treinada"
      ]
    },
    {
      "cell_type": "markdown",
      "metadata": {
        "id": "bQoYMJx1FsTO"
      },
      "source": [
        "###Exercício 1: Avalie a rede treinada com 500 dados amostrados com distribuição uniforme. Salve em uma variável chamada 'y_test' os dados gerados."
      ]
    },
    {
      "cell_type": "code",
      "metadata": {
        "id": "nrHKPzAnZhOT"
      },
      "source": [
        "#criar base de teste\n",
        "samples = 500\n",
        "\n",
        "X_test = []\n",
        "for sample in range(samples):\n",
        "  input = []\n",
        "  for i in range(n):\n",
        "    input.append(random.random())\n",
        "  X_test.append(input)\n",
        "\n",
        "#converte para numpy array\n",
        "X_test = np.array(X_test)\n",
        "\n",
        "#Saída para cada input\n",
        "y_test = []\n",
        "for i in X_test:\n",
        "  y_test.append(Griewank(i))"
      ],
      "execution_count": 12,
      "outputs": []
    },
    {
      "cell_type": "markdown",
      "metadata": {
        "id": "zLmzVvXOGJVU"
      },
      "source": [
        "###Exercício 2: Utilize a rede neural para prever o resultado da função para as entradas geradas acima. Chame a variável com os resultados de 'y_pred'."
      ]
    },
    {
      "cell_type": "code",
      "metadata": {
        "id": "1hXg1GhcY3kj"
      },
      "source": [
        "# Previsão da base de teste\n",
        "y_pred = classifier.predict(X_test)"
      ],
      "execution_count": 13,
      "outputs": []
    },
    {
      "cell_type": "code",
      "metadata": {
        "id": "DSWBluWrY63E",
        "colab": {
          "base_uri": "https://localhost:8080/",
          "height": 295
        },
        "outputId": "07d753ca-03df-4390-b2d5-ad46265137db"
      },
      "source": [
        "#Real vs. Previsto\n",
        "plt.plot(y_pred)\n",
        "plt.plot(y_test)\n",
        "plt.title('Aproximação Grienwank')\n",
        "plt.ylabel('y')\n",
        "plt.xlabel('index')\n",
        "plt.legend(['previsto', 'real'], loc='upper left')\n",
        "plt.show()"
      ],
      "execution_count": 14,
      "outputs": [
        {
          "output_type": "display_data",
          "data": {
            "image/png": "[encoded data removed]",
            "text/plain": [
              "<Figure size 432x288 with 1 Axes>"
            ]
          },
          "metadata": {
            "tags": [],
            "needs_background": "light"
          }
        }
      ]
    },
    {
      "cell_type": "markdown",
      "metadata": {
        "id": "gx6zHA2LGeDM"
      },
      "source": [
        "###Exercício 3: Faça um plot como o acima, mas utilizando somente 50 amostras da base de teste."
      ]
    },
    {
      "cell_type": "code",
      "metadata": {
        "id": "rsO6FxM4fkSh",
        "colab": {
          "base_uri": "https://localhost:8080/",
          "height": 295
        },
        "outputId": "90fd3719-e647-4bf9-dd81-07a68a5a5279"
      },
      "source": [
        "#Real vs. Previsto: parcial\n",
        "small_y_test = y_test[0:50]\n",
        "small_y_pred = y_pred[0:50]\n",
        "\n",
        "plt.plot(small_y_pred)\n",
        "plt.plot(small_y_test)\n",
        "plt.title('Aproximação Grienwank')\n",
        "plt.ylabel('Grienwank output')\n",
        "plt.xlabel('index')\n",
        "plt.legend(['previsto', 'real'], loc='upper left')\n",
        "plt.show()"
      ],
      "execution_count": 15,
      "outputs": [
        {
          "output_type": "display_data",
          "data": {
            "image/png": "[encoded data removed]",
            "text/plain": [
              "<Figure size 432x288 with 1 Axes>"
            ]
          },
          "metadata": {
            "tags": [],
            "needs_background": "light"
          }
        }
      ]
    },
    {
      "cell_type": "code",
      "metadata": {
        "id": "5GftT48nuuZb",
        "colab": {
          "base_uri": "https://localhost:8080/"
        },
        "outputId": "930f52e7-6c90-4aa3-9331-6fc404453b3d"
      },
      "source": [
        "# calcular o erro para a base de teste\n",
        "from sklearn.metrics import mean_squared_error \n",
        "mean_squared_error(y_pred,y_test) "
      ],
      "execution_count": 16,
      "outputs": [
        {
          "output_type": "execute_result",
          "data": {
            "text/plain": [
              "0.0006345191876792302"
            ]
          },
          "metadata": {
            "tags": []
          },
          "execution_count": 16
        }
      ]
    },
    {
      "cell_type": "markdown",
      "metadata": {
        "id": "H3Hts8f1t6r0"
      },
      "source": [
        "## Análise de dados das distribuições"
      ]
    },
    {
      "cell_type": "code",
      "metadata": {
        "id": "wkVnTn-ruZxf",
        "colab": {
          "base_uri": "https://localhost:8080/"
        },
        "outputId": "084b775e-6121-4696-d79b-7e5f3e20d889"
      },
      "source": [
        "import random\n",
        "n = 2\n",
        "samples = 100\n",
        "\n",
        "random_samples_analisis = []\n",
        "for sample in range(samples):\n",
        "  input = []\n",
        "  for i in range(n):\n",
        "    input.append(random.uniform(-512,512))\n",
        "  random_samples_analisis.append(input)\n",
        "\n",
        "#converte para numpy array\n",
        "import numpy as np\n",
        "random_samples_analisis = np.array(random_samples_analisis)\n",
        "\n",
        "random_samples_analisis[0:5] # 5 primeiras amostras"
      ],
      "execution_count": 17,
      "outputs": [
        {
          "output_type": "execute_result",
          "data": {
            "text/plain": [
              "array([[ 270.30566945,  509.21683343],\n",
              "       [  90.29938952,  -35.18551376],\n",
              "       [-471.0759881 ,  195.21721763],\n",
              "       [-100.06568565,  -99.22361453],\n",
              "       [  71.27705758,  269.81175973]])"
            ]
          },
          "metadata": {
            "tags": []
          },
          "execution_count": 17
        }
      ]
    },
    {
      "cell_type": "code",
      "metadata": {
        "id": "-YFATda5uw2O"
      },
      "source": [
        "#Saída para cada input\n",
        "y_analisis = []\n",
        "for i in random_samples_analisis:\n",
        "  y_analisis.append(Griewank(i))"
      ],
      "execution_count": 18,
      "outputs": []
    },
    {
      "cell_type": "code",
      "metadata": {
        "id": "EgKdjSLwfbbf"
      },
      "source": [
        "vx1 = random_samples_analisis[:,0]\n",
        "vx2 = random_samples_analisis[:,1]"
      ],
      "execution_count": 19,
      "outputs": []
    },
    {
      "cell_type": "code",
      "metadata": {
        "id": "_tk_QzxMoYJX",
        "colab": {
          "base_uri": "https://localhost:8080/",
          "height": 282
        },
        "outputId": "69a22f38-f702-4e0c-e6a7-988d954fc79e"
      },
      "source": [
        "import matplotlib.pyplot as plt\n",
        "plt.scatter(x=vx1,y=vx2, marker='o', c='r')"
      ],
      "execution_count": 20,
      "outputs": [
        {
          "output_type": "execute_result",
          "data": {
            "text/plain": [
              "<matplotlib.collections.PathCollection at 0x7f1fd8fa6080>"
            ]
          },
          "metadata": {
            "tags": []
          },
          "execution_count": 20
        },
        {
          "output_type": "display_data",
          "data": {
            "image/png": "[encoded data removed]",
            "text/plain": [
              "<Figure size 432x288 with 1 Axes>"
            ]
          },
          "metadata": {
            "tags": [],
            "needs_background": "light"
          }
        }
      ]
    },
    {
      "cell_type": "code",
      "metadata": {
        "id": "100x-llsfOAw",
        "colab": {
          "base_uri": "https://localhost:8080/",
          "height": 265
        },
        "outputId": "1bfcdfbe-9b82-4a7f-c25c-8446abc7a0b5"
      },
      "source": [
        "fig, (plt1, plt2) = plt.subplots(nrows=1, ncols=2, figsize=(8,4))\n",
        "num_bins = 25\n",
        "n1, bins1, patches1 = plt1.hist(vx1, num_bins, facecolor='blue', alpha=0.5)\n",
        "n2, bins2, patches2 =plt2.hist(vx2, num_bins, facecolor='black', alpha=0.5)"
      ],
      "execution_count": 21,
      "outputs": [
        {
          "output_type": "display_data",
          "data": {
            "image/png": "[encoded data removed]",
            "text/plain": [
              "<Figure size 576x288 with 2 Axes>"
            ]
          },
          "metadata": {
            "tags": [],
            "needs_background": "light"
          }
        }
      ]
    },
    {
      "cell_type": "code",
      "metadata": {
        "id": "h12vQQsInzrC",
        "colab": {
          "base_uri": "https://localhost:8080/",
          "height": 265
        },
        "outputId": "39bfafb1-9968-402d-e3e9-f3f71ac3be01"
      },
      "source": [
        "n3, bins3, patches3 = plt.hist(y_analisis, num_bins, facecolor='red', alpha=0.5)"
      ],
      "execution_count": 22,
      "outputs": [
        {
          "output_type": "display_data",
          "data": {
            "image/png": "[encoded data removed]",
            "text/plain": [
              "<Figure size 432x288 with 1 Axes>"
            ]
          },
          "metadata": {
            "tags": [],
            "needs_background": "light"
          }
        }
      ]
    },
    {
      "cell_type": "markdown",
      "metadata": {
        "id": "e3Oumpo8vNWn"
      },
      "source": [
        "### Função geradora de numero aleatório"
      ]
    },
    {
      "cell_type": "markdown",
      "metadata": {
        "id": "xfQRREDhGfSd"
      },
      "source": [
        "- (Sequencia de Van der Corput)[https://en.wikipedia.org/wiki/Van_der_Corput_sequence ]. Veja o código e faça o mesmo procedimento:\n",
        "  - Crie um vetor com esses numeros quasi-aleatórios\n",
        "  - Crie outro vetor com a saida pela função\n",
        "  - Faça uma avaliação das distribuições de entrada e de saída.\n",
        "  \n",
        "Procure no Google outras funções de geração de números quasi aleatórios e compare!"
      ]
    },
    {
      "cell_type": "code",
      "metadata": {
        "id": "aUNdCapzvMrc"
      },
      "source": [
        "import math\n",
        "def corput(n, base):\n",
        "  q = 0\n",
        "  bk = 1/base\n",
        "  negative = 0\n",
        "  if n<0:\n",
        "    n = -n\n",
        "    negative = 1\n",
        "\n",
        "  while(n>0):\n",
        "    q = q + ((n%base) * bk)\n",
        "    n = math.floor(n/base)\n",
        "    bk = bk/base\n",
        "  if negative:\n",
        "    return -q\n",
        "  return q"
      ],
      "execution_count": 23,
      "outputs": []
    },
    {
      "cell_type": "code",
      "metadata": {
        "id": "Fwd0TSKjb0zF",
        "colab": {
          "base_uri": "https://localhost:8080/"
        },
        "outputId": "aacb8a77-26cc-4d98-8331-5f899540a52d"
      },
      "source": [
        "corput(0.1,2)"
      ],
      "execution_count": 24,
      "outputs": [
        {
          "output_type": "execute_result",
          "data": {
            "text/plain": [
              "0.05"
            ]
          },
          "metadata": {
            "tags": []
          },
          "execution_count": 24
        }
      ]
    },
    {
      "cell_type": "code",
      "metadata": {
        "id": "UIZOq2G2vTIH"
      },
      "source": [
        "def vdc_seq(i, l, u):\n",
        "    v = 0\n",
        "    p = 1\n",
        "    d = u - l\n",
        "    while i:\n",
        "        v <<= 1\n",
        "        if i & 1:\n",
        "            v += d\n",
        "        i >>= 1\n",
        "        p <<= 1\n",
        "    return l + v / p"
      ],
      "execution_count": 25,
      "outputs": []
    },
    {
      "cell_type": "code",
      "metadata": {
        "id": "JZyYDvTmwvQx"
      },
      "source": [
        "import random\n",
        "from functools import partial"
      ],
      "execution_count": 26,
      "outputs": []
    },
    {
      "cell_type": "code",
      "metadata": {
        "id": "k6LZicliJPhq",
        "outputId": "d6856ec8-6b7c-4372-ce25-0bb0925c0025",
        "colab": {
          "base_uri": "https://localhost:8080/"
        }
      },
      "source": [
        "samples = 100\n",
        "list(map(partial(vdc_seq, l=-512, u=512), range(samples)))"
      ],
      "execution_count": 27,
      "outputs": [
        {
          "output_type": "execute_result",
          "data": {
            "text/plain": [
              "[-512.0,\n",
              " 0.0,\n",
              " -256.0,\n",
              " 256.0,\n",
              " -384.0,\n",
              " 128.0,\n",
              " -128.0,\n",
              " 384.0,\n",
              " -448.0,\n",
              " 64.0,\n",
              " -192.0,\n",
              " 320.0,\n",
              " -320.0,\n",
              " 192.0,\n",
              " -64.0,\n",
              " 448.0,\n",
              " -480.0,\n",
              " 32.0,\n",
              " -224.0,\n",
              " 288.0,\n",
              " -352.0,\n",
              " 160.0,\n",
              " -96.0,\n",
              " 416.0,\n",
              " -416.0,\n",
              " 96.0,\n",
              " -160.0,\n",
              " 352.0,\n",
              " -288.0,\n",
              " 224.0,\n",
              " -32.0,\n",
              " 480.0,\n",
              " -496.0,\n",
              " 16.0,\n",
              " -240.0,\n",
              " 272.0,\n",
              " -368.0,\n",
              " 144.0,\n",
              " -112.0,\n",
              " 400.0,\n",
              " -432.0,\n",
              " 80.0,\n",
              " -176.0,\n",
              " 336.0,\n",
              " -304.0,\n",
              " 208.0,\n",
              " -48.0,\n",
              " 464.0,\n",
              " -464.0,\n",
              " 48.0,\n",
              " -208.0,\n",
              " 304.0,\n",
              " -336.0,\n",
              " 176.0,\n",
              " -80.0,\n",
              " 432.0,\n",
              " -400.0,\n",
              " 112.0,\n",
              " -144.0,\n",
              " 368.0,\n",
              " -272.0,\n",
              " 240.0,\n",
              " -16.0,\n",
              " 496.0,\n",
              " -504.0,\n",
              " 8.0,\n",
              " -248.0,\n",
              " 264.0,\n",
              " -376.0,\n",
              " 136.0,\n",
              " -120.0,\n",
              " 392.0,\n",
              " -440.0,\n",
              " 72.0,\n",
              " -184.0,\n",
              " 328.0,\n",
              " -312.0,\n",
              " 200.0,\n",
              " -56.0,\n",
              " 456.0,\n",
              " -472.0,\n",
              " 40.0,\n",
              " -216.0,\n",
              " 296.0,\n",
              " -344.0,\n",
              " 168.0,\n",
              " -88.0,\n",
              " 424.0,\n",
              " -408.0,\n",
              " 104.0,\n",
              " -152.0,\n",
              " 360.0,\n",
              " -280.0,\n",
              " 232.0,\n",
              " -24.0,\n",
              " 488.0,\n",
              " -488.0,\n",
              " 24.0,\n",
              " -232.0,\n",
              " 280.0]"
            ]
          },
          "metadata": {
            "tags": []
          },
          "execution_count": 27
        }
      ]
    },
    {
      "cell_type": "code",
      "metadata": {
        "id": "X1g3H5lnvChx",
        "colab": {
          "base_uri": "https://localhost:8080/"
        },
        "outputId": "f0fb53fe-659f-4b6b-c802-b3f11e3ca90d"
      },
      "source": [
        "import random\n",
        "from functools import partial\n",
        "n = 2\n",
        "samples = 100\n",
        "\n",
        "x_qtd = int(math.sqrt(samples))\n",
        "y_qtd = x_qtd\n",
        "\n",
        "van_der_corput_sequence = list(map(partial(vdc_seq, l=-512, u=512), range(samples)))\n",
        "\n",
        "random_corput_samples_analisis = []\n",
        "for x in range(0, samples-x_qtd+1, x_qtd):\n",
        "  for y in range(y_qtd):\n",
        "    input = []\n",
        "    input.append(van_der_corput_sequence[x])\n",
        "    input.append(van_der_corput_sequence[y])\n",
        "    random_corput_samples_analisis.append(input)\n",
        "\n",
        "\n",
        "#converte para numpy array\n",
        "import numpy as np\n",
        "random_corput_samples_analisis = np.array(random_corput_samples_analisis)\n",
        "\n",
        "random_corput_samples_analisis[:5] # 5 primeiras amostras"
      ],
      "execution_count": 28,
      "outputs": [
        {
          "output_type": "execute_result",
          "data": {
            "text/plain": [
              "array([[-512., -512.],\n",
              "       [-512.,    0.],\n",
              "       [-512., -256.],\n",
              "       [-512.,  256.],\n",
              "       [-512., -384.]])"
            ]
          },
          "metadata": {
            "tags": []
          },
          "execution_count": 28
        }
      ]
    },
    {
      "cell_type": "code",
      "metadata": {
        "id": "0Rj_Y0yveEPX"
      },
      "source": [
        "#Saída para cada input\n",
        "y_corput_analisis = []\n",
        "for i in random_corput_samples_analisis:\n",
        "  y_corput_analisis.append(Griewank(i))"
      ],
      "execution_count": 29,
      "outputs": []
    },
    {
      "cell_type": "code",
      "metadata": {
        "id": "HMmuMMqneOXY",
        "colab": {
          "base_uri": "https://localhost:8080/",
          "height": 282
        },
        "outputId": "4c91ebae-9077-44ca-d6a2-4aaec14e8805"
      },
      "source": [
        "vx1_corput = random_corput_samples_analisis[:,0]\n",
        "vx2_corput = random_corput_samples_analisis[:,1]\n",
        "\n",
        "import matplotlib.pyplot as plt\n",
        "plt.scatter(x=vx1_corput,y=vx2_corput, marker='o', c='r')"
      ],
      "execution_count": 30,
      "outputs": [
        {
          "output_type": "execute_result",
          "data": {
            "text/plain": [
              "<matplotlib.collections.PathCollection at 0x7f1fd8d8ceb8>"
            ]
          },
          "metadata": {
            "tags": []
          },
          "execution_count": 30
        },
        {
          "output_type": "display_data",
          "data": {
            "image/png": "[encoded data removed]",
            "text/plain": [
              "<Figure size 432x288 with 1 Axes>"
            ]
          },
          "metadata": {
            "tags": [],
            "needs_background": "light"
          }
        }
      ]
    },
    {
      "cell_type": "code",
      "metadata": {
        "id": "lxvXxqv6ehcA",
        "colab": {
          "base_uri": "https://localhost:8080/",
          "height": 265
        },
        "outputId": "3a80e779-a157-49ac-b0ec-3c32380ee8ce"
      },
      "source": [
        "fig, (plt1, plt2) = plt.subplots(nrows=1, ncols=2, figsize=(8,4))\n",
        "num_bins = 25\n",
        "n1, bins1, patches1 = plt1.hist(vx1_corput, num_bins, facecolor='blue', alpha=0.5)\n",
        "n2, bins2, patches2 =plt2.hist(vx2_corput, num_bins, facecolor='black', alpha=0.5)"
      ],
      "execution_count": 31,
      "outputs": [
        {
          "output_type": "display_data",
          "data": {
            "image/png": "[encoded data removed]",
            "text/plain": [
              "<Figure size 576x288 with 2 Axes>"
            ]
          },
          "metadata": {
            "tags": [],
            "needs_background": "light"
          }
        }
      ]
    },
    {
      "cell_type": "code",
      "metadata": {
        "id": "v-4Oeq5Re74o",
        "colab": {
          "base_uri": "https://localhost:8080/",
          "height": 265
        },
        "outputId": "4d178aaa-f222-498c-ead5-7e109e150e52"
      },
      "source": [
        "n3, bins3, patches3 = plt.hist(y_corput_analisis, num_bins, facecolor='red', alpha=0.5)"
      ],
      "execution_count": 32,
      "outputs": [
        {
          "output_type": "display_data",
          "data": {
            "image/png": "[encoded data removed]",
            "text/plain": [
              "<Figure size 432x288 with 1 Axes>"
            ]
          },
          "metadata": {
            "tags": [],
            "needs_background": "light"
          }
        }
      ]
    },
    {
      "cell_type": "markdown",
      "metadata": {
        "id": "h-p6Nf0XnOUd"
      },
      "source": [
        "Utilizando outro método com conexões externas"
      ]
    },
    {
      "cell_type": "code",
      "metadata": {
        "id": "J4jHPoq4po_z",
        "colab": {
          "base_uri": "https://localhost:8080/"
        },
        "outputId": "25ff4245-f081-4966-d27a-9214cc0e7d20"
      },
      "source": [
        "!pip install quantumrandom"
      ],
      "execution_count": 33,
      "outputs": [
        {
          "output_type": "stream",
          "text": [
            "Collecting quantumrandom\n",
            "  Downloading https://files.pythonhosted.org/packages/86/7b/9184990c06acee61e6a3e4b1be207bc588814df1fad526aeba764a31acfa/quantumrandom-1.9.0.tar.gz\n",
            "Building wheels for collected packages: quantumrandom\n",
            "  Building wheel for quantumrandom (setup.py) ... \u001b[?25l\u001b[?25hdone\n",
            "  Created wheel for quantumrandom: filename=quantumrandom-1.9.0-cp36-none-any.whl size=9135 sha256=b364c98595fba531846aa6f741c023a74426bcb82ecdf3559de46fca5d33b791\n",
            "  Stored in directory: /root/.cache/pip/wheels/8b/de/bc/12078c164eb001e81d04661804325d0e153fa2881953fd8610\n",
            "Successfully built quantumrandom\n",
            "Installing collected packages: quantumrandom\n",
            "Successfully installed quantumrandom-1.9.0\n"
          ],
          "name": "stdout"
        }
      ]
    },
    {
      "cell_type": "code",
      "metadata": {
        "id": "DRdwhYyjpzUq"
      },
      "source": [
        "import quantumrandom"
      ],
      "execution_count": 34,
      "outputs": []
    },
    {
      "cell_type": "code",
      "metadata": {
        "id": "oAy7xp9InoOZ",
        "colab": {
          "base_uri": "https://localhost:8080/"
        },
        "outputId": "685041b5-2164-4953-f721-bcbd771308e0"
      },
      "source": [
        "import random\n",
        "n = 2\n",
        "samples = 100\n",
        "\n",
        "random_pseudo_samples_analisis = []\n",
        "for sample in range(samples):\n",
        "  input = []\n",
        "  for i in range(n):\n",
        "    input.append(quantumrandom.randint(-512, 512))\n",
        "  random_pseudo_samples_analisis.append(input)\n",
        "\n",
        "#converte para numpy array\n",
        "import numpy as np\n",
        "random_pseudo_samples_analisis = np.array(random_pseudo_samples_analisis)\n",
        "\n",
        "random_pseudo_samples_analisis[0:5] # 5 primeiras amostras"
      ],
      "execution_count": 35,
      "outputs": [
        {
          "output_type": "execute_result",
          "data": {
            "text/plain": [
              "array([[-489.4684062 ,   90.16543832],\n",
              "       [ 116.16583505, -273.51198596],\n",
              "       [-507.95306325,  348.66938277],\n",
              "       [ 509.4374609 , -382.77927825],\n",
              "       [-247.05845731,  221.54244297]])"
            ]
          },
          "metadata": {
            "tags": []
          },
          "execution_count": 35
        }
      ]
    },
    {
      "cell_type": "code",
      "metadata": {
        "id": "uQ0yA9_HocwI"
      },
      "source": [
        "#Saída para cada input\n",
        "y_pseudo_analisis = []\n",
        "for i in random_pseudo_samples_analisis:\n",
        "  y_pseudo_analisis.append(Griewank(i))"
      ],
      "execution_count": 36,
      "outputs": []
    },
    {
      "cell_type": "code",
      "metadata": {
        "id": "r81fE-v7XDqu",
        "colab": {
          "base_uri": "https://localhost:8080/",
          "height": 282
        },
        "outputId": "be841c41-5707-4ff4-861c-565421281e56"
      },
      "source": [
        "vx1_pseudo = random_pseudo_samples_analisis[:,0]\n",
        "vx2_pseudo = random_pseudo_samples_analisis[:,1]\n",
        "\n",
        "import matplotlib.pyplot as plt\n",
        "plt.scatter(x=vx1_pseudo,y=vx2_pseudo, marker='o', c='r')"
      ],
      "execution_count": 37,
      "outputs": [
        {
          "output_type": "execute_result",
          "data": {
            "text/plain": [
              "<matplotlib.collections.PathCollection at 0x7f1fd81c79e8>"
            ]
          },
          "metadata": {
            "tags": []
          },
          "execution_count": 37
        },
        {
          "output_type": "display_data",
          "data": {
            "image/png": "[encoded data removed]",
            "text/plain": [
              "<Figure size 432x288 with 1 Axes>"
            ]
          },
          "metadata": {
            "tags": [],
            "needs_background": "light"
          }
        }
      ]
    },
    {
      "cell_type": "code",
      "metadata": {
        "id": "DmUxwmHFXTKr",
        "colab": {
          "base_uri": "https://localhost:8080/",
          "height": 265
        },
        "outputId": "4d54a86d-e369-4578-b179-85b788e1c424"
      },
      "source": [
        "fig, (plt1, plt2) = plt.subplots(nrows=1, ncols=2, figsize=(8,4))\n",
        "num_bins = 10\n",
        "n1, bins1, patches1 = plt1.hist(vx1_pseudo, num_bins, facecolor='blue', alpha=0.5)\n",
        "n2, bins2, patches2 =plt2.hist(vx2_pseudo, num_bins, facecolor='black', alpha=0.5)"
      ],
      "execution_count": 38,
      "outputs": [
        {
          "output_type": "display_data",
          "data": {
            "image/png": "[encoded data removed]",
            "text/plain": [
              "<Figure size 576x288 with 2 Axes>"
            ]
          },
          "metadata": {
            "tags": [],
            "needs_background": "light"
          }
        }
      ]
    },
    {
      "cell_type": "code",
      "metadata": {
        "id": "pcGgPjFEXYqj",
        "colab": {
          "base_uri": "https://localhost:8080/",
          "height": 265
        },
        "outputId": "4609788b-36a4-4417-c7fd-7ec1d9d3e711"
      },
      "source": [
        "n3, bins3, patches3 = plt.hist(y_pseudo_analisis, num_bins, facecolor='red', alpha=0.5)"
      ],
      "execution_count": 39,
      "outputs": [
        {
          "output_type": "display_data",
          "data": {
            "image/png": "[encoded data removed]",
            "text/plain": [
              "<Figure size 432x288 with 1 Axes>"
            ]
          },
          "metadata": {
            "tags": [],
            "needs_background": "light"
          }
        }
      ]
    },
    {
      "cell_type": "code",
      "metadata": {
        "id": "n8wvffg1R1sr"
      },
      "source": [
        ""
      ],
      "execution_count": null,
      "outputs": []
    }
  ]
}