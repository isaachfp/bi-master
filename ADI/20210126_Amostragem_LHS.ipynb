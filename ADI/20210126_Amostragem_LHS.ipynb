{
  "nbformat": 4,
  "nbformat_minor": 0,
  "metadata": {
    "colab": {
      "name": "Amostragem_LHS.ipynb",
      "provenance": [],
      "collapsed_sections": [],
      "include_colab_link": true
    },
    "kernelspec": {
      "name": "python3",
      "display_name": "Python 3"
    }
  },
  "cells": [
    {
      "cell_type": "markdown",
      "metadata": {
        "id": "view-in-github",
        "colab_type": "text"
      },
      "source": [
        "<a href=\"https://colab.research.google.com/github/isaachfp/bi-master/blob/master/ADI/20210126_Amostragem_LHS.ipynb\" target=\"_parent\"><img src=\"https://colab.research.google.com/assets/colab-badge.svg\" alt=\"Open In Colab\"/></a>"
      ]
    },
    {
      "cell_type": "markdown",
      "metadata": {
        "id": "NtkZ_VtoDeE4"
      },
      "source": [
        "#Função a ser aproximada: Griewank"
      ]
    },
    {
      "cell_type": "markdown",
      "metadata": {
        "id": "o-atyj3hEk8n"
      },
      "source": [
        "## **Plot 2D da função Griewank**\n",
        "\n",
        "![alt text](http://2.bp.blogspot.com/_otsWqKrA2RI/TJHH5DguZjI/AAAAAAAAACo/01VNZLSvrlo/s400/fn_griewank.bmp)\n",
        "\n",
        "### **Definição e ótimo global:**\n",
        "\n",
        "![alt text](https://www.cs.unm.edu/~neal.holts/dga/benchmarkFunction/images/griewankLatex.png)"
      ]
    },
    {
      "cell_type": "markdown",
      "metadata": {
        "id": "jQLLB6xeG1GA"
      },
      "source": [
        "#Declarar a função"
      ]
    },
    {
      "cell_type": "code",
      "metadata": {
        "id": "hOszlptPDoZL"
      },
      "source": [
        "import math\n",
        "def Griewank(input):\n",
        "    sum = 0\n",
        "    for x in input:\n",
        "        sum += x * x\n",
        "    product = 1\n",
        "    for i in range(len(input)):\n",
        "        product *= math.cos(input[i] / math.sqrt(i + 1))\n",
        "    return 1 + sum / 4000 - product"
      ],
      "execution_count": 1,
      "outputs": []
    },
    {
      "cell_type": "code",
      "metadata": {
        "id": "HcBpb969EoUg",
        "outputId": "1e509698-1819-4b32-ded8-a79cd4b2200a",
        "colab": {
          "base_uri": "https://localhost:8080/"
        }
      },
      "source": [
        "#Teste de chamada para duas variáveis\n",
        "Griewank([0,0])"
      ],
      "execution_count": 2,
      "outputs": [
        {
          "output_type": "execute_result",
          "data": {
            "text/plain": [
              "0.0"
            ]
          },
          "metadata": {
            "tags": []
          },
          "execution_count": 2
        }
      ]
    },
    {
      "cell_type": "markdown",
      "metadata": {
        "id": "KmagYHmtEokY"
      },
      "source": [
        "#Amostragem da função a ser aproximada"
      ]
    },
    {
      "cell_type": "markdown",
      "metadata": {
        "id": "kSLB28igIeeU"
      },
      "source": [
        "###Exercício 1: Instalar o pacote pyDOE e importar todas as funções do pacote."
      ]
    },
    {
      "cell_type": "code",
      "metadata": {
        "id": "fFtpLtIYEsxL",
        "outputId": "629cd4a4-ea77-4292-d95b-306c693e7e0e",
        "colab": {
          "base_uri": "https://localhost:8080/"
        }
      },
      "source": [
        "!pip install pyDOE\n",
        "from pyDOE import lhs"
      ],
      "execution_count": 3,
      "outputs": [
        {
          "output_type": "stream",
          "text": [
            "Collecting pyDOE\n",
            "  Downloading https://files.pythonhosted.org/packages/bc/ac/91fe4c039e2744466621343d3b8af4a485193ed0aab53af5b1db03be0989/pyDOE-0.3.8.zip\n",
            "Requirement already satisfied: numpy in /usr/local/lib/python3.6/dist-packages (from pyDOE) (1.19.5)\n",
            "Requirement already satisfied: scipy in /usr/local/lib/python3.6/dist-packages (from pyDOE) (1.4.1)\n",
            "Building wheels for collected packages: pyDOE\n",
            "  Building wheel for pyDOE (setup.py) ... \u001b[?25l\u001b[?25hdone\n",
            "  Created wheel for pyDOE: filename=pyDOE-0.3.8-cp36-none-any.whl size=18178 sha256=d3f18b5459b9151b0abc66965211820e473866bbd17b69b2c5ad9538575a7abd\n",
            "  Stored in directory: /root/.cache/pip/wheels/7c/c8/58/a6493bd415e8ba5735082b5e0c096d7c1f2933077a8ce34544\n",
            "Successfully built pyDOE\n",
            "Installing collected packages: pyDOE\n",
            "Successfully installed pyDOE-0.3.8\n"
          ],
          "name": "stdout"
        }
      ]
    },
    {
      "cell_type": "markdown",
      "metadata": {
        "id": "ySgmMym0IryD"
      },
      "source": [
        "###Exercício 2: Criar mil amostras utilizando LHS. Critério: 'center'. Número de fatores: 2. Chame a variável com as amostras de 'lhs_samples'.\r\n",
        "OBS: As amostras devem estar no intervalo [-512, 512]. Utilize o MinMaxScaler do sklearn.preprocessing."
      ]
    },
    {
      "cell_type": "code",
      "metadata": {
        "id": "huwj7KHxEtjY",
        "outputId": "7810431b-bd2c-4118-d5ed-e65149073b5a",
        "colab": {
          "base_uri": "https://localhost:8080/"
        }
      },
      "source": [
        "import random\n",
        "# Seed para reprodução de resultados\n",
        "seed = 10\n",
        "random.seed(seed)\n",
        "import tensorflow as tf\n",
        "import numpy as np\n",
        "tf.random.set_seed(seed)\n",
        "np.random.seed(seed)\n",
        "\n",
        "n = 2\n",
        "samples = 10_000 # agora eh possivel sepalhar a milhar com _\n",
        "lower_bound = -512\n",
        "upper_bound = 512\n",
        "\n",
        "lhs_samples = lhs(n, samples, 'center')\n",
        "lhs_samples[0:5]"
      ],
      "execution_count": 5,
      "outputs": [
        {
          "output_type": "execute_result",
          "data": {
            "text/plain": [
              "array([[0.18475, 0.99785],\n",
              "       [0.24865, 0.62995],\n",
              "       [0.78105, 0.29515],\n",
              "       [0.36665, 0.06895],\n",
              "       [0.78885, 0.03765]])"
            ]
          },
          "metadata": {
            "tags": []
          },
          "execution_count": 5
        }
      ]
    },
    {
      "cell_type": "code",
      "metadata": {
        "id": "IxdBIgSvsROT",
        "outputId": "da2eb21c-a2ba-44f6-99e1-1eb7ebc3816d",
        "colab": {
          "base_uri": "https://localhost:8080/"
        }
      },
      "source": [
        "from sklearn.preprocessing import MinMaxScaler\n",
        "scaler = MinMaxScaler(feature_range=(lower_bound, upper_bound))\n",
        "lhs_samples = scaler.fit_transform(lhs_samples)\n",
        "lhs_samples[0:5]"
      ],
      "execution_count": 6,
      "outputs": [
        {
          "output_type": "execute_result",
          "data": {
            "text/plain": [
              "array([[-322.84828483,  509.84938494],\n",
              "       [-257.40814081,  133.08210821],\n",
              "       [ 287.8239824 , -209.78737874],\n",
              "       [-136.56405641, -441.43934393],\n",
              "       [ 295.8119812 , -473.49374937]])"
            ]
          },
          "metadata": {
            "tags": []
          },
          "execution_count": 6
        }
      ]
    },
    {
      "cell_type": "code",
      "metadata": {
        "id": "_OU_s-h6cACo"
      },
      "source": [
        "#Saída para cada input\n",
        "y = []\n",
        "for i in lhs_samples:\n",
        "  y.append(Griewank(i))"
      ],
      "execution_count": 7,
      "outputs": []
    },
    {
      "cell_type": "markdown",
      "metadata": {
        "id": "ngQFZco5ZdAj"
      },
      "source": [
        "#Separar base em treino e validação"
      ]
    },
    {
      "cell_type": "code",
      "metadata": {
        "id": "ysI59z1tZfsS"
      },
      "source": [
        "from sklearn.model_selection import train_test_split\n",
        "X_train, X_val, y_train, y_val = train_test_split(lhs_samples, y, test_size = 0.2, shuffle=True, random_state=seed)\n",
        "\n",
        "X_train = np.asarray(X_train)\n",
        "X_val = np.asarray(X_val)\n",
        "y_train = np.asarray(y_train)\n",
        "y_val = np.asarray(y_val)"
      ],
      "execution_count": null,
      "outputs": []
    },
    {
      "cell_type": "markdown",
      "metadata": {
        "id": "cjd_WDWdEtzQ"
      },
      "source": [
        "#Treinamento da Rede Neural para aproximar a função"
      ]
    },
    {
      "cell_type": "code",
      "metadata": {
        "id": "djjejd39Ew3P"
      },
      "source": [
        "# Importando as bibliotecas do Keras\n",
        "import keras\n",
        "from keras.models import Sequential\n",
        "from keras.layers import Dense\n",
        "from keras.layers import Dropout"
      ],
      "execution_count": null,
      "outputs": []
    },
    {
      "cell_type": "code",
      "metadata": {
        "id": "AH8K3DgtExmY"
      },
      "source": [
        "# Iniciando a Rede Neural\n",
        "classifier = Sequential()\n",
        "\n",
        "# Adicionando a camada de input e a primeira camada escondida\n",
        "classifier.add(Dense(units = 80, activation = 'tanh', input_dim = n))\n",
        "classifier.add(Dropout(rate = 0.1))\n",
        "\n",
        "classifier.add(Dense(units = 50, activation = 'tanh'))\n",
        "classifier.add(Dropout(rate = 0.1))\n",
        "\n",
        "# Adicionando a camada de saída\n",
        "classifier.add(Dense(units = 1, activation = 'linear'))\n",
        "\n",
        "# Compilando a rede neural\n",
        "classifier.compile(optimizer = 'adam', loss = 'mse')\n",
        "\n",
        "# Visualização das camadas da rede\n",
        "classifier.summary()"
      ],
      "execution_count": null,
      "outputs": []
    },
    {
      "cell_type": "code",
      "metadata": {
        "id": "OYpotUwMExog"
      },
      "source": [
        "# Treinando a rede neural\n",
        "from keras.callbacks import ModelCheckpoint\n",
        "mc = ModelCheckpoint(filepath='best.h5', save_best_only=True)\n",
        "history = classifier.fit(X_train, y_train, batch_size = 64, epochs = 300, validation_data = (X_val,y_val), callbacks=[mc])"
      ],
      "execution_count": null,
      "outputs": []
    },
    {
      "cell_type": "markdown",
      "metadata": {
        "id": "x9cPEut6Yq9t"
      },
      "source": [
        "#Avaliar erros de treino e validação"
      ]
    },
    {
      "cell_type": "code",
      "metadata": {
        "id": "IzXbD8_LY0Bz"
      },
      "source": [
        "print(history.history.keys())"
      ],
      "execution_count": null,
      "outputs": []
    },
    {
      "cell_type": "code",
      "metadata": {
        "id": "T9cBcFIjYwAC"
      },
      "source": [
        "import matplotlib.pyplot as plt\n",
        "plt.plot(history.history['loss'], label='treino')\n",
        "plt.plot(history.history['val_loss'], label='validação')\n",
        "plt.title('model loss')\n",
        "plt.ylabel('loss')\n",
        "plt.xlabel('epoch')\n",
        "plt.legend()\n",
        "plt.show()"
      ],
      "execution_count": null,
      "outputs": []
    },
    {
      "cell_type": "markdown",
      "metadata": {
        "id": "S3j974JhY03z"
      },
      "source": [
        "#Fazer previsões e avaliar a rede treinada"
      ]
    },
    {
      "cell_type": "markdown",
      "metadata": {
        "id": "lwxUM-YyHDTE"
      },
      "source": [
        "###Exercício 3: Avalie a rede treinada com 500 dados amostrados com com LHS. Salve em uma variável chamada 'y_test' os dados gerados."
      ]
    },
    {
      "cell_type": "code",
      "metadata": {
        "id": "nrHKPzAnZhOT"
      },
      "source": [
        "#criar base de teste\n",
        "\n",
        "\n",
        "\n",
        "#Saída para cada input\n",
        "\n"
      ],
      "execution_count": null,
      "outputs": []
    },
    {
      "cell_type": "markdown",
      "metadata": {
        "id": "cfiZMkK5HIcc"
      },
      "source": [
        "###Exercício 4: Utilize a rede neural (best.h5) para prever o resultado da função para as entradas geradas acima. Chame a variável com os resultados de 'y_pred'."
      ]
    },
    {
      "cell_type": "code",
      "metadata": {
        "id": "1hXg1GhcY3kj"
      },
      "source": [
        "# Previsão da base de teste\n",
        "\n"
      ],
      "execution_count": null,
      "outputs": []
    },
    {
      "cell_type": "code",
      "metadata": {
        "id": "DSWBluWrY63E"
      },
      "source": [
        "#Real vs. Previsto\n",
        "plt.figure(figsize=(20,5))\n",
        "plt.plot(y_pred, label='previsto')\n",
        "plt.plot(y_test, label='real')\n",
        "plt.title('Aproximação Grienwank')\n",
        "plt.ylabel('y')\n",
        "plt.xlabel('index')\n",
        "plt.legend()\n",
        "plt.show()"
      ],
      "execution_count": null,
      "outputs": []
    },
    {
      "cell_type": "markdown",
      "metadata": {
        "id": "WC84FelBHK-7"
      },
      "source": [
        "###Exercício 5: Faça um plot como o acima, mas utilizando somente 50 amostras da base de teste."
      ]
    },
    {
      "cell_type": "code",
      "metadata": {
        "id": "rsO6FxM4fkSh"
      },
      "source": [
        "#Real vs. Previsto: parcial\n"
      ],
      "execution_count": null,
      "outputs": []
    },
    {
      "cell_type": "code",
      "metadata": {
        "id": "idEJs9oSs5k0"
      },
      "source": [
        "#Real vs. Previsto\r\n",
        "plt.scatter(x=y_pred, y=y_test)\r\n",
        "plt.title('Aproximação Grienwank')\r\n",
        "plt.ylabel('Previsto')\r\n",
        "plt.xlabel('Real')\r\n",
        "\r\n",
        "x = [0, 110]\r\n",
        "plt.plot(x, x, color='red'); #reta onde y=x\r\n",
        "plt.show()"
      ],
      "execution_count": null,
      "outputs": []
    },
    {
      "cell_type": "code",
      "metadata": {
        "id": "y2iBtQZDg4-J"
      },
      "source": [
        "# calcular o erro para a base de teste\n",
        "from sklearn.metrics import mean_squared_error \n",
        "from sklearn.metrics import r2_score\n",
        "\n",
        "mse = mean_squared_error(y_pred, y_test)\n",
        "print('MSE: ',mse)\n",
        "r2 = r2_score(y_pred, y_test)\n",
        "print('R2: ', r2)"
      ],
      "execution_count": null,
      "outputs": []
    }
  ]
}