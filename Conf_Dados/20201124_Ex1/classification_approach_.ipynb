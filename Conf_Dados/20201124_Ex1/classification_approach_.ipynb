{
  "nbformat": 4,
  "nbformat_minor": 0,
  "metadata": {
    "kernelspec": {
      "display_name": "Python 3",
      "language": "python",
      "name": "python3"
    },
    "language_info": {
      "codemirror_mode": {
        "name": "ipython",
        "version": 3
      },
      "file_extension": ".py",
      "mimetype": "text/x-python",
      "name": "python",
      "nbconvert_exporter": "python",
      "pygments_lexer": "ipython3",
      "version": "3.6.7"
    },
    "colab": {
      "name": "classification_approach_.ipynb",
      "provenance": [],
      "collapsed_sections": [],
      "include_colab_link": true
    }
  },
  "cells": [
    {
      "cell_type": "markdown",
      "metadata": {
        "id": "view-in-github",
        "colab_type": "text"
      },
      "source": [
        "<a href=\"https://colab.research.google.com/github/isaachfp/bi-master/blob/master/Conf_Dados/20201124_Ex1/classification_approach_.ipynb\" target=\"_parent\"><img src=\"https://colab.research.google.com/assets/colab-badge.svg\" alt=\"Open In Colab\"/></a>"
      ]
    },
    {
      "cell_type": "markdown",
      "metadata": {
        "id": "dNRa50mooyGq"
      },
      "source": [
        "\n",
        "# Classificação: detecção de vulnerabilidade de injeção SQL cega\n",
        "\n",
        "Este notebook considera o problema da detecção de vulnerabilidades de injeção SQL cega usando o método de Classificação. Especificamente, dado o tempo de ida e volta (RTT) de um URL que foi solicitado ao adormecer por alguns segundos, o objetivo é prever se o URL é vulnerável a uma injeção SQL cega (rótulo 1) ou se é seguro ( label 0).\n",
        "\n",
        "SQL Injection (SQLi) é um tipo de ataque de injeção que possibilita a execução de instruções SQL maliciosas. Essas instruções controlam um servidor de banco de dados por trás de um aplicativo da web. Os atacantes podem usar as vulnerabilidades do SQL Injection para contornar as medidas de segurança do aplicativo.\n",
        "\n",
        "** Conjunto de dados **\n",
        "\n",
        "Os conjuntos de dados de treinamento e teste para este problema são fornecidos no arquivo `dataset_50000_2.csv`. Cada linha nesses arquivos corresponde a um URL, com a coluna 2 contendo o atraso de inatividade injetado e a coluna 3 contendo o RTT. A última coluna contém o rótulo da classe e é baseada no rótulo do URL, seguro(0) ou vulnerável(1).\n",
        "\n",
        "O conjunto de dados contém um total de 100.000 URLs, das quais a primeira metade é vulnerável, enquanto as restantes são todas seguras.\n",
        "\n",
        "**Otimização**\n",
        "\n",
        "O objetivo é otimizar o algoritmo de classificação para velocidade e especificidade. Mais especificamente, ele precisa testar um único URL dentro de alguns segundos e ter um FPR menor que 0,0001 (1 em 10.000)"
      ]
    },
    {
      "cell_type": "code",
      "metadata": {
        "id": "A01uAAd2pGv9",
        "colab": {
          "base_uri": "https://localhost:8080/"
        },
        "outputId": "705d4c1e-610e-4b3e-ff95-34be223b20f9"
      },
      "source": [
        "!pip install cfm"
      ],
      "execution_count": 1,
      "outputs": [
        {
          "output_type": "stream",
          "text": [
            "Collecting cfm\n",
            "  Downloading https://files.pythonhosted.org/packages/04/e8/0479d819a4ca55a606d4b584109a3ee8eaa28f9e31bc91e04180740b1d65/cfm-0.3-py3-none-any.whl\n",
            "Installing collected packages: cfm\n",
            "Successfully installed cfm-0.3\n"
          ],
          "name": "stdout"
        }
      ]
    },
    {
      "cell_type": "markdown",
      "metadata": {
        "id": "DY6-S1BBoyGs"
      },
      "source": [
        "Import libraries"
      ]
    },
    {
      "cell_type": "code",
      "metadata": {
        "id": "e_-hgeUMoyGu",
        "outputId": "1f03e4a9-db55-4299-e2d4-c3012db9315a",
        "colab": {
          "base_uri": "https://localhost:8080/"
        }
      },
      "source": [
        "import numpy as np\n",
        "import statsmodels as sm\n",
        "import matplotlib.pyplot as plt\n",
        "import pandas as pd\n",
        "from sklearn.model_selection import train_test_split\n",
        "from sklearn.svm import SVC\n",
        "from sklearn.metrics import confusion_matrix\n",
        "from sklearn.metrics import accuracy_score\n",
        "from sklearn.metrics import classification_report\n",
        "from statsmodels.distributions.empirical_distribution import ECDF\n",
        "import sklearn.metrics as metrics\n",
        "import pickle\n",
        "import timeit\n",
        "import seaborn as sns\n",
        "import svc_test as svc\n",
        "import requests\n",
        "import numpy as np\n",
        "\n",
        "from sklearn.utils.multiclass import unique_labels\n",
        "sns.set()"
      ],
      "execution_count": 2,
      "outputs": [
        {
          "output_type": "stream",
          "text": [
            "/usr/local/lib/python3.6/dist-packages/statsmodels/tools/_testing.py:19: FutureWarning: pandas.util.testing is deprecated. Use the functions in the public API at pandas.testing instead.\n",
            "  import pandas.util.testing as tm\n"
          ],
          "name": "stderr"
        }
      ]
    },
    {
      "cell_type": "markdown",
      "metadata": {
        "id": "XWktMSSJoyG1"
      },
      "source": [
        "# Parte (a): Exploração de Dados\n",
        "\n",
        "1. Colete RTTS de URLs seguras e vulneráveis e salve-as em arquivos CSV.\n",
        "\n",
        "2. Compare os RTTs seguros e vulneráveis, visualizando-os e comparando sua média (bem como outras métricas)."
      ]
    },
    {
      "cell_type": "markdown",
      "metadata": {
        "id": "NXS7SnOPoyG2"
      },
      "source": [
        "** Nota: ** Para coletar milhares de RTTs em um período de tempo razoável, foi escrito um script que faz solicitações http de forma assíncrona."
      ]
    },
    {
      "cell_type": "code",
      "metadata": {
        "id": "lhl0WS8loyG3"
      },
      "source": [
        "# 50,000 RTTs, metade vulnerável e a outra metade segura com 2s de sleep delay (atraso)\n",
        "dataset_df = pd.read_csv('dataset_50000_2.csv')"
      ],
      "execution_count": 3,
      "outputs": []
    },
    {
      "cell_type": "code",
      "metadata": {
        "id": "1Mu-GfKioyG9",
        "colab": {
          "base_uri": "https://localhost:8080/",
          "height": 204
        },
        "outputId": "c9f9ebfe-5fd4-4ae4-88c3-5d2129c81317"
      },
      "source": [
        "dataset_df.head()"
      ],
      "execution_count": 4,
      "outputs": [
        {
          "output_type": "execute_result",
          "data": {
            "text/html": [
              "<div>\n",
              "<style scoped>\n",
              "    .dataframe tbody tr th:only-of-type {\n",
              "        vertical-align: middle;\n",
              "    }\n",
              "\n",
              "    .dataframe tbody tr th {\n",
              "        vertical-align: top;\n",
              "    }\n",
              "\n",
              "    .dataframe thead th {\n",
              "        text-align: right;\n",
              "    }\n",
              "</style>\n",
              "<table border=\"1\" class=\"dataframe\">\n",
              "  <thead>\n",
              "    <tr style=\"text-align: right;\">\n",
              "      <th></th>\n",
              "      <th>URL</th>\n",
              "      <th>Sleep Delay</th>\n",
              "      <th>RTT</th>\n",
              "      <th>Vulnerable</th>\n",
              "    </tr>\n",
              "  </thead>\n",
              "  <tbody>\n",
              "    <tr>\n",
              "      <th>0</th>\n",
              "      <td>http://localhost:5000/vulnerable/1/page?id=SLE...</td>\n",
              "      <td>2</td>\n",
              "      <td>14.356463</td>\n",
              "      <td>1</td>\n",
              "    </tr>\n",
              "    <tr>\n",
              "      <th>1</th>\n",
              "      <td>http://localhost:5000/vulnerable/2/page?id=SLE...</td>\n",
              "      <td>2</td>\n",
              "      <td>11.794838</td>\n",
              "      <td>1</td>\n",
              "    </tr>\n",
              "    <tr>\n",
              "      <th>2</th>\n",
              "      <td>http://localhost:5000/vulnerable/3/page?id=SLE...</td>\n",
              "      <td>2</td>\n",
              "      <td>15.530525</td>\n",
              "      <td>1</td>\n",
              "    </tr>\n",
              "    <tr>\n",
              "      <th>3</th>\n",
              "      <td>http://localhost:5000/vulnerable/4/page?id=SLE...</td>\n",
              "      <td>2</td>\n",
              "      <td>15.984062</td>\n",
              "      <td>1</td>\n",
              "    </tr>\n",
              "    <tr>\n",
              "      <th>4</th>\n",
              "      <td>http://localhost:5000/vulnerable/5/page?id=SLE...</td>\n",
              "      <td>2</td>\n",
              "      <td>12.523224</td>\n",
              "      <td>1</td>\n",
              "    </tr>\n",
              "  </tbody>\n",
              "</table>\n",
              "</div>"
            ],
            "text/plain": [
              "                                                 URL  ...  Vulnerable\n",
              "0  http://localhost:5000/vulnerable/1/page?id=SLE...  ...           1\n",
              "1  http://localhost:5000/vulnerable/2/page?id=SLE...  ...           1\n",
              "2  http://localhost:5000/vulnerable/3/page?id=SLE...  ...           1\n",
              "3  http://localhost:5000/vulnerable/4/page?id=SLE...  ...           1\n",
              "4  http://localhost:5000/vulnerable/5/page?id=SLE...  ...           1\n",
              "\n",
              "[5 rows x 4 columns]"
            ]
          },
          "metadata": {
            "tags": []
          },
          "execution_count": 4
        }
      ]
    },
    {
      "cell_type": "markdown",
      "metadata": {
        "id": "6UToJuBBoyHA"
      },
      "source": [
        "ECDFs avalia o ajuste de uma distribuição aos seus dados, para ver os percentis estimados para a população e os percentis reais para os valores de amostra, e para comparar distribuições amostrais."
      ]
    },
    {
      "cell_type": "code",
      "metadata": {
        "id": "vdNkcGNKoyHA",
        "colab": {
          "base_uri": "https://localhost:8080/",
          "height": 410
        },
        "outputId": "32d84fe9-a311-46df-847a-729e9e419c8c"
      },
      "source": [
        "# Divide os dados em urls 'Vulnerable' e 'Safe'\n",
        "vul_data = dataset_df[dataset_df['Vulnerable']==1]\n",
        "safe_data = dataset_df[dataset_df['Vulnerable']==0]\n",
        "\n",
        "# Calcula ECDFs (empirical cumulative distribution function)\n",
        "vul_ecdf = ECDF(vul_data['RTT']) \n",
        "safe_ecdf = ECDF(safe_data['RTT'])\n",
        "\n",
        "plt.figure(figsize=(9, 6))\n",
        "\n",
        "_ = plt.plot(vul_ecdf.x, vul_ecdf.y, marker='.')\n",
        "_ = plt.plot(safe_ecdf.x, safe_ecdf.y, marker='.')\n",
        "_ = plt.title('Segura vs Vulnerable (2 Second Delay)')\n",
        "_ = plt.legend(('Vulnerable', 'Segura'), loc='best')\n",
        "_ = plt.xlabel('RTT (secs)')\n",
        "_ = plt.ylabel('ECDF')"
      ],
      "execution_count": 10,
      "outputs": [
        {
          "output_type": "display_data",
          "data": {
            "image/png": "[encoded data removed]",
            "text/plain": [
              "<Figure size 648x432 with 1 Axes>"
            ]
          },
          "metadata": {
            "tags": []
          }
        }
      ]
    },
    {
      "cell_type": "code",
      "metadata": {
        "id": "r6lPHV_xoyHE",
        "colab": {
          "base_uri": "https://localhost:8080/",
          "height": 377
        },
        "outputId": "ed128be3-c4ee-4d79-b3bf-5b4e81c86fd0"
      },
      "source": [
        "plt.figure(figsize=(9, 6))\n",
        "_ = plt.scatter(dataset_df['RTT'], dataset_df['Vulnerable'])"
      ],
      "execution_count": 6,
      "outputs": [
        {
          "output_type": "display_data",
          "data": {
            "image/png": "[encoded data removed]",
            "text/plain": [
              "<Figure size 648x432 with 1 Axes>"
            ]
          },
          "metadata": {
            "tags": []
          }
        }
      ]
    },
    {
      "cell_type": "markdown",
      "metadata": {
        "id": "Bma5S1o9oyHH"
      },
      "source": [
        "** Observações: ** O gráfico mostra que a maioria dos RTTs para URLs seguros e vulneráveis é muito maior do que o esperado. Serão utilizados os dados como estão para treinar o classificador."
      ]
    },
    {
      "cell_type": "markdown",
      "metadata": {
        "id": "ltetoP9KoyHI"
      },
      "source": [
        "## Part (b): Treinando o Classificador\n",
        "\n",
        "Utilizando Classificador de Vetores de Suporte."
      ]
    },
    {
      "cell_type": "code",
      "metadata": {
        "id": "_mMYwVXWoyHJ"
      },
      "source": [
        "x_train, x_test, y_train, y_test = train_test_split(dataset_df['RTT'], dataset_df['Vulnerable'], test_size=0.30, random_state=0)"
      ],
      "execution_count": 8,
      "outputs": []
    },
    {
      "cell_type": "code",
      "metadata": {
        "id": "URK6KyguoyHN",
        "colab": {
          "base_uri": "https://localhost:8080/"
        },
        "outputId": "2d0b71aa-d6b1-4632-df7a-116bfb278ca5"
      },
      "source": [
        "# Train the model\n",
        "svc_model = SVC(C=10, gamma='auto', kernel = 'rbf', probability=True)\n",
        "svc_model.fit(np.array(x_train).reshape(-1,1), y_train)"
      ],
      "execution_count": 9,
      "outputs": [
        {
          "output_type": "execute_result",
          "data": {
            "text/plain": [
              "SVC(C=10, break_ties=False, cache_size=200, class_weight=None, coef0=0.0,\n",
              "    decision_function_shape='ovr', degree=3, gamma='auto', kernel='rbf',\n",
              "    max_iter=-1, probability=True, random_state=None, shrinking=True, tol=0.001,\n",
              "    verbose=False)"
            ]
          },
          "metadata": {
            "tags": []
          },
          "execution_count": 9
        }
      ]
    },
    {
      "cell_type": "markdown",
      "metadata": {
        "id": "_mSxdKKfoyHQ"
      },
      "source": [
        "## Parte (c): Avaliando e Otimizando\n",
        "\n",
        "1. Avaliando o modelo usando os dados de teste\n",
        "2. Fazendo previsões com novos dados"
      ]
    },
    {
      "cell_type": "markdown",
      "metadata": {
        "id": "QvR-PAApoyHQ"
      },
      "source": [
        "** 1 Avaliando o modelo usando os dados de teste **"
      ]
    },
    {
      "cell_type": "code",
      "metadata": {
        "id": "AQma9V9boyHR"
      },
      "source": [
        "# Fazendo predição com os dados de teste\n",
        "y_predict = svc_model.predict(np.array(x_test).reshape(-1,1))"
      ],
      "execution_count": 11,
      "outputs": []
    },
    {
      "cell_type": "code",
      "metadata": {
        "id": "5dJ75lTXoyHU",
        "colab": {
          "base_uri": "https://localhost:8080/"
        },
        "outputId": "f4d0bf6e-aef7-4569-e14b-8c4ab9ddfb06"
      },
      "source": [
        "print('O resultado da acuracia é: {}'.format(accuracy_score(y_test, y_predict)))"
      ],
      "execution_count": 12,
      "outputs": [
        {
          "output_type": "stream",
          "text": [
            "O resultado da acuracia é: 0.9904666666666667\n"
          ],
          "name": "stdout"
        }
      ]
    },
    {
      "cell_type": "code",
      "metadata": {
        "id": "LGH2q1w5oyHX",
        "colab": {
          "base_uri": "https://localhost:8080/"
        },
        "outputId": "321ee01f-d635-4c24-c9a7-052803c28059"
      },
      "source": [
        "print('Matriz de confusão')\n",
        "print(confusion_matrix(y_test, y_predict))"
      ],
      "execution_count": 13,
      "outputs": [
        {
          "output_type": "stream",
          "text": [
            "Matriz de confusão\n",
            "[[7440    2]\n",
            " [ 141 7417]]\n"
          ],
          "name": "stdout"
        }
      ]
    },
    {
      "cell_type": "code",
      "metadata": {
        "id": "t1AU18LVoyHa",
        "colab": {
          "base_uri": "https://localhost:8080/"
        },
        "outputId": "acda74c8-ed49-40e7-b702-d051dc6402f8"
      },
      "source": [
        "tn, fp, fn, tp = confusion_matrix(y_test, y_predict).ravel()\n",
        "print('The FPR is: {}'.format(fp/(fp+tn))) # Falsos positivos\n",
        "print('The FNR is {}'.format(fn/(fn+tp))) # Falsos negativos"
      ],
      "execution_count": 14,
      "outputs": [
        {
          "output_type": "stream",
          "text": [
            "The FPR is: 0.0002687449610319806\n",
            "The FNR is 0.01865572902884361\n"
          ],
          "name": "stdout"
        }
      ]
    },
    {
      "cell_type": "code",
      "metadata": {
        "id": "gJNt1tetoyHd"
      },
      "source": [
        "# Salva o modelo treinado para uso posterior\n",
        "filename = 'svc_final_model.pickle'\n",
        "pickle.dump(svc_model, open(filename, 'wb'))"
      ],
      "execution_count": 15,
      "outputs": []
    },
    {
      "cell_type": "markdown",
      "metadata": {
        "id": "xCgDNKS4oyHg"
      },
      "source": [
        "** 2 Fazendo previsões com novos dados **"
      ]
    },
    {
      "cell_type": "code",
      "metadata": {
        "id": "-qD7qNrqoyHh"
      },
      "source": [
        "def test(url):\n",
        "    '''\n",
        "    Retorna se a url é vulnerável ('vulnerable'- label 1) ou segura ('safe'- label 0)\n",
        "    '''\n",
        "    \n",
        "    # Carrega o modelo SVC treinado\n",
        "    svc_model = pickle.load(open('svc_final_model.pickle', 'rb'))\n",
        "\n",
        "    sleep_delay = 2 # O mesmo sleep delay usado durante o treinamento do modelo\n",
        "    start = timeit.default_timer()\n",
        "    resp = requests.get(url + 'SLEEP({})'.format(sleep_delay))\n",
        "    rtt = np.array(timeit.default_timer() - start).reshape(-1,1)\n",
        "    \n",
        "    return svc_model.predict(rtt)[0]"
      ],
      "execution_count": 16,
      "outputs": []
    },
    {
      "cell_type": "code",
      "metadata": {
        "id": "Qs4BBHuuoyHk",
        "colab": {
          "base_uri": "https://localhost:8080/"
        },
        "outputId": "af29616e-d5c1-49f2-c2ea-121d9238f417"
      },
      "source": [
        "test('https://g1.globo.com/')"
      ],
      "execution_count": 17,
      "outputs": [
        {
          "output_type": "execute_result",
          "data": {
            "text/plain": [
              "0"
            ]
          },
          "metadata": {
            "tags": []
          },
          "execution_count": 17
        }
      ]
    },
    {
      "cell_type": "code",
      "metadata": {
        "id": "5Bd0VXZmoyHr",
        "colab": {
          "base_uri": "https://localhost:8080/"
        },
        "outputId": "4e53d25b-4f3a-4578-8219-fddf6a016be3"
      },
      "source": [
        "test('http://www.ica.ele.puc-rio.br/covid/')"
      ],
      "execution_count": 18,
      "outputs": [
        {
          "output_type": "execute_result",
          "data": {
            "text/plain": [
              "0"
            ]
          },
          "metadata": {
            "tags": []
          },
          "execution_count": 18
        }
      ]
    },
    {
      "cell_type": "code",
      "metadata": {
        "id": "ZCRHwlIVKnuJ",
        "colab": {
          "base_uri": "https://localhost:8080/"
        },
        "outputId": "d3ac7503-c306-477e-9082-f8522cd9ca22"
      },
      "source": [
        "test('https://www.itau.com.br/')"
      ],
      "execution_count": 19,
      "outputs": [
        {
          "output_type": "execute_result",
          "data": {
            "text/plain": [
              "0"
            ]
          },
          "metadata": {
            "tags": []
          },
          "execution_count": 19
        }
      ]
    }
  ]
}