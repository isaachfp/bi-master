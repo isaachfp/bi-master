{
  "nbformat": 4,
  "nbformat_minor": 0,
  "metadata": {
    "kernelspec": {
      "display_name": "Intel Anomaly Env",
      "language": "python",
      "name": "intel_anomaly"
    },
    "language_info": {
      "codemirror_mode": {
        "name": "ipython",
        "version": 3
      },
      "file_extension": ".py",
      "mimetype": "text/x-python",
      "name": "python",
      "nbconvert_exporter": "python",
      "pygments_lexer": "ipython3",
      "version": "3.6.7"
    },
    "varInspector": {
      "cols": {
        "lenName": 16,
        "lenType": 16,
        "lenVar": 40
      },
      "kernels_config": {
        "python": {
          "delete_cmd_postfix": "",
          "delete_cmd_prefix": "del ",
          "library": "var_list.py",
          "varRefreshCmd": "print(var_dic_list())"
        },
        "r": {
          "delete_cmd_postfix": ") ",
          "delete_cmd_prefix": "rm(",
          "library": "var_list.r",
          "varRefreshCmd": "cat(var_dic_list()) "
        }
      },
      "types_to_exclude": [
        "module",
        "function",
        "builtin_function_or_method",
        "instance",
        "_Feature"
      ],
      "window_display": false
    },
    "colab": {
      "name": "introduçãoanomalias.ipynb",
      "provenance": [],
      "collapsed_sections": [],
      "toc_visible": true,
      "include_colab_link": true
    }
  },
  "cells": [
    {
      "cell_type": "markdown",
      "metadata": {
        "id": "view-in-github",
        "colab_type": "text"
      },
      "source": [
        "<a href=\"https://colab.research.google.com/github/isaachfp/bi-master/blob/master/Conf_Dados/20201124_Ex2/introducaoanomalias.ipynb\" target=\"_parent\"><img src=\"https://colab.research.google.com/assets/colab-badge.svg\" alt=\"Open In Colab\"/></a>"
      ]
    },
    {
      "cell_type": "markdown",
      "metadata": {
        "id": "JWkgGfgerKBr"
      },
      "source": [
        "# Introdução\n",
        "\n",
        "Na lição 1, * Detecção de anomalias: introdução *, aprendemos que as anomalias são outliers nos dados que merecem um exame mais aprofundado. Discutimos métodos básicos de pontuação para identificar valores discrepantes.\n",
        "\n",
        "Continuaremos nossa discussão procurando outliers em dados unidimensionais (univariados). Usaremos o escore z e o escore z modificado. Examinaremos os pontos fortes e as limitações de ambas as abordagens.\n",
        "\n",
        "# Resultados de Aprendizagem\n",
        "\n",
        "Você deve sair deste tutorial em Python com:\n",
        "1. Uma compreensão da detecção de anomalias como um algoritmo\n",
        "2. Uma apreciação da importância de escolher um modelo apropriado para os dados pelos quais julgar o que é normal e o que poderia ser uma anomalia.\n",
        "3. Alguma experiência prática no uso do escore z e escore z modificado na detecção de anomalias\n",
        "\n",
        "# Importações"
      ]
    },
    {
      "cell_type": "code",
      "metadata": {
        "ExecuteTime": {
          "end_time": "2018-12-11T21:02:44.688554Z",
          "start_time": "2018-12-11T21:02:43.125292Z"
        },
        "id": "O-Ns-rP5rKBs"
      },
      "source": [
        "%matplotlib inline\n",
        "\n",
        "import sys\n",
        "import scipy\n",
        "import scipy.stats as ss\n",
        "import numpy as np\n",
        "import matplotlib\n",
        "import matplotlib.pyplot as plt\n",
        "import pandas as pd\n",
        "import random"
      ],
      "execution_count": 1,
      "outputs": []
    },
    {
      "cell_type": "markdown",
      "metadata": {
        "id": "3mlGK2VbrKB2"
      },
      "source": [
        "Introdução\n",
        "\n",
        "Na lição 1, * Detecção de anomalias: introdução *, aprendemos que as anomalias são outliers nos dados que merecem um exame mais aprofundado. Discutimos métodos básicos de pontuação para identificar valores discrepantes.\n",
        "\n",
        "# Seção 1: Visão geral da detecção de anomalias\n",
        "\n",
        "Nesta lição, usaremos o escore z e o escore z modificado para detectar anomalias nos dados do mundo real. Inicialmente, usaremos um conjunto de dados em que a detecção de anomalias funciona de maneira relativamente suave. Em seguida, como exercício, você trabalhará com um conjunto de dados em que é necessário mais julgamento para aprender sobre alguns dos desafios associados ao escore z e ao escore z modificado.\n",
        "\n",
        "### O fluxo de trabalho\n",
        "\n",
        "Como discutimos na palestra, este é o fluxo de trabalho:\n",
        "\n",
        "    - Faça um modelo para seus dados\n",
        "    - Escolha um método de pontuação\n",
        "    - Escolha um ponto de corte acima / abaixo do qual os pontos sejam anomalias\n",
        "    - Veja essas anomalias e veja se a análise faz sentido\n",
        "\n",
        "* CUIDADO *: Embora seja altamente recomendável explorar os dados antes de trabalhar com eles, é inadequado usar essa exploração para decidir qual deve ser o ponto de corte para o método de pontuação. Se você fizer isso, tudo o que receberá serão os valores discrepantes que você já escolheu durante sua exploração. As escolhas de modelagem, pontuação e ponto de corte devem ser feitas sem viés."
      ]
    },
    {
      "cell_type": "markdown",
      "metadata": {
        "id": "a8WjBcp7rKB2"
      },
      "source": [
        "# Seção 2: Z-Score em ação - participação do aluno em testes padronizados\n",
        "\n",
        "Vamos começar com um exemplo em que a detecção de anomalias funciona sem problemas. Examinaremos a participação dos alunos em testes padronizados. Especificamente, examinaremos as taxas de participação dos estudantes no SAT nos distritos escolares de Connecticut em 2012. Os dados brutos estão disponíveis aqui:\n",
        "\n",
        "https://catalog.data.gov/dataset/sat-district-participation-and-performance-2012-2013\n",
        "\n",
        "Os dados foram limpos para que os valores ausentes fossem removidos, as porcentagens convertidas em decimais e apenas os dados essenciais de 2012 fossem retidos."
      ]
    },
    {
      "cell_type": "markdown",
      "metadata": {
        "id": "MiHspLfGrKB3"
      },
      "source": [
        "O objetivo desta seção é identificar escolas com baixas taxas de participação como um primeiro passo para ajudar essas escolas a melhorar suas taxas de participação."
      ]
    },
    {
      "cell_type": "markdown",
      "metadata": {
        "id": "7lounCx3rKB4"
      },
      "source": [
        "Carregue os dados como um quadro de dados do pandas e dê uma olhada neles."
      ]
    },
    {
      "cell_type": "code",
      "metadata": {
        "ExecuteTime": {
          "end_time": "2018-12-11T21:02:44.728000Z",
          "start_time": "2018-12-11T21:02:44.701535Z"
        },
        "id": "IKjvwRLprKB4",
        "colab": {
          "base_uri": "https://localhost:8080/",
          "height": 224
        },
        "outputId": "2a7f7f0a-7933-46ca-c5a7-c029ad4552dc"
      },
      "source": [
        "ct_test = pd.read_csv('SAT_CT_District_Participation_2012.csv') \n",
        "print(ct_test.shape)\n",
        "ct_test.head()"
      ],
      "execution_count": 2,
      "outputs": [
        {
          "output_type": "stream",
          "text": [
            "(130, 2)\n"
          ],
          "name": "stdout"
        },
        {
          "output_type": "execute_result",
          "data": {
            "text/html": [
              "<div>\n",
              "<style scoped>\n",
              "    .dataframe tbody tr th:only-of-type {\n",
              "        vertical-align: middle;\n",
              "    }\n",
              "\n",
              "    .dataframe tbody tr th {\n",
              "        vertical-align: top;\n",
              "    }\n",
              "\n",
              "    .dataframe thead th {\n",
              "        text-align: right;\n",
              "    }\n",
              "</style>\n",
              "<table border=\"1\" class=\"dataframe\">\n",
              "  <thead>\n",
              "    <tr style=\"text-align: right;\">\n",
              "      <th></th>\n",
              "      <th>District</th>\n",
              "      <th>Participation Rate</th>\n",
              "    </tr>\n",
              "  </thead>\n",
              "  <tbody>\n",
              "    <tr>\n",
              "      <th>0</th>\n",
              "      <td>Ansonia</td>\n",
              "      <td>0.66</td>\n",
              "    </tr>\n",
              "    <tr>\n",
              "      <th>1</th>\n",
              "      <td>Avon</td>\n",
              "      <td>0.90</td>\n",
              "    </tr>\n",
              "    <tr>\n",
              "      <th>2</th>\n",
              "      <td>Berlin</td>\n",
              "      <td>0.81</td>\n",
              "    </tr>\n",
              "    <tr>\n",
              "      <th>3</th>\n",
              "      <td>Bethel</td>\n",
              "      <td>0.86</td>\n",
              "    </tr>\n",
              "    <tr>\n",
              "      <th>4</th>\n",
              "      <td>Bloomfield</td>\n",
              "      <td>0.81</td>\n",
              "    </tr>\n",
              "  </tbody>\n",
              "</table>\n",
              "</div>"
            ],
            "text/plain": [
              "     District  Participation Rate\n",
              "0     Ansonia                0.66\n",
              "1        Avon                0.90\n",
              "2      Berlin                0.81\n",
              "3      Bethel                0.86\n",
              "4  Bloomfield                0.81"
            ]
          },
          "metadata": {
            "tags": []
          },
          "execution_count": 2
        }
      ]
    },
    {
      "cell_type": "markdown",
      "metadata": {
        "id": "hd2Aom-brKB7"
      },
      "source": [
        "Existem 130 escolas. Por conveniência, usaremos o número do índice como etiqueta numérica para cada distrito escolar e usaremos o nome quando apropriado."
      ]
    },
    {
      "cell_type": "markdown",
      "metadata": {
        "id": "VhEAHqjBrKB8"
      },
      "source": [
        "Vamos começar assumindo que os dados podem ser modelados com uma distribuição normal (verificaremos isso mais tarde). E usaremos o escore z para identificar anomalias. Como estamos preocupados com baixas taxas de participação, nosso ponto de corte será um número negativo - estamos procurando escolas com taxas de participação abaixo da média. Aqui nós escolhemos $ z = -2 $. Ou seja, qualquer escola com uma pontuação z abaixo de -2 será rotulada como uma anomalia.\n",
        "\n",
        "Se as taxas de participação são realmente distribuídas normalmente, então 95% dos dados devem estar dentro de dois desvios padrão da média. Em outras palavras, as anomalias para nosso limiar estão na cauda esquerda de 2,5% da distribuição."
      ]
    },
    {
      "cell_type": "markdown",
      "metadata": {
        "id": "MsRo-22arKB9"
      },
      "source": [
        "Observe que, para conjuntos de dados maiores, valores absolutos maiores de $ z $ (geralmente $ z = 3 $) são frequentemente usados como limite. Como temos um pequeno conjunto de dados, um grande valor de $ z $ pode levar a que nenhum dado seja rotulado como uma anomalia. Além disso, fomos conservadores em nossa escolha de $ z $, porque queremos ajudar o maior número possível de escolas."
      ]
    },
    {
      "cell_type": "markdown",
      "metadata": {
        "id": "irqHQfdhrKB9"
      },
      "source": [
        "Poderíamos simplesmente avançar e calcular o escore z para a taxa de participação, mas é uma boa prática olhar primeiro as estatísticas fundamentais. Vamos calcular a média e o desvio padrão. Como os dados formam toda a população, reportaremos o desvio padrão da população (em oposição ao desvio padrão da amostra)"
      ]
    },
    {
      "cell_type": "code",
      "metadata": {
        "ExecuteTime": {
          "end_time": "2018-12-11T21:02:44.739764Z",
          "start_time": "2018-12-11T21:02:44.731592Z"
        },
        "id": "UR50Jgf2rKB-"
      },
      "source": [
        "mean_rate = ct_test['Participation Rate'].mean()\n",
        "\n",
        "# ddof is the degrees of freedom correction \n",
        "# in the calculation of the standard deviation;\n",
        "# for population standard deviation ddof=0\n",
        "stdev_rate = ct_test['Participation Rate'].std(ddof=0)"
      ],
      "execution_count": 3,
      "outputs": []
    },
    {
      "cell_type": "code",
      "metadata": {
        "ExecuteTime": {
          "end_time": "2018-12-11T21:02:44.746050Z",
          "start_time": "2018-12-11T21:02:44.742402Z"
        },
        "scrolled": true,
        "id": "qr1OpfOtrKCB",
        "colab": {
          "base_uri": "https://localhost:8080/"
        },
        "outputId": "6b5bbe6f-b8e9-4324-9d68-a273962ce0b9"
      },
      "source": [
        "print('Mean participation rate is {:.3f}'.format(mean_rate))\n",
        "print('Standard deviation is {:.3f}'.format(stdev_rate))"
      ],
      "execution_count": 4,
      "outputs": [
        {
          "output_type": "stream",
          "text": [
            "Mean participation rate is 0.741\n",
            "Standard deviation is 0.136\n"
          ],
          "name": "stdout"
        }
      ]
    },
    {
      "cell_type": "markdown",
      "metadata": {
        "id": "dTZrXlhirKCH"
      },
      "source": [
        "Calcule a pontuação z e adicione o resultado ao quadro de dados."
      ]
    },
    {
      "cell_type": "code",
      "metadata": {
        "ExecuteTime": {
          "end_time": "2018-12-11T21:02:44.773759Z",
          "start_time": "2018-12-11T21:02:44.749071Z"
        },
        "id": "AXUSjqC1rKCI",
        "colab": {
          "base_uri": "https://localhost:8080/",
          "height": 300
        },
        "outputId": "a30ee2bb-0864-4bdf-cd33-dcce14dcfc80"
      },
      "source": [
        "zscore_rate = ss.zscore(ct_test['Participation Rate'], ddof=0)\n",
        "ct_test = ct_test.assign(zscore=zscore_rate)\n",
        "ct_test.head(8)"
      ],
      "execution_count": 5,
      "outputs": [
        {
          "output_type": "execute_result",
          "data": {
            "text/html": [
              "<div>\n",
              "<style scoped>\n",
              "    .dataframe tbody tr th:only-of-type {\n",
              "        vertical-align: middle;\n",
              "    }\n",
              "\n",
              "    .dataframe tbody tr th {\n",
              "        vertical-align: top;\n",
              "    }\n",
              "\n",
              "    .dataframe thead th {\n",
              "        text-align: right;\n",
              "    }\n",
              "</style>\n",
              "<table border=\"1\" class=\"dataframe\">\n",
              "  <thead>\n",
              "    <tr style=\"text-align: right;\">\n",
              "      <th></th>\n",
              "      <th>District</th>\n",
              "      <th>Participation Rate</th>\n",
              "      <th>zscore</th>\n",
              "    </tr>\n",
              "  </thead>\n",
              "  <tbody>\n",
              "    <tr>\n",
              "      <th>0</th>\n",
              "      <td>Ansonia</td>\n",
              "      <td>0.66</td>\n",
              "      <td>-0.593779</td>\n",
              "    </tr>\n",
              "    <tr>\n",
              "      <th>1</th>\n",
              "      <td>Avon</td>\n",
              "      <td>0.90</td>\n",
              "      <td>1.175649</td>\n",
              "    </tr>\n",
              "    <tr>\n",
              "      <th>2</th>\n",
              "      <td>Berlin</td>\n",
              "      <td>0.81</td>\n",
              "      <td>0.512113</td>\n",
              "    </tr>\n",
              "    <tr>\n",
              "      <th>3</th>\n",
              "      <td>Bethel</td>\n",
              "      <td>0.86</td>\n",
              "      <td>0.880744</td>\n",
              "    </tr>\n",
              "    <tr>\n",
              "      <th>4</th>\n",
              "      <td>Bloomfield</td>\n",
              "      <td>0.81</td>\n",
              "      <td>0.512113</td>\n",
              "    </tr>\n",
              "    <tr>\n",
              "      <th>5</th>\n",
              "      <td>Bolton</td>\n",
              "      <td>0.85</td>\n",
              "      <td>0.807018</td>\n",
              "    </tr>\n",
              "    <tr>\n",
              "      <th>6</th>\n",
              "      <td>Branford</td>\n",
              "      <td>0.77</td>\n",
              "      <td>0.217209</td>\n",
              "    </tr>\n",
              "    <tr>\n",
              "      <th>7</th>\n",
              "      <td>Bridgeport</td>\n",
              "      <td>0.58</td>\n",
              "      <td>-1.183589</td>\n",
              "    </tr>\n",
              "  </tbody>\n",
              "</table>\n",
              "</div>"
            ],
            "text/plain": [
              "     District  Participation Rate    zscore\n",
              "0     Ansonia                0.66 -0.593779\n",
              "1        Avon                0.90  1.175649\n",
              "2      Berlin                0.81  0.512113\n",
              "3      Bethel                0.86  0.880744\n",
              "4  Bloomfield                0.81  0.512113\n",
              "5      Bolton                0.85  0.807018\n",
              "6    Branford                0.77  0.217209\n",
              "7  Bridgeport                0.58 -1.183589"
            ]
          },
          "metadata": {
            "tags": []
          },
          "execution_count": 5
        }
      ]
    },
    {
      "cell_type": "markdown",
      "metadata": {
        "id": "YxZp2vIxrKCL"
      },
      "source": [
        "Agora identifique as anomalias e plote os resultados."
      ]
    },
    {
      "cell_type": "code",
      "metadata": {
        "ExecuteTime": {
          "end_time": "2018-12-11T21:02:44.787031Z",
          "start_time": "2018-12-11T21:02:44.778472Z"
        },
        "id": "D41ZPXbfrKCM"
      },
      "source": [
        "def plot_anomaly(score_data, threshold):\n",
        "    # Mask to plot values above and below threshold in different colors\n",
        "    score_data = score_data.copy().sort_values(ascending=False).values\n",
        "    ranks = np.linspace(1, len(score_data), len(score_data))\n",
        "    mask_outlier = (score_data < threshold)\n",
        "    \n",
        "    \n",
        "    plt.figure(dpi=150)\n",
        "    plt.plot(ranks[~mask_outlier], score_data[~mask_outlier],'o', color='b',label='OK schools')\n",
        "    plt.plot(ranks[mask_outlier], score_data[mask_outlier],'o', color='r', label='anomalies')\n",
        "    plt.axhline(threshold,color='r',label='threshold', alpha=0.5)\n",
        "    plt.legend(loc = 'lower left')\n",
        "    plt.title('Z-score vs. school district', fontweight='bold')\n",
        "    plt.xlabel('Ranked School district')\n",
        "    plt.ylabel('Z-score')\n",
        "    plt.show()"
      ],
      "execution_count": 6,
      "outputs": []
    },
    {
      "cell_type": "code",
      "metadata": {
        "ExecuteTime": {
          "end_time": "2018-12-11T21:02:45.094359Z",
          "start_time": "2018-12-11T21:02:44.788978Z"
        },
        "id": "oBn_uHrtrKCP",
        "colab": {
          "base_uri": "https://localhost:8080/",
          "height": 594
        },
        "outputId": "941be7b6-e351-4ccb-e250-406750447e7d"
      },
      "source": [
        "plot_anomaly(ct_test['zscore'], -2)"
      ],
      "execution_count": 7,
      "outputs": [
        {
          "output_type": "display_data",
          "data": {
            "image/png": "[encoded data removed]",
            "text/plain": [
              "<Figure size 900x600 with 1 Axes>"
            ]
          },
          "metadata": {
            "tags": [],
            "needs_background": "light"
          }
        }
      ]
    },
    {
      "cell_type": "markdown",
      "metadata": {
        "id": "oRbPls1PrKCS"
      },
      "source": [
        "Por fim, obtenha uma lista das escolas que são anomalias."
      ]
    },
    {
      "cell_type": "code",
      "metadata": {
        "ExecuteTime": {
          "end_time": "2018-12-11T21:02:45.107065Z",
          "start_time": "2018-12-11T21:02:45.096593Z"
        },
        "id": "itM_UKjGrKCS",
        "colab": {
          "base_uri": "https://localhost:8080/",
          "height": 175
        },
        "outputId": "8527b0a7-b630-45db-d77a-e2406501acca"
      },
      "source": [
        "zscore_anomalies = ct_test[(ct_test['zscore'] < -2)]\n",
        "zscore_anomalies"
      ],
      "execution_count": 8,
      "outputs": [
        {
          "output_type": "execute_result",
          "data": {
            "text/html": [
              "<div>\n",
              "<style scoped>\n",
              "    .dataframe tbody tr th:only-of-type {\n",
              "        vertical-align: middle;\n",
              "    }\n",
              "\n",
              "    .dataframe tbody tr th {\n",
              "        vertical-align: top;\n",
              "    }\n",
              "\n",
              "    .dataframe thead th {\n",
              "        text-align: right;\n",
              "    }\n",
              "</style>\n",
              "<table border=\"1\" class=\"dataframe\">\n",
              "  <thead>\n",
              "    <tr style=\"text-align: right;\">\n",
              "      <th></th>\n",
              "      <th>District</th>\n",
              "      <th>Participation Rate</th>\n",
              "      <th>zscore</th>\n",
              "    </tr>\n",
              "  </thead>\n",
              "  <tbody>\n",
              "    <tr>\n",
              "      <th>50</th>\n",
              "      <td>New Britain</td>\n",
              "      <td>0.40</td>\n",
              "      <td>-2.510660</td>\n",
              "    </tr>\n",
              "    <tr>\n",
              "      <th>99</th>\n",
              "      <td>Windham</td>\n",
              "      <td>0.37</td>\n",
              "      <td>-2.731839</td>\n",
              "    </tr>\n",
              "    <tr>\n",
              "      <th>121</th>\n",
              "      <td>Eastern Connecticut Regional Educational Servi...</td>\n",
              "      <td>0.39</td>\n",
              "      <td>-2.584386</td>\n",
              "    </tr>\n",
              "    <tr>\n",
              "      <th>125</th>\n",
              "      <td>Stamford Academy</td>\n",
              "      <td>0.28</td>\n",
              "      <td>-3.395374</td>\n",
              "    </tr>\n",
              "  </tbody>\n",
              "</table>\n",
              "</div>"
            ],
            "text/plain": [
              "                                              District  ...    zscore\n",
              "50                                         New Britain  ... -2.510660\n",
              "99                                             Windham  ... -2.731839\n",
              "121  Eastern Connecticut Regional Educational Servi...  ... -2.584386\n",
              "125                                   Stamford Academy  ... -3.395374\n",
              "\n",
              "[4 rows x 3 columns]"
            ]
          },
          "metadata": {
            "tags": []
          },
          "execution_count": 8
        }
      ]
    },
    {
      "cell_type": "markdown",
      "metadata": {
        "id": "hcgumQ3zrKCX"
      },
      "source": [
        "Encontramos nossas anomalias, mas ainda temos uma coisa a fazer: verificar nossa suposição de que os dados podem ser modelados aproximadamente como uma distribuição normal. Se for esse o caso, concluímos nosso teste. Caso contrário, não podemos conectar o z-score com probabilidades, como fizemos anteriormente neste caderno."
      ]
    },
    {
      "cell_type": "markdown",
      "metadata": {
        "id": "Y7hMazuXrKCX"
      },
      "source": [
        "Primeiro, vamos agrupar os dados e ver como eles são um histograma."
      ]
    },
    {
      "cell_type": "code",
      "metadata": {
        "ExecuteTime": {
          "end_time": "2018-12-11T21:02:45.286052Z",
          "start_time": "2018-12-11T21:02:45.109261Z"
        },
        "id": "X6AsdOjnrKCY",
        "colab": {
          "base_uri": "https://localhost:8080/",
          "height": 265
        },
        "outputId": "9a08fa28-85ce-4446-abb9-882340e82989"
      },
      "source": [
        "nbins= 20\n",
        "n_hist, bins_hist, patches_hist = plt.hist(ct_test['Participation Rate'], nbins, density=False,\n",
        "                           cumulative=False, linewidth=1.0, label='data')"
      ],
      "execution_count": 9,
      "outputs": [
        {
          "output_type": "display_data",
          "data": {
            "image/png": "[encoded data removed]",
            "text/plain": [
              "<Figure size 432x288 with 1 Axes>"
            ]
          },
          "metadata": {
            "tags": [],
            "needs_background": "light"
          }
        }
      ]
    },
    {
      "cell_type": "markdown",
      "metadata": {
        "id": "8-7wXE7xrKCb"
      },
      "source": [
        "Este histograma tem dois máximos e é inclinado para a esquerda, portanto, não é provável que seja normal."
      ]
    },
    {
      "cell_type": "markdown",
      "metadata": {
        "id": "n2Ggjj2jrKCb"
      },
      "source": [
        "Também podemos comparar a função de distribuição cumulativa de nossos dados com o CDF de uma distribuição normal com a mesma média e desvio padrão de nossos dados."
      ]
    },
    {
      "cell_type": "code",
      "metadata": {
        "ExecuteTime": {
          "end_time": "2018-12-11T21:02:45.472086Z",
          "start_time": "2018-12-11T21:02:45.288361Z"
        },
        "id": "KuyLZr7qrKCc",
        "colab": {
          "base_uri": "https://localhost:8080/",
          "height": 279
        },
        "outputId": "35d545d8-a178-4367-c6e1-e3122f6400fa"
      },
      "source": [
        "num_bins = 130\n",
        "normal_dist = [random.gauss(mean_rate, stdev_rate) for _ in range(500)]\n",
        "n, bins, patches = plt.hist(ct_test['Participation Rate'], num_bins, density=True, histtype='step',\n",
        "                           cumulative=True, linewidth=1.0, label='data')\n",
        "plt.hist(normal_dist, num_bins, density=True, histtype='step',\n",
        "                           cumulative=True, linewidth=1.0, label='normal distribution')\n",
        "plt.grid(True)\n",
        "plt.legend(loc='upper left')\n",
        "axes = plt.gca()\n",
        "axes.set_xlim([0.2,1.0])\n",
        "plt.xlabel('Participation Rate')\n",
        "plt.ylabel('Cumulative probability')\n",
        "plt.show()"
      ],
      "execution_count": 10,
      "outputs": [
        {
          "output_type": "display_data",
          "data": {
            "image/png": "[encoded data removed]",
            "text/plain": [
              "<Figure size 432x288 with 1 Axes>"
            ]
          },
          "metadata": {
            "tags": [],
            "needs_background": "light"
          }
        }
      ]
    },
    {
      "cell_type": "markdown",
      "metadata": {
        "id": "oKMbcZfkrKCi"
      },
      "source": [
        "Embora nossos dados sejam inconsistentes com uma distribuição normal, o escore z e o escore z modificado nos ajudaram a identificar discrepâncias. Portanto, embora não possamos fazer nenhuma afirmação probabilística com base nos escores z, podemos focar com segurança nossas quatro escolas."
      ]
    },
    {
      "cell_type": "markdown",
      "metadata": {
        "id": "A8KQa11srKCj"
      },
      "source": [
        "# Seção 3: Escore Z vs. Escore Z modificado - Melhores marcadores da Copa do Mundo"
      ]
    },
    {
      "cell_type": "markdown",
      "metadata": {
        "id": "eOX5MsTSrKCj"
      },
      "source": [
        "Agora, examinaremos um conjunto de dados que mostra as limitações dos escores z e por que o escore z modificado pode ser útil."
      ]
    },
    {
      "cell_type": "markdown",
      "metadata": {
        "collapsed": true,
        "id": "EfiIFwT3rKCk"
      },
      "source": [
        "Vamos chegar ao número de gols marcados pelo melhor marcador de todas as Copas do Mundo entre 1930 e 2018 (21 competições no total). Os dados brutos são daqui:\n",
        "\n",
        "https://en.wikipedia.org/wiki/FIFA_World_Cup_top_goalscorers\n",
        "\n",
        "Os dados foram limpos e salvos como um CSV. Carregue-o como um quadro de dados e dê uma olhada."
      ]
    },
    {
      "cell_type": "code",
      "metadata": {
        "ExecuteTime": {
          "end_time": "2018-12-11T21:02:45.490433Z",
          "start_time": "2018-12-11T21:02:45.475036Z"
        },
        "id": "txnGzqp3rKCk",
        "colab": {
          "base_uri": "https://localhost:8080/",
          "height": 708
        },
        "outputId": "825dadba-502a-460a-f972-94073baa880b"
      },
      "source": [
        "# First row is a header row, but the header names are cumbersome. \n",
        "# Skip first row and manually label\n",
        "# Encoding ensures that accents in sames are rendered properly \n",
        "top_goals = pd.read_csv('world_cup_top_goal_scorers.csv', \n",
        "                        encoding='utf-8',  \n",
        "                        names=['Year', 'Player(s)', 'Goals'], skiprows=1)                                                                                \n",
        "top_goals"
      ],
      "execution_count": 11,
      "outputs": [
        {
          "output_type": "execute_result",
          "data": {
            "text/html": [
              "<div>\n",
              "<style scoped>\n",
              "    .dataframe tbody tr th:only-of-type {\n",
              "        vertical-align: middle;\n",
              "    }\n",
              "\n",
              "    .dataframe tbody tr th {\n",
              "        vertical-align: top;\n",
              "    }\n",
              "\n",
              "    .dataframe thead th {\n",
              "        text-align: right;\n",
              "    }\n",
              "</style>\n",
              "<table border=\"1\" class=\"dataframe\">\n",
              "  <thead>\n",
              "    <tr style=\"text-align: right;\">\n",
              "      <th></th>\n",
              "      <th>Year</th>\n",
              "      <th>Player(s)</th>\n",
              "      <th>Goals</th>\n",
              "    </tr>\n",
              "  </thead>\n",
              "  <tbody>\n",
              "    <tr>\n",
              "      <th>0</th>\n",
              "      <td>1930</td>\n",
              "      <td>Guillermo Stábile</td>\n",
              "      <td>8</td>\n",
              "    </tr>\n",
              "    <tr>\n",
              "      <th>1</th>\n",
              "      <td>1934</td>\n",
              "      <td>Oldřich Nejedlý</td>\n",
              "      <td>5</td>\n",
              "    </tr>\n",
              "    <tr>\n",
              "      <th>2</th>\n",
              "      <td>1938</td>\n",
              "      <td>Leônidas</td>\n",
              "      <td>7</td>\n",
              "    </tr>\n",
              "    <tr>\n",
              "      <th>3</th>\n",
              "      <td>1950</td>\n",
              "      <td>Ademir</td>\n",
              "      <td>8</td>\n",
              "    </tr>\n",
              "    <tr>\n",
              "      <th>4</th>\n",
              "      <td>1954</td>\n",
              "      <td>Sándor Kocsis</td>\n",
              "      <td>11</td>\n",
              "    </tr>\n",
              "    <tr>\n",
              "      <th>5</th>\n",
              "      <td>1958</td>\n",
              "      <td>Just Fontaine</td>\n",
              "      <td>13</td>\n",
              "    </tr>\n",
              "    <tr>\n",
              "      <th>6</th>\n",
              "      <td>1962</td>\n",
              "      <td>Garrincha, Vavá, Leonel Sánchez, Flórián Alber...</td>\n",
              "      <td>4</td>\n",
              "    </tr>\n",
              "    <tr>\n",
              "      <th>7</th>\n",
              "      <td>1966</td>\n",
              "      <td>Eusébio</td>\n",
              "      <td>9</td>\n",
              "    </tr>\n",
              "    <tr>\n",
              "      <th>8</th>\n",
              "      <td>1970</td>\n",
              "      <td>Gerd Müller</td>\n",
              "      <td>10</td>\n",
              "    </tr>\n",
              "    <tr>\n",
              "      <th>9</th>\n",
              "      <td>1974</td>\n",
              "      <td>Grzegorz Lato</td>\n",
              "      <td>7</td>\n",
              "    </tr>\n",
              "    <tr>\n",
              "      <th>10</th>\n",
              "      <td>1978</td>\n",
              "      <td>Mario Kempes</td>\n",
              "      <td>6</td>\n",
              "    </tr>\n",
              "    <tr>\n",
              "      <th>11</th>\n",
              "      <td>1982</td>\n",
              "      <td>Paolo Rossi</td>\n",
              "      <td>6</td>\n",
              "    </tr>\n",
              "    <tr>\n",
              "      <th>12</th>\n",
              "      <td>1986</td>\n",
              "      <td>Gary Lineker</td>\n",
              "      <td>6</td>\n",
              "    </tr>\n",
              "    <tr>\n",
              "      <th>13</th>\n",
              "      <td>1990</td>\n",
              "      <td>Salvatore Schillaci</td>\n",
              "      <td>6</td>\n",
              "    </tr>\n",
              "    <tr>\n",
              "      <th>14</th>\n",
              "      <td>1994</td>\n",
              "      <td>Hristo Stoichkov, Oleg Salenko</td>\n",
              "      <td>6</td>\n",
              "    </tr>\n",
              "    <tr>\n",
              "      <th>15</th>\n",
              "      <td>1998</td>\n",
              "      <td>Davor Šuker</td>\n",
              "      <td>6</td>\n",
              "    </tr>\n",
              "    <tr>\n",
              "      <th>16</th>\n",
              "      <td>2002</td>\n",
              "      <td>Ronaldo</td>\n",
              "      <td>8</td>\n",
              "    </tr>\n",
              "    <tr>\n",
              "      <th>17</th>\n",
              "      <td>2006</td>\n",
              "      <td>Miroslav Klose</td>\n",
              "      <td>5</td>\n",
              "    </tr>\n",
              "    <tr>\n",
              "      <th>18</th>\n",
              "      <td>2010</td>\n",
              "      <td>Thomas Müller, David Villa, Wesley Sneijder, D...</td>\n",
              "      <td>5</td>\n",
              "    </tr>\n",
              "    <tr>\n",
              "      <th>19</th>\n",
              "      <td>2014</td>\n",
              "      <td>James Rodríguez</td>\n",
              "      <td>6</td>\n",
              "    </tr>\n",
              "    <tr>\n",
              "      <th>20</th>\n",
              "      <td>2018</td>\n",
              "      <td>Harry Kane</td>\n",
              "      <td>6</td>\n",
              "    </tr>\n",
              "  </tbody>\n",
              "</table>\n",
              "</div>"
            ],
            "text/plain": [
              "    Year                                          Player(s)  Goals\n",
              "0   1930                                  Guillermo Stábile      8\n",
              "1   1934                                    Oldřich Nejedlý      5\n",
              "2   1938                                           Leônidas      7\n",
              "3   1950                                             Ademir      8\n",
              "4   1954                                      Sándor Kocsis     11\n",
              "5   1958                                      Just Fontaine     13\n",
              "6   1962  Garrincha, Vavá, Leonel Sánchez, Flórián Alber...      4\n",
              "7   1966                                            Eusébio      9\n",
              "8   1970                                        Gerd Müller     10\n",
              "9   1974                                      Grzegorz Lato      7\n",
              "10  1978                                       Mario Kempes      6\n",
              "11  1982                                        Paolo Rossi      6\n",
              "12  1986                                       Gary Lineker      6\n",
              "13  1990                                Salvatore Schillaci      6\n",
              "14  1994                     Hristo Stoichkov, Oleg Salenko      6\n",
              "15  1998                                        Davor Šuker      6\n",
              "16  2002                                            Ronaldo      8\n",
              "17  2006                                     Miroslav Klose      5\n",
              "18  2010  Thomas Müller, David Villa, Wesley Sneijder, D...      5\n",
              "19  2014                                    James Rodríguez      6\n",
              "20  2018                                         Harry Kane      6"
            ]
          },
          "metadata": {
            "tags": []
          },
          "execution_count": 11
        }
      ]
    },
    {
      "cell_type": "markdown",
      "metadata": {
        "id": "b7nlgMFIrKCo"
      },
      "source": [
        "Mais uma vez, você começará a usar o z-score para identificar anomalias. Como estamos interessados nas superestrelas, desta vez teremos um limite superior. Escolhemos $ z = + 2 $. Acima deste escore z, qualquer jogador será rotulado como uma anomalia."
      ]
    },
    {
      "cell_type": "markdown",
      "metadata": {
        "id": "8NWx1EV2rKCo"
      },
      "source": [
        "Como antes, calculamos a média e o desvio padrão."
      ]
    },
    {
      "cell_type": "code",
      "metadata": {
        "ExecuteTime": {
          "end_time": "2018-12-11T21:02:45.497455Z",
          "start_time": "2018-12-11T21:02:45.492657Z"
        },
        "id": "xK1Qjgx0rKCp",
        "colab": {
          "base_uri": "https://localhost:8080/"
        },
        "outputId": "4bdd970b-180f-4c04-f6d7-429f22cf93b9"
      },
      "source": [
        "mean_goals = top_goals['Goals'].mean()\n",
        "stdev_goals = top_goals['Goals'].std(ddof=0)\n",
        "print('Mean number of goals is {:.2f}'.format(mean_goals))\n",
        "print('Standard deviation is {:.2f}'.format(stdev_goals))"
      ],
      "execution_count": 12,
      "outputs": [
        {
          "output_type": "stream",
          "text": [
            "Mean number of goals is 7.05\n",
            "Standard deviation is 2.15\n"
          ],
          "name": "stdout"
        }
      ]
    },
    {
      "cell_type": "markdown",
      "metadata": {
        "id": "FTefXCAwrKCs"
      },
      "source": [
        "Calcule a pontuação z de cada jogador e adicione o resultado ao quadro de dados."
      ]
    },
    {
      "cell_type": "code",
      "metadata": {
        "ExecuteTime": {
          "end_time": "2018-12-11T21:02:45.513381Z",
          "start_time": "2018-12-11T21:02:45.499739Z"
        },
        "id": "vvqHxGrCrKCs",
        "colab": {
          "base_uri": "https://localhost:8080/",
          "height": 708
        },
        "outputId": "a1706477-b2ff-4bc2-e8fd-ee087274b3c7"
      },
      "source": [
        "zscore_goals = ss.zscore(top_goals['Goals'], ddof=0)\n",
        "top_goals = top_goals.assign(zscore=zscore_goals)\n",
        "top_goals.head(21)"
      ],
      "execution_count": 13,
      "outputs": [
        {
          "output_type": "execute_result",
          "data": {
            "text/html": [
              "<div>\n",
              "<style scoped>\n",
              "    .dataframe tbody tr th:only-of-type {\n",
              "        vertical-align: middle;\n",
              "    }\n",
              "\n",
              "    .dataframe tbody tr th {\n",
              "        vertical-align: top;\n",
              "    }\n",
              "\n",
              "    .dataframe thead th {\n",
              "        text-align: right;\n",
              "    }\n",
              "</style>\n",
              "<table border=\"1\" class=\"dataframe\">\n",
              "  <thead>\n",
              "    <tr style=\"text-align: right;\">\n",
              "      <th></th>\n",
              "      <th>Year</th>\n",
              "      <th>Player(s)</th>\n",
              "      <th>Goals</th>\n",
              "      <th>zscore</th>\n",
              "    </tr>\n",
              "  </thead>\n",
              "  <tbody>\n",
              "    <tr>\n",
              "      <th>0</th>\n",
              "      <td>1930</td>\n",
              "      <td>Guillermo Stábile</td>\n",
              "      <td>8</td>\n",
              "      <td>0.443242</td>\n",
              "    </tr>\n",
              "    <tr>\n",
              "      <th>1</th>\n",
              "      <td>1934</td>\n",
              "      <td>Oldřich Nejedlý</td>\n",
              "      <td>5</td>\n",
              "      <td>-0.952971</td>\n",
              "    </tr>\n",
              "    <tr>\n",
              "      <th>2</th>\n",
              "      <td>1938</td>\n",
              "      <td>Leônidas</td>\n",
              "      <td>7</td>\n",
              "      <td>-0.022162</td>\n",
              "    </tr>\n",
              "    <tr>\n",
              "      <th>3</th>\n",
              "      <td>1950</td>\n",
              "      <td>Ademir</td>\n",
              "      <td>8</td>\n",
              "      <td>0.443242</td>\n",
              "    </tr>\n",
              "    <tr>\n",
              "      <th>4</th>\n",
              "      <td>1954</td>\n",
              "      <td>Sándor Kocsis</td>\n",
              "      <td>11</td>\n",
              "      <td>1.839455</td>\n",
              "    </tr>\n",
              "    <tr>\n",
              "      <th>5</th>\n",
              "      <td>1958</td>\n",
              "      <td>Just Fontaine</td>\n",
              "      <td>13</td>\n",
              "      <td>2.770264</td>\n",
              "    </tr>\n",
              "    <tr>\n",
              "      <th>6</th>\n",
              "      <td>1962</td>\n",
              "      <td>Garrincha, Vavá, Leonel Sánchez, Flórián Alber...</td>\n",
              "      <td>4</td>\n",
              "      <td>-1.418375</td>\n",
              "    </tr>\n",
              "    <tr>\n",
              "      <th>7</th>\n",
              "      <td>1966</td>\n",
              "      <td>Eusébio</td>\n",
              "      <td>9</td>\n",
              "      <td>0.908647</td>\n",
              "    </tr>\n",
              "    <tr>\n",
              "      <th>8</th>\n",
              "      <td>1970</td>\n",
              "      <td>Gerd Müller</td>\n",
              "      <td>10</td>\n",
              "      <td>1.374051</td>\n",
              "    </tr>\n",
              "    <tr>\n",
              "      <th>9</th>\n",
              "      <td>1974</td>\n",
              "      <td>Grzegorz Lato</td>\n",
              "      <td>7</td>\n",
              "      <td>-0.022162</td>\n",
              "    </tr>\n",
              "    <tr>\n",
              "      <th>10</th>\n",
              "      <td>1978</td>\n",
              "      <td>Mario Kempes</td>\n",
              "      <td>6</td>\n",
              "      <td>-0.487566</td>\n",
              "    </tr>\n",
              "    <tr>\n",
              "      <th>11</th>\n",
              "      <td>1982</td>\n",
              "      <td>Paolo Rossi</td>\n",
              "      <td>6</td>\n",
              "      <td>-0.487566</td>\n",
              "    </tr>\n",
              "    <tr>\n",
              "      <th>12</th>\n",
              "      <td>1986</td>\n",
              "      <td>Gary Lineker</td>\n",
              "      <td>6</td>\n",
              "      <td>-0.487566</td>\n",
              "    </tr>\n",
              "    <tr>\n",
              "      <th>13</th>\n",
              "      <td>1990</td>\n",
              "      <td>Salvatore Schillaci</td>\n",
              "      <td>6</td>\n",
              "      <td>-0.487566</td>\n",
              "    </tr>\n",
              "    <tr>\n",
              "      <th>14</th>\n",
              "      <td>1994</td>\n",
              "      <td>Hristo Stoichkov, Oleg Salenko</td>\n",
              "      <td>6</td>\n",
              "      <td>-0.487566</td>\n",
              "    </tr>\n",
              "    <tr>\n",
              "      <th>15</th>\n",
              "      <td>1998</td>\n",
              "      <td>Davor Šuker</td>\n",
              "      <td>6</td>\n",
              "      <td>-0.487566</td>\n",
              "    </tr>\n",
              "    <tr>\n",
              "      <th>16</th>\n",
              "      <td>2002</td>\n",
              "      <td>Ronaldo</td>\n",
              "      <td>8</td>\n",
              "      <td>0.443242</td>\n",
              "    </tr>\n",
              "    <tr>\n",
              "      <th>17</th>\n",
              "      <td>2006</td>\n",
              "      <td>Miroslav Klose</td>\n",
              "      <td>5</td>\n",
              "      <td>-0.952971</td>\n",
              "    </tr>\n",
              "    <tr>\n",
              "      <th>18</th>\n",
              "      <td>2010</td>\n",
              "      <td>Thomas Müller, David Villa, Wesley Sneijder, D...</td>\n",
              "      <td>5</td>\n",
              "      <td>-0.952971</td>\n",
              "    </tr>\n",
              "    <tr>\n",
              "      <th>19</th>\n",
              "      <td>2014</td>\n",
              "      <td>James Rodríguez</td>\n",
              "      <td>6</td>\n",
              "      <td>-0.487566</td>\n",
              "    </tr>\n",
              "    <tr>\n",
              "      <th>20</th>\n",
              "      <td>2018</td>\n",
              "      <td>Harry Kane</td>\n",
              "      <td>6</td>\n",
              "      <td>-0.487566</td>\n",
              "    </tr>\n",
              "  </tbody>\n",
              "</table>\n",
              "</div>"
            ],
            "text/plain": [
              "    Year                                          Player(s)  Goals    zscore\n",
              "0   1930                                  Guillermo Stábile      8  0.443242\n",
              "1   1934                                    Oldřich Nejedlý      5 -0.952971\n",
              "2   1938                                           Leônidas      7 -0.022162\n",
              "3   1950                                             Ademir      8  0.443242\n",
              "4   1954                                      Sándor Kocsis     11  1.839455\n",
              "5   1958                                      Just Fontaine     13  2.770264\n",
              "6   1962  Garrincha, Vavá, Leonel Sánchez, Flórián Alber...      4 -1.418375\n",
              "7   1966                                            Eusébio      9  0.908647\n",
              "8   1970                                        Gerd Müller     10  1.374051\n",
              "9   1974                                      Grzegorz Lato      7 -0.022162\n",
              "10  1978                                       Mario Kempes      6 -0.487566\n",
              "11  1982                                        Paolo Rossi      6 -0.487566\n",
              "12  1986                                       Gary Lineker      6 -0.487566\n",
              "13  1990                                Salvatore Schillaci      6 -0.487566\n",
              "14  1994                     Hristo Stoichkov, Oleg Salenko      6 -0.487566\n",
              "15  1998                                        Davor Šuker      6 -0.487566\n",
              "16  2002                                            Ronaldo      8  0.443242\n",
              "17  2006                                     Miroslav Klose      5 -0.952971\n",
              "18  2010  Thomas Müller, David Villa, Wesley Sneijder, D...      5 -0.952971\n",
              "19  2014                                    James Rodríguez      6 -0.487566\n",
              "20  2018                                         Harry Kane      6 -0.487566"
            ]
          },
          "metadata": {
            "tags": []
          },
          "execution_count": 13
        }
      ]
    },
    {
      "cell_type": "markdown",
      "metadata": {
        "id": "MxYIS7BdrKCv"
      },
      "source": [
        "Agora, modifique a função de plotagem anterior para exibir os resultados."
      ]
    },
    {
      "cell_type": "code",
      "metadata": {
        "ExecuteTime": {
          "end_time": "2018-12-11T21:02:45.520714Z",
          "start_time": "2018-12-11T21:02:45.515396Z"
        },
        "id": "FT2uKt4UrKCv"
      },
      "source": [
        "def plot_anomaly_goals(score_data, threshold):\n",
        "    score_data = score_data.copy().sort_values(ascending=False).values\n",
        "    ranks = np.linspace(1, len(score_data), len(score_data))\n",
        "    mask_outlier = (score_data > threshold)\n",
        "    \n",
        "    plt.figure(dpi=150)\n",
        "    plt.plot(ranks[mask_outlier], score_data[mask_outlier], 'o', color='r', label='anomalies')\n",
        "    plt.plot(ranks[~mask_outlier], score_data[~mask_outlier], 'o', color='b', label='typical player')\n",
        "    plt.axhline(threshold,color='r', label='threshold', alpha=0.5)\n",
        "    plt.legend(loc='upper right')\n",
        "    plt.title('Z-score vs. player', fontweight='bold')\n",
        "    plt.xticks(np.arange(0, 21, step=2.0))\n",
        "    plt.xlabel('Player Rank')\n",
        "    plt.ylabel('Z-score')\n",
        "    plt.show()"
      ],
      "execution_count": 14,
      "outputs": []
    },
    {
      "cell_type": "code",
      "metadata": {
        "ExecuteTime": {
          "end_time": "2018-12-11T21:02:45.811888Z",
          "start_time": "2018-12-11T21:02:45.523305Z"
        },
        "id": "eeAgnEQ_rKCx",
        "colab": {
          "base_uri": "https://localhost:8080/",
          "height": 594
        },
        "outputId": "fc9b9a33-5eb5-4884-cf7d-44915167ae1c"
      },
      "source": [
        "plot_anomaly_goals(top_goals['zscore'], 2)"
      ],
      "execution_count": 15,
      "outputs": [
        {
          "output_type": "display_data",
          "data": {
            "image/png": "[encoded data removed]",
            "text/plain": [
              "<Figure size 900x600 with 1 Axes>"
            ]
          },
          "metadata": {
            "tags": [],
            "needs_background": "light"
          }
        }
      ]
    },
    {
      "cell_type": "markdown",
      "metadata": {
        "id": "QNJD5ufurKC0"
      },
      "source": [
        "Apenas um jogador é escolhido: Just Fontaine."
      ]
    },
    {
      "cell_type": "code",
      "metadata": {
        "ExecuteTime": {
          "end_time": "2018-12-11T21:02:45.823892Z",
          "start_time": "2018-12-11T21:02:45.813801Z"
        },
        "id": "o-W91NB4rKC0",
        "colab": {
          "base_uri": "https://localhost:8080/",
          "height": 81
        },
        "outputId": "07b3c9cc-0448-475b-dbd7-76261df55f9f"
      },
      "source": [
        "zscore_anomalies_players = top_goals[(top_goals['zscore'] > 2)]\n",
        "zscore_anomalies_players"
      ],
      "execution_count": 16,
      "outputs": [
        {
          "output_type": "execute_result",
          "data": {
            "text/html": [
              "<div>\n",
              "<style scoped>\n",
              "    .dataframe tbody tr th:only-of-type {\n",
              "        vertical-align: middle;\n",
              "    }\n",
              "\n",
              "    .dataframe tbody tr th {\n",
              "        vertical-align: top;\n",
              "    }\n",
              "\n",
              "    .dataframe thead th {\n",
              "        text-align: right;\n",
              "    }\n",
              "</style>\n",
              "<table border=\"1\" class=\"dataframe\">\n",
              "  <thead>\n",
              "    <tr style=\"text-align: right;\">\n",
              "      <th></th>\n",
              "      <th>Year</th>\n",
              "      <th>Player(s)</th>\n",
              "      <th>Goals</th>\n",
              "      <th>zscore</th>\n",
              "    </tr>\n",
              "  </thead>\n",
              "  <tbody>\n",
              "    <tr>\n",
              "      <th>5</th>\n",
              "      <td>1958</td>\n",
              "      <td>Just Fontaine</td>\n",
              "      <td>13</td>\n",
              "      <td>2.770264</td>\n",
              "    </tr>\n",
              "  </tbody>\n",
              "</table>\n",
              "</div>"
            ],
            "text/plain": [
              "   Year      Player(s)  Goals    zscore\n",
              "5  1958  Just Fontaine     13  2.770264"
            ]
          },
          "metadata": {
            "tags": []
          },
          "execution_count": 16
        }
      ]
    },
    {
      "cell_type": "markdown",
      "metadata": {
        "id": "LvYiP0x1rKC3"
      },
      "source": [
        "Fontaine era realmente um jogador incrível, mas claramente nossa análise é falha. Olhando para o enredo, vemos que em 12 das 21 competições, o (s) melhor (es) goleador (s) marcou (s) menos do que o número médio de gols (7,05)."
      ]
    },
    {
      "cell_type": "markdown",
      "metadata": {
        "id": "aFjmF16WrKC3"
      },
      "source": [
        "** Pergunta **: O que está acontecendo?"
      ]
    },
    {
      "cell_type": "markdown",
      "metadata": {
        "id": "vPPmihrerKC4"
      },
      "source": [
        "** Resposta **: Estamos vendo um efeito discutido em palestras - a média e o desvio padrão são suscetíveis à presença de anomalias. Com seus 13 gols, o incrível Fontaine está aumentando tanto a média que a maioria dos jogadores fica abaixo. Como resultado, ele se torna a única anomalia."
      ]
    },
    {
      "cell_type": "markdown",
      "metadata": {
        "id": "y4592UqcrKC4"
      },
      "source": [
        "Vamos repetir esta análise com o z-score modificado e ver o que acontece."
      ]
    },
    {
      "cell_type": "code",
      "metadata": {
        "ExecuteTime": {
          "end_time": "2018-12-11T21:02:45.833000Z",
          "start_time": "2018-12-11T21:02:45.827261Z"
        },
        "id": "uDPCA62UrKC5",
        "colab": {
          "base_uri": "https://localhost:8080/"
        },
        "outputId": "bad7d659-c5bd-4cd4-e981-0f85c0780a2d"
      },
      "source": [
        "median_goals = np.median(top_goals['Goals'])\n",
        "median_goals"
      ],
      "execution_count": 17,
      "outputs": [
        {
          "output_type": "execute_result",
          "data": {
            "text/plain": [
              "6.0"
            ]
          },
          "metadata": {
            "tags": []
          },
          "execution_count": 17
        }
      ]
    },
    {
      "cell_type": "markdown",
      "metadata": {
        "id": "EaAuL0odrKC9"
      },
      "source": [
        "Observe que a mediana (6,0) é menor que a média (7,05), como seria esperado no gráfico."
      ]
    },
    {
      "cell_type": "markdown",
      "metadata": {
        "id": "4N2L6sEErKC-"
      },
      "source": [
        "Agora calcule o escore z modificado. Lembre-se de que nas palestras isso foi definido para cada ponto de dados $ x_ {i} $ da seguinte maneira:"
      ]
    },
    {
      "cell_type": "markdown",
      "metadata": {
        "id": "6JkhttkdrKC-"
      },
      "source": [
        "$y_{i} = (x_{i} - \\tilde X)/{\\rm MAD}$"
      ]
    },
    {
      "cell_type": "markdown",
      "metadata": {
        "id": "tpcINr-VrKC_"
      },
      "source": [
        "onde $ \\ til X $ é a mediana dos dados e MAD é a mediana do desvio absoluto da mediana."
      ]
    },
    {
      "cell_type": "markdown",
      "metadata": {
        "id": "szgxtGdnrKC_"
      },
      "source": [
        "Aqui, faremos uma pequena modificação e introduziremos uma correção de consistência $ k $, que nos permitirá usar o MAD como uma estimativa consistente para o desvio padrão. O valor de $ k $ depende da distribuição subjacente dos dados. Por uma questão de simplicidade, usaremos o valor para uma distribuição normal $ k = 1,4826 $ (consulte [https://en.wikipedia.org/wiki/Median_absolute_deviation-16(https://en.wikipedia.org/wiki/Median_absolute_deviation)) .\n",
        "\n",
        "** Nota: ** O fator de correção de $ k = 1,4826 $ ainda assume que os dados subjacentes são normais!"
      ]
    },
    {
      "cell_type": "markdown",
      "metadata": {
        "id": "HsNxloGgrKDA"
      },
      "source": [
        "Portanto, o escore z modificado se torna"
      ]
    },
    {
      "cell_type": "markdown",
      "metadata": {
        "id": "m04PYa7QrKDA"
      },
      "source": [
        "$y_{i} = (x_{i} - \\tilde X)/(k*{\\rm MAD})$"
      ]
    },
    {
      "cell_type": "markdown",
      "metadata": {
        "id": "R4p18RubrKDB"
      },
      "source": [
        "e este é o formulário que usaremos na função abaixo."
      ]
    },
    {
      "cell_type": "code",
      "metadata": {
        "ExecuteTime": {
          "end_time": "2018-12-11T21:02:45.839766Z",
          "start_time": "2018-12-11T21:02:45.835552Z"
        },
        "id": "6ZEbLyoBrKDB"
      },
      "source": [
        "def modified_zscore(data, consistency_correction=1.4826):\n",
        "    \"\"\"\n",
        "    Returns the modified z score and Median Absolute Deviation (MAD) from the scores in data.\n",
        "    The consistency_correction factor converts the MAD to the standard deviation for a given\n",
        "    distribution. The default value (1.4826) is the conversion factor if the underlying data\n",
        "    is normally distributed\n",
        "    \"\"\"\n",
        "    median = np.median(data)\n",
        "    \n",
        "    deviation_from_med = np.array(data) - median\n",
        "\n",
        "    mad = np.median(np.abs(deviation_from_med))\n",
        "    mod_zscore = deviation_from_med/(consistency_correction*mad)\n",
        "    return mod_zscore, mad"
      ],
      "execution_count": 18,
      "outputs": []
    },
    {
      "cell_type": "markdown",
      "metadata": {
        "id": "1XCmPpZUrKDE"
      },
      "source": [
        "Como antes, calcule o escore z modificado para todos os jogadores e depois plote e liste os resultados. Observe que o limite permanece o mesmo em $ y = + 2 $."
      ]
    },
    {
      "cell_type": "code",
      "metadata": {
        "ExecuteTime": {
          "end_time": "2018-12-11T21:02:45.846411Z",
          "start_time": "2018-12-11T21:02:45.842340Z"
        },
        "id": "sQgauZ9crKDE"
      },
      "source": [
        "mod_zscore_goals, mad_goals = modified_zscore(top_goals['Goals'])\n",
        "top_goals = top_goals.assign(mod_zscore=mod_zscore_goals)"
      ],
      "execution_count": 19,
      "outputs": []
    },
    {
      "cell_type": "code",
      "metadata": {
        "ExecuteTime": {
          "end_time": "2018-12-11T21:02:45.854492Z",
          "start_time": "2018-12-11T21:02:45.849249Z"
        },
        "id": "qroaNKfcrKDH"
      },
      "source": [
        "def plot_anomaly_goals_2(score_data, threshold):\n",
        "    score_data = score_data.copy().sort_values(ascending=False).values\n",
        "    ranks = np.linspace(1, len(score_data), len(score_data))\n",
        "    mask_outliers = (score_data > threshold)\n",
        "    \n",
        "    plt.figure(dpi=150)\n",
        "    plt.plot(ranks[mask_outliers], score_data[mask_outliers],'o', color='r',label='anomalies')\n",
        "    plt.plot(ranks[~mask_outliers], score_data[~mask_outliers],'o', color='b', label='typical player')\n",
        "    plt.axhline(threshold,color='r',label='threshold', alpha=0.5)\n",
        "    plt.legend(loc = 'upper right')\n",
        "    plt.title('Modified z-score vs. player', fontweight='bold')\n",
        "    plt.xticks(np.arange(0, 21, step=2.0))\n",
        "    plt.xlabel('Player')\n",
        "    plt.ylabel('Modified z-score')\n",
        "    plt.show()"
      ],
      "execution_count": 20,
      "outputs": []
    },
    {
      "cell_type": "code",
      "metadata": {
        "ExecuteTime": {
          "end_time": "2018-12-11T21:02:46.152457Z",
          "start_time": "2018-12-11T21:02:45.856839Z"
        },
        "id": "QOCXwlqdrKDJ",
        "colab": {
          "base_uri": "https://localhost:8080/",
          "height": 594
        },
        "outputId": "ec8b5531-13ba-4f2d-9104-b579c700f971"
      },
      "source": [
        "plot_anomaly_goals_2(top_goals['mod_zscore'], 2)"
      ],
      "execution_count": 21,
      "outputs": [
        {
          "output_type": "display_data",
          "data": {
            "image/png": "[encoded data removed]",
            "text/plain": [
              "<Figure size 900x600 with 1 Axes>"
            ]
          },
          "metadata": {
            "tags": [],
            "needs_background": "light"
          }
        }
      ]
    },
    {
      "cell_type": "code",
      "metadata": {
        "ExecuteTime": {
          "end_time": "2018-12-11T21:02:46.166568Z",
          "start_time": "2018-12-11T21:02:46.154979Z"
        },
        "id": "XXNN7z0YrKDN",
        "colab": {
          "base_uri": "https://localhost:8080/",
          "height": 175
        },
        "outputId": "780a1275-b63c-43bf-86fa-abceff1fa6c1"
      },
      "source": [
        "mod_zscore_anomalies_players = top_goals[(top_goals['mod_zscore'] > 2)]\n",
        "mod_zscore_anomalies_players"
      ],
      "execution_count": 22,
      "outputs": [
        {
          "output_type": "execute_result",
          "data": {
            "text/html": [
              "<div>\n",
              "<style scoped>\n",
              "    .dataframe tbody tr th:only-of-type {\n",
              "        vertical-align: middle;\n",
              "    }\n",
              "\n",
              "    .dataframe tbody tr th {\n",
              "        vertical-align: top;\n",
              "    }\n",
              "\n",
              "    .dataframe thead th {\n",
              "        text-align: right;\n",
              "    }\n",
              "</style>\n",
              "<table border=\"1\" class=\"dataframe\">\n",
              "  <thead>\n",
              "    <tr style=\"text-align: right;\">\n",
              "      <th></th>\n",
              "      <th>Year</th>\n",
              "      <th>Player(s)</th>\n",
              "      <th>Goals</th>\n",
              "      <th>zscore</th>\n",
              "      <th>mod_zscore</th>\n",
              "    </tr>\n",
              "  </thead>\n",
              "  <tbody>\n",
              "    <tr>\n",
              "      <th>4</th>\n",
              "      <td>1954</td>\n",
              "      <td>Sándor Kocsis</td>\n",
              "      <td>11</td>\n",
              "      <td>1.839455</td>\n",
              "      <td>3.372454</td>\n",
              "    </tr>\n",
              "    <tr>\n",
              "      <th>5</th>\n",
              "      <td>1958</td>\n",
              "      <td>Just Fontaine</td>\n",
              "      <td>13</td>\n",
              "      <td>2.770264</td>\n",
              "      <td>4.721435</td>\n",
              "    </tr>\n",
              "    <tr>\n",
              "      <th>7</th>\n",
              "      <td>1966</td>\n",
              "      <td>Eusébio</td>\n",
              "      <td>9</td>\n",
              "      <td>0.908647</td>\n",
              "      <td>2.023472</td>\n",
              "    </tr>\n",
              "    <tr>\n",
              "      <th>8</th>\n",
              "      <td>1970</td>\n",
              "      <td>Gerd Müller</td>\n",
              "      <td>10</td>\n",
              "      <td>1.374051</td>\n",
              "      <td>2.697963</td>\n",
              "    </tr>\n",
              "  </tbody>\n",
              "</table>\n",
              "</div>"
            ],
            "text/plain": [
              "   Year      Player(s)  Goals    zscore  mod_zscore\n",
              "4  1954  Sándor Kocsis     11  1.839455    3.372454\n",
              "5  1958  Just Fontaine     13  2.770264    4.721435\n",
              "7  1966        Eusébio      9  0.908647    2.023472\n",
              "8  1970    Gerd Müller     10  1.374051    2.697963"
            ]
          },
          "metadata": {
            "tags": []
          },
          "execution_count": 22
        }
      ]
    },
    {
      "cell_type": "markdown",
      "metadata": {
        "id": "9DFd6WeKrKDP"
      },
      "source": [
        "Agora encontramos quatro jogadores anômalos."
      ]
    },
    {
      "cell_type": "markdown",
      "metadata": {
        "id": "9RNLByHfrKDQ"
      },
      "source": [
        "** Pergunta: ** Como o MAD se compara ao desvio padrão calculado anteriormente?"
      ]
    },
    {
      "cell_type": "markdown",
      "metadata": {
        "id": "QyOm2gf3rKDQ"
      },
      "source": [
        "**Answer:** "
      ]
    },
    {
      "cell_type": "code",
      "metadata": {
        "ExecuteTime": {
          "end_time": "2018-12-11T21:02:46.172510Z",
          "start_time": "2018-12-11T21:02:46.168661Z"
        },
        "id": "mtfCzERzrKDR",
        "colab": {
          "base_uri": "https://localhost:8080/"
        },
        "outputId": "27bea038-c941-437d-db49-c8bdfb280bc5"
      },
      "source": [
        "print('The value of MAD is {:.2f}'.format(mad_goals))"
      ],
      "execution_count": 23,
      "outputs": [
        {
          "output_type": "stream",
          "text": [
            "The value of MAD is 1.00\n"
          ],
          "name": "stdout"
        }
      ]
    },
    {
      "cell_type": "markdown",
      "metadata": {
        "id": "n5robBrxrKDU"
      },
      "source": [
        "e $ k * {\\ rm MAD} $ é 1,48, que é menor que o desvio padrão (2,05). Vemos que as anomalias têm um efeito maior no desvio padrão, que depende do quadrado do desvio da média (MAD depende linearmente do desvio)."
      ]
    },
    {
      "cell_type": "markdown",
      "metadata": {
        "id": "Mt3-QW1TrKDV"
      },
      "source": [
        "Obviamente, os dados dos melhores marcadores não são normalmente distribuídos, portanto, não podemos associar probabilidades às nossas pontuações, mas nossa análise mostra a necessidade de pensar no método de pontuação usado com os dados."
      ]
    },
    {
      "cell_type": "code",
      "metadata": {
        "id": "MgkSxC-H7uf-"
      },
      "source": [
        ""
      ],
      "execution_count": null,
      "outputs": []
    }
  ]
}