{
  "nbformat": 4,
  "nbformat_minor": 0,
  "metadata": {
    "colab": {
      "name": "RedesRecorrentespul.ipynb",
      "provenance": [],
      "collapsed_sections": [],
      "toc_visible": true,
      "include_colab_link": true
    },
    "kernelspec": {
      "name": "python3",
      "display_name": "Python 3"
    },
    "accelerator": "GPU"
  },
  "cells": [
    {
      "cell_type": "markdown",
      "metadata": {
        "id": "view-in-github",
        "colab_type": "text"
      },
      "source": [
        "<a href=\"https://colab.research.google.com/github/isaachfp/bi-master/blob/master/RN_Trabalho/RedesRecorrentespul.ipynb\" target=\"_parent\"><img src=\"https://colab.research.google.com/assets/colab-badge.svg\" alt=\"Open In Colab\"/></a>"
      ]
    },
    {
      "cell_type": "markdown",
      "metadata": {
        "id": "bgc8yb4c2W0g"
      },
      "source": [
        "# Recurrent Neural Network - LSTM\n"
      ]
    },
    {
      "cell_type": "markdown",
      "metadata": {
        "id": "aew2N81e35Uc"
      },
      "source": [
        "## Parte 1 - Preprocessamento de Dados"
      ]
    },
    {
      "cell_type": "markdown",
      "metadata": {
        "id": "Z0vulSxH2hHu"
      },
      "source": [
        "### Importar as bibliotecas"
      ]
    },
    {
      "cell_type": "code",
      "metadata": {
        "id": "p2SjiqlE2O08"
      },
      "source": [
        "%tensorflow_version 1.x\n",
        "import numpy as np\n",
        "import matplotlib.pyplot as plt\n",
        "import pandas as pd\n",
        "import os"
      ],
      "execution_count": 127,
      "outputs": []
    },
    {
      "cell_type": "markdown",
      "metadata": {
        "id": "36Q16Udt2l3W"
      },
      "source": [
        "### Importar a base de dados"
      ]
    },
    {
      "cell_type": "code",
      "metadata": {
        "id": "1ivhnWxD2eEG",
        "colab": {
          "base_uri": "https://localhost:8080/",
          "height": 206
        },
        "outputId": "02369126-2f37-4bf9-e128-0572ab6c9ab8"
      },
      "source": [
        "dataset_train = pd.read_csv('train.csv')\n",
        "dataset_train.head()"
      ],
      "execution_count": 128,
      "outputs": [
        {
          "output_type": "execute_result",
          "data": {
            "text/html": [
              "<div>\n",
              "<style scoped>\n",
              "    .dataframe tbody tr th:only-of-type {\n",
              "        vertical-align: middle;\n",
              "    }\n",
              "\n",
              "    .dataframe tbody tr th {\n",
              "        vertical-align: top;\n",
              "    }\n",
              "\n",
              "    .dataframe thead th {\n",
              "        text-align: right;\n",
              "    }\n",
              "</style>\n",
              "<table border=\"1\" class=\"dataframe\">\n",
              "  <thead>\n",
              "    <tr style=\"text-align: right;\">\n",
              "      <th></th>\n",
              "      <th>index</th>\n",
              "      <th>value</th>\n",
              "    </tr>\n",
              "  </thead>\n",
              "  <tbody>\n",
              "    <tr>\n",
              "      <th>0</th>\n",
              "      <td>1974 Jan</td>\n",
              "      <td>3035</td>\n",
              "    </tr>\n",
              "    <tr>\n",
              "      <th>1</th>\n",
              "      <td>1974 Feb</td>\n",
              "      <td>2552</td>\n",
              "    </tr>\n",
              "    <tr>\n",
              "      <th>2</th>\n",
              "      <td>1974 Mar</td>\n",
              "      <td>2704</td>\n",
              "    </tr>\n",
              "    <tr>\n",
              "      <th>3</th>\n",
              "      <td>1974 Apr</td>\n",
              "      <td>2554</td>\n",
              "    </tr>\n",
              "    <tr>\n",
              "      <th>4</th>\n",
              "      <td>1974 May</td>\n",
              "      <td>2014</td>\n",
              "    </tr>\n",
              "  </tbody>\n",
              "</table>\n",
              "</div>"
            ],
            "text/plain": [
              "      index  value\n",
              "0  1974 Jan   3035\n",
              "1  1974 Feb   2552\n",
              "2  1974 Mar   2704\n",
              "3  1974 Apr   2554\n",
              "4  1974 May   2014"
            ]
          },
          "metadata": {
            "tags": []
          },
          "execution_count": 128
        }
      ]
    },
    {
      "cell_type": "code",
      "metadata": {
        "id": "qnVL_m3A2KLJ"
      },
      "source": [
        "training_set = dataset_train.iloc[:, 1:2].values #só coluna da série em si"
      ],
      "execution_count": 129,
      "outputs": []
    },
    {
      "cell_type": "markdown",
      "metadata": {
        "id": "kd39T1zK2ql1"
      },
      "source": [
        "### gráfico da série temporal"
      ]
    },
    {
      "cell_type": "code",
      "metadata": {
        "id": "vMsAFuya2rhr",
        "colab": {
          "base_uri": "https://localhost:8080/",
          "height": 295
        },
        "outputId": "f5a2a157-f634-49f7-8ea7-2184ef56b687"
      },
      "source": [
        "plt.plot(training_set)\n",
        "plt.xlabel(\"tempo\")\n",
        "plt.ylabel(\"numero mortes\")\n",
        "plt.title(\"Doenças pulmonares\")\n",
        "plt.show()"
      ],
      "execution_count": 130,
      "outputs": [
        {
          "output_type": "display_data",
          "data": {
            "image/png": "[encoded data removed]",
            "text/plain": [
              "<Figure size 432x288 with 1 Axes>"
            ]
          },
          "metadata": {
            "tags": [],
            "needs_background": "light"
          }
        }
      ]
    },
    {
      "cell_type": "markdown",
      "metadata": {
        "id": "7p1F7HdB2uJU"
      },
      "source": [
        "### Normalização"
      ]
    },
    {
      "cell_type": "code",
      "metadata": {
        "id": "foeHRZr-2u-L"
      },
      "source": [
        "from sklearn.preprocessing import MinMaxScaler\n",
        "sc = MinMaxScaler(feature_range = (0, 1))\n",
        "training_set_scaled = sc.fit_transform(training_set)"
      ],
      "execution_count": 131,
      "outputs": []
    },
    {
      "cell_type": "markdown",
      "metadata": {
        "id": "uQP8Q7MI21Y9"
      },
      "source": [
        "### Criar a estrutura de dados com janela 10 e output 1"
      ]
    },
    {
      "cell_type": "code",
      "metadata": {
        "id": "C6Ge9ql922cb"
      },
      "source": [
        "window = 15\n",
        "trainSize = len(training_set_scaled)\n",
        "X_train = []\n",
        "y_train = []\n",
        "for i in range(window, trainSize):\n",
        "    X_train.append(training_set_scaled[i-window:i, 0])\n",
        "    y_train.append(training_set_scaled[i, 0])\n",
        "X_train, y_train = np.array(X_train), np.array(y_train)"
      ],
      "execution_count": 132,
      "outputs": []
    },
    {
      "cell_type": "markdown",
      "metadata": {
        "id": "LPBC2LoG24dU"
      },
      "source": [
        "### Reshaping"
      ]
    },
    {
      "cell_type": "code",
      "metadata": {
        "id": "oGwgQUDbdmnS",
        "colab": {
          "base_uri": "https://localhost:8080/"
        },
        "outputId": "29ef1877-f4ae-4ace-966b-97ae9f4af318"
      },
      "source": [
        "X_train.shape"
      ],
      "execution_count": 133,
      "outputs": [
        {
          "output_type": "execute_result",
          "data": {
            "text/plain": [
              "(45, 15)"
            ]
          },
          "metadata": {
            "tags": []
          },
          "execution_count": 133
        }
      ]
    },
    {
      "cell_type": "code",
      "metadata": {
        "id": "b9ZfLlGH25fr"
      },
      "source": [
        "X_train = np.reshape(X_train, (X_train.shape[0], X_train.shape[1], 1))"
      ],
      "execution_count": 134,
      "outputs": []
    },
    {
      "cell_type": "code",
      "metadata": {
        "id": "RxU0axM9diHO",
        "colab": {
          "base_uri": "https://localhost:8080/"
        },
        "outputId": "f1fcb283-f13f-45ba-e8b9-98cb4a9d593c"
      },
      "source": [
        "X_train.shape"
      ],
      "execution_count": 135,
      "outputs": [
        {
          "output_type": "execute_result",
          "data": {
            "text/plain": [
              "(45, 15, 1)"
            ]
          },
          "metadata": {
            "tags": []
          },
          "execution_count": 135
        }
      ]
    },
    {
      "cell_type": "markdown",
      "metadata": {
        "id": "fZhjp7Tf282b"
      },
      "source": [
        "## Parte 2 - Construção da RNN"
      ]
    },
    {
      "cell_type": "markdown",
      "metadata": {
        "id": "RDkAxmMl3EXr"
      },
      "source": [
        "### Bibliotecas necessárias"
      ]
    },
    {
      "cell_type": "code",
      "metadata": {
        "id": "Ifhh9yUo3DpT"
      },
      "source": [
        "from keras.models import Sequential\n",
        "from keras.layers import Dense\n",
        "from keras.layers import LSTM\n",
        "from keras.layers import Dropout"
      ],
      "execution_count": 136,
      "outputs": []
    },
    {
      "cell_type": "code",
      "metadata": {
        "id": "ZRyfdNeLH41V"
      },
      "source": [
        "#hidden_nodes = int(2/3 * (X_train.shape[0] + 1))\n",
        "#print(hidden_nodes)"
      ],
      "execution_count": 137,
      "outputs": []
    },
    {
      "cell_type": "markdown",
      "metadata": {
        "id": "kordpD0_3H7b"
      },
      "source": [
        "### Construção da Rede completa"
      ]
    },
    {
      "cell_type": "code",
      "metadata": {
        "id": "EskB17uo3Iso",
        "colab": {
          "base_uri": "https://localhost:8080/"
        },
        "outputId": "1c082fa5-32ca-45c5-cd95-9248e5ccaace"
      },
      "source": [
        "# Inicializar a RNN\n",
        "regressor = Sequential()\n",
        "\n",
        "# Adicionar a primeira camada LSTM e Dropout \n",
        "regressor.add(LSTM(units = 100, return_sequences = True, input_shape = (X_train.shape[1], 1)))\n",
        "regressor.add(Dropout(0.2))\n",
        " \n",
        "# Adicionar a segunda camada LSTM e Dropout\n",
        "regressor.add(LSTM(units = 80, return_sequences = False))\n",
        "regressor.add(Dropout(0.2))\n",
        " \n",
        "# Adicionar a terceira camada LSTM e Dropout\n",
        "#regressor.add(LSTM(units = 50))\n",
        "#regressor.add(Dropout(0.2))\n",
        " \n",
        "# camada de saída\n",
        "regressor.add(Dense(units = 1))\n",
        " \n",
        "# Compilar a rede\n",
        "regressor.compile(optimizer = 'adam', loss = 'mean_squared_error')\n",
        "\n",
        "# Visualizar a rede\n",
        "regressor.summary()"
      ],
      "execution_count": 138,
      "outputs": [
        {
          "output_type": "stream",
          "text": [
            "Model: \"sequential_7\"\n",
            "_________________________________________________________________\n",
            "Layer (type)                 Output Shape              Param #   \n",
            "=================================================================\n",
            "lstm_13 (LSTM)               (None, 15, 100)           40800     \n",
            "_________________________________________________________________\n",
            "dropout_13 (Dropout)         (None, 15, 100)           0         \n",
            "_________________________________________________________________\n",
            "lstm_14 (LSTM)               (None, 80)                57920     \n",
            "_________________________________________________________________\n",
            "dropout_14 (Dropout)         (None, 80)                0         \n",
            "_________________________________________________________________\n",
            "dense_7 (Dense)              (None, 1)                 81        \n",
            "=================================================================\n",
            "Total params: 98,801\n",
            "Trainable params: 98,801\n",
            "Non-trainable params: 0\n",
            "_________________________________________________________________\n"
          ],
          "name": "stdout"
        }
      ]
    },
    {
      "cell_type": "markdown",
      "metadata": {
        "id": "5j1w28g83iSR"
      },
      "source": [
        "### Treinamento"
      ]
    },
    {
      "cell_type": "code",
      "metadata": {
        "id": "xWKAuKyp3jXv",
        "colab": {
          "base_uri": "https://localhost:8080/"
        },
        "outputId": "811f70a7-acaa-4fb5-cb8b-10cf3f7c1f17"
      },
      "source": [
        "regressor.fit(X_train, y_train, epochs = 250, batch_size = 64)"
      ],
      "execution_count": 139,
      "outputs": [
        {
          "output_type": "stream",
          "text": [
            "Epoch 1/250\n",
            "45/45 [==============================] - 1s 21ms/step - loss: 0.1306\n",
            "Epoch 2/250\n",
            "45/45 [==============================] - 0s 804us/step - loss: 0.0985\n",
            "Epoch 3/250\n",
            "45/45 [==============================] - 0s 911us/step - loss: 0.0768\n",
            "Epoch 4/250\n",
            "45/45 [==============================] - 0s 750us/step - loss: 0.0629\n",
            "Epoch 5/250\n",
            "45/45 [==============================] - 0s 764us/step - loss: 0.0570\n",
            "Epoch 6/250\n",
            "45/45 [==============================] - 0s 759us/step - loss: 0.0661\n",
            "Epoch 7/250\n",
            "45/45 [==============================] - 0s 796us/step - loss: 0.0745\n",
            "Epoch 8/250\n",
            "45/45 [==============================] - 0s 823us/step - loss: 0.0678\n",
            "Epoch 9/250\n",
            "45/45 [==============================] - 0s 814us/step - loss: 0.0629\n",
            "Epoch 10/250\n",
            "45/45 [==============================] - 0s 860us/step - loss: 0.0580\n",
            "Epoch 11/250\n",
            "45/45 [==============================] - 0s 799us/step - loss: 0.0569\n",
            "Epoch 12/250\n",
            "45/45 [==============================] - 0s 811us/step - loss: 0.0606\n",
            "Epoch 13/250\n",
            "45/45 [==============================] - 0s 690us/step - loss: 0.0627\n",
            "Epoch 14/250\n",
            "45/45 [==============================] - 0s 647us/step - loss: 0.0606\n",
            "Epoch 15/250\n",
            "45/45 [==============================] - 0s 606us/step - loss: 0.0624\n",
            "Epoch 16/250\n",
            "45/45 [==============================] - 0s 619us/step - loss: 0.0610\n",
            "Epoch 17/250\n",
            "45/45 [==============================] - 0s 615us/step - loss: 0.0591\n",
            "Epoch 18/250\n",
            "45/45 [==============================] - 0s 598us/step - loss: 0.0570\n",
            "Epoch 19/250\n",
            "45/45 [==============================] - 0s 625us/step - loss: 0.0551\n",
            "Epoch 20/250\n",
            "45/45 [==============================] - 0s 579us/step - loss: 0.0560\n",
            "Epoch 21/250\n",
            "45/45 [==============================] - 0s 618us/step - loss: 0.0546\n",
            "Epoch 22/250\n",
            "45/45 [==============================] - 0s 639us/step - loss: 0.0559\n",
            "Epoch 23/250\n",
            "45/45 [==============================] - 0s 781us/step - loss: 0.0507\n",
            "Epoch 24/250\n",
            "45/45 [==============================] - 0s 641us/step - loss: 0.0529\n",
            "Epoch 25/250\n",
            "45/45 [==============================] - 0s 624us/step - loss: 0.0517\n",
            "Epoch 26/250\n",
            "45/45 [==============================] - 0s 614us/step - loss: 0.0523\n",
            "Epoch 27/250\n",
            "45/45 [==============================] - 0s 644us/step - loss: 0.0485\n",
            "Epoch 28/250\n",
            "45/45 [==============================] - 0s 685us/step - loss: 0.0477\n",
            "Epoch 29/250\n",
            "45/45 [==============================] - 0s 721us/step - loss: 0.0469\n",
            "Epoch 30/250\n",
            "45/45 [==============================] - 0s 679us/step - loss: 0.0448\n",
            "Epoch 31/250\n",
            "45/45 [==============================] - 0s 677us/step - loss: 0.0471\n",
            "Epoch 32/250\n",
            "45/45 [==============================] - 0s 634us/step - loss: 0.0423\n",
            "Epoch 33/250\n",
            "45/45 [==============================] - 0s 628us/step - loss: 0.0426\n",
            "Epoch 34/250\n",
            "45/45 [==============================] - 0s 629us/step - loss: 0.0400\n",
            "Epoch 35/250\n",
            "45/45 [==============================] - 0s 736us/step - loss: 0.0325\n",
            "Epoch 36/250\n",
            "45/45 [==============================] - 0s 639us/step - loss: 0.0337\n",
            "Epoch 37/250\n",
            "45/45 [==============================] - 0s 639us/step - loss: 0.0339\n",
            "Epoch 38/250\n",
            "45/45 [==============================] - 0s 619us/step - loss: 0.0290\n",
            "Epoch 39/250\n",
            "45/45 [==============================] - 0s 623us/step - loss: 0.0284\n",
            "Epoch 40/250\n",
            "45/45 [==============================] - 0s 670us/step - loss: 0.0185\n",
            "Epoch 41/250\n",
            "45/45 [==============================] - 0s 854us/step - loss: 0.0226\n",
            "Epoch 42/250\n",
            "45/45 [==============================] - 0s 895us/step - loss: 0.0198\n",
            "Epoch 43/250\n",
            "45/45 [==============================] - 0s 800us/step - loss: 0.0224\n",
            "Epoch 44/250\n",
            "45/45 [==============================] - 0s 816us/step - loss: 0.0215\n",
            "Epoch 45/250\n",
            "45/45 [==============================] - 0s 807us/step - loss: 0.0186\n",
            "Epoch 46/250\n",
            "45/45 [==============================] - 0s 848us/step - loss: 0.0264\n",
            "Epoch 47/250\n",
            "45/45 [==============================] - 0s 785us/step - loss: 0.0247\n",
            "Epoch 48/250\n",
            "45/45 [==============================] - 0s 829us/step - loss: 0.0274\n",
            "Epoch 49/250\n",
            "45/45 [==============================] - 0s 824us/step - loss: 0.0196\n",
            "Epoch 50/250\n",
            "45/45 [==============================] - 0s 842us/step - loss: 0.0181\n",
            "Epoch 51/250\n",
            "45/45 [==============================] - 0s 818us/step - loss: 0.0205\n",
            "Epoch 52/250\n",
            "45/45 [==============================] - 0s 890us/step - loss: 0.0178\n",
            "Epoch 53/250\n",
            "45/45 [==============================] - 0s 823us/step - loss: 0.0192\n",
            "Epoch 54/250\n",
            "45/45 [==============================] - 0s 812us/step - loss: 0.0198\n",
            "Epoch 55/250\n",
            "45/45 [==============================] - 0s 785us/step - loss: 0.0180\n",
            "Epoch 56/250\n",
            "45/45 [==============================] - 0s 815us/step - loss: 0.0199\n",
            "Epoch 57/250\n",
            "45/45 [==============================] - 0s 821us/step - loss: 0.0178\n",
            "Epoch 58/250\n",
            "45/45 [==============================] - 0s 814us/step - loss: 0.0188\n",
            "Epoch 59/250\n",
            "45/45 [==============================] - 0s 792us/step - loss: 0.0187\n",
            "Epoch 60/250\n",
            "45/45 [==============================] - 0s 920us/step - loss: 0.0175\n",
            "Epoch 61/250\n",
            "45/45 [==============================] - 0s 877us/step - loss: 0.0182\n",
            "Epoch 62/250\n",
            "45/45 [==============================] - 0s 817us/step - loss: 0.0164\n",
            "Epoch 63/250\n",
            "45/45 [==============================] - 0s 887us/step - loss: 0.0157\n",
            "Epoch 64/250\n",
            "45/45 [==============================] - 0s 828us/step - loss: 0.0177\n",
            "Epoch 65/250\n",
            "45/45 [==============================] - 0s 867us/step - loss: 0.0138\n",
            "Epoch 66/250\n",
            "45/45 [==============================] - 0s 881us/step - loss: 0.0144\n",
            "Epoch 67/250\n",
            "45/45 [==============================] - 0s 859us/step - loss: 0.0152\n",
            "Epoch 68/250\n",
            "45/45 [==============================] - 0s 866us/step - loss: 0.0195\n",
            "Epoch 69/250\n",
            "45/45 [==============================] - 0s 786us/step - loss: 0.0154\n",
            "Epoch 70/250\n",
            "45/45 [==============================] - 0s 806us/step - loss: 0.0152\n",
            "Epoch 71/250\n",
            "45/45 [==============================] - 0s 712us/step - loss: 0.0143\n",
            "Epoch 72/250\n",
            "45/45 [==============================] - 0s 588us/step - loss: 0.0164\n",
            "Epoch 73/250\n",
            "45/45 [==============================] - 0s 600us/step - loss: 0.0140\n",
            "Epoch 74/250\n",
            "45/45 [==============================] - 0s 595us/step - loss: 0.0162\n",
            "Epoch 75/250\n",
            "45/45 [==============================] - 0s 633us/step - loss: 0.0136\n",
            "Epoch 76/250\n",
            "45/45 [==============================] - 0s 701us/step - loss: 0.0184\n",
            "Epoch 77/250\n",
            "45/45 [==============================] - 0s 616us/step - loss: 0.0177\n",
            "Epoch 78/250\n",
            "45/45 [==============================] - 0s 571us/step - loss: 0.0142\n",
            "Epoch 79/250\n",
            "45/45 [==============================] - 0s 629us/step - loss: 0.0142\n",
            "Epoch 80/250\n",
            "45/45 [==============================] - 0s 621us/step - loss: 0.0160\n",
            "Epoch 81/250\n",
            "45/45 [==============================] - 0s 609us/step - loss: 0.0136\n",
            "Epoch 82/250\n",
            "45/45 [==============================] - 0s 594us/step - loss: 0.0123\n",
            "Epoch 83/250\n",
            "45/45 [==============================] - 0s 603us/step - loss: 0.0142\n",
            "Epoch 84/250\n",
            "45/45 [==============================] - 0s 695us/step - loss: 0.0141\n",
            "Epoch 85/250\n",
            "45/45 [==============================] - 0s 610us/step - loss: 0.0172\n",
            "Epoch 86/250\n",
            "45/45 [==============================] - 0s 590us/step - loss: 0.0139\n",
            "Epoch 87/250\n",
            "45/45 [==============================] - 0s 612us/step - loss: 0.0159\n",
            "Epoch 88/250\n",
            "45/45 [==============================] - 0s 589us/step - loss: 0.0197\n",
            "Epoch 89/250\n",
            "45/45 [==============================] - 0s 685us/step - loss: 0.0130\n",
            "Epoch 90/250\n",
            "45/45 [==============================] - 0s 666us/step - loss: 0.0154\n",
            "Epoch 91/250\n",
            "45/45 [==============================] - 0s 740us/step - loss: 0.0135\n",
            "Epoch 92/250\n",
            "45/45 [==============================] - 0s 615us/step - loss: 0.0186\n",
            "Epoch 93/250\n",
            "45/45 [==============================] - 0s 693us/step - loss: 0.0130\n",
            "Epoch 94/250\n",
            "45/45 [==============================] - 0s 643us/step - loss: 0.0204\n",
            "Epoch 95/250\n",
            "45/45 [==============================] - 0s 769us/step - loss: 0.0139\n",
            "Epoch 96/250\n",
            "45/45 [==============================] - 0s 658us/step - loss: 0.0150\n",
            "Epoch 97/250\n",
            "45/45 [==============================] - 0s 603us/step - loss: 0.0115\n",
            "Epoch 98/250\n",
            "45/45 [==============================] - 0s 625us/step - loss: 0.0147\n",
            "Epoch 99/250\n",
            "45/45 [==============================] - 0s 649us/step - loss: 0.0139\n",
            "Epoch 100/250\n",
            "45/45 [==============================] - 0s 610us/step - loss: 0.0117\n",
            "Epoch 101/250\n",
            "45/45 [==============================] - 0s 625us/step - loss: 0.0146\n",
            "Epoch 102/250\n",
            "45/45 [==============================] - 0s 621us/step - loss: 0.0165\n",
            "Epoch 103/250\n",
            "45/45 [==============================] - 0s 582us/step - loss: 0.0157\n",
            "Epoch 104/250\n",
            "45/45 [==============================] - 0s 607us/step - loss: 0.0174\n",
            "Epoch 105/250\n",
            "45/45 [==============================] - 0s 676us/step - loss: 0.0126\n",
            "Epoch 106/250\n",
            "45/45 [==============================] - 0s 908us/step - loss: 0.0139\n",
            "Epoch 107/250\n",
            "45/45 [==============================] - 0s 610us/step - loss: 0.0113\n",
            "Epoch 108/250\n",
            "45/45 [==============================] - 0s 703us/step - loss: 0.0158\n",
            "Epoch 109/250\n",
            "45/45 [==============================] - 0s 713us/step - loss: 0.0150\n",
            "Epoch 110/250\n",
            "45/45 [==============================] - 0s 646us/step - loss: 0.0136\n",
            "Epoch 111/250\n",
            "45/45 [==============================] - 0s 616us/step - loss: 0.0154\n",
            "Epoch 112/250\n",
            "45/45 [==============================] - 0s 618us/step - loss: 0.0129\n",
            "Epoch 113/250\n",
            "45/45 [==============================] - 0s 617us/step - loss: 0.0120\n",
            "Epoch 114/250\n",
            "45/45 [==============================] - 0s 614us/step - loss: 0.0153\n",
            "Epoch 115/250\n",
            "45/45 [==============================] - 0s 659us/step - loss: 0.0145\n",
            "Epoch 116/250\n",
            "45/45 [==============================] - 0s 570us/step - loss: 0.0151\n",
            "Epoch 117/250\n",
            "45/45 [==============================] - 0s 745us/step - loss: 0.0128\n",
            "Epoch 118/250\n",
            "45/45 [==============================] - 0s 796us/step - loss: 0.0149\n",
            "Epoch 119/250\n",
            "45/45 [==============================] - 0s 625us/step - loss: 0.0132\n",
            "Epoch 120/250\n",
            "45/45 [==============================] - 0s 632us/step - loss: 0.0156\n",
            "Epoch 121/250\n",
            "45/45 [==============================] - 0s 748us/step - loss: 0.0156\n",
            "Epoch 122/250\n",
            "45/45 [==============================] - 0s 667us/step - loss: 0.0142\n",
            "Epoch 123/250\n",
            "45/45 [==============================] - 0s 669us/step - loss: 0.0131\n",
            "Epoch 124/250\n",
            "45/45 [==============================] - 0s 615us/step - loss: 0.0132\n",
            "Epoch 125/250\n",
            "45/45 [==============================] - 0s 715us/step - loss: 0.0135\n",
            "Epoch 126/250\n",
            "45/45 [==============================] - 0s 660us/step - loss: 0.0144\n",
            "Epoch 127/250\n",
            "45/45 [==============================] - 0s 674us/step - loss: 0.0148\n",
            "Epoch 128/250\n",
            "45/45 [==============================] - 0s 760us/step - loss: 0.0108\n",
            "Epoch 129/250\n",
            "45/45 [==============================] - 0s 622us/step - loss: 0.0142\n",
            "Epoch 130/250\n",
            "45/45 [==============================] - 0s 641us/step - loss: 0.0156\n",
            "Epoch 131/250\n",
            "45/45 [==============================] - 0s 640us/step - loss: 0.0125\n",
            "Epoch 132/250\n",
            "45/45 [==============================] - 0s 636us/step - loss: 0.0118\n",
            "Epoch 133/250\n",
            "45/45 [==============================] - 0s 646us/step - loss: 0.0136\n",
            "Epoch 134/250\n",
            "45/45 [==============================] - 0s 709us/step - loss: 0.0156\n",
            "Epoch 135/250\n",
            "45/45 [==============================] - 0s 616us/step - loss: 0.0132\n",
            "Epoch 136/250\n",
            "45/45 [==============================] - 0s 611us/step - loss: 0.0115\n",
            "Epoch 137/250\n",
            "45/45 [==============================] - 0s 637us/step - loss: 0.0145\n",
            "Epoch 138/250\n",
            "45/45 [==============================] - 0s 614us/step - loss: 0.0120\n",
            "Epoch 139/250\n",
            "45/45 [==============================] - 0s 649us/step - loss: 0.0118\n",
            "Epoch 140/250\n",
            "45/45 [==============================] - 0s 677us/step - loss: 0.0122\n",
            "Epoch 141/250\n",
            "45/45 [==============================] - 0s 668us/step - loss: 0.0147\n",
            "Epoch 142/250\n",
            "45/45 [==============================] - 0s 642us/step - loss: 0.0158\n",
            "Epoch 143/250\n",
            "45/45 [==============================] - 0s 617us/step - loss: 0.0136\n",
            "Epoch 144/250\n",
            "45/45 [==============================] - 0s 621us/step - loss: 0.0138\n",
            "Epoch 145/250\n",
            "45/45 [==============================] - 0s 618us/step - loss: 0.0139\n",
            "Epoch 146/250\n",
            "45/45 [==============================] - 0s 707us/step - loss: 0.0152\n",
            "Epoch 147/250\n",
            "45/45 [==============================] - 0s 601us/step - loss: 0.0129\n",
            "Epoch 148/250\n",
            "45/45 [==============================] - 0s 668us/step - loss: 0.0124\n",
            "Epoch 149/250\n",
            "45/45 [==============================] - 0s 651us/step - loss: 0.0118\n",
            "Epoch 150/250\n",
            "45/45 [==============================] - 0s 631us/step - loss: 0.0144\n",
            "Epoch 151/250\n",
            "45/45 [==============================] - 0s 626us/step - loss: 0.0113\n",
            "Epoch 152/250\n",
            "45/45 [==============================] - 0s 683us/step - loss: 0.0182\n",
            "Epoch 153/250\n",
            "45/45 [==============================] - 0s 677us/step - loss: 0.0124\n",
            "Epoch 154/250\n",
            "45/45 [==============================] - 0s 710us/step - loss: 0.0133\n",
            "Epoch 155/250\n",
            "45/45 [==============================] - 0s 671us/step - loss: 0.0152\n",
            "Epoch 156/250\n",
            "45/45 [==============================] - 0s 617us/step - loss: 0.0149\n",
            "Epoch 157/250\n",
            "45/45 [==============================] - 0s 640us/step - loss: 0.0118\n",
            "Epoch 158/250\n",
            "45/45 [==============================] - 0s 629us/step - loss: 0.0139\n",
            "Epoch 159/250\n",
            "45/45 [==============================] - 0s 633us/step - loss: 0.0141\n",
            "Epoch 160/250\n",
            "45/45 [==============================] - 0s 661us/step - loss: 0.0124\n",
            "Epoch 161/250\n",
            "45/45 [==============================] - 0s 804us/step - loss: 0.0119\n",
            "Epoch 162/250\n",
            "45/45 [==============================] - 0s 623us/step - loss: 0.0129\n",
            "Epoch 163/250\n",
            "45/45 [==============================] - 0s 688us/step - loss: 0.0121\n",
            "Epoch 164/250\n",
            "45/45 [==============================] - 0s 871us/step - loss: 0.0116\n",
            "Epoch 165/250\n",
            "45/45 [==============================] - 0s 712us/step - loss: 0.0129\n",
            "Epoch 166/250\n",
            "45/45 [==============================] - 0s 602us/step - loss: 0.0141\n",
            "Epoch 167/250\n",
            "45/45 [==============================] - 0s 641us/step - loss: 0.0123\n",
            "Epoch 168/250\n",
            "45/45 [==============================] - 0s 632us/step - loss: 0.0141\n",
            "Epoch 169/250\n",
            "45/45 [==============================] - 0s 609us/step - loss: 0.0137\n",
            "Epoch 170/250\n",
            "45/45 [==============================] - 0s 670us/step - loss: 0.0125\n",
            "Epoch 171/250\n",
            "45/45 [==============================] - 0s 684us/step - loss: 0.0148\n",
            "Epoch 172/250\n",
            "45/45 [==============================] - 0s 702us/step - loss: 0.0151\n",
            "Epoch 173/250\n",
            "45/45 [==============================] - 0s 689us/step - loss: 0.0123\n",
            "Epoch 174/250\n",
            "45/45 [==============================] - 0s 687us/step - loss: 0.0122\n",
            "Epoch 175/250\n",
            "45/45 [==============================] - 0s 671us/step - loss: 0.0150\n",
            "Epoch 176/250\n",
            "45/45 [==============================] - 0s 645us/step - loss: 0.0116\n",
            "Epoch 177/250\n",
            "45/45 [==============================] - 0s 645us/step - loss: 0.0095\n",
            "Epoch 178/250\n",
            "45/45 [==============================] - 0s 646us/step - loss: 0.0102\n",
            "Epoch 179/250\n",
            "45/45 [==============================] - 0s 655us/step - loss: 0.0101\n",
            "Epoch 180/250\n",
            "45/45 [==============================] - 0s 657us/step - loss: 0.0128\n",
            "Epoch 181/250\n",
            "45/45 [==============================] - 0s 664us/step - loss: 0.0131\n",
            "Epoch 182/250\n",
            "45/45 [==============================] - 0s 751us/step - loss: 0.0127\n",
            "Epoch 183/250\n",
            "45/45 [==============================] - 0s 673us/step - loss: 0.0117\n",
            "Epoch 184/250\n",
            "45/45 [==============================] - 0s 751us/step - loss: 0.0127\n",
            "Epoch 185/250\n",
            "45/45 [==============================] - 0s 696us/step - loss: 0.0111\n",
            "Epoch 186/250\n",
            "45/45 [==============================] - 0s 621us/step - loss: 0.0114\n",
            "Epoch 187/250\n",
            "45/45 [==============================] - 0s 604us/step - loss: 0.0146\n",
            "Epoch 188/250\n",
            "45/45 [==============================] - 0s 644us/step - loss: 0.0146\n",
            "Epoch 189/250\n",
            "45/45 [==============================] - 0s 644us/step - loss: 0.0111\n",
            "Epoch 190/250\n",
            "45/45 [==============================] - 0s 619us/step - loss: 0.0128\n",
            "Epoch 191/250\n",
            "45/45 [==============================] - 0s 629us/step - loss: 0.0116\n",
            "Epoch 192/250\n",
            "45/45 [==============================] - 0s 570us/step - loss: 0.0090\n",
            "Epoch 193/250\n",
            "45/45 [==============================] - 0s 676us/step - loss: 0.0111\n",
            "Epoch 194/250\n",
            "45/45 [==============================] - 0s 823us/step - loss: 0.0114\n",
            "Epoch 195/250\n",
            "45/45 [==============================] - 0s 708us/step - loss: 0.0128\n",
            "Epoch 196/250\n",
            "45/45 [==============================] - 0s 688us/step - loss: 0.0108\n",
            "Epoch 197/250\n",
            "45/45 [==============================] - 0s 727us/step - loss: 0.0131\n",
            "Epoch 198/250\n",
            "45/45 [==============================] - 0s 649us/step - loss: 0.0126\n",
            "Epoch 199/250\n",
            "45/45 [==============================] - 0s 655us/step - loss: 0.0118\n",
            "Epoch 200/250\n",
            "45/45 [==============================] - 0s 666us/step - loss: 0.0117\n",
            "Epoch 201/250\n",
            "45/45 [==============================] - 0s 640us/step - loss: 0.0104\n",
            "Epoch 202/250\n",
            "45/45 [==============================] - 0s 617us/step - loss: 0.0098\n",
            "Epoch 203/250\n",
            "45/45 [==============================] - 0s 683us/step - loss: 0.0106\n",
            "Epoch 204/250\n",
            "45/45 [==============================] - 0s 720us/step - loss: 0.0143\n",
            "Epoch 205/250\n",
            "45/45 [==============================] - 0s 655us/step - loss: 0.0118\n",
            "Epoch 206/250\n",
            "45/45 [==============================] - 0s 642us/step - loss: 0.0128\n",
            "Epoch 207/250\n",
            "45/45 [==============================] - 0s 646us/step - loss: 0.0110\n",
            "Epoch 208/250\n",
            "45/45 [==============================] - 0s 675us/step - loss: 0.0117\n",
            "Epoch 209/250\n",
            "45/45 [==============================] - 0s 648us/step - loss: 0.0118\n",
            "Epoch 210/250\n",
            "45/45 [==============================] - 0s 700us/step - loss: 0.0123\n",
            "Epoch 211/250\n",
            "45/45 [==============================] - 0s 730us/step - loss: 0.0092\n",
            "Epoch 212/250\n",
            "45/45 [==============================] - 0s 678us/step - loss: 0.0097\n",
            "Epoch 213/250\n",
            "45/45 [==============================] - 0s 743us/step - loss: 0.0119\n",
            "Epoch 214/250\n",
            "45/45 [==============================] - 0s 642us/step - loss: 0.0118\n",
            "Epoch 215/250\n",
            "45/45 [==============================] - 0s 627us/step - loss: 0.0127\n",
            "Epoch 216/250\n",
            "45/45 [==============================] - 0s 691us/step - loss: 0.0110\n",
            "Epoch 217/250\n",
            "45/45 [==============================] - 0s 658us/step - loss: 0.0121\n",
            "Epoch 218/250\n",
            "45/45 [==============================] - 0s 677us/step - loss: 0.0117\n",
            "Epoch 219/250\n",
            "45/45 [==============================] - 0s 859us/step - loss: 0.0110\n",
            "Epoch 220/250\n",
            "45/45 [==============================] - 0s 713us/step - loss: 0.0135\n",
            "Epoch 221/250\n",
            "45/45 [==============================] - 0s 638us/step - loss: 0.0089\n",
            "Epoch 222/250\n",
            "45/45 [==============================] - 0s 669us/step - loss: 0.0138\n",
            "Epoch 223/250\n",
            "45/45 [==============================] - 0s 693us/step - loss: 0.0106\n",
            "Epoch 224/250\n",
            "45/45 [==============================] - 0s 609us/step - loss: 0.0091\n",
            "Epoch 225/250\n",
            "45/45 [==============================] - 0s 640us/step - loss: 0.0117\n",
            "Epoch 226/250\n",
            "45/45 [==============================] - 0s 755us/step - loss: 0.0114\n",
            "Epoch 227/250\n",
            "45/45 [==============================] - 0s 726us/step - loss: 0.0108\n",
            "Epoch 228/250\n",
            "45/45 [==============================] - 0s 833us/step - loss: 0.0108\n",
            "Epoch 229/250\n",
            "45/45 [==============================] - 0s 782us/step - loss: 0.0114\n",
            "Epoch 230/250\n",
            "45/45 [==============================] - 0s 808us/step - loss: 0.0096\n",
            "Epoch 231/250\n",
            "45/45 [==============================] - 0s 871us/step - loss: 0.0126\n",
            "Epoch 232/250\n",
            "45/45 [==============================] - 0s 865us/step - loss: 0.0118\n",
            "Epoch 233/250\n",
            "45/45 [==============================] - 0s 831us/step - loss: 0.0093\n",
            "Epoch 234/250\n",
            "45/45 [==============================] - 0s 793us/step - loss: 0.0110\n",
            "Epoch 235/250\n",
            "45/45 [==============================] - 0s 919us/step - loss: 0.0105\n",
            "Epoch 236/250\n",
            "45/45 [==============================] - 0s 889us/step - loss: 0.0101\n",
            "Epoch 237/250\n",
            "45/45 [==============================] - 0s 866us/step - loss: 0.0097\n",
            "Epoch 238/250\n",
            "45/45 [==============================] - 0s 832us/step - loss: 0.0091\n",
            "Epoch 239/250\n",
            "45/45 [==============================] - 0s 807us/step - loss: 0.0090\n",
            "Epoch 240/250\n",
            "45/45 [==============================] - 0s 804us/step - loss: 0.0097\n",
            "Epoch 241/250\n",
            "45/45 [==============================] - 0s 849us/step - loss: 0.0105\n",
            "Epoch 242/250\n",
            "45/45 [==============================] - 0s 799us/step - loss: 0.0100\n",
            "Epoch 243/250\n",
            "45/45 [==============================] - 0s 875us/step - loss: 0.0091\n",
            "Epoch 244/250\n",
            "45/45 [==============================] - 0s 877us/step - loss: 0.0094\n",
            "Epoch 245/250\n",
            "45/45 [==============================] - 0s 838us/step - loss: 0.0116\n",
            "Epoch 246/250\n",
            "45/45 [==============================] - 0s 821us/step - loss: 0.0110\n",
            "Epoch 247/250\n",
            "45/45 [==============================] - 0s 896us/step - loss: 0.0113\n",
            "Epoch 248/250\n",
            "45/45 [==============================] - 0s 843us/step - loss: 0.0100\n",
            "Epoch 249/250\n",
            "45/45 [==============================] - 0s 840us/step - loss: 0.0112\n",
            "Epoch 250/250\n",
            "45/45 [==============================] - 0s 1ms/step - loss: 0.0096\n"
          ],
          "name": "stdout"
        },
        {
          "output_type": "execute_result",
          "data": {
            "text/plain": [
              "<keras.callbacks.callbacks.History at 0x7fc543285f98>"
            ]
          },
          "metadata": {
            "tags": []
          },
          "execution_count": 139
        }
      ]
    },
    {
      "cell_type": "markdown",
      "metadata": {
        "id": "gwpyImwA3yon"
      },
      "source": [
        "## Parte 3 - Fazer as previsões e analisar os resultados"
      ]
    },
    {
      "cell_type": "markdown",
      "metadata": {
        "id": "wkXRvDjT4V-B"
      },
      "source": [
        "### Base de teste"
      ]
    },
    {
      "cell_type": "code",
      "metadata": {
        "id": "Bn_n72dh30K-"
      },
      "source": [
        "dataset_test = pd.read_csv('test.csv')\n",
        "test_pul = dataset_test.iloc[:, 1:2].values"
      ],
      "execution_count": 140,
      "outputs": []
    },
    {
      "cell_type": "markdown",
      "metadata": {
        "id": "EOo84exH4bfs"
      },
      "source": [
        "### Construir a estrutura para teste"
      ]
    },
    {
      "cell_type": "code",
      "metadata": {
        "id": "ob_-mGA_B5px"
      },
      "source": [
        "dataset_total = pd.concat((dataset_train.iloc[:,1], dataset_test.iloc[:,1]), axis = 0)\n",
        "testLength = len(dataset_test)\n",
        "inputs = dataset_total[len(dataset_total) - testLength - window:].values\n",
        "inputs = inputs.reshape(inputs.shape[0],1)\n",
        "\n",
        "inputs = sc.transform(inputs)\n",
        "X_test = []\n",
        "for i in range(window, inputs.shape[0]): \n",
        "    X_test.append(inputs[i-window:i, 0])\n",
        "X_test = np.array(X_test)\n",
        "\n",
        "X_test = np.reshape(X_test, (X_test.shape[0], X_test.shape[1], 1))"
      ],
      "execution_count": 141,
      "outputs": []
    },
    {
      "cell_type": "markdown",
      "metadata": {
        "id": "rtkB4NA74e1B"
      },
      "source": [
        "### Fazer as previsões"
      ]
    },
    {
      "cell_type": "code",
      "metadata": {
        "id": "nKIq1h-E4g9Z"
      },
      "source": [
        "predicted = regressor.predict(X_test)\n",
        "predicted = sc.inverse_transform(predicted)"
      ],
      "execution_count": 142,
      "outputs": []
    },
    {
      "cell_type": "markdown",
      "metadata": {
        "id": "guvk7yXr4o0g"
      },
      "source": [
        "### Visualizar os resultados de treino e teste"
      ]
    },
    {
      "cell_type": "code",
      "metadata": {
        "id": "tstXl2oS4rIo",
        "colab": {
          "base_uri": "https://localhost:8080/",
          "height": 295
        },
        "outputId": "590960b8-1451-46d4-ca5d-47cdf8bf268f"
      },
      "source": [
        "allTargetData = np.vstack((training_set, test_pul))\n",
        "training_predicted = regressor.predict(X_train)\n",
        "training_predicted = sc.inverse_transform(training_predicted)\n",
        "allForecastedData = np.vstack((training_set[0:window], training_predicted, predicted))\n",
        "plt.plot(allTargetData, color = 'red', label = 'Real')\n",
        "plt.plot(allForecastedData, color = 'blue', label = 'Previsto')\n",
        "plt.title('Previsão de série temporal')\n",
        "plt.xlabel('Tempo')\n",
        "plt.ylabel('Número de mortes')\n",
        "plt.legend()\n",
        "plt.savefig('predictions_training_test.svg')\n",
        "plt.show()"
      ],
      "execution_count": 143,
      "outputs": [
        {
          "output_type": "display_data",
          "data": {
            "image/png": "[encoded data removed]",
            "text/plain": [
              "<Figure size 432x288 with 1 Axes>"
            ]
          },
          "metadata": {
            "tags": [],
            "needs_background": "light"
          }
        }
      ]
    },
    {
      "cell_type": "markdown",
      "metadata": {
        "id": "ytEVhQht4we3"
      },
      "source": [
        "## Parte 4 - Métricas de avaliação"
      ]
    },
    {
      "cell_type": "code",
      "metadata": {
        "id": "rqOonVj64ydu",
        "colab": {
          "base_uri": "https://localhost:8080/"
        },
        "outputId": "4ace8dcf-77c3-457f-801d-e96697701343"
      },
      "source": [
        "import math\n",
        "from sklearn.metrics import mean_squared_error,r2_score\n",
        "rmse = math.sqrt(mean_squared_error(test_pul, predicted))\n",
        "print('RMSE: ', rmse)"
      ],
      "execution_count": 144,
      "outputs": [
        {
          "output_type": "stream",
          "text": [
            "RMSE:  192.19686890089795\n"
          ],
          "name": "stdout"
        }
      ]
    },
    {
      "cell_type": "code",
      "metadata": {
        "id": "ODeley1K42WW",
        "colab": {
          "base_uri": "https://localhost:8080/"
        },
        "outputId": "e05ebb8f-ebae-4f8b-8f1b-99c61d5d1ddc"
      },
      "source": [
        "mse = mean_squared_error(test_pul, predicted)\n",
        "print('MSE: ',mse)"
      ],
      "execution_count": 145,
      "outputs": [
        {
          "output_type": "stream",
          "text": [
            "MSE:  36939.63641530896\n"
          ],
          "name": "stdout"
        }
      ]
    },
    {
      "cell_type": "code",
      "metadata": {
        "id": "L7_uU_8T44QA",
        "colab": {
          "base_uri": "https://localhost:8080/"
        },
        "outputId": "983e2739-cc5c-4a7e-b328-123c402d3f75"
      },
      "source": [
        "mape = np.mean(np.abs((test_pul - predicted) / test_pul)) * 100\n",
        "print('MAPE: ',mape, '%')"
      ],
      "execution_count": 146,
      "outputs": [
        {
          "output_type": "stream",
          "text": [
            "MAPE:  6.696700033176538 %\n"
          ],
          "name": "stdout"
        }
      ]
    },
    {
      "cell_type": "code",
      "metadata": {
        "id": "mgmtdSOq7rG0",
        "colab": {
          "base_uri": "https://localhost:8080/"
        },
        "outputId": "5cb8d71d-4bc8-4723-c8ef-c53921cd8e9b"
      },
      "source": [
        "r2 = r2_score(test_pul,predicted, )\n",
        "print('R2: ', r2)"
      ],
      "execution_count": 147,
      "outputs": [
        {
          "output_type": "stream",
          "text": [
            "R2:  0.8769401079356179\n"
          ],
          "name": "stdout"
        }
      ]
    }
  ]
}