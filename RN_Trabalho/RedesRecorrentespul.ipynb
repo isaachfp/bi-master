{
  "nbformat": 4,
  "nbformat_minor": 0,
  "metadata": {
    "colab": {
      "name": "RedesRecorrentespul.ipynb",
      "provenance": [],
      "collapsed_sections": [],
      "toc_visible": true,
      "include_colab_link": true
    },
    "kernelspec": {
      "name": "python3",
      "display_name": "Python 3"
    },
    "accelerator": "GPU"
  },
  "cells": [
    {
      "cell_type": "markdown",
      "metadata": {
        "id": "view-in-github",
        "colab_type": "text"
      },
      "source": [
        "<a href=\"https://colab.research.google.com/github/isaachfp/bi-master/blob/master/RN_Trabalho/RedesRecorrentespul.ipynb\" target=\"_parent\"><img src=\"https://colab.research.google.com/assets/colab-badge.svg\" alt=\"Open In Colab\"/></a>"
      ]
    },
    {
      "cell_type": "markdown",
      "metadata": {
        "id": "bgc8yb4c2W0g"
      },
      "source": [
        "# Recurrent Neural Network - LSTM\n"
      ]
    },
    {
      "cell_type": "markdown",
      "metadata": {
        "id": "aew2N81e35Uc"
      },
      "source": [
        "## Parte 1 - Preprocessamento de Dados"
      ]
    },
    {
      "cell_type": "markdown",
      "metadata": {
        "id": "Z0vulSxH2hHu"
      },
      "source": [
        "### Importar as bibliotecas"
      ]
    },
    {
      "cell_type": "code",
      "metadata": {
        "id": "p2SjiqlE2O08",
        "colab": {
          "base_uri": "https://localhost:8080/"
        },
        "outputId": "7d4a2505-84e8-4c06-cead-40cf48eb97ea"
      },
      "source": [
        "%tensorflow_version 1.x\n",
        "import numpy as np\n",
        "import matplotlib.pyplot as plt\n",
        "import pandas as pd\n",
        "import os"
      ],
      "execution_count": 1,
      "outputs": [
        {
          "output_type": "stream",
          "text": [
            "TensorFlow 1.x selected.\n"
          ],
          "name": "stdout"
        }
      ]
    },
    {
      "cell_type": "markdown",
      "metadata": {
        "id": "36Q16Udt2l3W"
      },
      "source": [
        "### Importar a base de dados"
      ]
    },
    {
      "cell_type": "code",
      "metadata": {
        "id": "1ivhnWxD2eEG",
        "colab": {
          "base_uri": "https://localhost:8080/",
          "height": 206
        },
        "outputId": "a2348225-bc06-4986-db55-0ed6fd2a512b"
      },
      "source": [
        "dataset_train = pd.read_csv('train.csv')\n",
        "dataset_train.head()"
      ],
      "execution_count": 2,
      "outputs": [
        {
          "output_type": "execute_result",
          "data": {
            "text/html": [
              "<div>\n",
              "<style scoped>\n",
              "    .dataframe tbody tr th:only-of-type {\n",
              "        vertical-align: middle;\n",
              "    }\n",
              "\n",
              "    .dataframe tbody tr th {\n",
              "        vertical-align: top;\n",
              "    }\n",
              "\n",
              "    .dataframe thead th {\n",
              "        text-align: right;\n",
              "    }\n",
              "</style>\n",
              "<table border=\"1\" class=\"dataframe\">\n",
              "  <thead>\n",
              "    <tr style=\"text-align: right;\">\n",
              "      <th></th>\n",
              "      <th>index</th>\n",
              "      <th>value</th>\n",
              "    </tr>\n",
              "  </thead>\n",
              "  <tbody>\n",
              "    <tr>\n",
              "      <th>0</th>\n",
              "      <td>1974 Jan</td>\n",
              "      <td>3035</td>\n",
              "    </tr>\n",
              "    <tr>\n",
              "      <th>1</th>\n",
              "      <td>1974 Feb</td>\n",
              "      <td>2552</td>\n",
              "    </tr>\n",
              "    <tr>\n",
              "      <th>2</th>\n",
              "      <td>1974 Mar</td>\n",
              "      <td>2704</td>\n",
              "    </tr>\n",
              "    <tr>\n",
              "      <th>3</th>\n",
              "      <td>1974 Apr</td>\n",
              "      <td>2554</td>\n",
              "    </tr>\n",
              "    <tr>\n",
              "      <th>4</th>\n",
              "      <td>1974 May</td>\n",
              "      <td>2014</td>\n",
              "    </tr>\n",
              "  </tbody>\n",
              "</table>\n",
              "</div>"
            ],
            "text/plain": [
              "      index  value\n",
              "0  1974 Jan   3035\n",
              "1  1974 Feb   2552\n",
              "2  1974 Mar   2704\n",
              "3  1974 Apr   2554\n",
              "4  1974 May   2014"
            ]
          },
          "metadata": {
            "tags": []
          },
          "execution_count": 2
        }
      ]
    },
    {
      "cell_type": "code",
      "metadata": {
        "id": "qnVL_m3A2KLJ"
      },
      "source": [
        "training_set = dataset_train.iloc[:, 1:2].values #só coluna da série em si"
      ],
      "execution_count": 3,
      "outputs": []
    },
    {
      "cell_type": "markdown",
      "metadata": {
        "id": "kd39T1zK2ql1"
      },
      "source": [
        "### gráfico da série temporal"
      ]
    },
    {
      "cell_type": "code",
      "metadata": {
        "id": "vMsAFuya2rhr",
        "colab": {
          "base_uri": "https://localhost:8080/",
          "height": 295
        },
        "outputId": "467881b3-9196-4185-c224-f929ca25c2be"
      },
      "source": [
        "plt.plot(training_set)\n",
        "plt.xlabel(\"tempo\")\n",
        "plt.ylabel(\"numero mortes\")\n",
        "plt.title(\"Doenças pulmonares\")\n",
        "plt.show()"
      ],
      "execution_count": 4,
      "outputs": [
        {
          "output_type": "display_data",
          "data": {
            "image/png": "[encoded data removed]",
            "text/plain": [
              "<Figure size 432x288 with 1 Axes>"
            ]
          },
          "metadata": {
            "tags": [],
            "needs_background": "light"
          }
        }
      ]
    },
    {
      "cell_type": "markdown",
      "metadata": {
        "id": "7p1F7HdB2uJU"
      },
      "source": [
        "### Normalização"
      ]
    },
    {
      "cell_type": "code",
      "metadata": {
        "id": "foeHRZr-2u-L"
      },
      "source": [
        "from sklearn.preprocessing import MinMaxScaler\n",
        "sc = MinMaxScaler(feature_range = (0, 1))\n",
        "training_set_scaled = sc.fit_transform(training_set)"
      ],
      "execution_count": 5,
      "outputs": []
    },
    {
      "cell_type": "markdown",
      "metadata": {
        "id": "uQP8Q7MI21Y9"
      },
      "source": [
        "### Criar a estrutura de dados com janela 10 e output 1"
      ]
    },
    {
      "cell_type": "code",
      "metadata": {
        "id": "C6Ge9ql922cb"
      },
      "source": [
        "window = 15\n",
        "trainSize = len(training_set_scaled)\n",
        "X_train = []\n",
        "y_train = []\n",
        "for i in range(window, trainSize):\n",
        "    X_train.append(training_set_scaled[i-window:i, 0])\n",
        "    y_train.append(training_set_scaled[i, 0])\n",
        "X_train, y_train = np.array(X_train), np.array(y_train)"
      ],
      "execution_count": 6,
      "outputs": []
    },
    {
      "cell_type": "markdown",
      "metadata": {
        "id": "LPBC2LoG24dU"
      },
      "source": [
        "### Reshaping"
      ]
    },
    {
      "cell_type": "code",
      "metadata": {
        "id": "oGwgQUDbdmnS",
        "colab": {
          "base_uri": "https://localhost:8080/"
        },
        "outputId": "1a4f2e7f-6099-4e85-b90e-4eebc3307762"
      },
      "source": [
        "X_train.shape"
      ],
      "execution_count": 7,
      "outputs": [
        {
          "output_type": "execute_result",
          "data": {
            "text/plain": [
              "(45, 15)"
            ]
          },
          "metadata": {
            "tags": []
          },
          "execution_count": 7
        }
      ]
    },
    {
      "cell_type": "code",
      "metadata": {
        "id": "b9ZfLlGH25fr"
      },
      "source": [
        "X_train = np.reshape(X_train, (X_train.shape[0], X_train.shape[1], 1))"
      ],
      "execution_count": 8,
      "outputs": []
    },
    {
      "cell_type": "code",
      "metadata": {
        "id": "RxU0axM9diHO",
        "colab": {
          "base_uri": "https://localhost:8080/"
        },
        "outputId": "5bc09e8e-a3af-4516-f453-f49b25b1a828"
      },
      "source": [
        "X_train.shape"
      ],
      "execution_count": 9,
      "outputs": [
        {
          "output_type": "execute_result",
          "data": {
            "text/plain": [
              "(45, 15, 1)"
            ]
          },
          "metadata": {
            "tags": []
          },
          "execution_count": 9
        }
      ]
    },
    {
      "cell_type": "markdown",
      "metadata": {
        "id": "fZhjp7Tf282b"
      },
      "source": [
        "## Parte 2 - Construção da RNN"
      ]
    },
    {
      "cell_type": "markdown",
      "metadata": {
        "id": "RDkAxmMl3EXr"
      },
      "source": [
        "### Bibliotecas necessárias"
      ]
    },
    {
      "cell_type": "code",
      "metadata": {
        "id": "Ifhh9yUo3DpT",
        "colab": {
          "base_uri": "https://localhost:8080/"
        },
        "outputId": "14726388-1bc3-4f19-d156-5c6a99ceaba2"
      },
      "source": [
        "from keras.models import Sequential\n",
        "from keras.layers import Dense\n",
        "from keras.layers import LSTM\n",
        "from keras.layers import Dropout"
      ],
      "execution_count": 10,
      "outputs": [
        {
          "output_type": "stream",
          "text": [
            "Using TensorFlow backend.\n"
          ],
          "name": "stderr"
        }
      ]
    },
    {
      "cell_type": "code",
      "metadata": {
        "id": "ZRyfdNeLH41V"
      },
      "source": [
        "#hidden_nodes = int(2/3 * (X_train.shape[0] + 1))\n",
        "#print(hidden_nodes)"
      ],
      "execution_count": 11,
      "outputs": []
    },
    {
      "cell_type": "markdown",
      "metadata": {
        "id": "kordpD0_3H7b"
      },
      "source": [
        "### Construção da Rede completa"
      ]
    },
    {
      "cell_type": "code",
      "metadata": {
        "id": "EskB17uo3Iso",
        "colab": {
          "base_uri": "https://localhost:8080/"
        },
        "outputId": "092c770a-40b2-42e1-bff4-b94278be0fc5"
      },
      "source": [
        "# Inicializar a RNN\n",
        "regressor = Sequential()\n",
        "\n",
        "# Adicionar a primeira camada LSTM e Dropout \n",
        "regressor.add(LSTM(units = 100, return_sequences = True, input_shape = (X_train.shape[1], 1)))\n",
        "regressor.add(Dropout(0.2))\n",
        " \n",
        "# Adicionar a segunda camada LSTM e Dropout\n",
        "regressor.add(LSTM(units = 80, return_sequences = False))\n",
        "regressor.add(Dropout(0.2))\n",
        " \n",
        "# Adicionar a terceira camada LSTM e Dropout\n",
        "#regressor.add(LSTM(units = 50))\n",
        "#regressor.add(Dropout(0.2))\n",
        " \n",
        "# camada de saída\n",
        "regressor.add(Dense(units = 1))\n",
        " \n",
        "# Compilar a rede\n",
        "regressor.compile(optimizer = 'adam', loss = 'mean_squared_error')\n",
        "\n",
        "# Visualizar a rede\n",
        "regressor.summary()"
      ],
      "execution_count": 12,
      "outputs": [
        {
          "output_type": "stream",
          "text": [
            "WARNING:tensorflow:From /tensorflow-1.15.2/python3.6/tensorflow_core/python/ops/resource_variable_ops.py:1630: calling BaseResourceVariable.__init__ (from tensorflow.python.ops.resource_variable_ops) with constraint is deprecated and will be removed in a future version.\n",
            "Instructions for updating:\n",
            "If using Keras pass *_constraint arguments to layers.\n",
            "Model: \"sequential_1\"\n",
            "_________________________________________________________________\n",
            "Layer (type)                 Output Shape              Param #   \n",
            "=================================================================\n",
            "lstm_1 (LSTM)                (None, 15, 100)           40800     \n",
            "_________________________________________________________________\n",
            "dropout_1 (Dropout)          (None, 15, 100)           0         \n",
            "_________________________________________________________________\n",
            "lstm_2 (LSTM)                (None, 80)                57920     \n",
            "_________________________________________________________________\n",
            "dropout_2 (Dropout)          (None, 80)                0         \n",
            "_________________________________________________________________\n",
            "dense_1 (Dense)              (None, 1)                 81        \n",
            "=================================================================\n",
            "Total params: 98,801\n",
            "Trainable params: 98,801\n",
            "Non-trainable params: 0\n",
            "_________________________________________________________________\n"
          ],
          "name": "stdout"
        }
      ]
    },
    {
      "cell_type": "markdown",
      "metadata": {
        "id": "5j1w28g83iSR"
      },
      "source": [
        "### Treinamento"
      ]
    },
    {
      "cell_type": "code",
      "metadata": {
        "id": "xWKAuKyp3jXv",
        "colab": {
          "base_uri": "https://localhost:8080/"
        },
        "outputId": "4cab1223-9465-46e0-932b-44dec2bc852d"
      },
      "source": [
        "regressor.fit(X_train, y_train, epochs = 250, batch_size = 64)"
      ],
      "execution_count": 13,
      "outputs": [
        {
          "output_type": "stream",
          "text": [
            "WARNING:tensorflow:From /tensorflow-1.15.2/python3.6/keras/backend/tensorflow_backend.py:422: The name tf.global_variables is deprecated. Please use tf.compat.v1.global_variables instead.\n",
            "\n",
            "Epoch 1/250\n",
            "45/45 [==============================] - 2s 47ms/step - loss: 0.1485\n",
            "Epoch 2/250\n",
            "45/45 [==============================] - 0s 653us/step - loss: 0.1202\n",
            "Epoch 3/250\n",
            "45/45 [==============================] - 0s 597us/step - loss: 0.0950\n",
            "Epoch 4/250\n",
            "45/45 [==============================] - 0s 591us/step - loss: 0.0745\n",
            "Epoch 5/250\n",
            "45/45 [==============================] - 0s 604us/step - loss: 0.0634\n",
            "Epoch 6/250\n",
            "45/45 [==============================] - 0s 755us/step - loss: 0.0594\n",
            "Epoch 7/250\n",
            "45/45 [==============================] - 0s 608us/step - loss: 0.0626\n",
            "Epoch 8/250\n",
            "45/45 [==============================] - 0s 627us/step - loss: 0.0690\n",
            "Epoch 9/250\n",
            "45/45 [==============================] - 0s 604us/step - loss: 0.0745\n",
            "Epoch 10/250\n",
            "45/45 [==============================] - 0s 622us/step - loss: 0.0630\n",
            "Epoch 11/250\n",
            "45/45 [==============================] - 0s 602us/step - loss: 0.0613\n",
            "Epoch 12/250\n",
            "45/45 [==============================] - 0s 695us/step - loss: 0.0581\n",
            "Epoch 13/250\n",
            "45/45 [==============================] - 0s 609us/step - loss: 0.0572\n",
            "Epoch 14/250\n",
            "45/45 [==============================] - 0s 591us/step - loss: 0.0596\n",
            "Epoch 15/250\n",
            "45/45 [==============================] - 0s 626us/step - loss: 0.0601\n",
            "Epoch 16/250\n",
            "45/45 [==============================] - 0s 668us/step - loss: 0.0608\n",
            "Epoch 17/250\n",
            "45/45 [==============================] - 0s 630us/step - loss: 0.0595\n",
            "Epoch 18/250\n",
            "45/45 [==============================] - 0s 624us/step - loss: 0.0594\n",
            "Epoch 19/250\n",
            "45/45 [==============================] - 0s 570us/step - loss: 0.0607\n",
            "Epoch 20/250\n",
            "45/45 [==============================] - 0s 618us/step - loss: 0.0584\n",
            "Epoch 21/250\n",
            "45/45 [==============================] - 0s 643us/step - loss: 0.0554\n",
            "Epoch 22/250\n",
            "45/45 [==============================] - 0s 631us/step - loss: 0.0518\n",
            "Epoch 23/250\n",
            "45/45 [==============================] - 0s 585us/step - loss: 0.0519\n",
            "Epoch 24/250\n",
            "45/45 [==============================] - 0s 718us/step - loss: 0.0499\n",
            "Epoch 25/250\n",
            "45/45 [==============================] - 0s 726us/step - loss: 0.0525\n",
            "Epoch 26/250\n",
            "45/45 [==============================] - 0s 658us/step - loss: 0.0547\n",
            "Epoch 27/250\n",
            "45/45 [==============================] - 0s 631us/step - loss: 0.0523\n",
            "Epoch 28/250\n",
            "45/45 [==============================] - 0s 653us/step - loss: 0.0505\n",
            "Epoch 29/250\n",
            "45/45 [==============================] - 0s 683us/step - loss: 0.0506\n",
            "Epoch 30/250\n",
            "45/45 [==============================] - 0s 647us/step - loss: 0.0446\n",
            "Epoch 31/250\n",
            "45/45 [==============================] - 0s 666us/step - loss: 0.0460\n",
            "Epoch 32/250\n",
            "45/45 [==============================] - 0s 648us/step - loss: 0.0467\n",
            "Epoch 33/250\n",
            "45/45 [==============================] - 0s 654us/step - loss: 0.0427\n",
            "Epoch 34/250\n",
            "45/45 [==============================] - 0s 651us/step - loss: 0.0404\n",
            "Epoch 35/250\n",
            "45/45 [==============================] - 0s 648us/step - loss: 0.0438\n",
            "Epoch 36/250\n",
            "45/45 [==============================] - 0s 607us/step - loss: 0.0360\n",
            "Epoch 37/250\n",
            "45/45 [==============================] - 0s 636us/step - loss: 0.0354\n",
            "Epoch 38/250\n",
            "45/45 [==============================] - 0s 635us/step - loss: 0.0330\n",
            "Epoch 39/250\n",
            "45/45 [==============================] - 0s 638us/step - loss: 0.0336\n",
            "Epoch 40/250\n",
            "45/45 [==============================] - 0s 776us/step - loss: 0.0286\n",
            "Epoch 41/250\n",
            "45/45 [==============================] - 0s 590us/step - loss: 0.0286\n",
            "Epoch 42/250\n",
            "45/45 [==============================] - 0s 636us/step - loss: 0.0250\n",
            "Epoch 43/250\n",
            "45/45 [==============================] - 0s 633us/step - loss: 0.0261\n",
            "Epoch 44/250\n",
            "45/45 [==============================] - 0s 632us/step - loss: 0.0245\n",
            "Epoch 45/250\n",
            "45/45 [==============================] - 0s 664us/step - loss: 0.0187\n",
            "Epoch 46/250\n",
            "45/45 [==============================] - 0s 755us/step - loss: 0.0156\n",
            "Epoch 47/250\n",
            "45/45 [==============================] - 0s 683us/step - loss: 0.0205\n",
            "Epoch 48/250\n",
            "45/45 [==============================] - 0s 674us/step - loss: 0.0190\n",
            "Epoch 49/250\n",
            "45/45 [==============================] - 0s 683us/step - loss: 0.0213\n",
            "Epoch 50/250\n",
            "45/45 [==============================] - 0s 702us/step - loss: 0.0199\n",
            "Epoch 51/250\n",
            "45/45 [==============================] - 0s 684us/step - loss: 0.0172\n",
            "Epoch 52/250\n",
            "45/45 [==============================] - 0s 645us/step - loss: 0.0170\n",
            "Epoch 53/250\n",
            "45/45 [==============================] - 0s 600us/step - loss: 0.0142\n",
            "Epoch 54/250\n",
            "45/45 [==============================] - 0s 758us/step - loss: 0.0151\n",
            "Epoch 55/250\n",
            "45/45 [==============================] - 0s 668us/step - loss: 0.0157\n",
            "Epoch 56/250\n",
            "45/45 [==============================] - 0s 647us/step - loss: 0.0206\n",
            "Epoch 57/250\n",
            "45/45 [==============================] - 0s 647us/step - loss: 0.0140\n",
            "Epoch 58/250\n",
            "45/45 [==============================] - 0s 643us/step - loss: 0.0186\n",
            "Epoch 59/250\n",
            "45/45 [==============================] - 0s 624us/step - loss: 0.0203\n",
            "Epoch 60/250\n",
            "45/45 [==============================] - 0s 657us/step - loss: 0.0178\n",
            "Epoch 61/250\n",
            "45/45 [==============================] - 0s 707us/step - loss: 0.0168\n",
            "Epoch 62/250\n",
            "45/45 [==============================] - 0s 659us/step - loss: 0.0139\n",
            "Epoch 63/250\n",
            "45/45 [==============================] - 0s 625us/step - loss: 0.0188\n",
            "Epoch 64/250\n",
            "45/45 [==============================] - 0s 712us/step - loss: 0.0148\n",
            "Epoch 65/250\n",
            "45/45 [==============================] - 0s 643us/step - loss: 0.0187\n",
            "Epoch 66/250\n",
            "45/45 [==============================] - 0s 790us/step - loss: 0.0154\n",
            "Epoch 67/250\n",
            "45/45 [==============================] - 0s 824us/step - loss: 0.0133\n",
            "Epoch 68/250\n",
            "45/45 [==============================] - 0s 832us/step - loss: 0.0150\n",
            "Epoch 69/250\n",
            "45/45 [==============================] - 0s 822us/step - loss: 0.0176\n",
            "Epoch 70/250\n",
            "45/45 [==============================] - 0s 825us/step - loss: 0.0142\n",
            "Epoch 71/250\n",
            "45/45 [==============================] - 0s 816us/step - loss: 0.0135\n",
            "Epoch 72/250\n",
            "45/45 [==============================] - 0s 1ms/step - loss: 0.0148\n",
            "Epoch 73/250\n",
            "45/45 [==============================] - 0s 824us/step - loss: 0.0123\n",
            "Epoch 74/250\n",
            "45/45 [==============================] - 0s 801us/step - loss: 0.0124\n",
            "Epoch 75/250\n",
            "45/45 [==============================] - 0s 831us/step - loss: 0.0151\n",
            "Epoch 76/250\n",
            "45/45 [==============================] - 0s 810us/step - loss: 0.0175\n",
            "Epoch 77/250\n",
            "45/45 [==============================] - 0s 891us/step - loss: 0.0154\n",
            "Epoch 78/250\n",
            "45/45 [==============================] - 0s 902us/step - loss: 0.0158\n",
            "Epoch 79/250\n",
            "45/45 [==============================] - 0s 837us/step - loss: 0.0157\n",
            "Epoch 80/250\n",
            "45/45 [==============================] - 0s 699us/step - loss: 0.0151\n",
            "Epoch 81/250\n",
            "45/45 [==============================] - 0s 693us/step - loss: 0.0130\n",
            "Epoch 82/250\n",
            "45/45 [==============================] - 0s 641us/step - loss: 0.0128\n",
            "Epoch 83/250\n",
            "45/45 [==============================] - 0s 675us/step - loss: 0.0124\n",
            "Epoch 84/250\n",
            "45/45 [==============================] - 0s 626us/step - loss: 0.0154\n",
            "Epoch 85/250\n",
            "45/45 [==============================] - 0s 701us/step - loss: 0.0126\n",
            "Epoch 86/250\n",
            "45/45 [==============================] - 0s 651us/step - loss: 0.0149\n",
            "Epoch 87/250\n",
            "45/45 [==============================] - 0s 646us/step - loss: 0.0122\n",
            "Epoch 88/250\n",
            "45/45 [==============================] - 0s 631us/step - loss: 0.0152\n",
            "Epoch 89/250\n",
            "45/45 [==============================] - 0s 659us/step - loss: 0.0143\n",
            "Epoch 90/250\n",
            "45/45 [==============================] - 0s 672us/step - loss: 0.0143\n",
            "Epoch 91/250\n",
            "45/45 [==============================] - 0s 726us/step - loss: 0.0121\n",
            "Epoch 92/250\n",
            "45/45 [==============================] - 0s 633us/step - loss: 0.0158\n",
            "Epoch 93/250\n",
            "45/45 [==============================] - 0s 631us/step - loss: 0.0145\n",
            "Epoch 94/250\n",
            "45/45 [==============================] - 0s 629us/step - loss: 0.0152\n",
            "Epoch 95/250\n",
            "45/45 [==============================] - 0s 638us/step - loss: 0.0139\n",
            "Epoch 96/250\n",
            "45/45 [==============================] - 0s 636us/step - loss: 0.0138\n",
            "Epoch 97/250\n",
            "45/45 [==============================] - 0s 1ms/step - loss: 0.0143\n",
            "Epoch 98/250\n",
            "45/45 [==============================] - 0s 701us/step - loss: 0.0135\n",
            "Epoch 99/250\n",
            "45/45 [==============================] - 0s 611us/step - loss: 0.0131\n",
            "Epoch 100/250\n",
            "45/45 [==============================] - 0s 634us/step - loss: 0.0139\n",
            "Epoch 101/250\n",
            "45/45 [==============================] - 0s 602us/step - loss: 0.0124\n",
            "Epoch 102/250\n",
            "45/45 [==============================] - 0s 828us/step - loss: 0.0141\n",
            "Epoch 103/250\n",
            "45/45 [==============================] - 0s 619us/step - loss: 0.0138\n",
            "Epoch 104/250\n",
            "45/45 [==============================] - 0s 633us/step - loss: 0.0149\n",
            "Epoch 105/250\n",
            "45/45 [==============================] - 0s 646us/step - loss: 0.0164\n",
            "Epoch 106/250\n",
            "45/45 [==============================] - 0s 630us/step - loss: 0.0133\n",
            "Epoch 107/250\n",
            "45/45 [==============================] - 0s 652us/step - loss: 0.0120\n",
            "Epoch 108/250\n",
            "45/45 [==============================] - 0s 619us/step - loss: 0.0149\n",
            "Epoch 109/250\n",
            "45/45 [==============================] - 0s 623us/step - loss: 0.0136\n",
            "Epoch 110/250\n",
            "45/45 [==============================] - 0s 723us/step - loss: 0.0124\n",
            "Epoch 111/250\n",
            "45/45 [==============================] - 0s 653us/step - loss: 0.0146\n",
            "Epoch 112/250\n",
            "45/45 [==============================] - 0s 645us/step - loss: 0.0127\n",
            "Epoch 113/250\n",
            "45/45 [==============================] - 0s 632us/step - loss: 0.0158\n",
            "Epoch 114/250\n",
            "45/45 [==============================] - 0s 661us/step - loss: 0.0127\n",
            "Epoch 115/250\n",
            "45/45 [==============================] - 0s 742us/step - loss: 0.0161\n",
            "Epoch 116/250\n",
            "45/45 [==============================] - 0s 695us/step - loss: 0.0153\n",
            "Epoch 117/250\n",
            "45/45 [==============================] - 0s 682us/step - loss: 0.0145\n",
            "Epoch 118/250\n",
            "45/45 [==============================] - 0s 649us/step - loss: 0.0110\n",
            "Epoch 119/250\n",
            "45/45 [==============================] - 0s 639us/step - loss: 0.0154\n",
            "Epoch 120/250\n",
            "45/45 [==============================] - 0s 663us/step - loss: 0.0134\n",
            "Epoch 121/250\n",
            "45/45 [==============================] - 0s 668us/step - loss: 0.0138\n",
            "Epoch 122/250\n",
            "45/45 [==============================] - 0s 627us/step - loss: 0.0130\n",
            "Epoch 123/250\n",
            "45/45 [==============================] - 0s 642us/step - loss: 0.0130\n",
            "Epoch 124/250\n",
            "45/45 [==============================] - 0s 646us/step - loss: 0.0125\n",
            "Epoch 125/250\n",
            "45/45 [==============================] - 0s 691us/step - loss: 0.0122\n",
            "Epoch 126/250\n",
            "45/45 [==============================] - 0s 822us/step - loss: 0.0131\n",
            "Epoch 127/250\n",
            "45/45 [==============================] - 0s 829us/step - loss: 0.0137\n",
            "Epoch 128/250\n",
            "45/45 [==============================] - 0s 841us/step - loss: 0.0104\n",
            "Epoch 129/250\n",
            "45/45 [==============================] - 0s 816us/step - loss: 0.0128\n",
            "Epoch 130/250\n",
            "45/45 [==============================] - 0s 984us/step - loss: 0.0148\n",
            "Epoch 131/250\n",
            "45/45 [==============================] - 0s 903us/step - loss: 0.0140\n",
            "Epoch 132/250\n",
            "45/45 [==============================] - 0s 824us/step - loss: 0.0139\n",
            "Epoch 133/250\n",
            "45/45 [==============================] - 0s 989us/step - loss: 0.0136\n",
            "Epoch 134/250\n",
            "45/45 [==============================] - 0s 803us/step - loss: 0.0118\n",
            "Epoch 135/250\n",
            "45/45 [==============================] - 0s 786us/step - loss: 0.0132\n",
            "Epoch 136/250\n",
            "45/45 [==============================] - 0s 812us/step - loss: 0.0154\n",
            "Epoch 137/250\n",
            "45/45 [==============================] - 0s 833us/step - loss: 0.0143\n",
            "Epoch 138/250\n",
            "45/45 [==============================] - 0s 839us/step - loss: 0.0140\n",
            "Epoch 139/250\n",
            "45/45 [==============================] - 0s 833us/step - loss: 0.0137\n",
            "Epoch 140/250\n",
            "45/45 [==============================] - 0s 865us/step - loss: 0.0128\n",
            "Epoch 141/250\n",
            "45/45 [==============================] - 0s 876us/step - loss: 0.0128\n",
            "Epoch 142/250\n",
            "45/45 [==============================] - 0s 837us/step - loss: 0.0122\n",
            "Epoch 143/250\n",
            "45/45 [==============================] - 0s 861us/step - loss: 0.0133\n",
            "Epoch 144/250\n",
            "45/45 [==============================] - 0s 937us/step - loss: 0.0109\n",
            "Epoch 145/250\n",
            "45/45 [==============================] - 0s 858us/step - loss: 0.0126\n",
            "Epoch 146/250\n",
            "45/45 [==============================] - 0s 885us/step - loss: 0.0111\n",
            "Epoch 147/250\n",
            "45/45 [==============================] - 0s 825us/step - loss: 0.0107\n",
            "Epoch 148/250\n",
            "45/45 [==============================] - 0s 801us/step - loss: 0.0139\n",
            "Epoch 149/250\n",
            "45/45 [==============================] - 0s 658us/step - loss: 0.0149\n",
            "Epoch 150/250\n",
            "45/45 [==============================] - 0s 655us/step - loss: 0.0120\n",
            "Epoch 151/250\n",
            "45/45 [==============================] - 0s 621us/step - loss: 0.0119\n",
            "Epoch 152/250\n",
            "45/45 [==============================] - 0s 633us/step - loss: 0.0104\n",
            "Epoch 153/250\n",
            "45/45 [==============================] - 0s 895us/step - loss: 0.0139\n",
            "Epoch 154/250\n",
            "45/45 [==============================] - 0s 693us/step - loss: 0.0108\n",
            "Epoch 155/250\n",
            "45/45 [==============================] - 0s 768us/step - loss: 0.0156\n",
            "Epoch 156/250\n",
            "45/45 [==============================] - 0s 682us/step - loss: 0.0146\n",
            "Epoch 157/250\n",
            "45/45 [==============================] - 0s 662us/step - loss: 0.0123\n",
            "Epoch 158/250\n",
            "45/45 [==============================] - 0s 625us/step - loss: 0.0117\n",
            "Epoch 159/250\n",
            "45/45 [==============================] - 0s 645us/step - loss: 0.0111\n",
            "Epoch 160/250\n",
            "45/45 [==============================] - 0s 631us/step - loss: 0.0132\n",
            "Epoch 161/250\n",
            "45/45 [==============================] - 0s 715us/step - loss: 0.0116\n",
            "Epoch 162/250\n",
            "45/45 [==============================] - 0s 821us/step - loss: 0.0111\n",
            "Epoch 163/250\n",
            "45/45 [==============================] - 0s 653us/step - loss: 0.0131\n",
            "Epoch 164/250\n",
            "45/45 [==============================] - 0s 816us/step - loss: 0.0126\n",
            "Epoch 165/250\n",
            "45/45 [==============================] - 0s 646us/step - loss: 0.0113\n",
            "Epoch 166/250\n",
            "45/45 [==============================] - 0s 642us/step - loss: 0.0145\n",
            "Epoch 167/250\n",
            "45/45 [==============================] - 0s 733us/step - loss: 0.0141\n",
            "Epoch 168/250\n",
            "45/45 [==============================] - 0s 695us/step - loss: 0.0121\n",
            "Epoch 169/250\n",
            "45/45 [==============================] - 0s 662us/step - loss: 0.0114\n",
            "Epoch 170/250\n",
            "45/45 [==============================] - 0s 641us/step - loss: 0.0144\n",
            "Epoch 171/250\n",
            "45/45 [==============================] - 0s 671us/step - loss: 0.0119\n",
            "Epoch 172/250\n",
            "45/45 [==============================] - 0s 684us/step - loss: 0.0143\n",
            "Epoch 173/250\n",
            "45/45 [==============================] - 0s 664us/step - loss: 0.0113\n",
            "Epoch 174/250\n",
            "45/45 [==============================] - 0s 661us/step - loss: 0.0129\n",
            "Epoch 175/250\n",
            "45/45 [==============================] - 0s 647us/step - loss: 0.0146\n",
            "Epoch 176/250\n",
            "45/45 [==============================] - 0s 643us/step - loss: 0.0120\n",
            "Epoch 177/250\n",
            "45/45 [==============================] - 0s 679us/step - loss: 0.0122\n",
            "Epoch 178/250\n",
            "45/45 [==============================] - 0s 710us/step - loss: 0.0128\n",
            "Epoch 179/250\n",
            "45/45 [==============================] - 0s 675us/step - loss: 0.0095\n",
            "Epoch 180/250\n",
            "45/45 [==============================] - 0s 780us/step - loss: 0.0123\n",
            "Epoch 181/250\n",
            "45/45 [==============================] - 0s 849us/step - loss: 0.0107\n",
            "Epoch 182/250\n",
            "45/45 [==============================] - 0s 824us/step - loss: 0.0113\n",
            "Epoch 183/250\n",
            "45/45 [==============================] - 0s 891us/step - loss: 0.0127\n",
            "Epoch 184/250\n",
            "45/45 [==============================] - 0s 866us/step - loss: 0.0137\n",
            "Epoch 185/250\n",
            "45/45 [==============================] - 0s 794us/step - loss: 0.0119\n",
            "Epoch 186/250\n",
            "45/45 [==============================] - 0s 704us/step - loss: 0.0116\n",
            "Epoch 187/250\n",
            "45/45 [==============================] - 0s 725us/step - loss: 0.0113\n",
            "Epoch 188/250\n",
            "45/45 [==============================] - 0s 680us/step - loss: 0.0146\n",
            "Epoch 189/250\n",
            "45/45 [==============================] - 0s 642us/step - loss: 0.0095\n",
            "Epoch 190/250\n",
            "45/45 [==============================] - 0s 604us/step - loss: 0.0124\n",
            "Epoch 191/250\n",
            "45/45 [==============================] - 0s 620us/step - loss: 0.0113\n",
            "Epoch 192/250\n",
            "45/45 [==============================] - 0s 784us/step - loss: 0.0120\n",
            "Epoch 193/250\n",
            "45/45 [==============================] - 0s 653us/step - loss: 0.0090\n",
            "Epoch 194/250\n",
            "45/45 [==============================] - 0s 607us/step - loss: 0.0109\n",
            "Epoch 195/250\n",
            "45/45 [==============================] - 0s 656us/step - loss: 0.0130\n",
            "Epoch 196/250\n",
            "45/45 [==============================] - 0s 703us/step - loss: 0.0104\n",
            "Epoch 197/250\n",
            "45/45 [==============================] - 0s 671us/step - loss: 0.0094\n",
            "Epoch 198/250\n",
            "45/45 [==============================] - 0s 712us/step - loss: 0.0108\n",
            "Epoch 199/250\n",
            "45/45 [==============================] - 0s 702us/step - loss: 0.0106\n",
            "Epoch 200/250\n",
            "45/45 [==============================] - 0s 655us/step - loss: 0.0105\n",
            "Epoch 201/250\n",
            "45/45 [==============================] - 0s 643us/step - loss: 0.0129\n",
            "Epoch 202/250\n",
            "45/45 [==============================] - 0s 666us/step - loss: 0.0125\n",
            "Epoch 203/250\n",
            "45/45 [==============================] - 0s 662us/step - loss: 0.0100\n",
            "Epoch 204/250\n",
            "45/45 [==============================] - 0s 685us/step - loss: 0.0115\n",
            "Epoch 205/250\n",
            "45/45 [==============================] - 0s 681us/step - loss: 0.0119\n",
            "Epoch 206/250\n",
            "45/45 [==============================] - 0s 783us/step - loss: 0.0116\n",
            "Epoch 207/250\n",
            "45/45 [==============================] - 0s 770us/step - loss: 0.0103\n",
            "Epoch 208/250\n",
            "45/45 [==============================] - 0s 706us/step - loss: 0.0150\n",
            "Epoch 209/250\n",
            "45/45 [==============================] - 0s 664us/step - loss: 0.0107\n",
            "Epoch 210/250\n",
            "45/45 [==============================] - 0s 664us/step - loss: 0.0119\n",
            "Epoch 211/250\n",
            "45/45 [==============================] - 0s 642us/step - loss: 0.0138\n",
            "Epoch 212/250\n",
            "45/45 [==============================] - 0s 686us/step - loss: 0.0107\n",
            "Epoch 213/250\n",
            "45/45 [==============================] - 0s 665us/step - loss: 0.0142\n",
            "Epoch 214/250\n",
            "45/45 [==============================] - 0s 686us/step - loss: 0.0110\n",
            "Epoch 215/250\n",
            "45/45 [==============================] - 0s 711us/step - loss: 0.0122\n",
            "Epoch 216/250\n",
            "45/45 [==============================] - 0s 714us/step - loss: 0.0123\n",
            "Epoch 217/250\n",
            "45/45 [==============================] - 0s 652us/step - loss: 0.0111\n",
            "Epoch 218/250\n",
            "45/45 [==============================] - 0s 661us/step - loss: 0.0113\n",
            "Epoch 219/250\n",
            "45/45 [==============================] - 0s 726us/step - loss: 0.0122\n",
            "Epoch 220/250\n",
            "45/45 [==============================] - 0s 725us/step - loss: 0.0122\n",
            "Epoch 221/250\n",
            "45/45 [==============================] - 0s 719us/step - loss: 0.0111\n",
            "Epoch 222/250\n",
            "45/45 [==============================] - 0s 677us/step - loss: 0.0112\n",
            "Epoch 223/250\n",
            "45/45 [==============================] - 0s 696us/step - loss: 0.0127\n",
            "Epoch 224/250\n",
            "45/45 [==============================] - 0s 850us/step - loss: 0.0129\n",
            "Epoch 225/250\n",
            "45/45 [==============================] - 0s 625us/step - loss: 0.0117\n",
            "Epoch 226/250\n",
            "45/45 [==============================] - 0s 635us/step - loss: 0.0117\n",
            "Epoch 227/250\n",
            "45/45 [==============================] - 0s 656us/step - loss: 0.0127\n",
            "Epoch 228/250\n",
            "45/45 [==============================] - 0s 650us/step - loss: 0.0138\n",
            "Epoch 229/250\n",
            "45/45 [==============================] - 0s 660us/step - loss: 0.0102\n",
            "Epoch 230/250\n",
            "45/45 [==============================] - 0s 717us/step - loss: 0.0084\n",
            "Epoch 231/250\n",
            "45/45 [==============================] - 0s 810us/step - loss: 0.0098\n",
            "Epoch 232/250\n",
            "45/45 [==============================] - 0s 731us/step - loss: 0.0113\n",
            "Epoch 233/250\n",
            "45/45 [==============================] - 0s 676us/step - loss: 0.0105\n",
            "Epoch 234/250\n",
            "45/45 [==============================] - 0s 687us/step - loss: 0.0107\n",
            "Epoch 235/250\n",
            "45/45 [==============================] - 0s 675us/step - loss: 0.0095\n",
            "Epoch 236/250\n",
            "45/45 [==============================] - 0s 666us/step - loss: 0.0112\n",
            "Epoch 237/250\n",
            "45/45 [==============================] - 0s 657us/step - loss: 0.0141\n",
            "Epoch 238/250\n",
            "45/45 [==============================] - 0s 666us/step - loss: 0.0114\n",
            "Epoch 239/250\n",
            "45/45 [==============================] - 0s 698us/step - loss: 0.0114\n",
            "Epoch 240/250\n",
            "45/45 [==============================] - 0s 788us/step - loss: 0.0108\n",
            "Epoch 241/250\n",
            "45/45 [==============================] - 0s 671us/step - loss: 0.0107\n",
            "Epoch 242/250\n",
            "45/45 [==============================] - 0s 799us/step - loss: 0.0108\n",
            "Epoch 243/250\n",
            "45/45 [==============================] - 0s 875us/step - loss: 0.0109\n",
            "Epoch 244/250\n",
            "45/45 [==============================] - 0s 841us/step - loss: 0.0083\n",
            "Epoch 245/250\n",
            "45/45 [==============================] - 0s 835us/step - loss: 0.0104\n",
            "Epoch 246/250\n",
            "45/45 [==============================] - 0s 881us/step - loss: 0.0103\n",
            "Epoch 247/250\n",
            "45/45 [==============================] - 0s 926us/step - loss: 0.0100\n",
            "Epoch 248/250\n",
            "45/45 [==============================] - 0s 916us/step - loss: 0.0108\n",
            "Epoch 249/250\n",
            "45/45 [==============================] - 0s 892us/step - loss: 0.0085\n",
            "Epoch 250/250\n",
            "45/45 [==============================] - 0s 785us/step - loss: 0.0126\n"
          ],
          "name": "stdout"
        },
        {
          "output_type": "execute_result",
          "data": {
            "text/plain": [
              "<keras.callbacks.callbacks.History at 0x7f5a14912f98>"
            ]
          },
          "metadata": {
            "tags": []
          },
          "execution_count": 13
        }
      ]
    },
    {
      "cell_type": "markdown",
      "metadata": {
        "id": "gwpyImwA3yon"
      },
      "source": [
        "## Parte 3 - Fazer as previsões e analisar os resultados"
      ]
    },
    {
      "cell_type": "markdown",
      "metadata": {
        "id": "wkXRvDjT4V-B"
      },
      "source": [
        "### Base de teste"
      ]
    },
    {
      "cell_type": "code",
      "metadata": {
        "id": "Bn_n72dh30K-"
      },
      "source": [
        "dataset_test = pd.read_csv('test.csv')\n",
        "test_pul = dataset_test.iloc[:, 1:2].values"
      ],
      "execution_count": 14,
      "outputs": []
    },
    {
      "cell_type": "markdown",
      "metadata": {
        "id": "EOo84exH4bfs"
      },
      "source": [
        "### Construir a estrutura para teste"
      ]
    },
    {
      "cell_type": "code",
      "metadata": {
        "id": "ob_-mGA_B5px"
      },
      "source": [
        "dataset_total = pd.concat((dataset_train.iloc[:,1], dataset_test.iloc[:,1]), axis = 0)\n",
        "testLength = len(dataset_test)\n",
        "inputs = dataset_total[len(dataset_total) - testLength - window:].values\n",
        "inputs = inputs.reshape(inputs.shape[0],1)\n",
        "\n",
        "inputs = sc.transform(inputs)\n",
        "X_test = []\n",
        "for i in range(window, inputs.shape[0]): \n",
        "    X_test.append(inputs[i-window:i, 0])\n",
        "X_test = np.array(X_test)\n",
        "\n",
        "X_test = np.reshape(X_test, (X_test.shape[0], X_test.shape[1], 1))"
      ],
      "execution_count": 15,
      "outputs": []
    },
    {
      "cell_type": "markdown",
      "metadata": {
        "id": "rtkB4NA74e1B"
      },
      "source": [
        "### Fazer as previsões"
      ]
    },
    {
      "cell_type": "code",
      "metadata": {
        "id": "nKIq1h-E4g9Z"
      },
      "source": [
        "predicted = regressor.predict(X_test)\n",
        "predicted = sc.inverse_transform(predicted)"
      ],
      "execution_count": 16,
      "outputs": []
    },
    {
      "cell_type": "markdown",
      "metadata": {
        "id": "guvk7yXr4o0g"
      },
      "source": [
        "### Visualizar os resultados de treino e teste"
      ]
    },
    {
      "cell_type": "code",
      "metadata": {
        "id": "tstXl2oS4rIo",
        "colab": {
          "base_uri": "https://localhost:8080/",
          "height": 295
        },
        "outputId": "b0bb483e-3f1c-4e98-d6b9-6d5d68d5c902"
      },
      "source": [
        "allTargetData = np.vstack((training_set, test_pul))\n",
        "training_predicted = regressor.predict(X_train)\n",
        "training_predicted = sc.inverse_transform(training_predicted)\n",
        "allForecastedData = np.vstack((training_set[0:window], training_predicted, predicted))\n",
        "plt.plot(allTargetData, color = 'red', label = 'Real')\n",
        "plt.plot(allForecastedData, color = 'blue', label = 'Previsto')\n",
        "plt.title('Previsão de série temporal')\n",
        "plt.xlabel('Tempo')\n",
        "plt.ylabel('Número de mortes')\n",
        "plt.legend()\n",
        "plt.savefig('predictions_training_test.svg')\n",
        "plt.show()"
      ],
      "execution_count": 17,
      "outputs": [
        {
          "output_type": "display_data",
          "data": {
            "image/png": "[encoded data removed]",
            "text/plain": [
              "<Figure size 432x288 with 1 Axes>"
            ]
          },
          "metadata": {
            "tags": [],
            "needs_background": "light"
          }
        }
      ]
    },
    {
      "cell_type": "markdown",
      "metadata": {
        "id": "ytEVhQht4we3"
      },
      "source": [
        "## Parte 4 - Métricas de avaliação"
      ]
    },
    {
      "cell_type": "code",
      "metadata": {
        "id": "rqOonVj64ydu",
        "colab": {
          "base_uri": "https://localhost:8080/"
        },
        "outputId": "017bdf8a-76b5-47db-e51a-c8f82eb9ae96"
      },
      "source": [
        "import math\n",
        "from sklearn.metrics import mean_squared_error,r2_score\n",
        "rmse = math.sqrt(mean_squared_error(test_pul, predicted))\n",
        "print('RMSE: ', rmse)"
      ],
      "execution_count": 18,
      "outputs": [
        {
          "output_type": "stream",
          "text": [
            "RMSE:  184.98343604851254\n"
          ],
          "name": "stdout"
        }
      ]
    },
    {
      "cell_type": "code",
      "metadata": {
        "id": "ODeley1K42WW",
        "colab": {
          "base_uri": "https://localhost:8080/"
        },
        "outputId": "405af343-c16b-4680-db4c-b5047f82a68e"
      },
      "source": [
        "mse = mean_squared_error(test_pul, predicted)\n",
        "print('MSE: ',mse)"
      ],
      "execution_count": 19,
      "outputs": [
        {
          "output_type": "stream",
          "text": [
            "MSE:  34218.871612314135\n"
          ],
          "name": "stdout"
        }
      ]
    },
    {
      "cell_type": "code",
      "metadata": {
        "id": "L7_uU_8T44QA",
        "colab": {
          "base_uri": "https://localhost:8080/"
        },
        "outputId": "680061d5-edfb-460c-f715-ea0ae38514af"
      },
      "source": [
        "mape = np.mean(np.abs((test_pul - predicted) / test_pul)) * 100\n",
        "print('MAPE: ',mape, '%')"
      ],
      "execution_count": 20,
      "outputs": [
        {
          "output_type": "stream",
          "text": [
            "MAPE:  5.801960418247102 %\n"
          ],
          "name": "stdout"
        }
      ]
    },
    {
      "cell_type": "code",
      "metadata": {
        "id": "mgmtdSOq7rG0",
        "colab": {
          "base_uri": "https://localhost:8080/"
        },
        "outputId": "fff83d02-d977-4622-e039-5ff2775ae9cc"
      },
      "source": [
        "r2 = r2_score(test_pul,predicted, )\n",
        "print('R2: ', r2)"
      ],
      "execution_count": 21,
      "outputs": [
        {
          "output_type": "stream",
          "text": [
            "R2:  0.8860040039421946\n"
          ],
          "name": "stdout"
        }
      ]
    }
  ]
}