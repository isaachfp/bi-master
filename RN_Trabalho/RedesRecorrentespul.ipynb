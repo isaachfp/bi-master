{
  "nbformat": 4,
  "nbformat_minor": 0,
  "metadata": {
    "colab": {
      "name": "RedesRecorrentespul.ipynb",
      "provenance": [],
      "collapsed_sections": [],
      "toc_visible": true
    },
    "kernelspec": {
      "name": "python3",
      "display_name": "Python 3"
    },
    "accelerator": "GPU"
  },
  "cells": [
    {
      "cell_type": "markdown",
      "metadata": {
        "id": "bgc8yb4c2W0g"
      },
      "source": [
        "# Recurrent Neural Network - LSTM\n"
      ]
    },
    {
      "cell_type": "markdown",
      "metadata": {
        "id": "seySPzWOGq6Y"
      },
      "source": [
        "Isaac"
      ]
    },
    {
      "cell_type": "markdown",
      "metadata": {
        "id": "aew2N81e35Uc"
      },
      "source": [
        "## Parte 1 - Preprocessamento de Dados"
      ]
    },
    {
      "cell_type": "markdown",
      "metadata": {
        "id": "Z0vulSxH2hHu"
      },
      "source": [
        "### Importar as bibliotecas"
      ]
    },
    {
      "cell_type": "code",
      "metadata": {
        "id": "p2SjiqlE2O08",
        "outputId": "7d30bab2-4ea2-49a3-e7bb-454da74f1999",
        "colab": {
          "base_uri": "https://localhost:8080/"
        }
      },
      "source": [
        "%tensorflow_version 1.x\n",
        "import numpy as np\n",
        "import matplotlib.pyplot as plt\n",
        "import pandas as pd\n",
        "import os"
      ],
      "execution_count": 1,
      "outputs": [
        {
          "output_type": "stream",
          "text": [
            "TensorFlow 1.x selected.\n"
          ],
          "name": "stdout"
        }
      ]
    },
    {
      "cell_type": "markdown",
      "metadata": {
        "id": "36Q16Udt2l3W"
      },
      "source": [
        "### Importar a base de dados"
      ]
    },
    {
      "cell_type": "code",
      "metadata": {
        "id": "1ivhnWxD2eEG"
      },
      "source": [
        "dataset_train = pd.read_csv('train.csv')\n",
        "training_set = dataset_train.iloc[:, 1:2].values #só coluna da série em si"
      ],
      "execution_count": 2,
      "outputs": []
    },
    {
      "cell_type": "markdown",
      "metadata": {
        "id": "kd39T1zK2ql1"
      },
      "source": [
        "### gráfico da série temporal"
      ]
    },
    {
      "cell_type": "code",
      "metadata": {
        "id": "vMsAFuya2rhr",
        "colab": {
          "base_uri": "https://localhost:8080/",
          "height": 295
        },
        "outputId": "af6f4e69-45dc-42b4-c66e-7ccd53601982"
      },
      "source": [
        "plt.plot(training_set)\n",
        "plt.xlabel(\"tempo\")\n",
        "plt.ylabel(\"numero mortes\")\n",
        "plt.title(\"Doenças pulmonares\")\n",
        "plt.show()"
      ],
      "execution_count": 3,
      "outputs": [
        {
          "output_type": "display_data",
          "data": {
            "image/png": "[encoded data removed]",
            "text/plain": [
              "<Figure size 432x288 with 1 Axes>"
            ]
          },
          "metadata": {
            "tags": [],
            "needs_background": "light"
          }
        }
      ]
    },
    {
      "cell_type": "markdown",
      "metadata": {
        "id": "7p1F7HdB2uJU"
      },
      "source": [
        "### Normalização"
      ]
    },
    {
      "cell_type": "code",
      "metadata": {
        "id": "foeHRZr-2u-L"
      },
      "source": [
        "from sklearn.preprocessing import MinMaxScaler\n",
        "sc = MinMaxScaler(feature_range = (0, 1))\n",
        "training_set_scaled = sc.fit_transform(training_set)"
      ],
      "execution_count": 4,
      "outputs": []
    },
    {
      "cell_type": "markdown",
      "metadata": {
        "id": "uQP8Q7MI21Y9"
      },
      "source": [
        "### Criar a estrutura de dados com janela 10 e output 1"
      ]
    },
    {
      "cell_type": "code",
      "metadata": {
        "id": "C6Ge9ql922cb"
      },
      "source": [
        "window = 10\n",
        "trainSize = len(training_set_scaled)\n",
        "X_train = []\n",
        "y_train = []\n",
        "for i in range(window, trainSize):\n",
        "    X_train.append(training_set_scaled[i-window:i, 0])\n",
        "    y_train.append(training_set_scaled[i, 0])\n",
        "X_train, y_train = np.array(X_train), np.array(y_train)"
      ],
      "execution_count": 5,
      "outputs": []
    },
    {
      "cell_type": "markdown",
      "metadata": {
        "id": "LPBC2LoG24dU"
      },
      "source": [
        "### Reshaping"
      ]
    },
    {
      "cell_type": "code",
      "metadata": {
        "id": "oGwgQUDbdmnS",
        "colab": {
          "base_uri": "https://localhost:8080/"
        },
        "outputId": "dd7cfa13-5aa9-4933-b0ff-c25726decf3f"
      },
      "source": [
        "X_train.shape"
      ],
      "execution_count": 6,
      "outputs": [
        {
          "output_type": "execute_result",
          "data": {
            "text/plain": [
              "(50, 10)"
            ]
          },
          "metadata": {
            "tags": []
          },
          "execution_count": 6
        }
      ]
    },
    {
      "cell_type": "code",
      "metadata": {
        "id": "b9ZfLlGH25fr"
      },
      "source": [
        "X_train = np.reshape(X_train, (X_train.shape[0], X_train.shape[1], 1))"
      ],
      "execution_count": 7,
      "outputs": []
    },
    {
      "cell_type": "code",
      "metadata": {
        "id": "RxU0axM9diHO",
        "colab": {
          "base_uri": "https://localhost:8080/"
        },
        "outputId": "555c9b6f-b53e-4e13-debb-895a7fca8d30"
      },
      "source": [
        "X_train.shape"
      ],
      "execution_count": 8,
      "outputs": [
        {
          "output_type": "execute_result",
          "data": {
            "text/plain": [
              "(50, 10, 1)"
            ]
          },
          "metadata": {
            "tags": []
          },
          "execution_count": 8
        }
      ]
    },
    {
      "cell_type": "markdown",
      "metadata": {
        "id": "fZhjp7Tf282b"
      },
      "source": [
        "## Parte 2 - Construção da RNN"
      ]
    },
    {
      "cell_type": "markdown",
      "metadata": {
        "id": "RDkAxmMl3EXr"
      },
      "source": [
        "### Bibliotecas necessárias"
      ]
    },
    {
      "cell_type": "code",
      "metadata": {
        "id": "Ifhh9yUo3DpT",
        "outputId": "94cb0b19-535a-4d35-c86e-d39b3dc3f5b8",
        "colab": {
          "base_uri": "https://localhost:8080/"
        }
      },
      "source": [
        "from keras.models import Sequential\n",
        "from keras.layers import Dense\n",
        "from keras.layers import LSTM\n",
        "from keras.layers import Dropout"
      ],
      "execution_count": 9,
      "outputs": [
        {
          "output_type": "stream",
          "text": [
            "Using TensorFlow backend.\n"
          ],
          "name": "stderr"
        }
      ]
    },
    {
      "cell_type": "markdown",
      "metadata": {
        "id": "kordpD0_3H7b"
      },
      "source": [
        "### Construção da Rede completa"
      ]
    },
    {
      "cell_type": "code",
      "metadata": {
        "id": "EskB17uo3Iso",
        "colab": {
          "base_uri": "https://localhost:8080/"
        },
        "outputId": "855316ee-93e9-474e-cad6-27e84c461e25"
      },
      "source": [
        "# De acordo com o Talk, este eh o principal bloco para alterar e fazer o trabalho\n",
        "# Inicializar a RNN\n",
        "regressor = Sequential()\n",
        "\n",
        "# Adicionar a primeira camada LSTM e Dropout \n",
        "regressor.add(LSTM(units = 100, return_sequences = True, input_shape = (X_train.shape[1], 1)))\n",
        "regressor.add(Dropout(0.2))\n",
        " \n",
        "# Adicionar a segunda camada LSTM e Dropout\n",
        "regressor.add(LSTM(units = 80, return_sequences = False))\n",
        "regressor.add(Dropout(0.2))\n",
        " \n",
        "# Adicionar a terceira camada LSTM e Dropout\n",
        "#regressor.add(LSTM(units = 50))\n",
        "#regressor.add(Dropout(0.2))\n",
        " \n",
        "# camada de saída\n",
        "regressor.add(Dense(units = 1))\n",
        " \n",
        "# Compilar a rede\n",
        "regressor.compile(optimizer = 'adam', loss = 'mean_squared_error')\n",
        "\n",
        "# Visualizar a rede\n",
        "regressor.summary()"
      ],
      "execution_count": 19,
      "outputs": [
        {
          "output_type": "stream",
          "text": [
            "Model: \"sequential_2\"\n",
            "_________________________________________________________________\n",
            "Layer (type)                 Output Shape              Param #   \n",
            "=================================================================\n",
            "lstm_2 (LSTM)                (None, 10, 100)           40800     \n",
            "_________________________________________________________________\n",
            "dropout_2 (Dropout)          (None, 10, 100)           0         \n",
            "_________________________________________________________________\n",
            "lstm_3 (LSTM)                (None, 80)                57920     \n",
            "_________________________________________________________________\n",
            "dropout_3 (Dropout)          (None, 80)                0         \n",
            "_________________________________________________________________\n",
            "dense_2 (Dense)              (None, 1)                 81        \n",
            "=================================================================\n",
            "Total params: 98,801\n",
            "Trainable params: 98,801\n",
            "Non-trainable params: 0\n",
            "_________________________________________________________________\n"
          ],
          "name": "stdout"
        }
      ]
    },
    {
      "cell_type": "markdown",
      "metadata": {
        "id": "5j1w28g83iSR"
      },
      "source": [
        "### Treinamento"
      ]
    },
    {
      "cell_type": "code",
      "metadata": {
        "id": "xWKAuKyp3jXv",
        "colab": {
          "base_uri": "https://localhost:8080/"
        },
        "outputId": "0a2f786a-ae29-4119-f8b7-bb7179ef6759"
      },
      "source": [
        "regressor.fit(X_train, y_train, epochs = 250, batch_size = 32)"
      ],
      "execution_count": 20,
      "outputs": [
        {
          "output_type": "stream",
          "text": [
            "Epoch 1/250\n",
            "50/50 [==============================] - 1s 11ms/step - loss: 0.1434\n",
            "Epoch 2/250\n",
            "50/50 [==============================] - 0s 810us/step - loss: 0.0967\n",
            "Epoch 3/250\n",
            "50/50 [==============================] - 0s 831us/step - loss: 0.0760\n",
            "Epoch 4/250\n",
            "50/50 [==============================] - 0s 835us/step - loss: 0.0813\n",
            "Epoch 5/250\n",
            "50/50 [==============================] - 0s 815us/step - loss: 0.0853\n",
            "Epoch 6/250\n",
            "50/50 [==============================] - 0s 895us/step - loss: 0.0771\n",
            "Epoch 7/250\n",
            "50/50 [==============================] - 0s 857us/step - loss: 0.0713\n",
            "Epoch 8/250\n",
            "50/50 [==============================] - 0s 831us/step - loss: 0.0711\n",
            "Epoch 9/250\n",
            "50/50 [==============================] - 0s 808us/step - loss: 0.0719\n",
            "Epoch 10/250\n",
            "50/50 [==============================] - 0s 850us/step - loss: 0.0703\n",
            "Epoch 11/250\n",
            "50/50 [==============================] - 0s 870us/step - loss: 0.0677\n",
            "Epoch 12/250\n",
            "50/50 [==============================] - 0s 890us/step - loss: 0.0642\n",
            "Epoch 13/250\n",
            "50/50 [==============================] - 0s 796us/step - loss: 0.0652\n",
            "Epoch 14/250\n",
            "50/50 [==============================] - 0s 819us/step - loss: 0.0618\n",
            "Epoch 15/250\n",
            "50/50 [==============================] - 0s 856us/step - loss: 0.0633\n",
            "Epoch 16/250\n",
            "50/50 [==============================] - 0s 1ms/step - loss: 0.0599\n",
            "Epoch 17/250\n",
            "50/50 [==============================] - 0s 853us/step - loss: 0.0594\n",
            "Epoch 18/250\n",
            "50/50 [==============================] - 0s 815us/step - loss: 0.0582\n",
            "Epoch 19/250\n",
            "50/50 [==============================] - 0s 833us/step - loss: 0.0585\n",
            "Epoch 20/250\n",
            "50/50 [==============================] - 0s 822us/step - loss: 0.0592\n",
            "Epoch 21/250\n",
            "50/50 [==============================] - 0s 871us/step - loss: 0.0554\n",
            "Epoch 22/250\n",
            "50/50 [==============================] - 0s 814us/step - loss: 0.0542\n",
            "Epoch 23/250\n",
            "50/50 [==============================] - 0s 858us/step - loss: 0.0510\n",
            "Epoch 24/250\n",
            "50/50 [==============================] - 0s 899us/step - loss: 0.0509\n",
            "Epoch 25/250\n",
            "50/50 [==============================] - 0s 858us/step - loss: 0.0479\n",
            "Epoch 26/250\n",
            "50/50 [==============================] - 0s 851us/step - loss: 0.0453\n",
            "Epoch 27/250\n",
            "50/50 [==============================] - 0s 837us/step - loss: 0.0443\n",
            "Epoch 28/250\n",
            "50/50 [==============================] - 0s 830us/step - loss: 0.0382\n",
            "Epoch 29/250\n",
            "50/50 [==============================] - 0s 1ms/step - loss: 0.0361\n",
            "Epoch 30/250\n",
            "50/50 [==============================] - 0s 886us/step - loss: 0.0322\n",
            "Epoch 31/250\n",
            "50/50 [==============================] - 0s 888us/step - loss: 0.0336\n",
            "Epoch 32/250\n",
            "50/50 [==============================] - 0s 895us/step - loss: 0.0334\n",
            "Epoch 33/250\n",
            "50/50 [==============================] - 0s 835us/step - loss: 0.0268\n",
            "Epoch 34/250\n",
            "50/50 [==============================] - 0s 832us/step - loss: 0.0239\n",
            "Epoch 35/250\n",
            "50/50 [==============================] - 0s 836us/step - loss: 0.0245\n",
            "Epoch 36/250\n",
            "50/50 [==============================] - 0s 855us/step - loss: 0.0231\n",
            "Epoch 37/250\n",
            "50/50 [==============================] - 0s 852us/step - loss: 0.0210\n",
            "Epoch 38/250\n",
            "50/50 [==============================] - 0s 977us/step - loss: 0.0236\n",
            "Epoch 39/250\n",
            "50/50 [==============================] - 0s 816us/step - loss: 0.0226\n",
            "Epoch 40/250\n",
            "50/50 [==============================] - 0s 960us/step - loss: 0.0202\n",
            "Epoch 41/250\n",
            "50/50 [==============================] - 0s 845us/step - loss: 0.0221\n",
            "Epoch 42/250\n",
            "50/50 [==============================] - 0s 889us/step - loss: 0.0221\n",
            "Epoch 43/250\n",
            "50/50 [==============================] - 0s 891us/step - loss: 0.0195\n",
            "Epoch 44/250\n",
            "50/50 [==============================] - 0s 927us/step - loss: 0.0209\n",
            "Epoch 45/250\n",
            "50/50 [==============================] - 0s 812us/step - loss: 0.0220\n",
            "Epoch 46/250\n",
            "50/50 [==============================] - 0s 869us/step - loss: 0.0212\n",
            "Epoch 47/250\n",
            "50/50 [==============================] - 0s 799us/step - loss: 0.0200\n",
            "Epoch 48/250\n",
            "50/50 [==============================] - 0s 850us/step - loss: 0.0225\n",
            "Epoch 49/250\n",
            "50/50 [==============================] - 0s 874us/step - loss: 0.0197\n",
            "Epoch 50/250\n",
            "50/50 [==============================] - 0s 863us/step - loss: 0.0195\n",
            "Epoch 51/250\n",
            "50/50 [==============================] - 0s 848us/step - loss: 0.0206\n",
            "Epoch 52/250\n",
            "50/50 [==============================] - 0s 825us/step - loss: 0.0226\n",
            "Epoch 53/250\n",
            "50/50 [==============================] - 0s 893us/step - loss: 0.0211\n",
            "Epoch 54/250\n",
            "50/50 [==============================] - 0s 932us/step - loss: 0.0187\n",
            "Epoch 55/250\n",
            "50/50 [==============================] - 0s 925us/step - loss: 0.0194\n",
            "Epoch 56/250\n",
            "50/50 [==============================] - 0s 924us/step - loss: 0.0208\n",
            "Epoch 57/250\n",
            "50/50 [==============================] - 0s 875us/step - loss: 0.0222\n",
            "Epoch 58/250\n",
            "50/50 [==============================] - 0s 891us/step - loss: 0.0171\n",
            "Epoch 59/250\n",
            "50/50 [==============================] - 0s 869us/step - loss: 0.0174\n",
            "Epoch 60/250\n",
            "50/50 [==============================] - 0s 1ms/step - loss: 0.0201\n",
            "Epoch 61/250\n",
            "50/50 [==============================] - 0s 1ms/step - loss: 0.0195\n",
            "Epoch 62/250\n",
            "50/50 [==============================] - 0s 866us/step - loss: 0.0204\n",
            "Epoch 63/250\n",
            "50/50 [==============================] - 0s 848us/step - loss: 0.0173\n",
            "Epoch 64/250\n",
            "50/50 [==============================] - 0s 857us/step - loss: 0.0170\n",
            "Epoch 65/250\n",
            "50/50 [==============================] - 0s 900us/step - loss: 0.0180\n",
            "Epoch 66/250\n",
            "50/50 [==============================] - 0s 854us/step - loss: 0.0175\n",
            "Epoch 67/250\n",
            "50/50 [==============================] - 0s 868us/step - loss: 0.0165\n",
            "Epoch 68/250\n",
            "50/50 [==============================] - 0s 849us/step - loss: 0.0169\n",
            "Epoch 69/250\n",
            "50/50 [==============================] - 0s 891us/step - loss: 0.0171\n",
            "Epoch 70/250\n",
            "50/50 [==============================] - 0s 935us/step - loss: 0.0162\n",
            "Epoch 71/250\n",
            "50/50 [==============================] - 0s 901us/step - loss: 0.0188\n",
            "Epoch 72/250\n",
            "50/50 [==============================] - 0s 938us/step - loss: 0.0183\n",
            "Epoch 73/250\n",
            "50/50 [==============================] - 0s 961us/step - loss: 0.0175\n",
            "Epoch 74/250\n",
            "50/50 [==============================] - 0s 864us/step - loss: 0.0172\n",
            "Epoch 75/250\n",
            "50/50 [==============================] - 0s 878us/step - loss: 0.0183\n",
            "Epoch 76/250\n",
            "50/50 [==============================] - 0s 894us/step - loss: 0.0158\n",
            "Epoch 77/250\n",
            "50/50 [==============================] - 0s 869us/step - loss: 0.0140\n",
            "Epoch 78/250\n",
            "50/50 [==============================] - 0s 947us/step - loss: 0.0182\n",
            "Epoch 79/250\n",
            "50/50 [==============================] - 0s 1ms/step - loss: 0.0190\n",
            "Epoch 80/250\n",
            "50/50 [==============================] - 0s 942us/step - loss: 0.0155\n",
            "Epoch 81/250\n",
            "50/50 [==============================] - 0s 882us/step - loss: 0.0179\n",
            "Epoch 82/250\n",
            "50/50 [==============================] - 0s 886us/step - loss: 0.0137\n",
            "Epoch 83/250\n",
            "50/50 [==============================] - 0s 1ms/step - loss: 0.0173\n",
            "Epoch 84/250\n",
            "50/50 [==============================] - 0s 924us/step - loss: 0.0149\n",
            "Epoch 85/250\n",
            "50/50 [==============================] - 0s 1ms/step - loss: 0.0166\n",
            "Epoch 86/250\n",
            "50/50 [==============================] - 0s 898us/step - loss: 0.0147\n",
            "Epoch 87/250\n",
            "50/50 [==============================] - 0s 897us/step - loss: 0.0147\n",
            "Epoch 88/250\n",
            "50/50 [==============================] - 0s 919us/step - loss: 0.0129\n",
            "Epoch 89/250\n",
            "50/50 [==============================] - 0s 885us/step - loss: 0.0161\n",
            "Epoch 90/250\n",
            "50/50 [==============================] - 0s 892us/step - loss: 0.0155\n",
            "Epoch 91/250\n",
            "50/50 [==============================] - 0s 912us/step - loss: 0.0151\n",
            "Epoch 92/250\n",
            "50/50 [==============================] - 0s 921us/step - loss: 0.0123\n",
            "Epoch 93/250\n",
            "50/50 [==============================] - 0s 970us/step - loss: 0.0137\n",
            "Epoch 94/250\n",
            "50/50 [==============================] - 0s 953us/step - loss: 0.0152\n",
            "Epoch 95/250\n",
            "50/50 [==============================] - 0s 1ms/step - loss: 0.0147\n",
            "Epoch 96/250\n",
            "50/50 [==============================] - 0s 1ms/step - loss: 0.0133\n",
            "Epoch 97/250\n",
            "50/50 [==============================] - 0s 932us/step - loss: 0.0139\n",
            "Epoch 98/250\n",
            "50/50 [==============================] - 0s 978us/step - loss: 0.0143\n",
            "Epoch 99/250\n",
            "50/50 [==============================] - 0s 1ms/step - loss: 0.0141\n",
            "Epoch 100/250\n",
            "50/50 [==============================] - 0s 918us/step - loss: 0.0126\n",
            "Epoch 101/250\n",
            "50/50 [==============================] - 0s 918us/step - loss: 0.0127\n",
            "Epoch 102/250\n",
            "50/50 [==============================] - 0s 1ms/step - loss: 0.0120\n",
            "Epoch 103/250\n",
            "50/50 [==============================] - 0s 1ms/step - loss: 0.0139\n",
            "Epoch 104/250\n",
            "50/50 [==============================] - 0s 876us/step - loss: 0.0115\n",
            "Epoch 105/250\n",
            "50/50 [==============================] - 0s 1ms/step - loss: 0.0129\n",
            "Epoch 106/250\n",
            "50/50 [==============================] - 0s 873us/step - loss: 0.0102\n",
            "Epoch 107/250\n",
            "50/50 [==============================] - 0s 919us/step - loss: 0.0115\n",
            "Epoch 108/250\n",
            "50/50 [==============================] - 0s 886us/step - loss: 0.0129\n",
            "Epoch 109/250\n",
            "50/50 [==============================] - 0s 853us/step - loss: 0.0105\n",
            "Epoch 110/250\n",
            "50/50 [==============================] - 0s 861us/step - loss: 0.0127\n",
            "Epoch 111/250\n",
            "50/50 [==============================] - 0s 863us/step - loss: 0.0144\n",
            "Epoch 112/250\n",
            "50/50 [==============================] - 0s 791us/step - loss: 0.0128\n",
            "Epoch 113/250\n",
            "50/50 [==============================] - 0s 828us/step - loss: 0.0107\n",
            "Epoch 114/250\n",
            "50/50 [==============================] - 0s 902us/step - loss: 0.0131\n",
            "Epoch 115/250\n",
            "50/50 [==============================] - 0s 1ms/step - loss: 0.0133\n",
            "Epoch 116/250\n",
            "50/50 [==============================] - 0s 843us/step - loss: 0.0118\n",
            "Epoch 117/250\n",
            "50/50 [==============================] - 0s 892us/step - loss: 0.0113\n",
            "Epoch 118/250\n",
            "50/50 [==============================] - 0s 934us/step - loss: 0.0125\n",
            "Epoch 119/250\n",
            "50/50 [==============================] - 0s 880us/step - loss: 0.0137\n",
            "Epoch 120/250\n",
            "50/50 [==============================] - 0s 855us/step - loss: 0.0146\n",
            "Epoch 121/250\n",
            "50/50 [==============================] - 0s 837us/step - loss: 0.0133\n",
            "Epoch 122/250\n",
            "50/50 [==============================] - 0s 833us/step - loss: 0.0110\n",
            "Epoch 123/250\n",
            "50/50 [==============================] - 0s 894us/step - loss: 0.0120\n",
            "Epoch 124/250\n",
            "50/50 [==============================] - 0s 881us/step - loss: 0.0131\n",
            "Epoch 125/250\n",
            "50/50 [==============================] - 0s 867us/step - loss: 0.0135\n",
            "Epoch 126/250\n",
            "50/50 [==============================] - 0s 1ms/step - loss: 0.0117\n",
            "Epoch 127/250\n",
            "50/50 [==============================] - 0s 954us/step - loss: 0.0112\n",
            "Epoch 128/250\n",
            "50/50 [==============================] - 0s 882us/step - loss: 0.0142\n",
            "Epoch 129/250\n",
            "50/50 [==============================] - 0s 858us/step - loss: 0.0112\n",
            "Epoch 130/250\n",
            "50/50 [==============================] - 0s 876us/step - loss: 0.0109\n",
            "Epoch 131/250\n",
            "50/50 [==============================] - 0s 908us/step - loss: 0.0126\n",
            "Epoch 132/250\n",
            "50/50 [==============================] - 0s 901us/step - loss: 0.0130\n",
            "Epoch 133/250\n",
            "50/50 [==============================] - 0s 877us/step - loss: 0.0094\n",
            "Epoch 134/250\n",
            "50/50 [==============================] - 0s 1ms/step - loss: 0.0104\n",
            "Epoch 135/250\n",
            "50/50 [==============================] - 0s 966us/step - loss: 0.0117\n",
            "Epoch 136/250\n",
            "50/50 [==============================] - 0s 879us/step - loss: 0.0125\n",
            "Epoch 137/250\n",
            "50/50 [==============================] - 0s 864us/step - loss: 0.0138\n",
            "Epoch 138/250\n",
            "50/50 [==============================] - 0s 849us/step - loss: 0.0115\n",
            "Epoch 139/250\n",
            "50/50 [==============================] - 0s 867us/step - loss: 0.0117\n",
            "Epoch 140/250\n",
            "50/50 [==============================] - 0s 865us/step - loss: 0.0123\n",
            "Epoch 141/250\n",
            "50/50 [==============================] - 0s 923us/step - loss: 0.0128\n",
            "Epoch 142/250\n",
            "50/50 [==============================] - 0s 1ms/step - loss: 0.0117\n",
            "Epoch 143/250\n",
            "50/50 [==============================] - 0s 928us/step - loss: 0.0114\n",
            "Epoch 144/250\n",
            "50/50 [==============================] - 0s 868us/step - loss: 0.0132\n",
            "Epoch 145/250\n",
            "50/50 [==============================] - 0s 886us/step - loss: 0.0119\n",
            "Epoch 146/250\n",
            "50/50 [==============================] - 0s 904us/step - loss: 0.0110\n",
            "Epoch 147/250\n",
            "50/50 [==============================] - 0s 1ms/step - loss: 0.0104\n",
            "Epoch 148/250\n",
            "50/50 [==============================] - 0s 906us/step - loss: 0.0105\n",
            "Epoch 149/250\n",
            "50/50 [==============================] - 0s 982us/step - loss: 0.0114\n",
            "Epoch 150/250\n",
            "50/50 [==============================] - 0s 923us/step - loss: 0.0102\n",
            "Epoch 151/250\n",
            "50/50 [==============================] - 0s 1ms/step - loss: 0.0108\n",
            "Epoch 152/250\n",
            "50/50 [==============================] - 0s 896us/step - loss: 0.0149\n",
            "Epoch 153/250\n",
            "50/50 [==============================] - 0s 863us/step - loss: 0.0121\n",
            "Epoch 154/250\n",
            "50/50 [==============================] - 0s 952us/step - loss: 0.0122\n",
            "Epoch 155/250\n",
            "50/50 [==============================] - 0s 915us/step - loss: 0.0123\n",
            "Epoch 156/250\n",
            "50/50 [==============================] - 0s 1ms/step - loss: 0.0123\n",
            "Epoch 157/250\n",
            "50/50 [==============================] - 0s 941us/step - loss: 0.0101\n",
            "Epoch 158/250\n",
            "50/50 [==============================] - 0s 962us/step - loss: 0.0120\n",
            "Epoch 159/250\n",
            "50/50 [==============================] - 0s 845us/step - loss: 0.0117\n",
            "Epoch 160/250\n",
            "50/50 [==============================] - 0s 881us/step - loss: 0.0114\n",
            "Epoch 161/250\n",
            "50/50 [==============================] - 0s 928us/step - loss: 0.0114\n",
            "Epoch 162/250\n",
            "50/50 [==============================] - 0s 991us/step - loss: 0.0114\n",
            "Epoch 163/250\n",
            "50/50 [==============================] - 0s 875us/step - loss: 0.0103\n",
            "Epoch 164/250\n",
            "50/50 [==============================] - 0s 907us/step - loss: 0.0123\n",
            "Epoch 165/250\n",
            "50/50 [==============================] - 0s 935us/step - loss: 0.0130\n",
            "Epoch 166/250\n",
            "50/50 [==============================] - 0s 869us/step - loss: 0.0115\n",
            "Epoch 167/250\n",
            "50/50 [==============================] - 0s 909us/step - loss: 0.0120\n",
            "Epoch 168/250\n",
            "50/50 [==============================] - 0s 1ms/step - loss: 0.0097\n",
            "Epoch 169/250\n",
            "50/50 [==============================] - 0s 968us/step - loss: 0.0113\n",
            "Epoch 170/250\n",
            "50/50 [==============================] - 0s 884us/step - loss: 0.0109\n",
            "Epoch 171/250\n",
            "50/50 [==============================] - 0s 884us/step - loss: 0.0092\n",
            "Epoch 172/250\n",
            "50/50 [==============================] - 0s 867us/step - loss: 0.0115\n",
            "Epoch 173/250\n",
            "50/50 [==============================] - 0s 984us/step - loss: 0.0092\n",
            "Epoch 174/250\n",
            "50/50 [==============================] - 0s 986us/step - loss: 0.0114\n",
            "Epoch 175/250\n",
            "50/50 [==============================] - 0s 922us/step - loss: 0.0096\n",
            "Epoch 176/250\n",
            "50/50 [==============================] - 0s 857us/step - loss: 0.0108\n",
            "Epoch 177/250\n",
            "50/50 [==============================] - 0s 894us/step - loss: 0.0097\n",
            "Epoch 178/250\n",
            "50/50 [==============================] - 0s 869us/step - loss: 0.0116\n",
            "Epoch 179/250\n",
            "50/50 [==============================] - 0s 1ms/step - loss: 0.0111\n",
            "Epoch 180/250\n",
            "50/50 [==============================] - 0s 1ms/step - loss: 0.0112\n",
            "Epoch 181/250\n",
            "50/50 [==============================] - 0s 896us/step - loss: 0.0116\n",
            "Epoch 182/250\n",
            "50/50 [==============================] - 0s 863us/step - loss: 0.0099\n",
            "Epoch 183/250\n",
            "50/50 [==============================] - 0s 924us/step - loss: 0.0123\n",
            "Epoch 184/250\n",
            "50/50 [==============================] - 0s 981us/step - loss: 0.0120\n",
            "Epoch 185/250\n",
            "50/50 [==============================] - 0s 1ms/step - loss: 0.0122\n",
            "Epoch 186/250\n",
            "50/50 [==============================] - 0s 1ms/step - loss: 0.0094\n",
            "Epoch 187/250\n",
            "50/50 [==============================] - 0s 937us/step - loss: 0.0104\n",
            "Epoch 188/250\n",
            "50/50 [==============================] - 0s 1ms/step - loss: 0.0108\n",
            "Epoch 189/250\n",
            "50/50 [==============================] - 0s 1ms/step - loss: 0.0107\n",
            "Epoch 190/250\n",
            "50/50 [==============================] - 0s 1ms/step - loss: 0.0136\n",
            "Epoch 191/250\n",
            "50/50 [==============================] - 0s 1ms/step - loss: 0.0120\n",
            "Epoch 192/250\n",
            "50/50 [==============================] - 0s 1ms/step - loss: 0.0107\n",
            "Epoch 193/250\n",
            "50/50 [==============================] - 0s 845us/step - loss: 0.0107\n",
            "Epoch 194/250\n",
            "50/50 [==============================] - 0s 908us/step - loss: 0.0104\n",
            "Epoch 195/250\n",
            "50/50 [==============================] - 0s 1ms/step - loss: 0.0103\n",
            "Epoch 196/250\n",
            "50/50 [==============================] - 0s 1ms/step - loss: 0.0121\n",
            "Epoch 197/250\n",
            "50/50 [==============================] - 0s 969us/step - loss: 0.0114\n",
            "Epoch 198/250\n",
            "50/50 [==============================] - 0s 898us/step - loss: 0.0102\n",
            "Epoch 199/250\n",
            "50/50 [==============================] - 0s 880us/step - loss: 0.0113\n",
            "Epoch 200/250\n",
            "50/50 [==============================] - 0s 1ms/step - loss: 0.0119\n",
            "Epoch 201/250\n",
            "50/50 [==============================] - 0s 946us/step - loss: 0.0127\n",
            "Epoch 202/250\n",
            "50/50 [==============================] - 0s 885us/step - loss: 0.0093\n",
            "Epoch 203/250\n",
            "50/50 [==============================] - 0s 887us/step - loss: 0.0108\n",
            "Epoch 204/250\n",
            "50/50 [==============================] - 0s 1ms/step - loss: 0.0136\n",
            "Epoch 205/250\n",
            "50/50 [==============================] - 0s 994us/step - loss: 0.0103\n",
            "Epoch 206/250\n",
            "50/50 [==============================] - 0s 982us/step - loss: 0.0111\n",
            "Epoch 207/250\n",
            "50/50 [==============================] - 0s 874us/step - loss: 0.0092\n",
            "Epoch 208/250\n",
            "50/50 [==============================] - 0s 924us/step - loss: 0.0111\n",
            "Epoch 209/250\n",
            "50/50 [==============================] - 0s 972us/step - loss: 0.0113\n",
            "Epoch 210/250\n",
            "50/50 [==============================] - 0s 989us/step - loss: 0.0124\n",
            "Epoch 211/250\n",
            "50/50 [==============================] - 0s 998us/step - loss: 0.0090\n",
            "Epoch 212/250\n",
            "50/50 [==============================] - 0s 960us/step - loss: 0.0112\n",
            "Epoch 213/250\n",
            "50/50 [==============================] - 0s 953us/step - loss: 0.0122\n",
            "Epoch 214/250\n",
            "50/50 [==============================] - 0s 928us/step - loss: 0.0127\n",
            "Epoch 215/250\n",
            "50/50 [==============================] - 0s 877us/step - loss: 0.0105\n",
            "Epoch 216/250\n",
            "50/50 [==============================] - 0s 913us/step - loss: 0.0102\n",
            "Epoch 217/250\n",
            "50/50 [==============================] - 0s 982us/step - loss: 0.0111\n",
            "Epoch 218/250\n",
            "50/50 [==============================] - 0s 1ms/step - loss: 0.0121\n",
            "Epoch 219/250\n",
            "50/50 [==============================] - 0s 871us/step - loss: 0.0104\n",
            "Epoch 220/250\n",
            "50/50 [==============================] - 0s 869us/step - loss: 0.0124\n",
            "Epoch 221/250\n",
            "50/50 [==============================] - 0s 931us/step - loss: 0.0121\n",
            "Epoch 222/250\n",
            "50/50 [==============================] - 0s 1ms/step - loss: 0.0113\n",
            "Epoch 223/250\n",
            "50/50 [==============================] - 0s 997us/step - loss: 0.0116\n",
            "Epoch 224/250\n",
            "50/50 [==============================] - 0s 967us/step - loss: 0.0108\n",
            "Epoch 225/250\n",
            "50/50 [==============================] - 0s 992us/step - loss: 0.0105\n",
            "Epoch 226/250\n",
            "50/50 [==============================] - 0s 967us/step - loss: 0.0116\n",
            "Epoch 227/250\n",
            "50/50 [==============================] - 0s 965us/step - loss: 0.0122\n",
            "Epoch 228/250\n",
            "50/50 [==============================] - 0s 905us/step - loss: 0.0106\n",
            "Epoch 229/250\n",
            "50/50 [==============================] - 0s 919us/step - loss: 0.0110\n",
            "Epoch 230/250\n",
            "50/50 [==============================] - 0s 1ms/step - loss: 0.0114\n",
            "Epoch 231/250\n",
            "50/50 [==============================] - 0s 899us/step - loss: 0.0113\n",
            "Epoch 232/250\n",
            "50/50 [==============================] - 0s 850us/step - loss: 0.0115\n",
            "Epoch 233/250\n",
            "50/50 [==============================] - 0s 963us/step - loss: 0.0140\n",
            "Epoch 234/250\n",
            "50/50 [==============================] - 0s 1ms/step - loss: 0.0092\n",
            "Epoch 235/250\n",
            "50/50 [==============================] - 0s 918us/step - loss: 0.0121\n",
            "Epoch 236/250\n",
            "50/50 [==============================] - 0s 892us/step - loss: 0.0106\n",
            "Epoch 237/250\n",
            "50/50 [==============================] - 0s 880us/step - loss: 0.0102\n",
            "Epoch 238/250\n",
            "50/50 [==============================] - 0s 1ms/step - loss: 0.0107\n",
            "Epoch 239/250\n",
            "50/50 [==============================] - 0s 896us/step - loss: 0.0104\n",
            "Epoch 240/250\n",
            "50/50 [==============================] - 0s 873us/step - loss: 0.0102\n",
            "Epoch 241/250\n",
            "50/50 [==============================] - 0s 868us/step - loss: 0.0108\n",
            "Epoch 242/250\n",
            "50/50 [==============================] - 0s 945us/step - loss: 0.0095\n",
            "Epoch 243/250\n",
            "50/50 [==============================] - 0s 980us/step - loss: 0.0096\n",
            "Epoch 244/250\n",
            "50/50 [==============================] - 0s 914us/step - loss: 0.0098\n",
            "Epoch 245/250\n",
            "50/50 [==============================] - 0s 1ms/step - loss: 0.0114\n",
            "Epoch 246/250\n",
            "50/50 [==============================] - 0s 956us/step - loss: 0.0098\n",
            "Epoch 247/250\n",
            "50/50 [==============================] - 0s 897us/step - loss: 0.0119\n",
            "Epoch 248/250\n",
            "50/50 [==============================] - 0s 896us/step - loss: 0.0112\n",
            "Epoch 249/250\n",
            "50/50 [==============================] - 0s 985us/step - loss: 0.0100\n",
            "Epoch 250/250\n",
            "50/50 [==============================] - 0s 949us/step - loss: 0.0104\n"
          ],
          "name": "stdout"
        },
        {
          "output_type": "execute_result",
          "data": {
            "text/plain": [
              "<keras.callbacks.callbacks.History at 0x7f6bd2d90470>"
            ]
          },
          "metadata": {
            "tags": []
          },
          "execution_count": 20
        }
      ]
    },
    {
      "cell_type": "markdown",
      "metadata": {
        "id": "gwpyImwA3yon"
      },
      "source": [
        "## Parte 3 - Fazer as previsões e analisar os resultados"
      ]
    },
    {
      "cell_type": "markdown",
      "metadata": {
        "id": "wkXRvDjT4V-B"
      },
      "source": [
        "### Base de teste"
      ]
    },
    {
      "cell_type": "code",
      "metadata": {
        "id": "Bn_n72dh30K-"
      },
      "source": [
        "dataset_test = pd.read_csv('test.csv')\n",
        "test_pul = dataset_test.iloc[:, 1:2].values"
      ],
      "execution_count": 21,
      "outputs": []
    },
    {
      "cell_type": "markdown",
      "metadata": {
        "id": "EOo84exH4bfs"
      },
      "source": [
        "### Construir a estrutura para teste"
      ]
    },
    {
      "cell_type": "code",
      "metadata": {
        "id": "ob_-mGA_B5px"
      },
      "source": [
        "dataset_total = pd.concat((dataset_train.iloc[:,1], dataset_test.iloc[:,1]), axis = 0)\n",
        "testLength = len(dataset_test)\n",
        "inputs = dataset_total[len(dataset_total) - testLength - window:].values\n",
        "inputs = inputs.reshape(inputs.shape[0],1)\n",
        "\n",
        "inputs = sc.transform(inputs)\n",
        "X_test = []\n",
        "for i in range(window, inputs.shape[0]): \n",
        "    X_test.append(inputs[i-window:i, 0])\n",
        "X_test = np.array(X_test)\n",
        "\n",
        "X_test = np.reshape(X_test, (X_test.shape[0], X_test.shape[1], 1))"
      ],
      "execution_count": 22,
      "outputs": []
    },
    {
      "cell_type": "markdown",
      "metadata": {
        "id": "rtkB4NA74e1B"
      },
      "source": [
        "### Fazer as previsões"
      ]
    },
    {
      "cell_type": "code",
      "metadata": {
        "id": "nKIq1h-E4g9Z"
      },
      "source": [
        "predicted = regressor.predict(X_test)\n",
        "predicted = sc.inverse_transform(predicted)"
      ],
      "execution_count": 23,
      "outputs": []
    },
    {
      "cell_type": "markdown",
      "metadata": {
        "id": "guvk7yXr4o0g"
      },
      "source": [
        "### Visualizar os resultados de treino e teste"
      ]
    },
    {
      "cell_type": "code",
      "metadata": {
        "id": "tstXl2oS4rIo",
        "colab": {
          "base_uri": "https://localhost:8080/",
          "height": 295
        },
        "outputId": "4185a644-7539-433d-e969-6cd2b3d6cdc1"
      },
      "source": [
        "allTargetData = np.vstack((training_set, test_pul))\n",
        "training_predicted = regressor.predict(X_train)\n",
        "training_predicted = sc.inverse_transform(training_predicted)\n",
        "allForecastedData = np.vstack((training_set[0:window], training_predicted, predicted))\n",
        "plt.plot(allTargetData, color = 'red', label = 'Real')\n",
        "plt.plot(allForecastedData, color = 'blue', label = 'Previsto')\n",
        "plt.title('Previsão de série temporal')\n",
        "plt.xlabel('Tempo')\n",
        "plt.ylabel('Passageiros')\n",
        "plt.legend()\n",
        "plt.savefig('predictions_training_test.svg')\n",
        "plt.show()"
      ],
      "execution_count": 24,
      "outputs": [
        {
          "output_type": "display_data",
          "data": {
            "image/png": "[encoded data removed]",
            "text/plain": [
              "<Figure size 432x288 with 1 Axes>"
            ]
          },
          "metadata": {
            "tags": [],
            "needs_background": "light"
          }
        }
      ]
    },
    {
      "cell_type": "markdown",
      "metadata": {
        "id": "ytEVhQht4we3"
      },
      "source": [
        "## Parte 4 - Métricas de avaliação"
      ]
    },
    {
      "cell_type": "code",
      "metadata": {
        "id": "rqOonVj64ydu",
        "colab": {
          "base_uri": "https://localhost:8080/"
        },
        "outputId": "92ce8603-000d-44c3-c25e-1887b089f1ff"
      },
      "source": [
        "import math\n",
        "from sklearn.metrics import mean_squared_error\n",
        "rmse = math.sqrt(mean_squared_error(test_pul, predicted))\n",
        "print('RMSE: ', rmse)"
      ],
      "execution_count": 25,
      "outputs": [
        {
          "output_type": "stream",
          "text": [
            "RMSE:  237.95893252883542\n"
          ],
          "name": "stdout"
        }
      ]
    },
    {
      "cell_type": "code",
      "metadata": {
        "id": "ODeley1K42WW",
        "colab": {
          "base_uri": "https://localhost:8080/"
        },
        "outputId": "0f281005-4726-48b5-a56d-4dd6d01d6c80"
      },
      "source": [
        "mse = mean_squared_error(test_pul, predicted)\n",
        "print('MSE: ',mse)"
      ],
      "execution_count": 26,
      "outputs": [
        {
          "output_type": "stream",
          "text": [
            "MSE:  56624.45357026284\n"
          ],
          "name": "stdout"
        }
      ]
    },
    {
      "cell_type": "code",
      "metadata": {
        "id": "L7_uU_8T44QA",
        "colab": {
          "base_uri": "https://localhost:8080/"
        },
        "outputId": "982aed5c-d9db-46bc-f655-5ace7cf69904"
      },
      "source": [
        "mape = np.mean(np.abs((test_pul - predicted) / test_pul)) * 100\n",
        "print('MAPE: ',mape, '%')"
      ],
      "execution_count": 27,
      "outputs": [
        {
          "output_type": "stream",
          "text": [
            "MAPE:  10.422064512171332 %\n"
          ],
          "name": "stdout"
        }
      ]
    },
    {
      "cell_type": "code",
      "metadata": {
        "id": "mgmtdSOq7rG0"
      },
      "source": [
        ""
      ],
      "execution_count": null,
      "outputs": []
    }
  ]
}