{
  "nbformat": 4,
  "nbformat_minor": 0,
  "metadata": {
    "colab": {
      "name": "RedesRecorrentespul.ipynb",
      "provenance": [],
      "collapsed_sections": [],
      "toc_visible": true,
      "include_colab_link": true
    },
    "kernelspec": {
      "name": "python3",
      "display_name": "Python 3"
    },
    "accelerator": "GPU"
  },
  "cells": [
    {
      "cell_type": "markdown",
      "metadata": {
        "id": "view-in-github",
        "colab_type": "text"
      },
      "source": [
        "<a href=\"https://colab.research.google.com/github/isaachfp/bi-master/blob/master/RN_Trabalho/RedesRecorrentespul.ipynb\" target=\"_parent\"><img src=\"https://colab.research.google.com/assets/colab-badge.svg\" alt=\"Open In Colab\"/></a>"
      ]
    },
    {
      "cell_type": "markdown",
      "metadata": {
        "id": "bgc8yb4c2W0g"
      },
      "source": [
        "# Recurrent Neural Network - LSTM\n"
      ]
    },
    {
      "cell_type": "markdown",
      "metadata": {
        "id": "aew2N81e35Uc"
      },
      "source": [
        "## Parte 1 - Preprocessamento de Dados"
      ]
    },
    {
      "cell_type": "markdown",
      "metadata": {
        "id": "Z0vulSxH2hHu"
      },
      "source": [
        "### Importar as bibliotecas"
      ]
    },
    {
      "cell_type": "code",
      "metadata": {
        "id": "p2SjiqlE2O08",
        "colab": {
          "base_uri": "https://localhost:8080/"
        },
        "outputId": "1e032525-ab25-4cf3-ca2c-6ebc3687fb15"
      },
      "source": [
        "%tensorflow_version 1.x\n",
        "import numpy as np\n",
        "import matplotlib.pyplot as plt\n",
        "import pandas as pd\n",
        "import os"
      ],
      "execution_count": 1,
      "outputs": [
        {
          "output_type": "stream",
          "text": [
            "TensorFlow 1.x selected.\n"
          ],
          "name": "stdout"
        }
      ]
    },
    {
      "cell_type": "markdown",
      "metadata": {
        "id": "36Q16Udt2l3W"
      },
      "source": [
        "### Importar a base de dados"
      ]
    },
    {
      "cell_type": "code",
      "metadata": {
        "id": "1ivhnWxD2eEG",
        "colab": {
          "base_uri": "https://localhost:8080/",
          "height": 206
        },
        "outputId": "613d92b8-61ff-417e-f2a8-a1495cb204e1"
      },
      "source": [
        "dataset_train = pd.read_csv('train.csv')\n",
        "dataset_train.head()"
      ],
      "execution_count": 2,
      "outputs": [
        {
          "output_type": "execute_result",
          "data": {
            "text/html": [
              "<div>\n",
              "<style scoped>\n",
              "    .dataframe tbody tr th:only-of-type {\n",
              "        vertical-align: middle;\n",
              "    }\n",
              "\n",
              "    .dataframe tbody tr th {\n",
              "        vertical-align: top;\n",
              "    }\n",
              "\n",
              "    .dataframe thead th {\n",
              "        text-align: right;\n",
              "    }\n",
              "</style>\n",
              "<table border=\"1\" class=\"dataframe\">\n",
              "  <thead>\n",
              "    <tr style=\"text-align: right;\">\n",
              "      <th></th>\n",
              "      <th>index</th>\n",
              "      <th>value</th>\n",
              "    </tr>\n",
              "  </thead>\n",
              "  <tbody>\n",
              "    <tr>\n",
              "      <th>0</th>\n",
              "      <td>1974 Jan</td>\n",
              "      <td>3035</td>\n",
              "    </tr>\n",
              "    <tr>\n",
              "      <th>1</th>\n",
              "      <td>1974 Feb</td>\n",
              "      <td>2552</td>\n",
              "    </tr>\n",
              "    <tr>\n",
              "      <th>2</th>\n",
              "      <td>1974 Mar</td>\n",
              "      <td>2704</td>\n",
              "    </tr>\n",
              "    <tr>\n",
              "      <th>3</th>\n",
              "      <td>1974 Apr</td>\n",
              "      <td>2554</td>\n",
              "    </tr>\n",
              "    <tr>\n",
              "      <th>4</th>\n",
              "      <td>1974 May</td>\n",
              "      <td>2014</td>\n",
              "    </tr>\n",
              "  </tbody>\n",
              "</table>\n",
              "</div>"
            ],
            "text/plain": [
              "      index  value\n",
              "0  1974 Jan   3035\n",
              "1  1974 Feb   2552\n",
              "2  1974 Mar   2704\n",
              "3  1974 Apr   2554\n",
              "4  1974 May   2014"
            ]
          },
          "metadata": {
            "tags": []
          },
          "execution_count": 2
        }
      ]
    },
    {
      "cell_type": "code",
      "metadata": {
        "id": "qnVL_m3A2KLJ"
      },
      "source": [
        "training_set = dataset_train.iloc[:, 1:2].values #só coluna da série em si"
      ],
      "execution_count": 3,
      "outputs": []
    },
    {
      "cell_type": "markdown",
      "metadata": {
        "id": "kd39T1zK2ql1"
      },
      "source": [
        "### gráfico da série temporal"
      ]
    },
    {
      "cell_type": "code",
      "metadata": {
        "id": "vMsAFuya2rhr",
        "colab": {
          "base_uri": "https://localhost:8080/",
          "height": 295
        },
        "outputId": "767a3d8c-8509-4a4d-80a1-e7efd528de87"
      },
      "source": [
        "plt.plot(training_set)\n",
        "plt.xlabel(\"tempo\")\n",
        "plt.ylabel(\"numero mortes\")\n",
        "plt.title(\"Doenças pulmonares\")\n",
        "plt.show()"
      ],
      "execution_count": 4,
      "outputs": [
        {
          "output_type": "display_data",
          "data": {
            "image/png": "[encoded data removed]",
            "text/plain": [
              "<Figure size 432x288 with 1 Axes>"
            ]
          },
          "metadata": {
            "tags": [],
            "needs_background": "light"
          }
        }
      ]
    },
    {
      "cell_type": "markdown",
      "metadata": {
        "id": "7p1F7HdB2uJU"
      },
      "source": [
        "### Normalização"
      ]
    },
    {
      "cell_type": "code",
      "metadata": {
        "id": "foeHRZr-2u-L"
      },
      "source": [
        "from sklearn.preprocessing import MinMaxScaler\n",
        "sc = MinMaxScaler(feature_range = (0, 1))\n",
        "training_set_scaled = sc.fit_transform(training_set)"
      ],
      "execution_count": 5,
      "outputs": []
    },
    {
      "cell_type": "markdown",
      "metadata": {
        "id": "uQP8Q7MI21Y9"
      },
      "source": [
        "### Criar a estrutura de dados com janela 10 e output 1"
      ]
    },
    {
      "cell_type": "code",
      "metadata": {
        "id": "C6Ge9ql922cb"
      },
      "source": [
        "window = 15\n",
        "trainSize = len(training_set_scaled)\n",
        "X_train = []\n",
        "y_train = []\n",
        "for i in range(window, trainSize):\n",
        "    X_train.append(training_set_scaled[i-window:i, 0])\n",
        "    y_train.append(training_set_scaled[i, 0])\n",
        "X_train, y_train = np.array(X_train), np.array(y_train)"
      ],
      "execution_count": 6,
      "outputs": []
    },
    {
      "cell_type": "markdown",
      "metadata": {
        "id": "LPBC2LoG24dU"
      },
      "source": [
        "### Reshaping"
      ]
    },
    {
      "cell_type": "code",
      "metadata": {
        "id": "oGwgQUDbdmnS",
        "colab": {
          "base_uri": "https://localhost:8080/"
        },
        "outputId": "5734f754-df7d-4381-f8a1-8f59d5890a69"
      },
      "source": [
        "X_train.shape"
      ],
      "execution_count": 7,
      "outputs": [
        {
          "output_type": "execute_result",
          "data": {
            "text/plain": [
              "(45, 15)"
            ]
          },
          "metadata": {
            "tags": []
          },
          "execution_count": 7
        }
      ]
    },
    {
      "cell_type": "code",
      "metadata": {
        "id": "b9ZfLlGH25fr"
      },
      "source": [
        "X_train = np.reshape(X_train, (X_train.shape[0], X_train.shape[1], 1))"
      ],
      "execution_count": 8,
      "outputs": []
    },
    {
      "cell_type": "code",
      "metadata": {
        "id": "RxU0axM9diHO",
        "colab": {
          "base_uri": "https://localhost:8080/"
        },
        "outputId": "411222d1-eb5c-4e4e-c882-533a3dcf436a"
      },
      "source": [
        "X_train.shape"
      ],
      "execution_count": 9,
      "outputs": [
        {
          "output_type": "execute_result",
          "data": {
            "text/plain": [
              "(45, 15, 1)"
            ]
          },
          "metadata": {
            "tags": []
          },
          "execution_count": 9
        }
      ]
    },
    {
      "cell_type": "markdown",
      "metadata": {
        "id": "fZhjp7Tf282b"
      },
      "source": [
        "## Parte 2 - Construção da RNN"
      ]
    },
    {
      "cell_type": "markdown",
      "metadata": {
        "id": "RDkAxmMl3EXr"
      },
      "source": [
        "### Bibliotecas necessárias"
      ]
    },
    {
      "cell_type": "code",
      "metadata": {
        "id": "Ifhh9yUo3DpT",
        "colab": {
          "base_uri": "https://localhost:8080/"
        },
        "outputId": "fd5ee1cf-59f1-40e3-9710-30a7832ffc70"
      },
      "source": [
        "from keras.models import Sequential\n",
        "from keras.layers import Dense\n",
        "from keras.layers import LSTM\n",
        "from keras.layers import Dropout"
      ],
      "execution_count": 10,
      "outputs": [
        {
          "output_type": "stream",
          "text": [
            "Using TensorFlow backend.\n"
          ],
          "name": "stderr"
        }
      ]
    },
    {
      "cell_type": "code",
      "metadata": {
        "id": "ZRyfdNeLH41V"
      },
      "source": [
        "#hidden_nodes = int(2/3 * (X_train.shape[0] + 1))\n",
        "#print(hidden_nodes)"
      ],
      "execution_count": 11,
      "outputs": []
    },
    {
      "cell_type": "markdown",
      "metadata": {
        "id": "kordpD0_3H7b"
      },
      "source": [
        "### Construção da Rede completa"
      ]
    },
    {
      "cell_type": "code",
      "metadata": {
        "id": "EskB17uo3Iso",
        "colab": {
          "base_uri": "https://localhost:8080/"
        },
        "outputId": "ffa9d62a-5083-47bb-f61f-f5a2cc085ce6"
      },
      "source": [
        "# Inicializar a RNN\n",
        "regressor = Sequential()\n",
        "\n",
        "# Adicionar a primeira camada LSTM e Dropout \n",
        "regressor.add(LSTM(units = 100, return_sequences = True, input_shape = (X_train.shape[1], 1)))\n",
        "regressor.add(Dropout(0.2))\n",
        " \n",
        "# Adicionar a segunda camada LSTM e Dropout\n",
        "regressor.add(LSTM(units = 80, return_sequences = True))\n",
        "regressor.add(Dropout(0.2))\n",
        " \n",
        "# Adicionar a terceira camada LSTM e Dropout\n",
        "regressor.add(LSTM(units = 50))\n",
        "regressor.add(Dropout(0.2))\n",
        " \n",
        "# camada de saída\n",
        "regressor.add(Dense(units = 1))\n",
        " \n",
        "# Compilar a rede\n",
        "regressor.compile(optimizer = 'adam', loss = 'mean_squared_error')\n",
        "\n",
        "# Visualizar a rede\n",
        "regressor.summary()"
      ],
      "execution_count": 12,
      "outputs": [
        {
          "output_type": "stream",
          "text": [
            "WARNING:tensorflow:From /tensorflow-1.15.2/python3.6/tensorflow_core/python/ops/resource_variable_ops.py:1630: calling BaseResourceVariable.__init__ (from tensorflow.python.ops.resource_variable_ops) with constraint is deprecated and will be removed in a future version.\n",
            "Instructions for updating:\n",
            "If using Keras pass *_constraint arguments to layers.\n",
            "Model: \"sequential_1\"\n",
            "_________________________________________________________________\n",
            "Layer (type)                 Output Shape              Param #   \n",
            "=================================================================\n",
            "lstm_1 (LSTM)                (None, 15, 100)           40800     \n",
            "_________________________________________________________________\n",
            "dropout_1 (Dropout)          (None, 15, 100)           0         \n",
            "_________________________________________________________________\n",
            "lstm_2 (LSTM)                (None, 15, 80)            57920     \n",
            "_________________________________________________________________\n",
            "dropout_2 (Dropout)          (None, 15, 80)            0         \n",
            "_________________________________________________________________\n",
            "lstm_3 (LSTM)                (None, 50)                26200     \n",
            "_________________________________________________________________\n",
            "dropout_3 (Dropout)          (None, 50)                0         \n",
            "_________________________________________________________________\n",
            "dense_1 (Dense)              (None, 1)                 51        \n",
            "=================================================================\n",
            "Total params: 124,971\n",
            "Trainable params: 124,971\n",
            "Non-trainable params: 0\n",
            "_________________________________________________________________\n"
          ],
          "name": "stdout"
        }
      ]
    },
    {
      "cell_type": "markdown",
      "metadata": {
        "id": "5j1w28g83iSR"
      },
      "source": [
        "### Treinamento"
      ]
    },
    {
      "cell_type": "code",
      "metadata": {
        "id": "xWKAuKyp3jXv",
        "colab": {
          "base_uri": "https://localhost:8080/"
        },
        "outputId": "cf8a1a3e-53e0-43f1-9a7a-3d6cd110bf5f"
      },
      "source": [
        "regressor.fit(X_train, y_train, epochs = 250, batch_size = 64)"
      ],
      "execution_count": 13,
      "outputs": [
        {
          "output_type": "stream",
          "text": [
            "WARNING:tensorflow:From /tensorflow-1.15.2/python3.6/keras/backend/tensorflow_backend.py:422: The name tf.global_variables is deprecated. Please use tf.compat.v1.global_variables instead.\n",
            "\n",
            "Epoch 1/250\n",
            "45/45 [==============================] - 2s 53ms/step - loss: 0.1327\n",
            "Epoch 2/250\n",
            "45/45 [==============================] - 0s 942us/step - loss: 0.1015\n",
            "Epoch 3/250\n",
            "45/45 [==============================] - 0s 913us/step - loss: 0.0736\n",
            "Epoch 4/250\n",
            "45/45 [==============================] - 0s 905us/step - loss: 0.0586\n",
            "Epoch 5/250\n",
            "45/45 [==============================] - 0s 916us/step - loss: 0.0506\n",
            "Epoch 6/250\n",
            "45/45 [==============================] - 0s 941us/step - loss: 0.0635\n",
            "Epoch 7/250\n",
            "45/45 [==============================] - 0s 971us/step - loss: 0.0717\n",
            "Epoch 8/250\n",
            "45/45 [==============================] - 0s 929us/step - loss: 0.0538\n",
            "Epoch 9/250\n",
            "45/45 [==============================] - 0s 952us/step - loss: 0.0536\n",
            "Epoch 10/250\n",
            "45/45 [==============================] - 0s 1ms/step - loss: 0.0506\n",
            "Epoch 11/250\n",
            "45/45 [==============================] - 0s 968us/step - loss: 0.0477\n",
            "Epoch 12/250\n",
            "45/45 [==============================] - 0s 938us/step - loss: 0.0539\n",
            "Epoch 13/250\n",
            "45/45 [==============================] - 0s 956us/step - loss: 0.0548\n",
            "Epoch 14/250\n",
            "45/45 [==============================] - 0s 932us/step - loss: 0.0551\n",
            "Epoch 15/250\n",
            "45/45 [==============================] - 0s 992us/step - loss: 0.0546\n",
            "Epoch 16/250\n",
            "45/45 [==============================] - 0s 947us/step - loss: 0.0523\n",
            "Epoch 17/250\n",
            "45/45 [==============================] - 0s 955us/step - loss: 0.0509\n",
            "Epoch 18/250\n",
            "45/45 [==============================] - 0s 998us/step - loss: 0.0502\n",
            "Epoch 19/250\n",
            "45/45 [==============================] - 0s 966us/step - loss: 0.0465\n",
            "Epoch 20/250\n",
            "45/45 [==============================] - 0s 962us/step - loss: 0.0545\n",
            "Epoch 21/250\n",
            "45/45 [==============================] - 0s 974us/step - loss: 0.0481\n",
            "Epoch 22/250\n",
            "45/45 [==============================] - 0s 1ms/step - loss: 0.0467\n",
            "Epoch 23/250\n",
            "45/45 [==============================] - 0s 1ms/step - loss: 0.0452\n",
            "Epoch 24/250\n",
            "45/45 [==============================] - 0s 944us/step - loss: 0.0475\n",
            "Epoch 25/250\n",
            "45/45 [==============================] - 0s 949us/step - loss: 0.0374\n",
            "Epoch 26/250\n",
            "45/45 [==============================] - 0s 978us/step - loss: 0.0412\n",
            "Epoch 27/250\n",
            "45/45 [==============================] - 0s 985us/step - loss: 0.0374\n",
            "Epoch 28/250\n",
            "45/45 [==============================] - 0s 1ms/step - loss: 0.0347\n",
            "Epoch 29/250\n",
            "45/45 [==============================] - 0s 993us/step - loss: 0.0361\n",
            "Epoch 30/250\n",
            "45/45 [==============================] - 0s 971us/step - loss: 0.0314\n",
            "Epoch 31/250\n",
            "45/45 [==============================] - 0s 998us/step - loss: 0.0299\n",
            "Epoch 32/250\n",
            "45/45 [==============================] - 0s 1ms/step - loss: 0.0293\n",
            "Epoch 33/250\n",
            "45/45 [==============================] - 0s 896us/step - loss: 0.0284\n",
            "Epoch 34/250\n",
            "45/45 [==============================] - 0s 939us/step - loss: 0.0258\n",
            "Epoch 35/250\n",
            "45/45 [==============================] - 0s 965us/step - loss: 0.0222\n",
            "Epoch 36/250\n",
            "45/45 [==============================] - 0s 963us/step - loss: 0.0212\n",
            "Epoch 37/250\n",
            "45/45 [==============================] - 0s 970us/step - loss: 0.0203\n",
            "Epoch 38/250\n",
            "45/45 [==============================] - 0s 931us/step - loss: 0.0212\n",
            "Epoch 39/250\n",
            "45/45 [==============================] - 0s 954us/step - loss: 0.0305\n",
            "Epoch 40/250\n",
            "45/45 [==============================] - 0s 1ms/step - loss: 0.0309\n",
            "Epoch 41/250\n",
            "45/45 [==============================] - 0s 986us/step - loss: 0.0202\n",
            "Epoch 42/250\n",
            "45/45 [==============================] - 0s 969us/step - loss: 0.0254\n",
            "Epoch 43/250\n",
            "45/45 [==============================] - 0s 1ms/step - loss: 0.0201\n",
            "Epoch 44/250\n",
            "45/45 [==============================] - 0s 1ms/step - loss: 0.0190\n",
            "Epoch 45/250\n",
            "45/45 [==============================] - 0s 1ms/step - loss: 0.0176\n",
            "Epoch 46/250\n",
            "45/45 [==============================] - 0s 965us/step - loss: 0.0237\n",
            "Epoch 47/250\n",
            "45/45 [==============================] - 0s 936us/step - loss: 0.0169\n",
            "Epoch 48/250\n",
            "45/45 [==============================] - 0s 919us/step - loss: 0.0222\n",
            "Epoch 49/250\n",
            "45/45 [==============================] - 0s 896us/step - loss: 0.0219\n",
            "Epoch 50/250\n",
            "45/45 [==============================] - 0s 929us/step - loss: 0.0205\n",
            "Epoch 51/250\n",
            "45/45 [==============================] - 0s 1ms/step - loss: 0.0179\n",
            "Epoch 52/250\n",
            "45/45 [==============================] - 0s 970us/step - loss: 0.0196\n",
            "Epoch 53/250\n",
            "45/45 [==============================] - 0s 961us/step - loss: 0.0222\n",
            "Epoch 54/250\n",
            "45/45 [==============================] - 0s 1ms/step - loss: 0.0203\n",
            "Epoch 55/250\n",
            "45/45 [==============================] - 0s 1ms/step - loss: 0.0156\n",
            "Epoch 56/250\n",
            "45/45 [==============================] - 0s 969us/step - loss: 0.0194\n",
            "Epoch 57/250\n",
            "45/45 [==============================] - 0s 996us/step - loss: 0.0233\n",
            "Epoch 58/250\n",
            "45/45 [==============================] - 0s 976us/step - loss: 0.0206\n",
            "Epoch 59/250\n",
            "45/45 [==============================] - 0s 978us/step - loss: 0.0178\n",
            "Epoch 60/250\n",
            "45/45 [==============================] - 0s 996us/step - loss: 0.0185\n",
            "Epoch 61/250\n",
            "45/45 [==============================] - 0s 965us/step - loss: 0.0212\n",
            "Epoch 62/250\n",
            "45/45 [==============================] - 0s 999us/step - loss: 0.0147\n",
            "Epoch 63/250\n",
            "45/45 [==============================] - 0s 937us/step - loss: 0.0160\n",
            "Epoch 64/250\n",
            "45/45 [==============================] - 0s 939us/step - loss: 0.0176\n",
            "Epoch 65/250\n",
            "45/45 [==============================] - 0s 976us/step - loss: 0.0176\n",
            "Epoch 66/250\n",
            "45/45 [==============================] - 0s 979us/step - loss: 0.0187\n",
            "Epoch 67/250\n",
            "45/45 [==============================] - 0s 906us/step - loss: 0.0189\n",
            "Epoch 68/250\n",
            "45/45 [==============================] - 0s 1ms/step - loss: 0.0192\n",
            "Epoch 69/250\n",
            "45/45 [==============================] - 0s 977us/step - loss: 0.0159\n",
            "Epoch 70/250\n",
            "45/45 [==============================] - 0s 929us/step - loss: 0.0221\n",
            "Epoch 71/250\n",
            "45/45 [==============================] - 0s 960us/step - loss: 0.0158\n",
            "Epoch 72/250\n",
            "45/45 [==============================] - 0s 938us/step - loss: 0.0160\n",
            "Epoch 73/250\n",
            "45/45 [==============================] - 0s 1ms/step - loss: 0.0170\n",
            "Epoch 74/250\n",
            "45/45 [==============================] - 0s 1ms/step - loss: 0.0197\n",
            "Epoch 75/250\n",
            "45/45 [==============================] - 0s 1ms/step - loss: 0.0144\n",
            "Epoch 76/250\n",
            "45/45 [==============================] - 0s 955us/step - loss: 0.0184\n",
            "Epoch 77/250\n",
            "45/45 [==============================] - 0s 1ms/step - loss: 0.0148\n",
            "Epoch 78/250\n",
            "45/45 [==============================] - 0s 941us/step - loss: 0.0137\n",
            "Epoch 79/250\n",
            "45/45 [==============================] - 0s 901us/step - loss: 0.0136\n",
            "Epoch 80/250\n",
            "45/45 [==============================] - 0s 1ms/step - loss: 0.0176\n",
            "Epoch 81/250\n",
            "45/45 [==============================] - 0s 1ms/step - loss: 0.0150\n",
            "Epoch 82/250\n",
            "45/45 [==============================] - 0s 939us/step - loss: 0.0159\n",
            "Epoch 83/250\n",
            "45/45 [==============================] - 0s 945us/step - loss: 0.0158\n",
            "Epoch 84/250\n",
            "45/45 [==============================] - 0s 985us/step - loss: 0.0122\n",
            "Epoch 85/250\n",
            "45/45 [==============================] - 0s 969us/step - loss: 0.0152\n",
            "Epoch 86/250\n",
            "45/45 [==============================] - 0s 948us/step - loss: 0.0196\n",
            "Epoch 87/250\n",
            "45/45 [==============================] - 0s 976us/step - loss: 0.0148\n",
            "Epoch 88/250\n",
            "45/45 [==============================] - 0s 946us/step - loss: 0.0173\n",
            "Epoch 89/250\n",
            "45/45 [==============================] - 0s 929us/step - loss: 0.0193\n",
            "Epoch 90/250\n",
            "45/45 [==============================] - 0s 959us/step - loss: 0.0150\n",
            "Epoch 91/250\n",
            "45/45 [==============================] - 0s 1ms/step - loss: 0.0137\n",
            "Epoch 92/250\n",
            "45/45 [==============================] - 0s 967us/step - loss: 0.0156\n",
            "Epoch 93/250\n",
            "45/45 [==============================] - 0s 972us/step - loss: 0.0160\n",
            "Epoch 94/250\n",
            "45/45 [==============================] - 0s 1ms/step - loss: 0.0126\n",
            "Epoch 95/250\n",
            "45/45 [==============================] - 0s 1ms/step - loss: 0.0131\n",
            "Epoch 96/250\n",
            "45/45 [==============================] - 0s 905us/step - loss: 0.0164\n",
            "Epoch 97/250\n",
            "45/45 [==============================] - 0s 964us/step - loss: 0.0135\n",
            "Epoch 98/250\n",
            "45/45 [==============================] - 0s 972us/step - loss: 0.0172\n",
            "Epoch 99/250\n",
            "45/45 [==============================] - 0s 1ms/step - loss: 0.0175\n",
            "Epoch 100/250\n",
            "45/45 [==============================] - 0s 1ms/step - loss: 0.0116\n",
            "Epoch 101/250\n",
            "45/45 [==============================] - 0s 1ms/step - loss: 0.0124\n",
            "Epoch 102/250\n",
            "45/45 [==============================] - 0s 930us/step - loss: 0.0132\n",
            "Epoch 103/250\n",
            "45/45 [==============================] - 0s 944us/step - loss: 0.0128\n",
            "Epoch 104/250\n",
            "45/45 [==============================] - 0s 983us/step - loss: 0.0155\n",
            "Epoch 105/250\n",
            "45/45 [==============================] - 0s 984us/step - loss: 0.0135\n",
            "Epoch 106/250\n",
            "45/45 [==============================] - 0s 983us/step - loss: 0.0146\n",
            "Epoch 107/250\n",
            "45/45 [==============================] - 0s 977us/step - loss: 0.0128\n",
            "Epoch 108/250\n",
            "45/45 [==============================] - 0s 962us/step - loss: 0.0140\n",
            "Epoch 109/250\n",
            "45/45 [==============================] - 0s 1ms/step - loss: 0.0131\n",
            "Epoch 110/250\n",
            "45/45 [==============================] - 0s 1ms/step - loss: 0.0167\n",
            "Epoch 111/250\n",
            "45/45 [==============================] - 0s 966us/step - loss: 0.0145\n",
            "Epoch 112/250\n",
            "45/45 [==============================] - 0s 955us/step - loss: 0.0155\n",
            "Epoch 113/250\n",
            "45/45 [==============================] - 0s 1ms/step - loss: 0.0116\n",
            "Epoch 114/250\n",
            "45/45 [==============================] - 0s 995us/step - loss: 0.0128\n",
            "Epoch 115/250\n",
            "45/45 [==============================] - 0s 1ms/step - loss: 0.0129\n",
            "Epoch 116/250\n",
            "45/45 [==============================] - 0s 947us/step - loss: 0.0118\n",
            "Epoch 117/250\n",
            "45/45 [==============================] - 0s 923us/step - loss: 0.0143\n",
            "Epoch 118/250\n",
            "45/45 [==============================] - 0s 1ms/step - loss: 0.0132\n",
            "Epoch 119/250\n",
            "45/45 [==============================] - 0s 1ms/step - loss: 0.0137\n",
            "Epoch 120/250\n",
            "45/45 [==============================] - 0s 979us/step - loss: 0.0146\n",
            "Epoch 121/250\n",
            "45/45 [==============================] - 0s 939us/step - loss: 0.0154\n",
            "Epoch 122/250\n",
            "45/45 [==============================] - 0s 1ms/step - loss: 0.0179\n",
            "Epoch 123/250\n",
            "45/45 [==============================] - 0s 987us/step - loss: 0.0139\n",
            "Epoch 124/250\n",
            "45/45 [==============================] - 0s 1ms/step - loss: 0.0122\n",
            "Epoch 125/250\n",
            "45/45 [==============================] - 0s 1ms/step - loss: 0.0151\n",
            "Epoch 126/250\n",
            "45/45 [==============================] - 0s 960us/step - loss: 0.0143\n",
            "Epoch 127/250\n",
            "45/45 [==============================] - 0s 983us/step - loss: 0.0149\n",
            "Epoch 128/250\n",
            "45/45 [==============================] - 0s 1ms/step - loss: 0.0146\n",
            "Epoch 129/250\n",
            "45/45 [==============================] - 0s 1ms/step - loss: 0.0141\n",
            "Epoch 130/250\n",
            "45/45 [==============================] - 0s 1ms/step - loss: 0.0107\n",
            "Epoch 131/250\n",
            "45/45 [==============================] - 0s 1ms/step - loss: 0.0157\n",
            "Epoch 132/250\n",
            "45/45 [==============================] - 0s 1ms/step - loss: 0.0121\n",
            "Epoch 133/250\n",
            "45/45 [==============================] - 0s 963us/step - loss: 0.0130\n",
            "Epoch 134/250\n",
            "45/45 [==============================] - 0s 984us/step - loss: 0.0135\n",
            "Epoch 135/250\n",
            "45/45 [==============================] - 0s 959us/step - loss: 0.0155\n",
            "Epoch 136/250\n",
            "45/45 [==============================] - 0s 952us/step - loss: 0.0115\n",
            "Epoch 137/250\n",
            "45/45 [==============================] - 0s 968us/step - loss: 0.0116\n",
            "Epoch 138/250\n",
            "45/45 [==============================] - 0s 1ms/step - loss: 0.0147\n",
            "Epoch 139/250\n",
            "45/45 [==============================] - 0s 956us/step - loss: 0.0153\n",
            "Epoch 140/250\n",
            "45/45 [==============================] - 0s 928us/step - loss: 0.0167\n",
            "Epoch 141/250\n",
            "45/45 [==============================] - 0s 936us/step - loss: 0.0139\n",
            "Epoch 142/250\n",
            "45/45 [==============================] - 0s 1ms/step - loss: 0.0143\n",
            "Epoch 143/250\n",
            "45/45 [==============================] - 0s 1ms/step - loss: 0.0096\n",
            "Epoch 144/250\n",
            "45/45 [==============================] - 0s 959us/step - loss: 0.0155\n",
            "Epoch 145/250\n",
            "45/45 [==============================] - 0s 970us/step - loss: 0.0144\n",
            "Epoch 146/250\n",
            "45/45 [==============================] - 0s 963us/step - loss: 0.0129\n",
            "Epoch 147/250\n",
            "45/45 [==============================] - 0s 955us/step - loss: 0.0176\n",
            "Epoch 148/250\n",
            "45/45 [==============================] - 0s 957us/step - loss: 0.0133\n",
            "Epoch 149/250\n",
            "45/45 [==============================] - 0s 1ms/step - loss: 0.0118\n",
            "Epoch 150/250\n",
            "45/45 [==============================] - 0s 1ms/step - loss: 0.0129\n",
            "Epoch 151/250\n",
            "45/45 [==============================] - 0s 935us/step - loss: 0.0146\n",
            "Epoch 152/250\n",
            "45/45 [==============================] - 0s 1ms/step - loss: 0.0115\n",
            "Epoch 153/250\n",
            "45/45 [==============================] - 0s 970us/step - loss: 0.0127\n",
            "Epoch 154/250\n",
            "45/45 [==============================] - 0s 1ms/step - loss: 0.0139\n",
            "Epoch 155/250\n",
            "45/45 [==============================] - 0s 983us/step - loss: 0.0125\n",
            "Epoch 156/250\n",
            "45/45 [==============================] - 0s 987us/step - loss: 0.0137\n",
            "Epoch 157/250\n",
            "45/45 [==============================] - 0s 1ms/step - loss: 0.0171\n",
            "Epoch 158/250\n",
            "45/45 [==============================] - 0s 950us/step - loss: 0.0126\n",
            "Epoch 159/250\n",
            "45/45 [==============================] - 0s 1ms/step - loss: 0.0122\n",
            "Epoch 160/250\n",
            "45/45 [==============================] - 0s 950us/step - loss: 0.0187\n",
            "Epoch 161/250\n",
            "45/45 [==============================] - 0s 967us/step - loss: 0.0143\n",
            "Epoch 162/250\n",
            "45/45 [==============================] - 0s 950us/step - loss: 0.0145\n",
            "Epoch 163/250\n",
            "45/45 [==============================] - 0s 959us/step - loss: 0.0148\n",
            "Epoch 164/250\n",
            "45/45 [==============================] - 0s 970us/step - loss: 0.0112\n",
            "Epoch 165/250\n",
            "45/45 [==============================] - 0s 1ms/step - loss: 0.0111\n",
            "Epoch 166/250\n",
            "45/45 [==============================] - 0s 949us/step - loss: 0.0101\n",
            "Epoch 167/250\n",
            "45/45 [==============================] - 0s 958us/step - loss: 0.0125\n",
            "Epoch 168/250\n",
            "45/45 [==============================] - 0s 980us/step - loss: 0.0140\n",
            "Epoch 169/250\n",
            "45/45 [==============================] - 0s 978us/step - loss: 0.0114\n",
            "Epoch 170/250\n",
            "45/45 [==============================] - 0s 1ms/step - loss: 0.0161\n",
            "Epoch 171/250\n",
            "45/45 [==============================] - 0s 1000us/step - loss: 0.0125\n",
            "Epoch 172/250\n",
            "45/45 [==============================] - 0s 1ms/step - loss: 0.0136\n",
            "Epoch 173/250\n",
            "45/45 [==============================] - 0s 980us/step - loss: 0.0146\n",
            "Epoch 174/250\n",
            "45/45 [==============================] - 0s 976us/step - loss: 0.0129\n",
            "Epoch 175/250\n",
            "45/45 [==============================] - 0s 1ms/step - loss: 0.0152\n",
            "Epoch 176/250\n",
            "45/45 [==============================] - 0s 1ms/step - loss: 0.0128\n",
            "Epoch 177/250\n",
            "45/45 [==============================] - 0s 1ms/step - loss: 0.0103\n",
            "Epoch 178/250\n",
            "45/45 [==============================] - 0s 967us/step - loss: 0.0149\n",
            "Epoch 179/250\n",
            "45/45 [==============================] - 0s 927us/step - loss: 0.0148\n",
            "Epoch 180/250\n",
            "45/45 [==============================] - 0s 956us/step - loss: 0.0141\n",
            "Epoch 181/250\n",
            "45/45 [==============================] - 0s 984us/step - loss: 0.0160\n",
            "Epoch 182/250\n",
            "45/45 [==============================] - 0s 1ms/step - loss: 0.0109\n",
            "Epoch 183/250\n",
            "45/45 [==============================] - 0s 1ms/step - loss: 0.0109\n",
            "Epoch 184/250\n",
            "45/45 [==============================] - 0s 1ms/step - loss: 0.0120\n",
            "Epoch 185/250\n",
            "45/45 [==============================] - 0s 1ms/step - loss: 0.0132\n",
            "Epoch 186/250\n",
            "45/45 [==============================] - 0s 1ms/step - loss: 0.0126\n",
            "Epoch 187/250\n",
            "45/45 [==============================] - 0s 1ms/step - loss: 0.0139\n",
            "Epoch 188/250\n",
            "45/45 [==============================] - 0s 1ms/step - loss: 0.0107\n",
            "Epoch 189/250\n",
            "45/45 [==============================] - 0s 1ms/step - loss: 0.0102\n",
            "Epoch 190/250\n",
            "45/45 [==============================] - 0s 965us/step - loss: 0.0140\n",
            "Epoch 191/250\n",
            "45/45 [==============================] - 0s 942us/step - loss: 0.0127\n",
            "Epoch 192/250\n",
            "45/45 [==============================] - 0s 986us/step - loss: 0.0140\n",
            "Epoch 193/250\n",
            "45/45 [==============================] - 0s 1ms/step - loss: 0.0104\n",
            "Epoch 194/250\n",
            "45/45 [==============================] - 0s 929us/step - loss: 0.0108\n",
            "Epoch 195/250\n",
            "45/45 [==============================] - 0s 1ms/step - loss: 0.0124\n",
            "Epoch 196/250\n",
            "45/45 [==============================] - 0s 1ms/step - loss: 0.0123\n",
            "Epoch 197/250\n",
            "45/45 [==============================] - 0s 1ms/step - loss: 0.0115\n",
            "Epoch 198/250\n",
            "45/45 [==============================] - 0s 953us/step - loss: 0.0134\n",
            "Epoch 199/250\n",
            "45/45 [==============================] - 0s 906us/step - loss: 0.0153\n",
            "Epoch 200/250\n",
            "45/45 [==============================] - 0s 958us/step - loss: 0.0122\n",
            "Epoch 201/250\n",
            "45/45 [==============================] - 0s 983us/step - loss: 0.0090\n",
            "Epoch 202/250\n",
            "45/45 [==============================] - 0s 1ms/step - loss: 0.0117\n",
            "Epoch 203/250\n",
            "45/45 [==============================] - 0s 985us/step - loss: 0.0107\n",
            "Epoch 204/250\n",
            "45/45 [==============================] - 0s 1ms/step - loss: 0.0130\n",
            "Epoch 205/250\n",
            "45/45 [==============================] - 0s 1ms/step - loss: 0.0116\n",
            "Epoch 206/250\n",
            "45/45 [==============================] - 0s 990us/step - loss: 0.0088\n",
            "Epoch 207/250\n",
            "45/45 [==============================] - 0s 957us/step - loss: 0.0095\n",
            "Epoch 208/250\n",
            "45/45 [==============================] - 0s 980us/step - loss: 0.0116\n",
            "Epoch 209/250\n",
            "45/45 [==============================] - 0s 1ms/step - loss: 0.0117\n",
            "Epoch 210/250\n",
            "45/45 [==============================] - 0s 986us/step - loss: 0.0121\n",
            "Epoch 211/250\n",
            "45/45 [==============================] - 0s 965us/step - loss: 0.0125\n",
            "Epoch 212/250\n",
            "45/45 [==============================] - 0s 991us/step - loss: 0.0118\n",
            "Epoch 213/250\n",
            "45/45 [==============================] - 0s 1ms/step - loss: 0.0089\n",
            "Epoch 214/250\n",
            "45/45 [==============================] - 0s 1ms/step - loss: 0.0100\n",
            "Epoch 215/250\n",
            "45/45 [==============================] - 0s 1ms/step - loss: 0.0120\n",
            "Epoch 216/250\n",
            "45/45 [==============================] - 0s 979us/step - loss: 0.0106\n",
            "Epoch 217/250\n",
            "45/45 [==============================] - 0s 1ms/step - loss: 0.0104\n",
            "Epoch 218/250\n",
            "45/45 [==============================] - 0s 997us/step - loss: 0.0091\n",
            "Epoch 219/250\n",
            "45/45 [==============================] - 0s 1ms/step - loss: 0.0106\n",
            "Epoch 220/250\n",
            "45/45 [==============================] - 0s 989us/step - loss: 0.0114\n",
            "Epoch 221/250\n",
            "45/45 [==============================] - 0s 1ms/step - loss: 0.0126\n",
            "Epoch 222/250\n",
            "45/45 [==============================] - 0s 1ms/step - loss: 0.0141\n",
            "Epoch 223/250\n",
            "45/45 [==============================] - 0s 992us/step - loss: 0.0116\n",
            "Epoch 224/250\n",
            "45/45 [==============================] - 0s 972us/step - loss: 0.0136\n",
            "Epoch 225/250\n",
            "45/45 [==============================] - 0s 969us/step - loss: 0.0131\n",
            "Epoch 226/250\n",
            "45/45 [==============================] - 0s 959us/step - loss: 0.0113\n",
            "Epoch 227/250\n",
            "45/45 [==============================] - 0s 1ms/step - loss: 0.0095\n",
            "Epoch 228/250\n",
            "45/45 [==============================] - 0s 995us/step - loss: 0.0140\n",
            "Epoch 229/250\n",
            "45/45 [==============================] - 0s 1ms/step - loss: 0.0087\n",
            "Epoch 230/250\n",
            "45/45 [==============================] - 0s 1ms/step - loss: 0.0101\n",
            "Epoch 231/250\n",
            "45/45 [==============================] - 0s 1ms/step - loss: 0.0141\n",
            "Epoch 232/250\n",
            "45/45 [==============================] - 0s 994us/step - loss: 0.0114\n",
            "Epoch 233/250\n",
            "45/45 [==============================] - 0s 949us/step - loss: 0.0143\n",
            "Epoch 234/250\n",
            "45/45 [==============================] - 0s 956us/step - loss: 0.0145\n",
            "Epoch 235/250\n",
            "45/45 [==============================] - 0s 1ms/step - loss: 0.0117\n",
            "Epoch 236/250\n",
            "45/45 [==============================] - 0s 1ms/step - loss: 0.0122\n",
            "Epoch 237/250\n",
            "45/45 [==============================] - 0s 1ms/step - loss: 0.0092\n",
            "Epoch 238/250\n",
            "45/45 [==============================] - 0s 1ms/step - loss: 0.0098\n",
            "Epoch 239/250\n",
            "45/45 [==============================] - 0s 920us/step - loss: 0.0144\n",
            "Epoch 240/250\n",
            "45/45 [==============================] - 0s 981us/step - loss: 0.0087\n",
            "Epoch 241/250\n",
            "45/45 [==============================] - 0s 984us/step - loss: 0.0092\n",
            "Epoch 242/250\n",
            "45/45 [==============================] - 0s 972us/step - loss: 0.0094\n",
            "Epoch 243/250\n",
            "45/45 [==============================] - 0s 1ms/step - loss: 0.0141\n",
            "Epoch 244/250\n",
            "45/45 [==============================] - 0s 1ms/step - loss: 0.0110\n",
            "Epoch 245/250\n",
            "45/45 [==============================] - 0s 1ms/step - loss: 0.0096\n",
            "Epoch 246/250\n",
            "45/45 [==============================] - 0s 988us/step - loss: 0.0095\n",
            "Epoch 247/250\n",
            "45/45 [==============================] - 0s 1ms/step - loss: 0.0090\n",
            "Epoch 248/250\n",
            "45/45 [==============================] - 0s 993us/step - loss: 0.0122\n",
            "Epoch 249/250\n",
            "45/45 [==============================] - 0s 987us/step - loss: 0.0134\n",
            "Epoch 250/250\n",
            "45/45 [==============================] - 0s 967us/step - loss: 0.0117\n"
          ],
          "name": "stdout"
        },
        {
          "output_type": "execute_result",
          "data": {
            "text/plain": [
              "<keras.callbacks.callbacks.History at 0x7f4eb6ae0780>"
            ]
          },
          "metadata": {
            "tags": []
          },
          "execution_count": 13
        }
      ]
    },
    {
      "cell_type": "markdown",
      "metadata": {
        "id": "gwpyImwA3yon"
      },
      "source": [
        "## Parte 3 - Fazer as previsões e analisar os resultados"
      ]
    },
    {
      "cell_type": "markdown",
      "metadata": {
        "id": "wkXRvDjT4V-B"
      },
      "source": [
        "### Base de teste"
      ]
    },
    {
      "cell_type": "code",
      "metadata": {
        "id": "Bn_n72dh30K-"
      },
      "source": [
        "dataset_test = pd.read_csv('test.csv')\n",
        "test_pul = dataset_test.iloc[:, 1:2].values"
      ],
      "execution_count": 14,
      "outputs": []
    },
    {
      "cell_type": "markdown",
      "metadata": {
        "id": "EOo84exH4bfs"
      },
      "source": [
        "### Construir a estrutura para teste"
      ]
    },
    {
      "cell_type": "code",
      "metadata": {
        "id": "ob_-mGA_B5px"
      },
      "source": [
        "dataset_total = pd.concat((dataset_train.iloc[:,1], dataset_test.iloc[:,1]), axis = 0)\n",
        "testLength = len(dataset_test)\n",
        "inputs = dataset_total[len(dataset_total) - testLength - window:].values\n",
        "inputs = inputs.reshape(inputs.shape[0],1)\n",
        "\n",
        "inputs = sc.transform(inputs)\n",
        "X_test = []\n",
        "for i in range(window, inputs.shape[0]): \n",
        "    X_test.append(inputs[i-window:i, 0])\n",
        "X_test = np.array(X_test)\n",
        "\n",
        "X_test = np.reshape(X_test, (X_test.shape[0], X_test.shape[1], 1))"
      ],
      "execution_count": 15,
      "outputs": []
    },
    {
      "cell_type": "markdown",
      "metadata": {
        "id": "rtkB4NA74e1B"
      },
      "source": [
        "### Fazer as previsões"
      ]
    },
    {
      "cell_type": "code",
      "metadata": {
        "id": "nKIq1h-E4g9Z"
      },
      "source": [
        "predicted = regressor.predict(X_test)\n",
        "predicted = sc.inverse_transform(predicted)"
      ],
      "execution_count": 16,
      "outputs": []
    },
    {
      "cell_type": "markdown",
      "metadata": {
        "id": "guvk7yXr4o0g"
      },
      "source": [
        "### Visualizar os resultados de treino e teste"
      ]
    },
    {
      "cell_type": "code",
      "metadata": {
        "id": "tstXl2oS4rIo",
        "colab": {
          "base_uri": "https://localhost:8080/",
          "height": 295
        },
        "outputId": "6f58f116-057b-4ad8-846f-721324ea7e98"
      },
      "source": [
        "allTargetData = np.vstack((training_set, test_pul))\n",
        "training_predicted = regressor.predict(X_train)\n",
        "training_predicted = sc.inverse_transform(training_predicted)\n",
        "allForecastedData = np.vstack((training_set[0:window], training_predicted, predicted))\n",
        "plt.plot(allTargetData, color = 'red', label = 'Real')\n",
        "plt.plot(allForecastedData, color = 'blue', label = 'Previsto')\n",
        "plt.title('Previsão de série temporal')\n",
        "plt.xlabel('Tempo')\n",
        "plt.ylabel('Número de mortes')\n",
        "plt.legend()\n",
        "plt.savefig('predictions_training_test.svg')\n",
        "plt.show()"
      ],
      "execution_count": 17,
      "outputs": [
        {
          "output_type": "display_data",
          "data": {
            "image/png": "[encoded data removed]",
            "text/plain": [
              "<Figure size 432x288 with 1 Axes>"
            ]
          },
          "metadata": {
            "tags": [],
            "needs_background": "light"
          }
        }
      ]
    },
    {
      "cell_type": "markdown",
      "metadata": {
        "id": "ytEVhQht4we3"
      },
      "source": [
        "## Parte 4 - Métricas de avaliação"
      ]
    },
    {
      "cell_type": "code",
      "metadata": {
        "id": "rqOonVj64ydu",
        "colab": {
          "base_uri": "https://localhost:8080/"
        },
        "outputId": "9fdf15e6-a924-4192-f33f-485b2e7e42c2"
      },
      "source": [
        "import math\n",
        "from sklearn.metrics import mean_squared_error,r2_score\n",
        "rmse = math.sqrt(mean_squared_error(test_pul, predicted))\n",
        "print('RMSE: ', rmse)"
      ],
      "execution_count": 18,
      "outputs": [
        {
          "output_type": "stream",
          "text": [
            "RMSE:  187.63493992637433\n"
          ],
          "name": "stdout"
        }
      ]
    },
    {
      "cell_type": "code",
      "metadata": {
        "id": "ODeley1K42WW",
        "colab": {
          "base_uri": "https://localhost:8080/"
        },
        "outputId": "a434b690-0269-42d1-eff2-d32f6c1924e9"
      },
      "source": [
        "mse = mean_squared_error(test_pul, predicted)\n",
        "print('MSE: ',mse)"
      ],
      "execution_count": 19,
      "outputs": [
        {
          "output_type": "stream",
          "text": [
            "MSE:  35206.8706811741\n"
          ],
          "name": "stdout"
        }
      ]
    },
    {
      "cell_type": "code",
      "metadata": {
        "id": "L7_uU_8T44QA",
        "colab": {
          "base_uri": "https://localhost:8080/"
        },
        "outputId": "1ef7a48c-fd7d-4d3d-8e86-99be1e27420f"
      },
      "source": [
        "mape = np.mean(np.abs((test_pul - predicted) / test_pul)) * 100\n",
        "print('MAPE: ',mape, '%')"
      ],
      "execution_count": 20,
      "outputs": [
        {
          "output_type": "stream",
          "text": [
            "MAPE:  6.7635818743022105 %\n"
          ],
          "name": "stdout"
        }
      ]
    },
    {
      "cell_type": "code",
      "metadata": {
        "id": "mgmtdSOq7rG0",
        "colab": {
          "base_uri": "https://localhost:8080/"
        },
        "outputId": "f7b651a0-c021-403c-acef-0c1b54e227d2"
      },
      "source": [
        "r2 = r2_score(test_pul,predicted, )\n",
        "print('R2: ', r2)"
      ],
      "execution_count": 21,
      "outputs": [
        {
          "output_type": "stream",
          "text": [
            "R2:  0.8827126055806441\n"
          ],
          "name": "stdout"
        }
      ]
    }
  ]
}