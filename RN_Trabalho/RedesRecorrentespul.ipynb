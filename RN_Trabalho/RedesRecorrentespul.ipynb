{
  "nbformat": 4,
  "nbformat_minor": 0,
  "metadata": {
    "colab": {
      "name": "RedesRecorrentespul.ipynb",
      "provenance": [],
      "collapsed_sections": [],
      "toc_visible": true
    },
    "kernelspec": {
      "name": "python3",
      "display_name": "Python 3"
    },
    "accelerator": "GPU"
  },
  "cells": [
    {
      "cell_type": "markdown",
      "metadata": {
        "id": "bgc8yb4c2W0g"
      },
      "source": [
        "# Recurrent Neural Network - LSTM\n"
      ]
    },
    {
      "cell_type": "markdown",
      "metadata": {
        "id": "aew2N81e35Uc"
      },
      "source": [
        "## Parte 1 - Preprocessamento de Dados"
      ]
    },
    {
      "cell_type": "markdown",
      "metadata": {
        "id": "Z0vulSxH2hHu"
      },
      "source": [
        "### Importar as bibliotecas"
      ]
    },
    {
      "cell_type": "code",
      "metadata": {
        "id": "p2SjiqlE2O08",
        "colab": {
          "base_uri": "https://localhost:8080/"
        },
        "outputId": "1b484618-ef42-412c-cfc7-e756593de9af"
      },
      "source": [
        "%tensorflow_version 1.x\n",
        "import numpy as np\n",
        "import matplotlib.pyplot as plt\n",
        "import pandas as pd\n",
        "import os"
      ],
      "execution_count": 1,
      "outputs": [
        {
          "output_type": "stream",
          "text": [
            "TensorFlow 1.x selected.\n"
          ],
          "name": "stdout"
        }
      ]
    },
    {
      "cell_type": "markdown",
      "metadata": {
        "id": "36Q16Udt2l3W"
      },
      "source": [
        "### Importar a base de dados"
      ]
    },
    {
      "cell_type": "code",
      "metadata": {
        "id": "1ivhnWxD2eEG",
        "outputId": "785097bc-2197-4762-d26a-adca93b376e2",
        "colab": {
          "base_uri": "https://localhost:8080/",
          "height": 204
        }
      },
      "source": [
        "dataset_train = pd.read_csv('train.csv')\n",
        "dataset_train.head()"
      ],
      "execution_count": 2,
      "outputs": [
        {
          "output_type": "execute_result",
          "data": {
            "text/html": [
              "<div>\n",
              "<style scoped>\n",
              "    .dataframe tbody tr th:only-of-type {\n",
              "        vertical-align: middle;\n",
              "    }\n",
              "\n",
              "    .dataframe tbody tr th {\n",
              "        vertical-align: top;\n",
              "    }\n",
              "\n",
              "    .dataframe thead th {\n",
              "        text-align: right;\n",
              "    }\n",
              "</style>\n",
              "<table border=\"1\" class=\"dataframe\">\n",
              "  <thead>\n",
              "    <tr style=\"text-align: right;\">\n",
              "      <th></th>\n",
              "      <th>index</th>\n",
              "      <th>value</th>\n",
              "    </tr>\n",
              "  </thead>\n",
              "  <tbody>\n",
              "    <tr>\n",
              "      <th>0</th>\n",
              "      <td>1974 Jan</td>\n",
              "      <td>3035</td>\n",
              "    </tr>\n",
              "    <tr>\n",
              "      <th>1</th>\n",
              "      <td>1974 Feb</td>\n",
              "      <td>2552</td>\n",
              "    </tr>\n",
              "    <tr>\n",
              "      <th>2</th>\n",
              "      <td>1974 Mar</td>\n",
              "      <td>2704</td>\n",
              "    </tr>\n",
              "    <tr>\n",
              "      <th>3</th>\n",
              "      <td>1974 Apr</td>\n",
              "      <td>2554</td>\n",
              "    </tr>\n",
              "    <tr>\n",
              "      <th>4</th>\n",
              "      <td>1974 May</td>\n",
              "      <td>2014</td>\n",
              "    </tr>\n",
              "  </tbody>\n",
              "</table>\n",
              "</div>"
            ],
            "text/plain": [
              "      index  value\n",
              "0  1974 Jan   3035\n",
              "1  1974 Feb   2552\n",
              "2  1974 Mar   2704\n",
              "3  1974 Apr   2554\n",
              "4  1974 May   2014"
            ]
          },
          "metadata": {
            "tags": []
          },
          "execution_count": 2
        }
      ]
    },
    {
      "cell_type": "code",
      "metadata": {
        "id": "qnVL_m3A2KLJ"
      },
      "source": [
        "training_set = dataset_train.iloc[:, 1:2].values #só coluna da série em si"
      ],
      "execution_count": 3,
      "outputs": []
    },
    {
      "cell_type": "markdown",
      "metadata": {
        "id": "kd39T1zK2ql1"
      },
      "source": [
        "### gráfico da série temporal"
      ]
    },
    {
      "cell_type": "code",
      "metadata": {
        "id": "vMsAFuya2rhr",
        "colab": {
          "base_uri": "https://localhost:8080/",
          "height": 295
        },
        "outputId": "3a316178-5e74-4d03-b0d4-7a23b77ec8fb"
      },
      "source": [
        "plt.plot(training_set)\n",
        "plt.xlabel(\"tempo\")\n",
        "plt.ylabel(\"numero mortes\")\n",
        "plt.title(\"Doenças pulmonares\")\n",
        "plt.show()"
      ],
      "execution_count": 7,
      "outputs": [
        {
          "output_type": "display_data",
          "data": {
            "image/png": "[encoded data removed]",
            "text/plain": [
              "<Figure size 432x288 with 1 Axes>"
            ]
          },
          "metadata": {
            "tags": [],
            "needs_background": "light"
          }
        }
      ]
    },
    {
      "cell_type": "markdown",
      "metadata": {
        "id": "7p1F7HdB2uJU"
      },
      "source": [
        "### Normalização"
      ]
    },
    {
      "cell_type": "code",
      "metadata": {
        "id": "foeHRZr-2u-L"
      },
      "source": [
        "from sklearn.preprocessing import MinMaxScaler\n",
        "sc = MinMaxScaler(feature_range = (0, 1))\n",
        "training_set_scaled = sc.fit_transform(training_set)"
      ],
      "execution_count": 8,
      "outputs": []
    },
    {
      "cell_type": "markdown",
      "metadata": {
        "id": "uQP8Q7MI21Y9"
      },
      "source": [
        "### Criar a estrutura de dados com janela 10 e output 1"
      ]
    },
    {
      "cell_type": "code",
      "metadata": {
        "id": "C6Ge9ql922cb"
      },
      "source": [
        "window = 10\n",
        "trainSize = len(training_set_scaled)\n",
        "X_train = []\n",
        "y_train = []\n",
        "for i in range(window, trainSize):\n",
        "    X_train.append(training_set_scaled[i-window:i, 0])\n",
        "    y_train.append(training_set_scaled[i, 0])\n",
        "X_train, y_train = np.array(X_train), np.array(y_train)"
      ],
      "execution_count": 9,
      "outputs": []
    },
    {
      "cell_type": "markdown",
      "metadata": {
        "id": "LPBC2LoG24dU"
      },
      "source": [
        "### Reshaping"
      ]
    },
    {
      "cell_type": "code",
      "metadata": {
        "id": "oGwgQUDbdmnS",
        "colab": {
          "base_uri": "https://localhost:8080/"
        },
        "outputId": "1429a8cf-d668-4e5c-ad70-0af63ebcf3a6"
      },
      "source": [
        "X_train.shape"
      ],
      "execution_count": 11,
      "outputs": [
        {
          "output_type": "execute_result",
          "data": {
            "text/plain": [
              "(50, 10)"
            ]
          },
          "metadata": {
            "tags": []
          },
          "execution_count": 11
        }
      ]
    },
    {
      "cell_type": "code",
      "metadata": {
        "id": "b9ZfLlGH25fr"
      },
      "source": [
        "X_train = np.reshape(X_train, (X_train.shape[0], X_train.shape[1], 1))"
      ],
      "execution_count": 12,
      "outputs": []
    },
    {
      "cell_type": "code",
      "metadata": {
        "id": "RxU0axM9diHO",
        "colab": {
          "base_uri": "https://localhost:8080/"
        },
        "outputId": "2e3e542d-5350-4537-d9cf-b9ffa570a880"
      },
      "source": [
        "X_train.shape"
      ],
      "execution_count": 14,
      "outputs": [
        {
          "output_type": "execute_result",
          "data": {
            "text/plain": [
              "(50, 10, 1)"
            ]
          },
          "metadata": {
            "tags": []
          },
          "execution_count": 14
        }
      ]
    },
    {
      "cell_type": "markdown",
      "metadata": {
        "id": "fZhjp7Tf282b"
      },
      "source": [
        "## Parte 2 - Construção da RNN"
      ]
    },
    {
      "cell_type": "markdown",
      "metadata": {
        "id": "RDkAxmMl3EXr"
      },
      "source": [
        "### Bibliotecas necessárias"
      ]
    },
    {
      "cell_type": "code",
      "metadata": {
        "id": "Ifhh9yUo3DpT",
        "colab": {
          "base_uri": "https://localhost:8080/"
        },
        "outputId": "76c5a9d2-d5e2-4377-e581-9f48b410910c"
      },
      "source": [
        "from keras.models import Sequential\n",
        "from keras.layers import Dense\n",
        "from keras.layers import LSTM\n",
        "from keras.layers import Dropout"
      ],
      "execution_count": 15,
      "outputs": [
        {
          "output_type": "stream",
          "text": [
            "Using TensorFlow backend.\n"
          ],
          "name": "stderr"
        }
      ]
    },
    {
      "cell_type": "code",
      "metadata": {
        "id": "ZRyfdNeLH41V",
        "outputId": "1c4162da-eca1-4d64-d9b1-30c5c7cc3809",
        "colab": {
          "base_uri": "https://localhost:8080/"
        }
      },
      "source": [
        "hidden_nodes = int(2/3 * (X_train.shape[0] + 1))\n",
        "print(hidden_nodes)"
      ],
      "execution_count": 50,
      "outputs": [
        {
          "output_type": "stream",
          "text": [
            "34\n"
          ],
          "name": "stdout"
        }
      ]
    },
    {
      "cell_type": "markdown",
      "metadata": {
        "id": "kordpD0_3H7b"
      },
      "source": [
        "### Construção da Rede completa"
      ]
    },
    {
      "cell_type": "code",
      "metadata": {
        "id": "EskB17uo3Iso",
        "colab": {
          "base_uri": "https://localhost:8080/"
        },
        "outputId": "a3622726-01e3-4fde-dcb5-3e7f0a0aa532"
      },
      "source": [
        "# De acordo com o Talk, este eh o principal bloco para alterar e fazer o trabalho\n",
        "# Inicializar a RNN\n",
        "regressor = Sequential()\n",
        "\n",
        "# Adicionar a primeira camada LSTM e Dropout \n",
        "regressor.add(LSTM(units = 48, return_sequences = False, input_shape = (X_train.shape[1], 1)))\n",
        "regressor.add(Dropout(0.2))\n",
        " \n",
        "# Adicionar a segunda camada LSTM e Dropout\n",
        "#regressor.add(LSTM(units = 80, return_sequences = False))\n",
        "#regressor.add(Dropout(0.2))\n",
        " \n",
        "# Adicionar a terceira camada LSTM e Dropout\n",
        "#regressor.add(LSTM(units = 50))\n",
        "#regressor.add(Dropout(0.2))\n",
        " \n",
        "# camada de saída\n",
        "regressor.add(Dense(units = 1))\n",
        " \n",
        "# Compilar a rede\n",
        "regressor.compile(optimizer = 'adam', loss = 'mean_squared_error')\n",
        "\n",
        "# Visualizar a rede\n",
        "regressor.summary()"
      ],
      "execution_count": 71,
      "outputs": [
        {
          "output_type": "stream",
          "text": [
            "Model: \"sequential_5\"\n",
            "_________________________________________________________________\n",
            "Layer (type)                 Output Shape              Param #   \n",
            "=================================================================\n",
            "lstm_5 (LSTM)                (None, 48)                9600      \n",
            "_________________________________________________________________\n",
            "dropout_5 (Dropout)          (None, 48)                0         \n",
            "_________________________________________________________________\n",
            "dense_5 (Dense)              (None, 1)                 49        \n",
            "=================================================================\n",
            "Total params: 9,649\n",
            "Trainable params: 9,649\n",
            "Non-trainable params: 0\n",
            "_________________________________________________________________\n"
          ],
          "name": "stdout"
        }
      ]
    },
    {
      "cell_type": "markdown",
      "metadata": {
        "id": "5j1w28g83iSR"
      },
      "source": [
        "### Treinamento"
      ]
    },
    {
      "cell_type": "code",
      "metadata": {
        "id": "xWKAuKyp3jXv",
        "colab": {
          "base_uri": "https://localhost:8080/"
        },
        "outputId": "205ce226-c977-4624-bbb5-57dc95aecf21"
      },
      "source": [
        "regressor.fit(X_train, y_train, epochs = 250, batch_size = 64)"
      ],
      "execution_count": 72,
      "outputs": [
        {
          "output_type": "stream",
          "text": [
            "Epoch 1/250\n",
            "50/50 [==============================] - 0s 8ms/step - loss: 0.1503\n",
            "Epoch 2/250\n",
            "50/50 [==============================] - 0s 282us/step - loss: 0.1433\n",
            "Epoch 3/250\n",
            "50/50 [==============================] - 0s 273us/step - loss: 0.1324\n",
            "Epoch 4/250\n",
            "50/50 [==============================] - 0s 301us/step - loss: 0.1259\n",
            "Epoch 5/250\n",
            "50/50 [==============================] - 0s 271us/step - loss: 0.1165\n",
            "Epoch 6/250\n",
            "50/50 [==============================] - 0s 264us/step - loss: 0.1054\n",
            "Epoch 7/250\n",
            "50/50 [==============================] - 0s 260us/step - loss: 0.1040\n",
            "Epoch 8/250\n",
            "50/50 [==============================] - 0s 279us/step - loss: 0.0947\n",
            "Epoch 9/250\n",
            "50/50 [==============================] - 0s 262us/step - loss: 0.0936\n",
            "Epoch 10/250\n",
            "50/50 [==============================] - 0s 323us/step - loss: 0.0833\n",
            "Epoch 11/250\n",
            "50/50 [==============================] - 0s 327us/step - loss: 0.0786\n",
            "Epoch 12/250\n",
            "50/50 [==============================] - 0s 300us/step - loss: 0.0770\n",
            "Epoch 13/250\n",
            "50/50 [==============================] - 0s 260us/step - loss: 0.0741\n",
            "Epoch 14/250\n",
            "50/50 [==============================] - 0s 268us/step - loss: 0.0706\n",
            "Epoch 15/250\n",
            "50/50 [==============================] - 0s 329us/step - loss: 0.0719\n",
            "Epoch 16/250\n",
            "50/50 [==============================] - 0s 324us/step - loss: 0.0791\n",
            "Epoch 17/250\n",
            "50/50 [==============================] - 0s 312us/step - loss: 0.0739\n",
            "Epoch 18/250\n",
            "50/50 [==============================] - 0s 311us/step - loss: 0.0749\n",
            "Epoch 19/250\n",
            "50/50 [==============================] - 0s 307us/step - loss: 0.0722\n",
            "Epoch 20/250\n",
            "50/50 [==============================] - 0s 269us/step - loss: 0.0734\n",
            "Epoch 21/250\n",
            "50/50 [==============================] - 0s 270us/step - loss: 0.0704\n",
            "Epoch 22/250\n",
            "50/50 [==============================] - 0s 299us/step - loss: 0.0707\n",
            "Epoch 23/250\n",
            "50/50 [==============================] - 0s 303us/step - loss: 0.0700\n",
            "Epoch 24/250\n",
            "50/50 [==============================] - 0s 326us/step - loss: 0.0692\n",
            "Epoch 25/250\n",
            "50/50 [==============================] - 0s 298us/step - loss: 0.0712\n",
            "Epoch 26/250\n",
            "50/50 [==============================] - 0s 292us/step - loss: 0.0770\n",
            "Epoch 27/250\n",
            "50/50 [==============================] - 0s 310us/step - loss: 0.0663\n",
            "Epoch 28/250\n",
            "50/50 [==============================] - 0s 312us/step - loss: 0.0683\n",
            "Epoch 29/250\n",
            "50/50 [==============================] - 0s 313us/step - loss: 0.0648\n",
            "Epoch 30/250\n",
            "50/50 [==============================] - 0s 375us/step - loss: 0.0670\n",
            "Epoch 31/250\n",
            "50/50 [==============================] - 0s 322us/step - loss: 0.0680\n",
            "Epoch 32/250\n",
            "50/50 [==============================] - 0s 313us/step - loss: 0.0658\n",
            "Epoch 33/250\n",
            "50/50 [==============================] - 0s 320us/step - loss: 0.0692\n",
            "Epoch 34/250\n",
            "50/50 [==============================] - 0s 340us/step - loss: 0.0653\n",
            "Epoch 35/250\n",
            "50/50 [==============================] - 0s 328us/step - loss: 0.0617\n",
            "Epoch 36/250\n",
            "50/50 [==============================] - 0s 276us/step - loss: 0.0663\n",
            "Epoch 37/250\n",
            "50/50 [==============================] - 0s 368us/step - loss: 0.0626\n",
            "Epoch 38/250\n",
            "50/50 [==============================] - 0s 266us/step - loss: 0.0642\n",
            "Epoch 39/250\n",
            "50/50 [==============================] - 0s 424us/step - loss: 0.0664\n",
            "Epoch 40/250\n",
            "50/50 [==============================] - 0s 316us/step - loss: 0.0603\n",
            "Epoch 41/250\n",
            "50/50 [==============================] - 0s 296us/step - loss: 0.0586\n",
            "Epoch 42/250\n",
            "50/50 [==============================] - 0s 300us/step - loss: 0.0602\n",
            "Epoch 43/250\n",
            "50/50 [==============================] - 0s 267us/step - loss: 0.0600\n",
            "Epoch 44/250\n",
            "50/50 [==============================] - 0s 302us/step - loss: 0.0597\n",
            "Epoch 45/250\n",
            "50/50 [==============================] - 0s 307us/step - loss: 0.0588\n",
            "Epoch 46/250\n",
            "50/50 [==============================] - 0s 327us/step - loss: 0.0613\n",
            "Epoch 47/250\n",
            "50/50 [==============================] - 0s 366us/step - loss: 0.0664\n",
            "Epoch 48/250\n",
            "50/50 [==============================] - 0s 466us/step - loss: 0.0607\n",
            "Epoch 49/250\n",
            "50/50 [==============================] - 0s 309us/step - loss: 0.0602\n",
            "Epoch 50/250\n",
            "50/50 [==============================] - 0s 326us/step - loss: 0.0533\n",
            "Epoch 51/250\n",
            "50/50 [==============================] - 0s 312us/step - loss: 0.0529\n",
            "Epoch 52/250\n",
            "50/50 [==============================] - 0s 315us/step - loss: 0.0563\n",
            "Epoch 53/250\n",
            "50/50 [==============================] - 0s 319us/step - loss: 0.0564\n",
            "Epoch 54/250\n",
            "50/50 [==============================] - 0s 339us/step - loss: 0.0588\n",
            "Epoch 55/250\n",
            "50/50 [==============================] - 0s 312us/step - loss: 0.0539\n",
            "Epoch 56/250\n",
            "50/50 [==============================] - 0s 375us/step - loss: 0.0576\n",
            "Epoch 57/250\n",
            "50/50 [==============================] - 0s 304us/step - loss: 0.0543\n",
            "Epoch 58/250\n",
            "50/50 [==============================] - 0s 306us/step - loss: 0.0536\n",
            "Epoch 59/250\n",
            "50/50 [==============================] - 0s 336us/step - loss: 0.0533\n",
            "Epoch 60/250\n",
            "50/50 [==============================] - 0s 325us/step - loss: 0.0545\n",
            "Epoch 61/250\n",
            "50/50 [==============================] - 0s 309us/step - loss: 0.0533\n",
            "Epoch 62/250\n",
            "50/50 [==============================] - 0s 326us/step - loss: 0.0494\n",
            "Epoch 63/250\n",
            "50/50 [==============================] - 0s 325us/step - loss: 0.0464\n",
            "Epoch 64/250\n",
            "50/50 [==============================] - 0s 338us/step - loss: 0.0514\n",
            "Epoch 65/250\n",
            "50/50 [==============================] - 0s 316us/step - loss: 0.0512\n",
            "Epoch 66/250\n",
            "50/50 [==============================] - 0s 321us/step - loss: 0.0490\n",
            "Epoch 67/250\n",
            "50/50 [==============================] - 0s 353us/step - loss: 0.0487\n",
            "Epoch 68/250\n",
            "50/50 [==============================] - 0s 350us/step - loss: 0.0514\n",
            "Epoch 69/250\n",
            "50/50 [==============================] - 0s 361us/step - loss: 0.0504\n",
            "Epoch 70/250\n",
            "50/50 [==============================] - 0s 433us/step - loss: 0.0476\n",
            "Epoch 71/250\n",
            "50/50 [==============================] - 0s 364us/step - loss: 0.0489\n",
            "Epoch 72/250\n",
            "50/50 [==============================] - 0s 313us/step - loss: 0.0443\n",
            "Epoch 73/250\n",
            "50/50 [==============================] - 0s 332us/step - loss: 0.0483\n",
            "Epoch 74/250\n",
            "50/50 [==============================] - 0s 294us/step - loss: 0.0426\n",
            "Epoch 75/250\n",
            "50/50 [==============================] - 0s 301us/step - loss: 0.0481\n",
            "Epoch 76/250\n",
            "50/50 [==============================] - 0s 315us/step - loss: 0.0456\n",
            "Epoch 77/250\n",
            "50/50 [==============================] - 0s 322us/step - loss: 0.0474\n",
            "Epoch 78/250\n",
            "50/50 [==============================] - 0s 315us/step - loss: 0.0448\n",
            "Epoch 79/250\n",
            "50/50 [==============================] - 0s 320us/step - loss: 0.0432\n",
            "Epoch 80/250\n",
            "50/50 [==============================] - 0s 335us/step - loss: 0.0408\n",
            "Epoch 81/250\n",
            "50/50 [==============================] - 0s 371us/step - loss: 0.0406\n",
            "Epoch 82/250\n",
            "50/50 [==============================] - 0s 309us/step - loss: 0.0429\n",
            "Epoch 83/250\n",
            "50/50 [==============================] - 0s 392us/step - loss: 0.0402\n",
            "Epoch 84/250\n",
            "50/50 [==============================] - 0s 328us/step - loss: 0.0400\n",
            "Epoch 85/250\n",
            "50/50 [==============================] - 0s 324us/step - loss: 0.0379\n",
            "Epoch 86/250\n",
            "50/50 [==============================] - 0s 317us/step - loss: 0.0365\n",
            "Epoch 87/250\n",
            "50/50 [==============================] - 0s 299us/step - loss: 0.0355\n",
            "Epoch 88/250\n",
            "50/50 [==============================] - 0s 360us/step - loss: 0.0352\n",
            "Epoch 89/250\n",
            "50/50 [==============================] - 0s 365us/step - loss: 0.0341\n",
            "Epoch 90/250\n",
            "50/50 [==============================] - 0s 344us/step - loss: 0.0363\n",
            "Epoch 91/250\n",
            "50/50 [==============================] - 0s 337us/step - loss: 0.0328\n",
            "Epoch 92/250\n",
            "50/50 [==============================] - 0s 365us/step - loss: 0.0343\n",
            "Epoch 93/250\n",
            "50/50 [==============================] - 0s 334us/step - loss: 0.0302\n",
            "Epoch 94/250\n",
            "50/50 [==============================] - 0s 339us/step - loss: 0.0287\n",
            "Epoch 95/250\n",
            "50/50 [==============================] - 0s 333us/step - loss: 0.0306\n",
            "Epoch 96/250\n",
            "50/50 [==============================] - 0s 298us/step - loss: 0.0302\n",
            "Epoch 97/250\n",
            "50/50 [==============================] - 0s 324us/step - loss: 0.0295\n",
            "Epoch 98/250\n",
            "50/50 [==============================] - 0s 322us/step - loss: 0.0283\n",
            "Epoch 99/250\n",
            "50/50 [==============================] - 0s 323us/step - loss: 0.0292\n",
            "Epoch 100/250\n",
            "50/50 [==============================] - 0s 320us/step - loss: 0.0311\n",
            "Epoch 101/250\n",
            "50/50 [==============================] - 0s 340us/step - loss: 0.0277\n",
            "Epoch 102/250\n",
            "50/50 [==============================] - 0s 328us/step - loss: 0.0280\n",
            "Epoch 103/250\n",
            "50/50 [==============================] - 0s 360us/step - loss: 0.0273\n",
            "Epoch 104/250\n",
            "50/50 [==============================] - 0s 351us/step - loss: 0.0243\n",
            "Epoch 105/250\n",
            "50/50 [==============================] - 0s 309us/step - loss: 0.0250\n",
            "Epoch 106/250\n",
            "50/50 [==============================] - 0s 302us/step - loss: 0.0224\n",
            "Epoch 107/250\n",
            "50/50 [==============================] - 0s 286us/step - loss: 0.0191\n",
            "Epoch 108/250\n",
            "50/50 [==============================] - 0s 374us/step - loss: 0.0213\n",
            "Epoch 109/250\n",
            "50/50 [==============================] - 0s 334us/step - loss: 0.0221\n",
            "Epoch 110/250\n",
            "50/50 [==============================] - 0s 363us/step - loss: 0.0238\n",
            "Epoch 111/250\n",
            "50/50 [==============================] - 0s 345us/step - loss: 0.0227\n",
            "Epoch 112/250\n",
            "50/50 [==============================] - 0s 315us/step - loss: 0.0184\n",
            "Epoch 113/250\n",
            "50/50 [==============================] - 0s 319us/step - loss: 0.0184\n",
            "Epoch 114/250\n",
            "50/50 [==============================] - 0s 295us/step - loss: 0.0212\n",
            "Epoch 115/250\n",
            "50/50 [==============================] - 0s 324us/step - loss: 0.0176\n",
            "Epoch 116/250\n",
            "50/50 [==============================] - 0s 271us/step - loss: 0.0193\n",
            "Epoch 117/250\n",
            "50/50 [==============================] - 0s 292us/step - loss: 0.0222\n",
            "Epoch 118/250\n",
            "50/50 [==============================] - 0s 269us/step - loss: 0.0174\n",
            "Epoch 119/250\n",
            "50/50 [==============================] - 0s 292us/step - loss: 0.0190\n",
            "Epoch 120/250\n",
            "50/50 [==============================] - 0s 330us/step - loss: 0.0215\n",
            "Epoch 121/250\n",
            "50/50 [==============================] - 0s 336us/step - loss: 0.0213\n",
            "Epoch 122/250\n",
            "50/50 [==============================] - 0s 311us/step - loss: 0.0188\n",
            "Epoch 123/250\n",
            "50/50 [==============================] - 0s 316us/step - loss: 0.0197\n",
            "Epoch 124/250\n",
            "50/50 [==============================] - 0s 333us/step - loss: 0.0199\n",
            "Epoch 125/250\n",
            "50/50 [==============================] - 0s 406us/step - loss: 0.0175\n",
            "Epoch 126/250\n",
            "50/50 [==============================] - 0s 345us/step - loss: 0.0185\n",
            "Epoch 127/250\n",
            "50/50 [==============================] - 0s 419us/step - loss: 0.0160\n",
            "Epoch 128/250\n",
            "50/50 [==============================] - 0s 444us/step - loss: 0.0201\n",
            "Epoch 129/250\n",
            "50/50 [==============================] - 0s 386us/step - loss: 0.0165\n",
            "Epoch 130/250\n",
            "50/50 [==============================] - 0s 350us/step - loss: 0.0220\n",
            "Epoch 131/250\n",
            "50/50 [==============================] - 0s 343us/step - loss: 0.0162\n",
            "Epoch 132/250\n",
            "50/50 [==============================] - 0s 340us/step - loss: 0.0189\n",
            "Epoch 133/250\n",
            "50/50 [==============================] - 0s 308us/step - loss: 0.0197\n",
            "Epoch 134/250\n",
            "50/50 [==============================] - 0s 330us/step - loss: 0.0205\n",
            "Epoch 135/250\n",
            "50/50 [==============================] - 0s 305us/step - loss: 0.0191\n",
            "Epoch 136/250\n",
            "50/50 [==============================] - 0s 338us/step - loss: 0.0171\n",
            "Epoch 137/250\n",
            "50/50 [==============================] - 0s 273us/step - loss: 0.0183\n",
            "Epoch 138/250\n",
            "50/50 [==============================] - 0s 349us/step - loss: 0.0207\n",
            "Epoch 139/250\n",
            "50/50 [==============================] - 0s 367us/step - loss: 0.0217\n",
            "Epoch 140/250\n",
            "50/50 [==============================] - 0s 363us/step - loss: 0.0193\n",
            "Epoch 141/250\n",
            "50/50 [==============================] - 0s 342us/step - loss: 0.0188\n",
            "Epoch 142/250\n",
            "50/50 [==============================] - 0s 327us/step - loss: 0.0176\n",
            "Epoch 143/250\n",
            "50/50 [==============================] - 0s 319us/step - loss: 0.0136\n",
            "Epoch 144/250\n",
            "50/50 [==============================] - 0s 329us/step - loss: 0.0195\n",
            "Epoch 145/250\n",
            "50/50 [==============================] - 0s 370us/step - loss: 0.0155\n",
            "Epoch 146/250\n",
            "50/50 [==============================] - 0s 315us/step - loss: 0.0190\n",
            "Epoch 147/250\n",
            "50/50 [==============================] - 0s 327us/step - loss: 0.0173\n",
            "Epoch 148/250\n",
            "50/50 [==============================] - 0s 332us/step - loss: 0.0171\n",
            "Epoch 149/250\n",
            "50/50 [==============================] - 0s 383us/step - loss: 0.0190\n",
            "Epoch 150/250\n",
            "50/50 [==============================] - 0s 306us/step - loss: 0.0179\n",
            "Epoch 151/250\n",
            "50/50 [==============================] - 0s 325us/step - loss: 0.0184\n",
            "Epoch 152/250\n",
            "50/50 [==============================] - 0s 365us/step - loss: 0.0152\n",
            "Epoch 153/250\n",
            "50/50 [==============================] - 0s 345us/step - loss: 0.0205\n",
            "Epoch 154/250\n",
            "50/50 [==============================] - 0s 345us/step - loss: 0.0172\n",
            "Epoch 155/250\n",
            "50/50 [==============================] - 0s 353us/step - loss: 0.0218\n",
            "Epoch 156/250\n",
            "50/50 [==============================] - 0s 327us/step - loss: 0.0170\n",
            "Epoch 157/250\n",
            "50/50 [==============================] - 0s 329us/step - loss: 0.0170\n",
            "Epoch 158/250\n",
            "50/50 [==============================] - 0s 331us/step - loss: 0.0188\n",
            "Epoch 159/250\n",
            "50/50 [==============================] - 0s 331us/step - loss: 0.0191\n",
            "Epoch 160/250\n",
            "50/50 [==============================] - 0s 318us/step - loss: 0.0194\n",
            "Epoch 161/250\n",
            "50/50 [==============================] - 0s 360us/step - loss: 0.0155\n",
            "Epoch 162/250\n",
            "50/50 [==============================] - 0s 339us/step - loss: 0.0158\n",
            "Epoch 163/250\n",
            "50/50 [==============================] - 0s 339us/step - loss: 0.0176\n",
            "Epoch 164/250\n",
            "50/50 [==============================] - 0s 350us/step - loss: 0.0174\n",
            "Epoch 165/250\n",
            "50/50 [==============================] - 0s 353us/step - loss: 0.0192\n",
            "Epoch 166/250\n",
            "50/50 [==============================] - 0s 356us/step - loss: 0.0158\n",
            "Epoch 167/250\n",
            "50/50 [==============================] - 0s 353us/step - loss: 0.0154\n",
            "Epoch 168/250\n",
            "50/50 [==============================] - 0s 346us/step - loss: 0.0153\n",
            "Epoch 169/250\n",
            "50/50 [==============================] - 0s 329us/step - loss: 0.0190\n",
            "Epoch 170/250\n",
            "50/50 [==============================] - 0s 316us/step - loss: 0.0172\n",
            "Epoch 171/250\n",
            "50/50 [==============================] - 0s 319us/step - loss: 0.0183\n",
            "Epoch 172/250\n",
            "50/50 [==============================] - 0s 318us/step - loss: 0.0184\n",
            "Epoch 173/250\n",
            "50/50 [==============================] - 0s 369us/step - loss: 0.0185\n",
            "Epoch 174/250\n",
            "50/50 [==============================] - 0s 411us/step - loss: 0.0161\n",
            "Epoch 175/250\n",
            "50/50 [==============================] - 0s 333us/step - loss: 0.0141\n",
            "Epoch 176/250\n",
            "50/50 [==============================] - 0s 342us/step - loss: 0.0163\n",
            "Epoch 177/250\n",
            "50/50 [==============================] - 0s 347us/step - loss: 0.0180\n",
            "Epoch 178/250\n",
            "50/50 [==============================] - 0s 276us/step - loss: 0.0164\n",
            "Epoch 179/250\n",
            "50/50 [==============================] - 0s 342us/step - loss: 0.0158\n",
            "Epoch 180/250\n",
            "50/50 [==============================] - 0s 333us/step - loss: 0.0159\n",
            "Epoch 181/250\n",
            "50/50 [==============================] - 0s 335us/step - loss: 0.0149\n",
            "Epoch 182/250\n",
            "50/50 [==============================] - 0s 336us/step - loss: 0.0160\n",
            "Epoch 183/250\n",
            "50/50 [==============================] - 0s 333us/step - loss: 0.0172\n",
            "Epoch 184/250\n",
            "50/50 [==============================] - 0s 365us/step - loss: 0.0176\n",
            "Epoch 185/250\n",
            "50/50 [==============================] - 0s 425us/step - loss: 0.0166\n",
            "Epoch 186/250\n",
            "50/50 [==============================] - 0s 384us/step - loss: 0.0161\n",
            "Epoch 187/250\n",
            "50/50 [==============================] - 0s 308us/step - loss: 0.0138\n",
            "Epoch 188/250\n",
            "50/50 [==============================] - 0s 339us/step - loss: 0.0157\n",
            "Epoch 189/250\n",
            "50/50 [==============================] - 0s 301us/step - loss: 0.0162\n",
            "Epoch 190/250\n",
            "50/50 [==============================] - 0s 302us/step - loss: 0.0149\n",
            "Epoch 191/250\n",
            "50/50 [==============================] - 0s 314us/step - loss: 0.0148\n",
            "Epoch 192/250\n",
            "50/50 [==============================] - 0s 334us/step - loss: 0.0143\n",
            "Epoch 193/250\n",
            "50/50 [==============================] - 0s 327us/step - loss: 0.0177\n",
            "Epoch 194/250\n",
            "50/50 [==============================] - 0s 381us/step - loss: 0.0155\n",
            "Epoch 195/250\n",
            "50/50 [==============================] - 0s 371us/step - loss: 0.0147\n",
            "Epoch 196/250\n",
            "50/50 [==============================] - 0s 361us/step - loss: 0.0171\n",
            "Epoch 197/250\n",
            "50/50 [==============================] - 0s 363us/step - loss: 0.0170\n",
            "Epoch 198/250\n",
            "50/50 [==============================] - 0s 453us/step - loss: 0.0203\n",
            "Epoch 199/250\n",
            "50/50 [==============================] - 0s 312us/step - loss: 0.0160\n",
            "Epoch 200/250\n",
            "50/50 [==============================] - 0s 377us/step - loss: 0.0204\n",
            "Epoch 201/250\n",
            "50/50 [==============================] - 0s 365us/step - loss: 0.0152\n",
            "Epoch 202/250\n",
            "50/50 [==============================] - 0s 354us/step - loss: 0.0164\n",
            "Epoch 203/250\n",
            "50/50 [==============================] - 0s 384us/step - loss: 0.0140\n",
            "Epoch 204/250\n",
            "50/50 [==============================] - 0s 355us/step - loss: 0.0156\n",
            "Epoch 205/250\n",
            "50/50 [==============================] - 0s 374us/step - loss: 0.0157\n",
            "Epoch 206/250\n",
            "50/50 [==============================] - 0s 320us/step - loss: 0.0133\n",
            "Epoch 207/250\n",
            "50/50 [==============================] - 0s 361us/step - loss: 0.0171\n",
            "Epoch 208/250\n",
            "50/50 [==============================] - 0s 359us/step - loss: 0.0185\n",
            "Epoch 209/250\n",
            "50/50 [==============================] - 0s 316us/step - loss: 0.0164\n",
            "Epoch 210/250\n",
            "50/50 [==============================] - 0s 290us/step - loss: 0.0184\n",
            "Epoch 211/250\n",
            "50/50 [==============================] - 0s 294us/step - loss: 0.0161\n",
            "Epoch 212/250\n",
            "50/50 [==============================] - 0s 373us/step - loss: 0.0168\n",
            "Epoch 213/250\n",
            "50/50 [==============================] - 0s 348us/step - loss: 0.0164\n",
            "Epoch 214/250\n",
            "50/50 [==============================] - 0s 346us/step - loss: 0.0127\n",
            "Epoch 215/250\n",
            "50/50 [==============================] - 0s 497us/step - loss: 0.0158\n",
            "Epoch 216/250\n",
            "50/50 [==============================] - 0s 365us/step - loss: 0.0145\n",
            "Epoch 217/250\n",
            "50/50 [==============================] - 0s 350us/step - loss: 0.0163\n",
            "Epoch 218/250\n",
            "50/50 [==============================] - 0s 301us/step - loss: 0.0144\n",
            "Epoch 219/250\n",
            "50/50 [==============================] - 0s 279us/step - loss: 0.0152\n",
            "Epoch 220/250\n",
            "50/50 [==============================] - 0s 340us/step - loss: 0.0158\n",
            "Epoch 221/250\n",
            "50/50 [==============================] - 0s 442us/step - loss: 0.0185\n",
            "Epoch 222/250\n",
            "50/50 [==============================] - 0s 373us/step - loss: 0.0145\n",
            "Epoch 223/250\n",
            "50/50 [==============================] - 0s 356us/step - loss: 0.0157\n",
            "Epoch 224/250\n",
            "50/50 [==============================] - 0s 353us/step - loss: 0.0154\n",
            "Epoch 225/250\n",
            "50/50 [==============================] - 0s 474us/step - loss: 0.0166\n",
            "Epoch 226/250\n",
            "50/50 [==============================] - 0s 359us/step - loss: 0.0146\n",
            "Epoch 227/250\n",
            "50/50 [==============================] - 0s 336us/step - loss: 0.0119\n",
            "Epoch 228/250\n",
            "50/50 [==============================] - 0s 317us/step - loss: 0.0169\n",
            "Epoch 229/250\n",
            "50/50 [==============================] - 0s 366us/step - loss: 0.0162\n",
            "Epoch 230/250\n",
            "50/50 [==============================] - 0s 347us/step - loss: 0.0131\n",
            "Epoch 231/250\n",
            "50/50 [==============================] - 0s 344us/step - loss: 0.0141\n",
            "Epoch 232/250\n",
            "50/50 [==============================] - 0s 377us/step - loss: 0.0152\n",
            "Epoch 233/250\n",
            "50/50 [==============================] - 0s 372us/step - loss: 0.0151\n",
            "Epoch 234/250\n",
            "50/50 [==============================] - 0s 318us/step - loss: 0.0159\n",
            "Epoch 235/250\n",
            "50/50 [==============================] - 0s 353us/step - loss: 0.0137\n",
            "Epoch 236/250\n",
            "50/50 [==============================] - 0s 305us/step - loss: 0.0166\n",
            "Epoch 237/250\n",
            "50/50 [==============================] - 0s 391us/step - loss: 0.0142\n",
            "Epoch 238/250\n",
            "50/50 [==============================] - 0s 392us/step - loss: 0.0150\n",
            "Epoch 239/250\n",
            "50/50 [==============================] - 0s 346us/step - loss: 0.0144\n",
            "Epoch 240/250\n",
            "50/50 [==============================] - 0s 550us/step - loss: 0.0126\n",
            "Epoch 241/250\n",
            "50/50 [==============================] - 0s 318us/step - loss: 0.0136\n",
            "Epoch 242/250\n",
            "50/50 [==============================] - 0s 334us/step - loss: 0.0143\n",
            "Epoch 243/250\n",
            "50/50 [==============================] - 0s 338us/step - loss: 0.0137\n",
            "Epoch 244/250\n",
            "50/50 [==============================] - 0s 334us/step - loss: 0.0149\n",
            "Epoch 245/250\n",
            "50/50 [==============================] - 0s 402us/step - loss: 0.0139\n",
            "Epoch 246/250\n",
            "50/50 [==============================] - 0s 349us/step - loss: 0.0139\n",
            "Epoch 247/250\n",
            "50/50 [==============================] - 0s 358us/step - loss: 0.0136\n",
            "Epoch 248/250\n",
            "50/50 [==============================] - 0s 370us/step - loss: 0.0141\n",
            "Epoch 249/250\n",
            "50/50 [==============================] - 0s 348us/step - loss: 0.0152\n",
            "Epoch 250/250\n",
            "50/50 [==============================] - 0s 344us/step - loss: 0.0120\n"
          ],
          "name": "stdout"
        },
        {
          "output_type": "execute_result",
          "data": {
            "text/plain": [
              "<keras.callbacks.callbacks.History at 0x7fee5b576518>"
            ]
          },
          "metadata": {
            "tags": []
          },
          "execution_count": 72
        }
      ]
    },
    {
      "cell_type": "markdown",
      "metadata": {
        "id": "gwpyImwA3yon"
      },
      "source": [
        "## Parte 3 - Fazer as previsões e analisar os resultados"
      ]
    },
    {
      "cell_type": "markdown",
      "metadata": {
        "id": "wkXRvDjT4V-B"
      },
      "source": [
        "### Base de teste"
      ]
    },
    {
      "cell_type": "code",
      "metadata": {
        "id": "Bn_n72dh30K-"
      },
      "source": [
        "dataset_test = pd.read_csv('test.csv')\n",
        "test_pul = dataset_test.iloc[:, 1:2].values"
      ],
      "execution_count": 73,
      "outputs": []
    },
    {
      "cell_type": "markdown",
      "metadata": {
        "id": "EOo84exH4bfs"
      },
      "source": [
        "### Construir a estrutura para teste"
      ]
    },
    {
      "cell_type": "code",
      "metadata": {
        "id": "ob_-mGA_B5px"
      },
      "source": [
        "dataset_total = pd.concat((dataset_train.iloc[:,1], dataset_test.iloc[:,1]), axis = 0)\n",
        "testLength = len(dataset_test)\n",
        "inputs = dataset_total[len(dataset_total) - testLength - window:].values\n",
        "inputs = inputs.reshape(inputs.shape[0],1)\n",
        "\n",
        "inputs = sc.transform(inputs)\n",
        "X_test = []\n",
        "for i in range(window, inputs.shape[0]): \n",
        "    X_test.append(inputs[i-window:i, 0])\n",
        "X_test = np.array(X_test)\n",
        "\n",
        "X_test = np.reshape(X_test, (X_test.shape[0], X_test.shape[1], 1))"
      ],
      "execution_count": 74,
      "outputs": []
    },
    {
      "cell_type": "markdown",
      "metadata": {
        "id": "rtkB4NA74e1B"
      },
      "source": [
        "### Fazer as previsões"
      ]
    },
    {
      "cell_type": "code",
      "metadata": {
        "id": "nKIq1h-E4g9Z"
      },
      "source": [
        "predicted = regressor.predict(X_test)\n",
        "predicted = sc.inverse_transform(predicted)"
      ],
      "execution_count": 75,
      "outputs": []
    },
    {
      "cell_type": "markdown",
      "metadata": {
        "id": "guvk7yXr4o0g"
      },
      "source": [
        "### Visualizar os resultados de treino e teste"
      ]
    },
    {
      "cell_type": "code",
      "metadata": {
        "id": "tstXl2oS4rIo",
        "colab": {
          "base_uri": "https://localhost:8080/",
          "height": 295
        },
        "outputId": "c7f9c3db-100f-4f75-b165-faa07e809135"
      },
      "source": [
        "allTargetData = np.vstack((training_set, test_pul))\n",
        "training_predicted = regressor.predict(X_train)\n",
        "training_predicted = sc.inverse_transform(training_predicted)\n",
        "allForecastedData = np.vstack((training_set[0:window], training_predicted, predicted))\n",
        "plt.plot(allTargetData, color = 'red', label = 'Real')\n",
        "plt.plot(allForecastedData, color = 'blue', label = 'Previsto')\n",
        "plt.title('Previsão de série temporal')\n",
        "plt.xlabel('Tempo')\n",
        "plt.ylabel('Número de mortes')\n",
        "plt.legend()\n",
        "plt.savefig('predictions_training_test.svg')\n",
        "plt.show()"
      ],
      "execution_count": 76,
      "outputs": [
        {
          "output_type": "display_data",
          "data": {
            "image/png": "[encoded data removed]",
            "text/plain": [
              "<Figure size 432x288 with 1 Axes>"
            ]
          },
          "metadata": {
            "tags": [],
            "needs_background": "light"
          }
        }
      ]
    },
    {
      "cell_type": "markdown",
      "metadata": {
        "id": "ytEVhQht4we3"
      },
      "source": [
        "## Parte 4 - Métricas de avaliação"
      ]
    },
    {
      "cell_type": "code",
      "metadata": {
        "id": "rqOonVj64ydu",
        "colab": {
          "base_uri": "https://localhost:8080/"
        },
        "outputId": "e174be8b-fe71-41b5-d54e-f118c35cb5f8"
      },
      "source": [
        "import math\n",
        "from sklearn.metrics import mean_squared_error,r2_score\n",
        "rmse = math.sqrt(mean_squared_error(test_pul, predicted))\n",
        "print('RMSE: ', rmse)"
      ],
      "execution_count": 77,
      "outputs": [
        {
          "output_type": "stream",
          "text": [
            "RMSE:  292.6624897666975\n"
          ],
          "name": "stdout"
        }
      ]
    },
    {
      "cell_type": "code",
      "metadata": {
        "id": "ODeley1K42WW",
        "colab": {
          "base_uri": "https://localhost:8080/"
        },
        "outputId": "62f1a8f2-0c61-4a08-bf8b-bf738275a1bd"
      },
      "source": [
        "mse = mean_squared_error(test_pul, predicted)\n",
        "print('MSE: ',mse)"
      ],
      "execution_count": 78,
      "outputs": [
        {
          "output_type": "stream",
          "text": [
            "MSE:  85651.3329164423\n"
          ],
          "name": "stdout"
        }
      ]
    },
    {
      "cell_type": "code",
      "metadata": {
        "id": "L7_uU_8T44QA",
        "colab": {
          "base_uri": "https://localhost:8080/"
        },
        "outputId": "3ef4da1e-24a1-4f8d-a974-b2ba7c3dd58a"
      },
      "source": [
        "mape = np.mean(np.abs((test_pul - predicted) / test_pul)) * 100\n",
        "print('MAPE: ',mape, '%')"
      ],
      "execution_count": 79,
      "outputs": [
        {
          "output_type": "stream",
          "text": [
            "MAPE:  13.395376600440118 %\n"
          ],
          "name": "stdout"
        }
      ]
    },
    {
      "cell_type": "code",
      "metadata": {
        "id": "mgmtdSOq7rG0",
        "outputId": "5a9202c3-eea8-48d4-ba3d-21878d81f23b",
        "colab": {
          "base_uri": "https://localhost:8080/"
        }
      },
      "source": [
        "r2 = r2_score(test_pul,predicted, )\n",
        "print('R2: ', r2)"
      ],
      "execution_count": 80,
      "outputs": [
        {
          "output_type": "stream",
          "text": [
            "R2:  0.714663033892244\n"
          ],
          "name": "stdout"
        }
      ]
    }
  ]
}